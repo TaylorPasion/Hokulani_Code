{
 "cells": [
  {
   "cell_type": "code",
   "execution_count": 91,
   "metadata": {},
   "outputs": [
    {
     "name": "stderr",
     "output_type": "stream",
     "text": [
      "huggingface/tokenizers: The current process just got forked, after parallelism has already been used. Disabling parallelism to avoid deadlocks...\n",
      "To disable this warning, you can either:\n",
      "\t- Avoid using `tokenizers` before the fork if possible\n",
      "\t- Explicitly set the environment variable TOKENIZERS_PARALLELISM=(true | false)\n"
     ]
    },
    {
     "name": "stdout",
     "output_type": "stream",
     "text": [
      "Collecting rouge_score\n",
      "  Downloading rouge_score-0.1.2.tar.gz (17 kB)\n",
      "  Preparing metadata (setup.py) ... \u001b[?25ldone\n",
      "\u001b[?25hCollecting absl-py\n",
      "  Downloading absl_py-2.3.0-py3-none-any.whl.metadata (2.4 kB)\n",
      "Requirement already satisfied: nltk in /Users/williamharrigan/anaconda3/envs/clean_base/lib/python3.13/site-packages (from rouge_score) (3.9.1)\n",
      "Requirement already satisfied: numpy in /Users/williamharrigan/anaconda3/envs/clean_base/lib/python3.13/site-packages (from rouge_score) (2.2.6)\n",
      "Requirement already satisfied: six>=1.14.0 in /Users/williamharrigan/anaconda3/envs/clean_base/lib/python3.13/site-packages (from rouge_score) (1.16.0)\n",
      "Requirement already satisfied: click in /Users/williamharrigan/anaconda3/envs/clean_base/lib/python3.13/site-packages (from nltk->rouge_score) (8.2.1)\n",
      "Requirement already satisfied: joblib in /Users/williamharrigan/anaconda3/envs/clean_base/lib/python3.13/site-packages (from nltk->rouge_score) (1.5.1)\n",
      "Requirement already satisfied: regex>=2021.8.3 in /Users/williamharrigan/anaconda3/envs/clean_base/lib/python3.13/site-packages (from nltk->rouge_score) (2024.11.6)\n",
      "Requirement already satisfied: tqdm in /Users/williamharrigan/anaconda3/envs/clean_base/lib/python3.13/site-packages (from nltk->rouge_score) (4.67.1)\n",
      "Downloading absl_py-2.3.0-py3-none-any.whl (135 kB)\n",
      "Building wheels for collected packages: rouge_score\n",
      "  Building wheel for rouge_score (setup.py) ... \u001b[?25ldone\n",
      "\u001b[?25h  Created wheel for rouge_score: filename=rouge_score-0.1.2-py3-none-any.whl size=24935 sha256=a27ffc8c9f508b4fd22af382c435457ee6886264843223477cbab977dd53aeff\n",
      "  Stored in directory: /Users/williamharrigan/Library/Caches/pip/wheels/44/af/da/5ffc433e2786f0b1a9c6f458d5fb8f611d8eb332387f18698f\n",
      "Successfully built rouge_score\n",
      "Installing collected packages: absl-py, rouge_score\n",
      "Successfully installed absl-py-2.3.0 rouge_score-0.1.2\n"
     ]
    }
   ],
   "source": [
    "# !pip install transformers\n",
    "# !pip install evaluate\n",
    "# !pip install nltk\n",
    "# !pip install textblob\n",
    "!pip install rouge_score absl-py"
   ]
  },
  {
   "cell_type": "code",
   "execution_count": 85,
   "metadata": {},
   "outputs": [
    {
     "name": "stderr",
     "output_type": "stream",
     "text": [
      "[nltk_data] Downloading package punkt to\n",
      "[nltk_data]     /Users/williamharrigan/nltk_data...\n",
      "[nltk_data]   Package punkt is already up-to-date!\n"
     ]
    },
    {
     "data": {
      "text/plain": [
       "True"
      ]
     },
     "execution_count": 85,
     "metadata": {},
     "output_type": "execute_result"
    }
   ],
   "source": [
    "# Transformers\n",
    "from transformers import BartTokenizer, BartForConditionalGeneration      # BERT Tokenizer and architecture\n",
    "from transformers import Seq2SeqTrainer, Seq2SeqTrainingArguments         # These will help us to fine-tune our model\n",
    "from transformers import pipeline                                         # Pipeline\n",
    "from transformers import DataCollatorForSeq2Seq                           # DataCollator to batch the data \n",
    "import torch                                                              # PyTorch\n",
    "import evaluate                                                           # Hugging Face's library for model evaluation\n",
    "import pandas as pd\n",
    "import numpy as np\n",
    "from plotly.subplots import make_subplots\n",
    "from scipy.stats import gaussian_kde\n",
    "import plotly.graph_objects as go\n",
    "import plotly.figure_factory as ff\n",
    "from datasets import Dataset\n",
    "\n",
    "\n",
    "\n",
    "# Other NLP libraries\n",
    "from textblob import TextBlob                                             # This is going to help us fix spelling mistakes in texts\n",
    "from sklearn.feature_extraction.text import TfidfVectorizer               # This is going to helps identify the most common terms in the corpus\n",
    "import re                                                                 # This library allows us to clean text data\n",
    "import nltk                                                               # Natural Language Toolkit\n",
    "nltk.download('punkt')                                                    # This divides a text into a list of sentences"
   ]
  },
  {
   "cell_type": "code",
   "execution_count": 15,
   "metadata": {},
   "outputs": [],
   "source": [
    "# Configuring Pandas to exhibit larger columns\n",
    "\n",
    "pd.set_option('display.max_colwidth', 1000)\n"
   ]
  },
  {
   "cell_type": "code",
   "execution_count": 16,
   "metadata": {},
   "outputs": [],
   "source": [
    "# Configuring notebook\n",
    "seed = 42\n",
    "#paper_color =\n",
    "#bg_color =\n",
    "colormap = 'cividis'\n",
    "template = 'plotly_dark'"
   ]
  },
  {
   "cell_type": "code",
   "execution_count": 17,
   "metadata": {},
   "outputs": [],
   "source": [
    "def display_feature_list(features, feature_type):\n",
    "\n",
    "    '''\n",
    "    This function displays the features within each list for each type of data\n",
    "    '''\n",
    "\n",
    "    print(f\"\\n{feature_type} Features: \")\n",
    "    print(', '.join(features) if features else 'None')\n",
    "\n",
    "def describe_df(df):\n",
    "    \"\"\"\n",
    "    This function prints some basic info on the dataset and\n",
    "    sets global variables for feature lists.\n",
    "    \"\"\"\n",
    "\n",
    "    global categorical_features, continuous_features, binary_features\n",
    "    categorical_features = [col for col in df.columns if df[col].dtype == 'object']\n",
    "    binary_features = [col for col in df.columns if df[col].nunique() <= 2 and df[col].dtype != 'object']\n",
    "    continuous_features = [col for col in df.columns if df[col].dtype != 'object' and col not in binary_features]\n",
    "\n",
    "    print(f\"\\n{type(df).__name__} shape: {df.shape}\")\n",
    "    print(f\"\\n{df.shape[0]:,.0f} samples\")\n",
    "    print(f\"\\n{df.shape[1]:,.0f} attributes\")\n",
    "    print(f'\\nMissing Data: \\n{df.isnull().sum()}')\n",
    "    print(f'\\nDuplicates: {df.duplicated().sum()}')\n",
    "    print(f'\\nData Types: \\n{df.dtypes}')\n",
    "\n",
    "    #negative_valued_features = [col for col in df.columns if (df[col] < 0).any()]\n",
    "    #print(f'\\nFeatures with Negative Values: {\", \".join(negative_valued_features) if negative_valued_features else \"None\"}')\n",
    "\n",
    "    display_feature_list(categorical_features, 'Categorical')\n",
    "    display_feature_list(continuous_features, 'Continuous')\n",
    "    display_feature_list(binary_features, 'Binary')\n",
    "\n",
    "    print(f'\\n{type(df).__name__} Head: \\n')\n",
    "    display(df.head(5))\n",
    "    print(f'\\n{type(df).__name__} Tail: \\n')\n",
    "    display(df.tail(5))"
   ]
  },
  {
   "cell_type": "code",
   "execution_count": 33,
   "metadata": {},
   "outputs": [],
   "source": [
    "def histogram_boxplot(df,hist_color, box_color, height, width, legend, name):\n",
    "    '''\n",
    "    This function plots a Histogram and a Box Plot side by side\n",
    "\n",
    "    Parameters:\n",
    "    hist_color = The color of the histogram\n",
    "    box_color = The color of the boxplots\n",
    "    heigh and width = Image size\n",
    "    legend = Either to display legend or not\n",
    "    '''\n",
    "\n",
    "    features = df.select_dtypes(include = [np.number]).columns.tolist()\n",
    "\n",
    "    for feat in features:\n",
    "        try:\n",
    "            fig = make_subplots(\n",
    "                rows=1,\n",
    "                cols=2,\n",
    "                subplot_titles=[\"Box Plot\", \"Histogram\"],\n",
    "                horizontal_spacing=0.2\n",
    "            )\n",
    "\n",
    "            density = gaussian_kde(df[feat])\n",
    "            x_vals = np.linspace(min(df[feat]), max(df[feat]), 200)\n",
    "            density_vals = density(x_vals)\n",
    "\n",
    "            fig.add_trace(go.Scatter(x=x_vals, y = density_vals, mode = 'lines',\n",
    "                                     fill = 'tozeroy', name=\"Density\", line_color=hist_color), row=1, col=2)\n",
    "            fig.add_trace(go.Box(y=df[feat], name=\"Box Plot\", boxmean=True, line_color=box_color), row=1, col=1)\n",
    "\n",
    "            fig.update_layout(title={'text': f'<b>{name} Word Count<br><sup><i>&nbsp;&nbsp;&nbsp;&nbsp;{feat}</i></sup></b>',\n",
    "                                     'x': .025, 'xanchor': 'left'},\n",
    "                             margin=dict(t=100),\n",
    "                             showlegend=legend,\n",
    "                             template = template,\n",
    "                             #plot_bgcolor=bg_color,paper_bgcolor=paper_color,\n",
    "                             height=height, width=width\n",
    "                            )\n",
    "\n",
    "            fig.update_yaxes(title_text=f\"<b>Words</b>\", row=1, col=1, showgrid=False)\n",
    "            fig.update_xaxes(title_text=\"\", row=1, col=1, showgrid=False)\n",
    "\n",
    "            fig.update_yaxes(title_text=\"<b>Frequency</b>\", row=1, col=2,showgrid=False)\n",
    "            fig.update_xaxes(title_text=f\"<b>Words</b>\", row=1, col=2, showgrid=False)\n",
    "\n",
    "            fig.show()\n",
    "            print('\\n')\n",
    "        except Exception as e:\n",
    "            print(f\"An error occurred: {e}\")"
   ]
  },
  {
   "cell_type": "code",
   "execution_count": 43,
   "metadata": {},
   "outputs": [],
   "source": [
    "def plot_correlation(df, title, subtitle, height, width, font_size):\n",
    "    '''\n",
    "    This function is resposible to plot a correlation map among features in the dataset.\n",
    "\n",
    "    Parameters:\n",
    "    height = Define height\n",
    "    width = Define width\n",
    "    font_size = Define the font size for the annotations\n",
    "    '''\n",
    "    corr = np.round(df.corr(numeric_only = True), 2)\n",
    "    mask = np.triu(np.ones_like(corr, dtype = bool))\n",
    "    c_mask = np.where(~mask, corr, 100)\n",
    "\n",
    "    c = []\n",
    "    for i in c_mask.tolist()[1:]:\n",
    "        c.append([x for x in i if x != 100])\n",
    "\n",
    "\n",
    "\n",
    "    fig = ff.create_annotated_heatmap(z=c[::-1],\n",
    "                                      x=corr.index.tolist()[:-1],\n",
    "                                      y=corr.columns.tolist()[1:][::-1],\n",
    "                                      colorscale = colormap)\n",
    "\n",
    "    fig.update_layout(title = {'text': f\"<b>{title} Heatmap<br><sup>&nbsp;&nbsp;&nbsp;&nbsp;<i>{subtitle}</i></sup></b>\",\n",
    "                                'x': .025, 'xanchor': 'left', 'y': .95},\n",
    "                    margin = dict(t=210, l = 110),\n",
    "                    yaxis = dict(autorange = 'reversed', showgrid = False),\n",
    "                    xaxis = dict(showgrid = False),\n",
    "                    template = template,\n",
    "                    #plot_bgcolor=bg_color,paper_bgcolor=paper_color,\n",
    "                    height = height, width = width)\n",
    "\n",
    "\n",
    "    fig.add_trace(go.Heatmap(z = c[::-1],\n",
    "                             colorscale = colormap,\n",
    "                             showscale = True,\n",
    "                             visible = False))\n",
    "    fig.data[1].visible = True\n",
    "\n",
    "    for i in range(len(fig.layout.annotations)):\n",
    "        fig.layout.annotations[i].font.size = font_size\n",
    "\n",
    "    fig.show()"
   ]
  },
  {
   "cell_type": "code",
   "execution_count": 20,
   "metadata": {},
   "outputs": [],
   "source": [
    "def compute_tfidf(df_column, ngram_range=(1,1), max_features=15):\n",
    "    vectorizer = TfidfVectorizer(max_features=max_features, stop_words='english', ngram_range=ngram_range)\n",
    "    x = vectorizer.fit_transform(df_column.fillna(''))\n",
    "    df_tfidfvect = pd.DataFrame(x.toarray(), columns=vectorizer.get_feature_names_out())\n",
    "    return df_tfidfvect"
   ]
  },
  {
   "cell_type": "code",
   "execution_count": 22,
   "metadata": {},
   "outputs": [],
   "source": [
    "# Loading data\n",
    "directory = '/Users/williamharrigan/Desktop'\n",
    "\n",
    "train = pd.read_csv(f'{directory}/samsum-train.csv')\n",
    "test = pd.read_csv(f'{directory}/samsum-test.csv')\n",
    "val = pd.read_csv(f'{directory}/samsum-validation.csv')"
   ]
  },
  {
   "cell_type": "code",
   "execution_count": 23,
   "metadata": {},
   "outputs": [
    {
     "name": "stdout",
     "output_type": "stream",
     "text": [
      "\n",
      "DataFrame shape: (14732, 3)\n",
      "\n",
      "14,732 samples\n",
      "\n",
      "3 attributes\n",
      "\n",
      "Missing Data: \n",
      "id          0\n",
      "dialogue    1\n",
      "summary     0\n",
      "dtype: int64\n",
      "\n",
      "Duplicates: 0\n",
      "\n",
      "Data Types: \n",
      "id          object\n",
      "dialogue    object\n",
      "summary     object\n",
      "dtype: object\n",
      "\n",
      "Categorical Features: \n",
      "id, dialogue, summary\n",
      "\n",
      "Continuous Features: \n",
      "None\n",
      "\n",
      "Binary Features: \n",
      "None\n",
      "\n",
      "DataFrame Head: \n",
      "\n"
     ]
    },
    {
     "data": {
      "text/html": [
       "<div>\n",
       "<style scoped>\n",
       "    .dataframe tbody tr th:only-of-type {\n",
       "        vertical-align: middle;\n",
       "    }\n",
       "\n",
       "    .dataframe tbody tr th {\n",
       "        vertical-align: top;\n",
       "    }\n",
       "\n",
       "    .dataframe thead th {\n",
       "        text-align: right;\n",
       "    }\n",
       "</style>\n",
       "<table border=\"1\" class=\"dataframe\">\n",
       "  <thead>\n",
       "    <tr style=\"text-align: right;\">\n",
       "      <th></th>\n",
       "      <th>id</th>\n",
       "      <th>dialogue</th>\n",
       "      <th>summary</th>\n",
       "    </tr>\n",
       "  </thead>\n",
       "  <tbody>\n",
       "    <tr>\n",
       "      <th>0</th>\n",
       "      <td>13818513</td>\n",
       "      <td>Amanda: I baked  cookies. Do you want some?\\r\\nJerry: Sure!\\r\\nAmanda: I'll bring you tomorrow :-)</td>\n",
       "      <td>Amanda baked cookies and will bring Jerry some tomorrow.</td>\n",
       "    </tr>\n",
       "    <tr>\n",
       "      <th>1</th>\n",
       "      <td>13728867</td>\n",
       "      <td>Olivia: Who are you voting for in this election? \\r\\nOliver: Liberals as always.\\r\\nOlivia: Me too!!\\r\\nOliver: Great</td>\n",
       "      <td>Olivia and Olivier are voting for liberals in this election.</td>\n",
       "    </tr>\n",
       "    <tr>\n",
       "      <th>2</th>\n",
       "      <td>13681000</td>\n",
       "      <td>Tim: Hi, what's up?\\r\\nKim: Bad mood tbh, I was going to do lots of stuff but ended up procrastinating\\r\\nTim: What did you plan on doing?\\r\\nKim: Oh you know, uni stuff and unfucking my room\\r\\nKim: Maybe tomorrow I'll move my ass and do everything\\r\\nKim: We were going to defrost a fridge so instead of shopping I'll eat some defrosted veggies\\r\\nTim: For doing stuff I recommend Pomodoro technique where u use breaks for doing chores\\r\\nTim: It really helps\\r\\nKim: thanks, maybe I'll do that\\r\\nTim: I also like using post-its in kaban style</td>\n",
       "      <td>Kim may try the pomodoro technique recommended by Tim to get more stuff done.</td>\n",
       "    </tr>\n",
       "    <tr>\n",
       "      <th>3</th>\n",
       "      <td>13730747</td>\n",
       "      <td>Edward: Rachel, I think I'm in ove with Bella..\\r\\nrachel: Dont say anything else..\\r\\nEdward: What do you mean??\\r\\nrachel: Open your fu**ing door.. I'm outside</td>\n",
       "      <td>Edward thinks he is in love with Bella. Rachel wants Edward to open his door. Rachel is outside.</td>\n",
       "    </tr>\n",
       "    <tr>\n",
       "      <th>4</th>\n",
       "      <td>13728094</td>\n",
       "      <td>Sam: hey  overheard rick say something\\r\\nSam: i don't know what to do :-/\\r\\nNaomi: what did he say??\\r\\nSam: he was talking on the phone with someone\\r\\nSam: i don't know who\\r\\nSam: and he was telling them that he wasn't very happy here\\r\\nNaomi: damn!!!\\r\\nSam: he was saying he doesn't like being my roommate\\r\\nNaomi: wow, how do you feel about it?\\r\\nSam: i thought i was a good rommate\\r\\nSam: and that we have a nice place\\r\\nNaomi: that's true man!!!\\r\\nNaomi: i used to love living with you before i moved in with me boyfriend\\r\\nNaomi: i don't know why he's saying that\\r\\nSam: what should i do???\\r\\nNaomi: honestly if it's bothering you that much you should talk to him\\r\\nNaomi: see what's going on\\r\\nSam: i don't want to get in any kind of confrontation though\\r\\nSam: maybe i'll just let it go\\r\\nSam: and see how it goes in the future\\r\\nNaomi: it's your choice sam\\r\\nNaomi: if i were you i would just talk to him and clear the air</td>\n",
       "      <td>Sam is confused, because he overheard Rick complaining about him as a roommate. Naomi thinks Sam should talk to Rick. Sam is not sure what to do.</td>\n",
       "    </tr>\n",
       "  </tbody>\n",
       "</table>\n",
       "</div>"
      ],
      "text/plain": [
       "         id  \\\n",
       "0  13818513   \n",
       "1  13728867   \n",
       "2  13681000   \n",
       "3  13730747   \n",
       "4  13728094   \n",
       "\n",
       "                                                                                                                                                                                                                                                                                                                                                                                                                                                                                                                                                                                                                                                                                                                                                                                                                                                                                                                                                                                  dialogue  \\\n",
       "0                                                                                                                                                                                                                                                                                                                                                                                                                                                                                                                                                                                                                                                                                                                                                                                                                                                                                       Amanda: I baked  cookies. Do you want some?\\r\\nJerry: Sure!\\r\\nAmanda: I'll bring you tomorrow :-)   \n",
       "1                                                                                                                                                                                                                                                                                                                                                                                                                                                                                                                                                                                                                                                                                                                                                                                                                                                                    Olivia: Who are you voting for in this election? \\r\\nOliver: Liberals as always.\\r\\nOlivia: Me too!!\\r\\nOliver: Great   \n",
       "2                                                                                                                                                                                                                                                                                                                                                                                                                       Tim: Hi, what's up?\\r\\nKim: Bad mood tbh, I was going to do lots of stuff but ended up procrastinating\\r\\nTim: What did you plan on doing?\\r\\nKim: Oh you know, uni stuff and unfucking my room\\r\\nKim: Maybe tomorrow I'll move my ass and do everything\\r\\nKim: We were going to defrost a fridge so instead of shopping I'll eat some defrosted veggies\\r\\nTim: For doing stuff I recommend Pomodoro technique where u use breaks for doing chores\\r\\nTim: It really helps\\r\\nKim: thanks, maybe I'll do that\\r\\nTim: I also like using post-its in kaban style   \n",
       "3                                                                                                                                                                                                                                                                                                                                                                                                                                                                                                                                                                                                                                                                                                                                                                                                                        Edward: Rachel, I think I'm in ove with Bella..\\r\\nrachel: Dont say anything else..\\r\\nEdward: What do you mean??\\r\\nrachel: Open your fu**ing door.. I'm outside   \n",
       "4  Sam: hey  overheard rick say something\\r\\nSam: i don't know what to do :-/\\r\\nNaomi: what did he say??\\r\\nSam: he was talking on the phone with someone\\r\\nSam: i don't know who\\r\\nSam: and he was telling them that he wasn't very happy here\\r\\nNaomi: damn!!!\\r\\nSam: he was saying he doesn't like being my roommate\\r\\nNaomi: wow, how do you feel about it?\\r\\nSam: i thought i was a good rommate\\r\\nSam: and that we have a nice place\\r\\nNaomi: that's true man!!!\\r\\nNaomi: i used to love living with you before i moved in with me boyfriend\\r\\nNaomi: i don't know why he's saying that\\r\\nSam: what should i do???\\r\\nNaomi: honestly if it's bothering you that much you should talk to him\\r\\nNaomi: see what's going on\\r\\nSam: i don't want to get in any kind of confrontation though\\r\\nSam: maybe i'll just let it go\\r\\nSam: and see how it goes in the future\\r\\nNaomi: it's your choice sam\\r\\nNaomi: if i were you i would just talk to him and clear the air   \n",
       "\n",
       "                                                                                                                                             summary  \n",
       "0                                                                                           Amanda baked cookies and will bring Jerry some tomorrow.  \n",
       "1                                                                                      Olivia and Olivier are voting for liberals in this election.   \n",
       "2                                                                      Kim may try the pomodoro technique recommended by Tim to get more stuff done.  \n",
       "3                                                  Edward thinks he is in love with Bella. Rachel wants Edward to open his door. Rachel is outside.   \n",
       "4  Sam is confused, because he overheard Rick complaining about him as a roommate. Naomi thinks Sam should talk to Rick. Sam is not sure what to do.  "
      ]
     },
     "metadata": {},
     "output_type": "display_data"
    },
    {
     "name": "stdout",
     "output_type": "stream",
     "text": [
      "\n",
      "DataFrame Tail: \n",
      "\n"
     ]
    },
    {
     "data": {
      "text/html": [
       "<div>\n",
       "<style scoped>\n",
       "    .dataframe tbody tr th:only-of-type {\n",
       "        vertical-align: middle;\n",
       "    }\n",
       "\n",
       "    .dataframe tbody tr th {\n",
       "        vertical-align: top;\n",
       "    }\n",
       "\n",
       "    .dataframe thead th {\n",
       "        text-align: right;\n",
       "    }\n",
       "</style>\n",
       "<table border=\"1\" class=\"dataframe\">\n",
       "  <thead>\n",
       "    <tr style=\"text-align: right;\">\n",
       "      <th></th>\n",
       "      <th>id</th>\n",
       "      <th>dialogue</th>\n",
       "      <th>summary</th>\n",
       "    </tr>\n",
       "  </thead>\n",
       "  <tbody>\n",
       "    <tr>\n",
       "      <th>14727</th>\n",
       "      <td>13863028</td>\n",
       "      <td>Romeo: You are on my ‘People you may know’ list.\\nGreta: Ah, maybe it is because of the changed number of somebody’s?\\nGreta: I don’t know you?\\nRomeo: This might be the beginning of a beautiful relationship\\nRomeo: How about adding me on your friend list and talk a bit?\\nGreta: No.\\nRomeo: Okay I see.</td>\n",
       "      <td>Romeo is trying to get Greta to add him to her friend list but she refuses.</td>\n",
       "    </tr>\n",
       "    <tr>\n",
       "      <th>14728</th>\n",
       "      <td>13828570</td>\n",
       "      <td>Theresa: &lt;file_photo&gt;\\r\\nTheresa: &lt;file_photo&gt;\\r\\nTheresa: Hey Louise, how are u?\\r\\nTheresa: This is my workplace, they always give us so much food here 😊\\r\\nTheresa: Luckily they also offer us yoga classes, so all the food isn't much of a problem 😂\\r\\nLouise: Hey!! 🙂 \\r\\nLouise: Wow, that's awesome, seems great 😎 Haha\\r\\nLouise: I'm good! Are you coming to visit Stockholm this summer? 🙂\\r\\nTheresa: I don't think so :/ I need to prepare for Uni.. I will probably attend a few lessons this winter\\r\\nLouise: Nice! Do you already know which classes you will attend?\\r\\nTheresa: Yes, it will be psychology :) I want to complete a few modules that I missed :)\\r\\nLouise: Very good! Is it at the Uni in Prague?\\r\\nTheresa: No, it will be in my home town :)\\r\\nLouise: I have so much work right now, but I will continue to work until the end of summer, then I'm also back to Uni, on the 26th September!\\r\\nTheresa: You must send me some pictures, so I can see where you live :) \\r\\nLouise: I will,...</td>\n",
       "      <td>Theresa is at work. She gets free food and free yoga classes. Theresa won't go to visit Louise in Stockholm, because she will prepare for university psychology lessons. She'll be back at uni on 26th September.</td>\n",
       "    </tr>\n",
       "    <tr>\n",
       "      <th>14729</th>\n",
       "      <td>13819050</td>\n",
       "      <td>John: Every day some bad news. Japan will hunt whales again\\r\\nErica: Yes, I've read this. It's very upsetting\\r\\nJohn: Cruel Japanese\\r\\nFaith: I think this is a racist remark. Because Island and Norways has never joined this international whaling agreement\\r\\nErica: really? I haven't known, everybody is so outraged by Japan\\r\\nFaith: sure, European hypocrisy \\r\\nJohn: not entirely. Scandinavians don't use the nets that Japanese use, so Norway and Island kill much less specimens that Japan will\\r\\nFaith: oh, it's much more complex than one may expect\\r\\nJohn: True, but the truth is, that all of them should stop\\r\\nJohn: and this decision is a step back\\r\\nFaith: yes, this is worrying\\r\\nErica: And it seems that the most important whaling countries are out of the agreement right now\\r\\nFaith: yes, seems so\\r\\nJohn: Just like USA leaving the Paris Agreement</td>\n",
       "      <td>Japan is going to hunt whales again. Island and Norway never stopped hunting them. The Scandinavians kill fewer whales than the Japanese.</td>\n",
       "    </tr>\n",
       "    <tr>\n",
       "      <th>14730</th>\n",
       "      <td>13828395</td>\n",
       "      <td>Jennifer: Dear Celia! How are you doing?\\r\\nJennifer: The afternoon with the Collins was very pleasant, nice folks, but we missed you.\\r\\nJennifer: But I appreciate your consideration for Peter.\\r\\nCelia: My dear Jenny! It turns out that my decision not to come, though I wanted so much to see you again and Peter and the Collins, was right. Yesterday it all developed into a full bore cold. Sh.....\\r\\nCelia: All symptoms like in a text book.\\r\\nCelia: Luckily it's contagious only on the first 2, 3 days, so when we meet next week it should be alright.\\r\\nCelia: Thanks for asking! Somehow for all of us Peter comes first now.\\r\\nJennifer: That's too bad. Poor you...\\r\\nJennifer: I'll be driving to FR, do you want me to bring you sth? It's on my way.\\r\\nCelia: Thank you dear! I was at the pharmacy yesterday and had done my shopping the day before.\\r\\nCelia: You'd better still stay away from me in case I'm still contagious\\r\\nJennifer: Right. So I'll only leave a basket on your terrace. A...</td>\n",
       "      <td>Celia couldn't make it to the afternoon with the Collins and Jennifer as she is ill. She's working, but doesn't want to meet with Jennifer as it might be contagious. Jennifer will leave a basket with cookies on Celia's terrace.</td>\n",
       "    </tr>\n",
       "    <tr>\n",
       "      <th>14731</th>\n",
       "      <td>13729017</td>\n",
       "      <td>Georgia: are you ready for hotel hunting? We need to book something finally for Lisbon\\r\\nJuliette: sure we can go on, show me what you found\\r\\nGeorgia: &lt;file_photo&gt;\\r\\nJuliette: nah... it looks like an old lady's room lol\\r\\nGeorgia: &lt;file_photo&gt;\\r\\nJuliette: that's better... but the bed doesn't look very comfortable\\r\\nGeorgia: i kind of like it and it's really close to the city center\\r\\nJuliette: show me the others please\\r\\nGeorgia: &lt;file_photo&gt;\\r\\nJuliette: nah... this one sucks too, look at those horrible curtains \\r\\nGeorgia: aff Julie you are such a princess\\r\\nJuliette: i just want to be comfortable\\r\\nGeorgia: come on, stop whining you know we are on a budget\\r\\nJuliette: well hopefully we can find something that's decent right?\\r\\nGeorgia: i did show you decent but you want a Marriott or something :/\\r\\nJuliette: ok ok don't get angry\\r\\nGeorgia: we need to decide today, the longer we wait the higher the prices get \\r\\nJuliette: ok how about we get the second one then?...</td>\n",
       "      <td>Georgia and Juliette are looking for a hotel in Lisbon. Juliette dislikes Georgia's choices. Juliette and Georgia decide on the second option presented by Georgia, but it has already been booked. Finally Georgia books the third hotel.</td>\n",
       "    </tr>\n",
       "  </tbody>\n",
       "</table>\n",
       "</div>"
      ],
      "text/plain": [
       "             id  \\\n",
       "14727  13863028   \n",
       "14728  13828570   \n",
       "14729  13819050   \n",
       "14730  13828395   \n",
       "14731  13729017   \n",
       "\n",
       "                                                                                                                                                                                                                                                                                                                                                                                                                                                                                                                                                                                                                                                                                                                                                                                                                                                                                                                                                                                                                                      dialogue  \\\n",
       "14727                                                                                                                                                                                                                                                                                                                                                                                                                                                                                                                                                                                                                                                                                                                          Romeo: You are on my ‘People you may know’ list.\\nGreta: Ah, maybe it is because of the changed number of somebody’s?\\nGreta: I don’t know you?\\nRomeo: This might be the beginning of a beautiful relationship\\nRomeo: How about adding me on your friend list and talk a bit?\\nGreta: No.\\nRomeo: Okay I see.   \n",
       "14728  Theresa: <file_photo>\\r\\nTheresa: <file_photo>\\r\\nTheresa: Hey Louise, how are u?\\r\\nTheresa: This is my workplace, they always give us so much food here 😊\\r\\nTheresa: Luckily they also offer us yoga classes, so all the food isn't much of a problem 😂\\r\\nLouise: Hey!! 🙂 \\r\\nLouise: Wow, that's awesome, seems great 😎 Haha\\r\\nLouise: I'm good! Are you coming to visit Stockholm this summer? 🙂\\r\\nTheresa: I don't think so :/ I need to prepare for Uni.. I will probably attend a few lessons this winter\\r\\nLouise: Nice! Do you already know which classes you will attend?\\r\\nTheresa: Yes, it will be psychology :) I want to complete a few modules that I missed :)\\r\\nLouise: Very good! Is it at the Uni in Prague?\\r\\nTheresa: No, it will be in my home town :)\\r\\nLouise: I have so much work right now, but I will continue to work until the end of summer, then I'm also back to Uni, on the 26th September!\\r\\nTheresa: You must send me some pictures, so I can see where you live :) \\r\\nLouise: I will,...   \n",
       "14729                                                                                                                                     John: Every day some bad news. Japan will hunt whales again\\r\\nErica: Yes, I've read this. It's very upsetting\\r\\nJohn: Cruel Japanese\\r\\nFaith: I think this is a racist remark. Because Island and Norways has never joined this international whaling agreement\\r\\nErica: really? I haven't known, everybody is so outraged by Japan\\r\\nFaith: sure, European hypocrisy \\r\\nJohn: not entirely. Scandinavians don't use the nets that Japanese use, so Norway and Island kill much less specimens that Japan will\\r\\nFaith: oh, it's much more complex than one may expect\\r\\nJohn: True, but the truth is, that all of them should stop\\r\\nJohn: and this decision is a step back\\r\\nFaith: yes, this is worrying\\r\\nErica: And it seems that the most important whaling countries are out of the agreement right now\\r\\nFaith: yes, seems so\\r\\nJohn: Just like USA leaving the Paris Agreement   \n",
       "14730  Jennifer: Dear Celia! How are you doing?\\r\\nJennifer: The afternoon with the Collins was very pleasant, nice folks, but we missed you.\\r\\nJennifer: But I appreciate your consideration for Peter.\\r\\nCelia: My dear Jenny! It turns out that my decision not to come, though I wanted so much to see you again and Peter and the Collins, was right. Yesterday it all developed into a full bore cold. Sh.....\\r\\nCelia: All symptoms like in a text book.\\r\\nCelia: Luckily it's contagious only on the first 2, 3 days, so when we meet next week it should be alright.\\r\\nCelia: Thanks for asking! Somehow for all of us Peter comes first now.\\r\\nJennifer: That's too bad. Poor you...\\r\\nJennifer: I'll be driving to FR, do you want me to bring you sth? It's on my way.\\r\\nCelia: Thank you dear! I was at the pharmacy yesterday and had done my shopping the day before.\\r\\nCelia: You'd better still stay away from me in case I'm still contagious\\r\\nJennifer: Right. So I'll only leave a basket on your terrace. A...   \n",
       "14731  Georgia: are you ready for hotel hunting? We need to book something finally for Lisbon\\r\\nJuliette: sure we can go on, show me what you found\\r\\nGeorgia: <file_photo>\\r\\nJuliette: nah... it looks like an old lady's room lol\\r\\nGeorgia: <file_photo>\\r\\nJuliette: that's better... but the bed doesn't look very comfortable\\r\\nGeorgia: i kind of like it and it's really close to the city center\\r\\nJuliette: show me the others please\\r\\nGeorgia: <file_photo>\\r\\nJuliette: nah... this one sucks too, look at those horrible curtains \\r\\nGeorgia: aff Julie you are such a princess\\r\\nJuliette: i just want to be comfortable\\r\\nGeorgia: come on, stop whining you know we are on a budget\\r\\nJuliette: well hopefully we can find something that's decent right?\\r\\nGeorgia: i did show you decent but you want a Marriott or something :/\\r\\nJuliette: ok ok don't get angry\\r\\nGeorgia: we need to decide today, the longer we wait the higher the prices get \\r\\nJuliette: ok how about we get the second one then?...   \n",
       "\n",
       "                                                                                                                                                                                                                                           summary  \n",
       "14727                                                                                                                                                                  Romeo is trying to get Greta to add him to her friend list but she refuses.  \n",
       "14728                            Theresa is at work. She gets free food and free yoga classes. Theresa won't go to visit Louise in Stockholm, because she will prepare for university psychology lessons. She'll be back at uni on 26th September.  \n",
       "14729                                                                                                    Japan is going to hunt whales again. Island and Norway never stopped hunting them. The Scandinavians kill fewer whales than the Japanese.  \n",
       "14730         Celia couldn't make it to the afternoon with the Collins and Jennifer as she is ill. She's working, but doesn't want to meet with Jennifer as it might be contagious. Jennifer will leave a basket with cookies on Celia's terrace.   \n",
       "14731  Georgia and Juliette are looking for a hotel in Lisbon. Juliette dislikes Georgia's choices. Juliette and Georgia decide on the second option presented by Georgia, but it has already been booked. Finally Georgia books the third hotel.   "
      ]
     },
     "metadata": {},
     "output_type": "display_data"
    }
   ],
   "source": [
    "# Extracting info on the training Dataframe\n",
    "describe_df(train)"
   ]
  },
  {
   "cell_type": "code",
   "execution_count": 28,
   "metadata": {},
   "outputs": [],
   "source": [
    "train = train.dropna() # removing null values\n",
    "# Removing 'Id' from categorical features list\n",
    "categorical_features.remove('id')"
   ]
  },
  {
   "cell_type": "code",
   "execution_count": 37,
   "metadata": {},
   "outputs": [
    {
     "data": {
      "application/vnd.plotly.v1+json": {
       "config": {
        "plotlyServerURL": "https://plot.ly"
       },
       "data": [
        {
         "fill": "tozeroy",
         "line": {
          "color": "#89c2e0"
         },
         "mode": "lines",
         "name": "Density",
         "type": "scatter",
         "x": {
          "bdata": "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",
          "dtype": "f8"
         },
         "xaxis": "x2",
         "y": {
          "bdata": "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",
          "dtype": "f8"
         },
         "yaxis": "y2"
        },
        {
         "boxmean": true,
         "line": {
          "color": "#d500ff"
         },
         "name": "Box Plot",
         "type": "box",
         "xaxis": "x",
         "y": {
          "bdata": "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",
          "dtype": "i2"
         },
         "yaxis": "y"
        }
       ],
       "layout": {
        "annotations": [
         {
          "font": {
           "size": 16
          },
          "showarrow": false,
          "text": "Box Plot",
          "x": 0.2,
          "xanchor": "center",
          "xref": "paper",
          "y": 1,
          "yanchor": "bottom",
          "yref": "paper"
         },
         {
          "font": {
           "size": 16
          },
          "showarrow": false,
          "text": "Histogram",
          "x": 0.8,
          "xanchor": "center",
          "xref": "paper",
          "y": 1,
          "yanchor": "bottom",
          "yref": "paper"
         }
        ],
        "height": 600,
        "margin": {
         "t": 100
        },
        "showlegend": true,
        "template": {
         "data": {
          "bar": [
           {
            "error_x": {
             "color": "#f2f5fa"
            },
            "error_y": {
             "color": "#f2f5fa"
            },
            "marker": {
             "line": {
              "color": "rgb(17,17,17)",
              "width": 0.5
             },
             "pattern": {
              "fillmode": "overlay",
              "size": 10,
              "solidity": 0.2
             }
            },
            "type": "bar"
           }
          ],
          "barpolar": [
           {
            "marker": {
             "line": {
              "color": "rgb(17,17,17)",
              "width": 0.5
             },
             "pattern": {
              "fillmode": "overlay",
              "size": 10,
              "solidity": 0.2
             }
            },
            "type": "barpolar"
           }
          ],
          "carpet": [
           {
            "aaxis": {
             "endlinecolor": "#A2B1C6",
             "gridcolor": "#506784",
             "linecolor": "#506784",
             "minorgridcolor": "#506784",
             "startlinecolor": "#A2B1C6"
            },
            "baxis": {
             "endlinecolor": "#A2B1C6",
             "gridcolor": "#506784",
             "linecolor": "#506784",
             "minorgridcolor": "#506784",
             "startlinecolor": "#A2B1C6"
            },
            "type": "carpet"
           }
          ],
          "choropleth": [
           {
            "colorbar": {
             "outlinewidth": 0,
             "ticks": ""
            },
            "type": "choropleth"
           }
          ],
          "contour": [
           {
            "colorbar": {
             "outlinewidth": 0,
             "ticks": ""
            },
            "colorscale": [
             [
              0,
              "#0d0887"
             ],
             [
              0.1111111111111111,
              "#46039f"
             ],
             [
              0.2222222222222222,
              "#7201a8"
             ],
             [
              0.3333333333333333,
              "#9c179e"
             ],
             [
              0.4444444444444444,
              "#bd3786"
             ],
             [
              0.5555555555555556,
              "#d8576b"
             ],
             [
              0.6666666666666666,
              "#ed7953"
             ],
             [
              0.7777777777777778,
              "#fb9f3a"
             ],
             [
              0.8888888888888888,
              "#fdca26"
             ],
             [
              1,
              "#f0f921"
             ]
            ],
            "type": "contour"
           }
          ],
          "contourcarpet": [
           {
            "colorbar": {
             "outlinewidth": 0,
             "ticks": ""
            },
            "type": "contourcarpet"
           }
          ],
          "heatmap": [
           {
            "colorbar": {
             "outlinewidth": 0,
             "ticks": ""
            },
            "colorscale": [
             [
              0,
              "#0d0887"
             ],
             [
              0.1111111111111111,
              "#46039f"
             ],
             [
              0.2222222222222222,
              "#7201a8"
             ],
             [
              0.3333333333333333,
              "#9c179e"
             ],
             [
              0.4444444444444444,
              "#bd3786"
             ],
             [
              0.5555555555555556,
              "#d8576b"
             ],
             [
              0.6666666666666666,
              "#ed7953"
             ],
             [
              0.7777777777777778,
              "#fb9f3a"
             ],
             [
              0.8888888888888888,
              "#fdca26"
             ],
             [
              1,
              "#f0f921"
             ]
            ],
            "type": "heatmap"
           }
          ],
          "histogram": [
           {
            "marker": {
             "pattern": {
              "fillmode": "overlay",
              "size": 10,
              "solidity": 0.2
             }
            },
            "type": "histogram"
           }
          ],
          "histogram2d": [
           {
            "colorbar": {
             "outlinewidth": 0,
             "ticks": ""
            },
            "colorscale": [
             [
              0,
              "#0d0887"
             ],
             [
              0.1111111111111111,
              "#46039f"
             ],
             [
              0.2222222222222222,
              "#7201a8"
             ],
             [
              0.3333333333333333,
              "#9c179e"
             ],
             [
              0.4444444444444444,
              "#bd3786"
             ],
             [
              0.5555555555555556,
              "#d8576b"
             ],
             [
              0.6666666666666666,
              "#ed7953"
             ],
             [
              0.7777777777777778,
              "#fb9f3a"
             ],
             [
              0.8888888888888888,
              "#fdca26"
             ],
             [
              1,
              "#f0f921"
             ]
            ],
            "type": "histogram2d"
           }
          ],
          "histogram2dcontour": [
           {
            "colorbar": {
             "outlinewidth": 0,
             "ticks": ""
            },
            "colorscale": [
             [
              0,
              "#0d0887"
             ],
             [
              0.1111111111111111,
              "#46039f"
             ],
             [
              0.2222222222222222,
              "#7201a8"
             ],
             [
              0.3333333333333333,
              "#9c179e"
             ],
             [
              0.4444444444444444,
              "#bd3786"
             ],
             [
              0.5555555555555556,
              "#d8576b"
             ],
             [
              0.6666666666666666,
              "#ed7953"
             ],
             [
              0.7777777777777778,
              "#fb9f3a"
             ],
             [
              0.8888888888888888,
              "#fdca26"
             ],
             [
              1,
              "#f0f921"
             ]
            ],
            "type": "histogram2dcontour"
           }
          ],
          "mesh3d": [
           {
            "colorbar": {
             "outlinewidth": 0,
             "ticks": ""
            },
            "type": "mesh3d"
           }
          ],
          "parcoords": [
           {
            "line": {
             "colorbar": {
              "outlinewidth": 0,
              "ticks": ""
             }
            },
            "type": "parcoords"
           }
          ],
          "pie": [
           {
            "automargin": true,
            "type": "pie"
           }
          ],
          "scatter": [
           {
            "marker": {
             "line": {
              "color": "#283442"
             }
            },
            "type": "scatter"
           }
          ],
          "scatter3d": [
           {
            "line": {
             "colorbar": {
              "outlinewidth": 0,
              "ticks": ""
             }
            },
            "marker": {
             "colorbar": {
              "outlinewidth": 0,
              "ticks": ""
             }
            },
            "type": "scatter3d"
           }
          ],
          "scattercarpet": [
           {
            "marker": {
             "colorbar": {
              "outlinewidth": 0,
              "ticks": ""
             }
            },
            "type": "scattercarpet"
           }
          ],
          "scattergeo": [
           {
            "marker": {
             "colorbar": {
              "outlinewidth": 0,
              "ticks": ""
             }
            },
            "type": "scattergeo"
           }
          ],
          "scattergl": [
           {
            "marker": {
             "line": {
              "color": "#283442"
             }
            },
            "type": "scattergl"
           }
          ],
          "scattermap": [
           {
            "marker": {
             "colorbar": {
              "outlinewidth": 0,
              "ticks": ""
             }
            },
            "type": "scattermap"
           }
          ],
          "scattermapbox": [
           {
            "marker": {
             "colorbar": {
              "outlinewidth": 0,
              "ticks": ""
             }
            },
            "type": "scattermapbox"
           }
          ],
          "scatterpolar": [
           {
            "marker": {
             "colorbar": {
              "outlinewidth": 0,
              "ticks": ""
             }
            },
            "type": "scatterpolar"
           }
          ],
          "scatterpolargl": [
           {
            "marker": {
             "colorbar": {
              "outlinewidth": 0,
              "ticks": ""
             }
            },
            "type": "scatterpolargl"
           }
          ],
          "scatterternary": [
           {
            "marker": {
             "colorbar": {
              "outlinewidth": 0,
              "ticks": ""
             }
            },
            "type": "scatterternary"
           }
          ],
          "surface": [
           {
            "colorbar": {
             "outlinewidth": 0,
             "ticks": ""
            },
            "colorscale": [
             [
              0,
              "#0d0887"
             ],
             [
              0.1111111111111111,
              "#46039f"
             ],
             [
              0.2222222222222222,
              "#7201a8"
             ],
             [
              0.3333333333333333,
              "#9c179e"
             ],
             [
              0.4444444444444444,
              "#bd3786"
             ],
             [
              0.5555555555555556,
              "#d8576b"
             ],
             [
              0.6666666666666666,
              "#ed7953"
             ],
             [
              0.7777777777777778,
              "#fb9f3a"
             ],
             [
              0.8888888888888888,
              "#fdca26"
             ],
             [
              1,
              "#f0f921"
             ]
            ],
            "type": "surface"
           }
          ],
          "table": [
           {
            "cells": {
             "fill": {
              "color": "#506784"
             },
             "line": {
              "color": "rgb(17,17,17)"
             }
            },
            "header": {
             "fill": {
              "color": "#2a3f5f"
             },
             "line": {
              "color": "rgb(17,17,17)"
             }
            },
            "type": "table"
           }
          ]
         },
         "layout": {
          "annotationdefaults": {
           "arrowcolor": "#f2f5fa",
           "arrowhead": 0,
           "arrowwidth": 1
          },
          "autotypenumbers": "strict",
          "coloraxis": {
           "colorbar": {
            "outlinewidth": 0,
            "ticks": ""
           }
          },
          "colorscale": {
           "diverging": [
            [
             0,
             "#8e0152"
            ],
            [
             0.1,
             "#c51b7d"
            ],
            [
             0.2,
             "#de77ae"
            ],
            [
             0.3,
             "#f1b6da"
            ],
            [
             0.4,
             "#fde0ef"
            ],
            [
             0.5,
             "#f7f7f7"
            ],
            [
             0.6,
             "#e6f5d0"
            ],
            [
             0.7,
             "#b8e186"
            ],
            [
             0.8,
             "#7fbc41"
            ],
            [
             0.9,
             "#4d9221"
            ],
            [
             1,
             "#276419"
            ]
           ],
           "sequential": [
            [
             0,
             "#0d0887"
            ],
            [
             0.1111111111111111,
             "#46039f"
            ],
            [
             0.2222222222222222,
             "#7201a8"
            ],
            [
             0.3333333333333333,
             "#9c179e"
            ],
            [
             0.4444444444444444,
             "#bd3786"
            ],
            [
             0.5555555555555556,
             "#d8576b"
            ],
            [
             0.6666666666666666,
             "#ed7953"
            ],
            [
             0.7777777777777778,
             "#fb9f3a"
            ],
            [
             0.8888888888888888,
             "#fdca26"
            ],
            [
             1,
             "#f0f921"
            ]
           ],
           "sequentialminus": [
            [
             0,
             "#0d0887"
            ],
            [
             0.1111111111111111,
             "#46039f"
            ],
            [
             0.2222222222222222,
             "#7201a8"
            ],
            [
             0.3333333333333333,
             "#9c179e"
            ],
            [
             0.4444444444444444,
             "#bd3786"
            ],
            [
             0.5555555555555556,
             "#d8576b"
            ],
            [
             0.6666666666666666,
             "#ed7953"
            ],
            [
             0.7777777777777778,
             "#fb9f3a"
            ],
            [
             0.8888888888888888,
             "#fdca26"
            ],
            [
             1,
             "#f0f921"
            ]
           ]
          },
          "colorway": [
           "#636efa",
           "#EF553B",
           "#00cc96",
           "#ab63fa",
           "#FFA15A",
           "#19d3f3",
           "#FF6692",
           "#B6E880",
           "#FF97FF",
           "#FECB52"
          ],
          "font": {
           "color": "#f2f5fa"
          },
          "geo": {
           "bgcolor": "rgb(17,17,17)",
           "lakecolor": "rgb(17,17,17)",
           "landcolor": "rgb(17,17,17)",
           "showlakes": true,
           "showland": true,
           "subunitcolor": "#506784"
          },
          "hoverlabel": {
           "align": "left"
          },
          "hovermode": "closest",
          "mapbox": {
           "style": "dark"
          },
          "paper_bgcolor": "rgb(17,17,17)",
          "plot_bgcolor": "rgb(17,17,17)",
          "polar": {
           "angularaxis": {
            "gridcolor": "#506784",
            "linecolor": "#506784",
            "ticks": ""
           },
           "bgcolor": "rgb(17,17,17)",
           "radialaxis": {
            "gridcolor": "#506784",
            "linecolor": "#506784",
            "ticks": ""
           }
          },
          "scene": {
           "xaxis": {
            "backgroundcolor": "rgb(17,17,17)",
            "gridcolor": "#506784",
            "gridwidth": 2,
            "linecolor": "#506784",
            "showbackground": true,
            "ticks": "",
            "zerolinecolor": "#C8D4E3"
           },
           "yaxis": {
            "backgroundcolor": "rgb(17,17,17)",
            "gridcolor": "#506784",
            "gridwidth": 2,
            "linecolor": "#506784",
            "showbackground": true,
            "ticks": "",
            "zerolinecolor": "#C8D4E3"
           },
           "zaxis": {
            "backgroundcolor": "rgb(17,17,17)",
            "gridcolor": "#506784",
            "gridwidth": 2,
            "linecolor": "#506784",
            "showbackground": true,
            "ticks": "",
            "zerolinecolor": "#C8D4E3"
           }
          },
          "shapedefaults": {
           "line": {
            "color": "#f2f5fa"
           }
          },
          "sliderdefaults": {
           "bgcolor": "#C8D4E3",
           "bordercolor": "rgb(17,17,17)",
           "borderwidth": 1,
           "tickwidth": 0
          },
          "ternary": {
           "aaxis": {
            "gridcolor": "#506784",
            "linecolor": "#506784",
            "ticks": ""
           },
           "baxis": {
            "gridcolor": "#506784",
            "linecolor": "#506784",
            "ticks": ""
           },
           "bgcolor": "rgb(17,17,17)",
           "caxis": {
            "gridcolor": "#506784",
            "linecolor": "#506784",
            "ticks": ""
           }
          },
          "title": {
           "x": 0.05
          },
          "updatemenudefaults": {
           "bgcolor": "#506784",
           "borderwidth": 0
          },
          "xaxis": {
           "automargin": true,
           "gridcolor": "#283442",
           "linecolor": "#506784",
           "ticks": "",
           "title": {
            "standoff": 15
           },
           "zerolinecolor": "#283442",
           "zerolinewidth": 2
          },
          "yaxis": {
           "automargin": true,
           "gridcolor": "#283442",
           "linecolor": "#506784",
           "ticks": "",
           "title": {
            "standoff": 15
           },
           "zerolinecolor": "#283442",
           "zerolinewidth": 2
          }
         }
        },
        "title": {
         "text": "<b>Train Dataset Word Count<br><sup><i>&nbsp;&nbsp;&nbsp;&nbsp;dialogue</i></sup></b>",
         "x": 0.025,
         "xanchor": "left"
        },
        "width": 1000,
        "xaxis": {
         "anchor": "y",
         "domain": [
          0,
          0.4
         ],
         "showgrid": false,
         "title": {
          "text": ""
         }
        },
        "xaxis2": {
         "anchor": "y2",
         "domain": [
          0.6000000000000001,
          1
         ],
         "showgrid": false,
         "title": {
          "text": "<b>Words</b>"
         }
        },
        "yaxis": {
         "anchor": "x",
         "domain": [
          0,
          1
         ],
         "showgrid": false,
         "title": {
          "text": "<b>Words</b>"
         }
        },
        "yaxis2": {
         "anchor": "x2",
         "domain": [
          0,
          1
         ],
         "showgrid": false,
         "title": {
          "text": "<b>Frequency</b>"
         }
        }
       }
      }
     },
     "metadata": {},
     "output_type": "display_data"
    },
    {
     "name": "stdout",
     "output_type": "stream",
     "text": [
      "\n",
      "\n"
     ]
    },
    {
     "data": {
      "application/vnd.plotly.v1+json": {
       "config": {
        "plotlyServerURL": "https://plot.ly"
       },
       "data": [
        {
         "fill": "tozeroy",
         "line": {
          "color": "#89c2e0"
         },
         "mode": "lines",
         "name": "Density",
         "type": "scatter",
         "x": {
          "bdata": "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",
          "dtype": "f8"
         },
         "xaxis": "x2",
         "y": {
          "bdata": "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",
          "dtype": "f8"
         },
         "yaxis": "y2"
        },
        {
         "boxmean": true,
         "line": {
          "color": "#d500ff"
         },
         "name": "Box Plot",
         "type": "box",
         "xaxis": "x",
         "y": {
          "bdata": "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",
          "dtype": "i1"
         },
         "yaxis": "y"
        }
       ],
       "layout": {
        "annotations": [
         {
          "font": {
           "size": 16
          },
          "showarrow": false,
          "text": "Box Plot",
          "x": 0.2,
          "xanchor": "center",
          "xref": "paper",
          "y": 1,
          "yanchor": "bottom",
          "yref": "paper"
         },
         {
          "font": {
           "size": 16
          },
          "showarrow": false,
          "text": "Histogram",
          "x": 0.8,
          "xanchor": "center",
          "xref": "paper",
          "y": 1,
          "yanchor": "bottom",
          "yref": "paper"
         }
        ],
        "height": 600,
        "margin": {
         "t": 100
        },
        "showlegend": true,
        "template": {
         "data": {
          "bar": [
           {
            "error_x": {
             "color": "#f2f5fa"
            },
            "error_y": {
             "color": "#f2f5fa"
            },
            "marker": {
             "line": {
              "color": "rgb(17,17,17)",
              "width": 0.5
             },
             "pattern": {
              "fillmode": "overlay",
              "size": 10,
              "solidity": 0.2
             }
            },
            "type": "bar"
           }
          ],
          "barpolar": [
           {
            "marker": {
             "line": {
              "color": "rgb(17,17,17)",
              "width": 0.5
             },
             "pattern": {
              "fillmode": "overlay",
              "size": 10,
              "solidity": 0.2
             }
            },
            "type": "barpolar"
           }
          ],
          "carpet": [
           {
            "aaxis": {
             "endlinecolor": "#A2B1C6",
             "gridcolor": "#506784",
             "linecolor": "#506784",
             "minorgridcolor": "#506784",
             "startlinecolor": "#A2B1C6"
            },
            "baxis": {
             "endlinecolor": "#A2B1C6",
             "gridcolor": "#506784",
             "linecolor": "#506784",
             "minorgridcolor": "#506784",
             "startlinecolor": "#A2B1C6"
            },
            "type": "carpet"
           }
          ],
          "choropleth": [
           {
            "colorbar": {
             "outlinewidth": 0,
             "ticks": ""
            },
            "type": "choropleth"
           }
          ],
          "contour": [
           {
            "colorbar": {
             "outlinewidth": 0,
             "ticks": ""
            },
            "colorscale": [
             [
              0,
              "#0d0887"
             ],
             [
              0.1111111111111111,
              "#46039f"
             ],
             [
              0.2222222222222222,
              "#7201a8"
             ],
             [
              0.3333333333333333,
              "#9c179e"
             ],
             [
              0.4444444444444444,
              "#bd3786"
             ],
             [
              0.5555555555555556,
              "#d8576b"
             ],
             [
              0.6666666666666666,
              "#ed7953"
             ],
             [
              0.7777777777777778,
              "#fb9f3a"
             ],
             [
              0.8888888888888888,
              "#fdca26"
             ],
             [
              1,
              "#f0f921"
             ]
            ],
            "type": "contour"
           }
          ],
          "contourcarpet": [
           {
            "colorbar": {
             "outlinewidth": 0,
             "ticks": ""
            },
            "type": "contourcarpet"
           }
          ],
          "heatmap": [
           {
            "colorbar": {
             "outlinewidth": 0,
             "ticks": ""
            },
            "colorscale": [
             [
              0,
              "#0d0887"
             ],
             [
              0.1111111111111111,
              "#46039f"
             ],
             [
              0.2222222222222222,
              "#7201a8"
             ],
             [
              0.3333333333333333,
              "#9c179e"
             ],
             [
              0.4444444444444444,
              "#bd3786"
             ],
             [
              0.5555555555555556,
              "#d8576b"
             ],
             [
              0.6666666666666666,
              "#ed7953"
             ],
             [
              0.7777777777777778,
              "#fb9f3a"
             ],
             [
              0.8888888888888888,
              "#fdca26"
             ],
             [
              1,
              "#f0f921"
             ]
            ],
            "type": "heatmap"
           }
          ],
          "histogram": [
           {
            "marker": {
             "pattern": {
              "fillmode": "overlay",
              "size": 10,
              "solidity": 0.2
             }
            },
            "type": "histogram"
           }
          ],
          "histogram2d": [
           {
            "colorbar": {
             "outlinewidth": 0,
             "ticks": ""
            },
            "colorscale": [
             [
              0,
              "#0d0887"
             ],
             [
              0.1111111111111111,
              "#46039f"
             ],
             [
              0.2222222222222222,
              "#7201a8"
             ],
             [
              0.3333333333333333,
              "#9c179e"
             ],
             [
              0.4444444444444444,
              "#bd3786"
             ],
             [
              0.5555555555555556,
              "#d8576b"
             ],
             [
              0.6666666666666666,
              "#ed7953"
             ],
             [
              0.7777777777777778,
              "#fb9f3a"
             ],
             [
              0.8888888888888888,
              "#fdca26"
             ],
             [
              1,
              "#f0f921"
             ]
            ],
            "type": "histogram2d"
           }
          ],
          "histogram2dcontour": [
           {
            "colorbar": {
             "outlinewidth": 0,
             "ticks": ""
            },
            "colorscale": [
             [
              0,
              "#0d0887"
             ],
             [
              0.1111111111111111,
              "#46039f"
             ],
             [
              0.2222222222222222,
              "#7201a8"
             ],
             [
              0.3333333333333333,
              "#9c179e"
             ],
             [
              0.4444444444444444,
              "#bd3786"
             ],
             [
              0.5555555555555556,
              "#d8576b"
             ],
             [
              0.6666666666666666,
              "#ed7953"
             ],
             [
              0.7777777777777778,
              "#fb9f3a"
             ],
             [
              0.8888888888888888,
              "#fdca26"
             ],
             [
              1,
              "#f0f921"
             ]
            ],
            "type": "histogram2dcontour"
           }
          ],
          "mesh3d": [
           {
            "colorbar": {
             "outlinewidth": 0,
             "ticks": ""
            },
            "type": "mesh3d"
           }
          ],
          "parcoords": [
           {
            "line": {
             "colorbar": {
              "outlinewidth": 0,
              "ticks": ""
             }
            },
            "type": "parcoords"
           }
          ],
          "pie": [
           {
            "automargin": true,
            "type": "pie"
           }
          ],
          "scatter": [
           {
            "marker": {
             "line": {
              "color": "#283442"
             }
            },
            "type": "scatter"
           }
          ],
          "scatter3d": [
           {
            "line": {
             "colorbar": {
              "outlinewidth": 0,
              "ticks": ""
             }
            },
            "marker": {
             "colorbar": {
              "outlinewidth": 0,
              "ticks": ""
             }
            },
            "type": "scatter3d"
           }
          ],
          "scattercarpet": [
           {
            "marker": {
             "colorbar": {
              "outlinewidth": 0,
              "ticks": ""
             }
            },
            "type": "scattercarpet"
           }
          ],
          "scattergeo": [
           {
            "marker": {
             "colorbar": {
              "outlinewidth": 0,
              "ticks": ""
             }
            },
            "type": "scattergeo"
           }
          ],
          "scattergl": [
           {
            "marker": {
             "line": {
              "color": "#283442"
             }
            },
            "type": "scattergl"
           }
          ],
          "scattermap": [
           {
            "marker": {
             "colorbar": {
              "outlinewidth": 0,
              "ticks": ""
             }
            },
            "type": "scattermap"
           }
          ],
          "scattermapbox": [
           {
            "marker": {
             "colorbar": {
              "outlinewidth": 0,
              "ticks": ""
             }
            },
            "type": "scattermapbox"
           }
          ],
          "scatterpolar": [
           {
            "marker": {
             "colorbar": {
              "outlinewidth": 0,
              "ticks": ""
             }
            },
            "type": "scatterpolar"
           }
          ],
          "scatterpolargl": [
           {
            "marker": {
             "colorbar": {
              "outlinewidth": 0,
              "ticks": ""
             }
            },
            "type": "scatterpolargl"
           }
          ],
          "scatterternary": [
           {
            "marker": {
             "colorbar": {
              "outlinewidth": 0,
              "ticks": ""
             }
            },
            "type": "scatterternary"
           }
          ],
          "surface": [
           {
            "colorbar": {
             "outlinewidth": 0,
             "ticks": ""
            },
            "colorscale": [
             [
              0,
              "#0d0887"
             ],
             [
              0.1111111111111111,
              "#46039f"
             ],
             [
              0.2222222222222222,
              "#7201a8"
             ],
             [
              0.3333333333333333,
              "#9c179e"
             ],
             [
              0.4444444444444444,
              "#bd3786"
             ],
             [
              0.5555555555555556,
              "#d8576b"
             ],
             [
              0.6666666666666666,
              "#ed7953"
             ],
             [
              0.7777777777777778,
              "#fb9f3a"
             ],
             [
              0.8888888888888888,
              "#fdca26"
             ],
             [
              1,
              "#f0f921"
             ]
            ],
            "type": "surface"
           }
          ],
          "table": [
           {
            "cells": {
             "fill": {
              "color": "#506784"
             },
             "line": {
              "color": "rgb(17,17,17)"
             }
            },
            "header": {
             "fill": {
              "color": "#2a3f5f"
             },
             "line": {
              "color": "rgb(17,17,17)"
             }
            },
            "type": "table"
           }
          ]
         },
         "layout": {
          "annotationdefaults": {
           "arrowcolor": "#f2f5fa",
           "arrowhead": 0,
           "arrowwidth": 1
          },
          "autotypenumbers": "strict",
          "coloraxis": {
           "colorbar": {
            "outlinewidth": 0,
            "ticks": ""
           }
          },
          "colorscale": {
           "diverging": [
            [
             0,
             "#8e0152"
            ],
            [
             0.1,
             "#c51b7d"
            ],
            [
             0.2,
             "#de77ae"
            ],
            [
             0.3,
             "#f1b6da"
            ],
            [
             0.4,
             "#fde0ef"
            ],
            [
             0.5,
             "#f7f7f7"
            ],
            [
             0.6,
             "#e6f5d0"
            ],
            [
             0.7,
             "#b8e186"
            ],
            [
             0.8,
             "#7fbc41"
            ],
            [
             0.9,
             "#4d9221"
            ],
            [
             1,
             "#276419"
            ]
           ],
           "sequential": [
            [
             0,
             "#0d0887"
            ],
            [
             0.1111111111111111,
             "#46039f"
            ],
            [
             0.2222222222222222,
             "#7201a8"
            ],
            [
             0.3333333333333333,
             "#9c179e"
            ],
            [
             0.4444444444444444,
             "#bd3786"
            ],
            [
             0.5555555555555556,
             "#d8576b"
            ],
            [
             0.6666666666666666,
             "#ed7953"
            ],
            [
             0.7777777777777778,
             "#fb9f3a"
            ],
            [
             0.8888888888888888,
             "#fdca26"
            ],
            [
             1,
             "#f0f921"
            ]
           ],
           "sequentialminus": [
            [
             0,
             "#0d0887"
            ],
            [
             0.1111111111111111,
             "#46039f"
            ],
            [
             0.2222222222222222,
             "#7201a8"
            ],
            [
             0.3333333333333333,
             "#9c179e"
            ],
            [
             0.4444444444444444,
             "#bd3786"
            ],
            [
             0.5555555555555556,
             "#d8576b"
            ],
            [
             0.6666666666666666,
             "#ed7953"
            ],
            [
             0.7777777777777778,
             "#fb9f3a"
            ],
            [
             0.8888888888888888,
             "#fdca26"
            ],
            [
             1,
             "#f0f921"
            ]
           ]
          },
          "colorway": [
           "#636efa",
           "#EF553B",
           "#00cc96",
           "#ab63fa",
           "#FFA15A",
           "#19d3f3",
           "#FF6692",
           "#B6E880",
           "#FF97FF",
           "#FECB52"
          ],
          "font": {
           "color": "#f2f5fa"
          },
          "geo": {
           "bgcolor": "rgb(17,17,17)",
           "lakecolor": "rgb(17,17,17)",
           "landcolor": "rgb(17,17,17)",
           "showlakes": true,
           "showland": true,
           "subunitcolor": "#506784"
          },
          "hoverlabel": {
           "align": "left"
          },
          "hovermode": "closest",
          "mapbox": {
           "style": "dark"
          },
          "paper_bgcolor": "rgb(17,17,17)",
          "plot_bgcolor": "rgb(17,17,17)",
          "polar": {
           "angularaxis": {
            "gridcolor": "#506784",
            "linecolor": "#506784",
            "ticks": ""
           },
           "bgcolor": "rgb(17,17,17)",
           "radialaxis": {
            "gridcolor": "#506784",
            "linecolor": "#506784",
            "ticks": ""
           }
          },
          "scene": {
           "xaxis": {
            "backgroundcolor": "rgb(17,17,17)",
            "gridcolor": "#506784",
            "gridwidth": 2,
            "linecolor": "#506784",
            "showbackground": true,
            "ticks": "",
            "zerolinecolor": "#C8D4E3"
           },
           "yaxis": {
            "backgroundcolor": "rgb(17,17,17)",
            "gridcolor": "#506784",
            "gridwidth": 2,
            "linecolor": "#506784",
            "showbackground": true,
            "ticks": "",
            "zerolinecolor": "#C8D4E3"
           },
           "zaxis": {
            "backgroundcolor": "rgb(17,17,17)",
            "gridcolor": "#506784",
            "gridwidth": 2,
            "linecolor": "#506784",
            "showbackground": true,
            "ticks": "",
            "zerolinecolor": "#C8D4E3"
           }
          },
          "shapedefaults": {
           "line": {
            "color": "#f2f5fa"
           }
          },
          "sliderdefaults": {
           "bgcolor": "#C8D4E3",
           "bordercolor": "rgb(17,17,17)",
           "borderwidth": 1,
           "tickwidth": 0
          },
          "ternary": {
           "aaxis": {
            "gridcolor": "#506784",
            "linecolor": "#506784",
            "ticks": ""
           },
           "baxis": {
            "gridcolor": "#506784",
            "linecolor": "#506784",
            "ticks": ""
           },
           "bgcolor": "rgb(17,17,17)",
           "caxis": {
            "gridcolor": "#506784",
            "linecolor": "#506784",
            "ticks": ""
           }
          },
          "title": {
           "x": 0.05
          },
          "updatemenudefaults": {
           "bgcolor": "#506784",
           "borderwidth": 0
          },
          "xaxis": {
           "automargin": true,
           "gridcolor": "#283442",
           "linecolor": "#506784",
           "ticks": "",
           "title": {
            "standoff": 15
           },
           "zerolinecolor": "#283442",
           "zerolinewidth": 2
          },
          "yaxis": {
           "automargin": true,
           "gridcolor": "#283442",
           "linecolor": "#506784",
           "ticks": "",
           "title": {
            "standoff": 15
           },
           "zerolinecolor": "#283442",
           "zerolinewidth": 2
          }
         }
        },
        "title": {
         "text": "<b>Train Dataset Word Count<br><sup><i>&nbsp;&nbsp;&nbsp;&nbsp;summary</i></sup></b>",
         "x": 0.025,
         "xanchor": "left"
        },
        "width": 1000,
        "xaxis": {
         "anchor": "y",
         "domain": [
          0,
          0.4
         ],
         "showgrid": false,
         "title": {
          "text": ""
         }
        },
        "xaxis2": {
         "anchor": "y2",
         "domain": [
          0.6000000000000001,
          1
         ],
         "showgrid": false,
         "title": {
          "text": "<b>Words</b>"
         }
        },
        "yaxis": {
         "anchor": "x",
         "domain": [
          0,
          1
         ],
         "showgrid": false,
         "title": {
          "text": "<b>Words</b>"
         }
        },
        "yaxis2": {
         "anchor": "x2",
         "domain": [
          0,
          1
         ],
         "showgrid": false,
         "title": {
          "text": "<b>Frequency</b>"
         }
        }
       }
      }
     },
     "metadata": {},
     "output_type": "display_data"
    },
    {
     "name": "stdout",
     "output_type": "stream",
     "text": [
      "\n",
      "\n"
     ]
    }
   ],
   "source": [
    "df_text_lenght = pd.DataFrame() # Creating an empty dataframe\n",
    "for feat in categorical_features: # Iterating through features --> Dialogue & Summary\n",
    "    df_text_lenght[feat] = train[feat].apply(lambda x: len(str(x).split())) #  Counting words for each feature\n",
    "\n",
    "# Plotting histogram-boxplot\n",
    "histogram_boxplot(df_text_lenght,'#89c2e0', '#d500ff', 600, 1000, True, 'Train Dataset')"
   ]
  },
  {
   "cell_type": "code",
   "execution_count": 44,
   "metadata": {},
   "outputs": [
    {
     "data": {
      "application/vnd.plotly.v1+json": {
       "config": {
        "plotlyServerURL": "https://plot.ly"
       },
       "data": [
        {
         "colorscale": [
          [
           0,
           "#00224e"
          ],
          [
           0.1111111111111111,
           "#123570"
          ],
          [
           0.2222222222222222,
           "#3b496c"
          ],
          [
           0.3333333333333333,
           "#575d6d"
          ],
          [
           0.4444444444444444,
           "#707173"
          ],
          [
           0.5555555555555556,
           "#8a8678"
          ],
          [
           0.6666666666666666,
           "#a59c74"
          ],
          [
           0.7777777777777778,
           "#c3b369"
          ],
          [
           0.8888888888888888,
           "#e1cc55"
          ],
          [
           1,
           "#fee838"
          ]
         ],
         "reversescale": false,
         "showscale": false,
         "type": "heatmap",
         "x": [
          "did",
          "don",
          "good",
          "just",
          "know",
          "like",
          "ll",
          "need",
          "ok",
          "really",
          "sure",
          "think",
          "time",
          "yeah"
         ],
         "y": [
          "yes",
          "yeah",
          "time",
          "think",
          "sure",
          "really",
          "ok",
          "need",
          "ll",
          "like",
          "know",
          "just",
          "good",
          "don"
         ],
         "z": [
          [
           0,
           -0.07,
           -0.01,
           -0.04,
           -0.05,
           -0.04,
           -0.05,
           -0.04,
           -0.04,
           -0.02,
           -0.04,
           -0.02,
           -0.04,
           -0.1
          ],
          [
           0.01,
           -0.05,
           -0.01,
           -0.01,
           0,
           0.01,
           -0.05,
           -0.04,
           -0.07,
           0.02,
           0,
           -0.01,
           -0.02
          ],
          [
           -0.03,
           0,
           0,
           -0.02,
           -0.03,
           -0.02,
           0,
           -0.02,
           -0.05,
           0,
           -0.01,
           -0.02
          ],
          [
           -0.01,
           0.08,
           0,
           0,
           0.03,
           0.03,
           -0.01,
           0,
           -0.07,
           0.05,
           -0.01
          ],
          [
           -0.05,
           -0.03,
           -0.04,
           -0.02,
           -0.04,
           -0.03,
           0.02,
           -0.01,
           -0.05,
           -0.01
          ],
          [
           0,
           0.04,
           0.01,
           0.01,
           0.04,
           0.05,
           -0.03,
           -0.02,
           -0.08
          ],
          [
           -0.1,
           -0.07,
           -0.07,
           -0.07,
           -0.07,
           -0.1,
           0.04,
           -0.01
          ],
          [
           -0.05,
           -0.02,
           -0.03,
           0,
           -0.02,
           -0.04,
           -0.01
          ],
          [
           -0.08,
           0,
           -0.03,
           -0.04,
           -0.01,
           -0.06
          ],
          [
           -0.03,
           0.06,
           0.01,
           0.02,
           0.02
          ],
          [
           -0.02,
           0.12,
           -0.02,
           0.02
          ],
          [
           -0.02,
           0.02,
           -0.03
          ],
          [
           -0.03,
           -0.05
          ],
          [
           -0.04
          ]
         ]
        },
        {
         "colorscale": [
          [
           0,
           "#00224e"
          ],
          [
           0.1111111111111111,
           "#123570"
          ],
          [
           0.2222222222222222,
           "#3b496c"
          ],
          [
           0.3333333333333333,
           "#575d6d"
          ],
          [
           0.4444444444444444,
           "#707173"
          ],
          [
           0.5555555555555556,
           "#8a8678"
          ],
          [
           0.6666666666666666,
           "#a59c74"
          ],
          [
           0.7777777777777778,
           "#c3b369"
          ],
          [
           0.8888888888888888,
           "#e1cc55"
          ],
          [
           1,
           "#fee838"
          ]
         ],
         "showscale": true,
         "type": "heatmap",
         "visible": true,
         "z": [
          [
           0,
           -0.07,
           -0.01,
           -0.04,
           -0.05,
           -0.04,
           -0.05,
           -0.04,
           -0.04,
           -0.02,
           -0.04,
           -0.02,
           -0.04,
           -0.1
          ],
          [
           0.01,
           -0.05,
           -0.01,
           -0.01,
           0,
           0.01,
           -0.05,
           -0.04,
           -0.07,
           0.02,
           0,
           -0.01,
           -0.02
          ],
          [
           -0.03,
           0,
           0,
           -0.02,
           -0.03,
           -0.02,
           0,
           -0.02,
           -0.05,
           0,
           -0.01,
           -0.02
          ],
          [
           -0.01,
           0.08,
           0,
           0,
           0.03,
           0.03,
           -0.01,
           0,
           -0.07,
           0.05,
           -0.01
          ],
          [
           -0.05,
           -0.03,
           -0.04,
           -0.02,
           -0.04,
           -0.03,
           0.02,
           -0.01,
           -0.05,
           -0.01
          ],
          [
           0,
           0.04,
           0.01,
           0.01,
           0.04,
           0.05,
           -0.03,
           -0.02,
           -0.08
          ],
          [
           -0.1,
           -0.07,
           -0.07,
           -0.07,
           -0.07,
           -0.1,
           0.04,
           -0.01
          ],
          [
           -0.05,
           -0.02,
           -0.03,
           0,
           -0.02,
           -0.04,
           -0.01
          ],
          [
           -0.08,
           0,
           -0.03,
           -0.04,
           -0.01,
           -0.06
          ],
          [
           -0.03,
           0.06,
           0.01,
           0.02,
           0.02
          ],
          [
           -0.02,
           0.12,
           -0.02,
           0.02
          ],
          [
           -0.02,
           0.02,
           -0.03
          ],
          [
           -0.03,
           -0.05
          ],
          [
           -0.04
          ]
         ]
        }
       ],
       "layout": {
        "annotations": [
         {
          "font": {
           "color": "#FFFFFF",
           "size": 12
          },
          "showarrow": false,
          "text": "-0.0",
          "x": "did",
          "xref": "x",
          "y": "yes",
          "yref": "y"
         },
         {
          "font": {
           "color": "#FFFFFF",
           "size": 12
          },
          "showarrow": false,
          "text": "-0.07",
          "x": "don",
          "xref": "x",
          "y": "yes",
          "yref": "y"
         },
         {
          "font": {
           "color": "#FFFFFF",
           "size": 12
          },
          "showarrow": false,
          "text": "-0.01",
          "x": "good",
          "xref": "x",
          "y": "yes",
          "yref": "y"
         },
         {
          "font": {
           "color": "#FFFFFF",
           "size": 12
          },
          "showarrow": false,
          "text": "-0.04",
          "x": "just",
          "xref": "x",
          "y": "yes",
          "yref": "y"
         },
         {
          "font": {
           "color": "#FFFFFF",
           "size": 12
          },
          "showarrow": false,
          "text": "-0.05",
          "x": "know",
          "xref": "x",
          "y": "yes",
          "yref": "y"
         },
         {
          "font": {
           "color": "#FFFFFF",
           "size": 12
          },
          "showarrow": false,
          "text": "-0.04",
          "x": "like",
          "xref": "x",
          "y": "yes",
          "yref": "y"
         },
         {
          "font": {
           "color": "#FFFFFF",
           "size": 12
          },
          "showarrow": false,
          "text": "-0.05",
          "x": "ll",
          "xref": "x",
          "y": "yes",
          "yref": "y"
         },
         {
          "font": {
           "color": "#FFFFFF",
           "size": 12
          },
          "showarrow": false,
          "text": "-0.04",
          "x": "need",
          "xref": "x",
          "y": "yes",
          "yref": "y"
         },
         {
          "font": {
           "color": "#FFFFFF",
           "size": 12
          },
          "showarrow": false,
          "text": "-0.04",
          "x": "ok",
          "xref": "x",
          "y": "yes",
          "yref": "y"
         },
         {
          "font": {
           "color": "#FFFFFF",
           "size": 12
          },
          "showarrow": false,
          "text": "-0.02",
          "x": "really",
          "xref": "x",
          "y": "yes",
          "yref": "y"
         },
         {
          "font": {
           "color": "#FFFFFF",
           "size": 12
          },
          "showarrow": false,
          "text": "-0.04",
          "x": "sure",
          "xref": "x",
          "y": "yes",
          "yref": "y"
         },
         {
          "font": {
           "color": "#FFFFFF",
           "size": 12
          },
          "showarrow": false,
          "text": "-0.02",
          "x": "think",
          "xref": "x",
          "y": "yes",
          "yref": "y"
         },
         {
          "font": {
           "color": "#FFFFFF",
           "size": 12
          },
          "showarrow": false,
          "text": "-0.04",
          "x": "time",
          "xref": "x",
          "y": "yes",
          "yref": "y"
         },
         {
          "font": {
           "color": "#FFFFFF",
           "size": 12
          },
          "showarrow": false,
          "text": "-0.1",
          "x": "yeah",
          "xref": "x",
          "y": "yes",
          "yref": "y"
         },
         {
          "font": {
           "color": "#000000",
           "size": 12
          },
          "showarrow": false,
          "text": "0.01",
          "x": "did",
          "xref": "x",
          "y": "yeah",
          "yref": "y"
         },
         {
          "font": {
           "color": "#FFFFFF",
           "size": 12
          },
          "showarrow": false,
          "text": "-0.05",
          "x": "don",
          "xref": "x",
          "y": "yeah",
          "yref": "y"
         },
         {
          "font": {
           "color": "#FFFFFF",
           "size": 12
          },
          "showarrow": false,
          "text": "-0.01",
          "x": "good",
          "xref": "x",
          "y": "yeah",
          "yref": "y"
         },
         {
          "font": {
           "color": "#FFFFFF",
           "size": 12
          },
          "showarrow": false,
          "text": "-0.01",
          "x": "just",
          "xref": "x",
          "y": "yeah",
          "yref": "y"
         },
         {
          "font": {
           "color": "#FFFFFF",
           "size": 12
          },
          "showarrow": false,
          "text": "0.0",
          "x": "know",
          "xref": "x",
          "y": "yeah",
          "yref": "y"
         },
         {
          "font": {
           "color": "#000000",
           "size": 12
          },
          "showarrow": false,
          "text": "0.01",
          "x": "like",
          "xref": "x",
          "y": "yeah",
          "yref": "y"
         },
         {
          "font": {
           "color": "#FFFFFF",
           "size": 12
          },
          "showarrow": false,
          "text": "-0.05",
          "x": "ll",
          "xref": "x",
          "y": "yeah",
          "yref": "y"
         },
         {
          "font": {
           "color": "#FFFFFF",
           "size": 12
          },
          "showarrow": false,
          "text": "-0.04",
          "x": "need",
          "xref": "x",
          "y": "yeah",
          "yref": "y"
         },
         {
          "font": {
           "color": "#FFFFFF",
           "size": 12
          },
          "showarrow": false,
          "text": "-0.07",
          "x": "ok",
          "xref": "x",
          "y": "yeah",
          "yref": "y"
         },
         {
          "font": {
           "color": "#000000",
           "size": 12
          },
          "showarrow": false,
          "text": "0.02",
          "x": "really",
          "xref": "x",
          "y": "yeah",
          "yref": "y"
         },
         {
          "font": {
           "color": "#FFFFFF",
           "size": 12
          },
          "showarrow": false,
          "text": "-0.0",
          "x": "sure",
          "xref": "x",
          "y": "yeah",
          "yref": "y"
         },
         {
          "font": {
           "color": "#FFFFFF",
           "size": 12
          },
          "showarrow": false,
          "text": "-0.01",
          "x": "think",
          "xref": "x",
          "y": "yeah",
          "yref": "y"
         },
         {
          "font": {
           "color": "#FFFFFF",
           "size": 12
          },
          "showarrow": false,
          "text": "-0.02",
          "x": "time",
          "xref": "x",
          "y": "yeah",
          "yref": "y"
         },
         {
          "font": {
           "color": "#FFFFFF",
           "size": 12
          },
          "showarrow": false,
          "text": "-0.03",
          "x": "did",
          "xref": "x",
          "y": "time",
          "yref": "y"
         },
         {
          "font": {
           "color": "#FFFFFF",
           "size": 12
          },
          "showarrow": false,
          "text": "0.0",
          "x": "don",
          "xref": "x",
          "y": "time",
          "yref": "y"
         },
         {
          "font": {
           "color": "#FFFFFF",
           "size": 12
          },
          "showarrow": false,
          "text": "-0.0",
          "x": "good",
          "xref": "x",
          "y": "time",
          "yref": "y"
         },
         {
          "font": {
           "color": "#FFFFFF",
           "size": 12
          },
          "showarrow": false,
          "text": "-0.02",
          "x": "just",
          "xref": "x",
          "y": "time",
          "yref": "y"
         },
         {
          "font": {
           "color": "#FFFFFF",
           "size": 12
          },
          "showarrow": false,
          "text": "-0.03",
          "x": "know",
          "xref": "x",
          "y": "time",
          "yref": "y"
         },
         {
          "font": {
           "color": "#FFFFFF",
           "size": 12
          },
          "showarrow": false,
          "text": "-0.02",
          "x": "like",
          "xref": "x",
          "y": "time",
          "yref": "y"
         },
         {
          "font": {
           "color": "#FFFFFF",
           "size": 12
          },
          "showarrow": false,
          "text": "0.0",
          "x": "ll",
          "xref": "x",
          "y": "time",
          "yref": "y"
         },
         {
          "font": {
           "color": "#FFFFFF",
           "size": 12
          },
          "showarrow": false,
          "text": "-0.02",
          "x": "need",
          "xref": "x",
          "y": "time",
          "yref": "y"
         },
         {
          "font": {
           "color": "#FFFFFF",
           "size": 12
          },
          "showarrow": false,
          "text": "-0.05",
          "x": "ok",
          "xref": "x",
          "y": "time",
          "yref": "y"
         },
         {
          "font": {
           "color": "#FFFFFF",
           "size": 12
          },
          "showarrow": false,
          "text": "-0.0",
          "x": "really",
          "xref": "x",
          "y": "time",
          "yref": "y"
         },
         {
          "font": {
           "color": "#FFFFFF",
           "size": 12
          },
          "showarrow": false,
          "text": "-0.01",
          "x": "sure",
          "xref": "x",
          "y": "time",
          "yref": "y"
         },
         {
          "font": {
           "color": "#FFFFFF",
           "size": 12
          },
          "showarrow": false,
          "text": "-0.02",
          "x": "think",
          "xref": "x",
          "y": "time",
          "yref": "y"
         },
         {
          "font": {
           "color": "#FFFFFF",
           "size": 12
          },
          "showarrow": false,
          "text": "-0.01",
          "x": "did",
          "xref": "x",
          "y": "think",
          "yref": "y"
         },
         {
          "font": {
           "color": "#000000",
           "size": 12
          },
          "showarrow": false,
          "text": "0.08",
          "x": "don",
          "xref": "x",
          "y": "think",
          "yref": "y"
         },
         {
          "font": {
           "color": "#FFFFFF",
           "size": 12
          },
          "showarrow": false,
          "text": "-0.0",
          "x": "good",
          "xref": "x",
          "y": "think",
          "yref": "y"
         },
         {
          "font": {
           "color": "#FFFFFF",
           "size": 12
          },
          "showarrow": false,
          "text": "-0.0",
          "x": "just",
          "xref": "x",
          "y": "think",
          "yref": "y"
         },
         {
          "font": {
           "color": "#000000",
           "size": 12
          },
          "showarrow": false,
          "text": "0.03",
          "x": "know",
          "xref": "x",
          "y": "think",
          "yref": "y"
         },
         {
          "font": {
           "color": "#000000",
           "size": 12
          },
          "showarrow": false,
          "text": "0.03",
          "x": "like",
          "xref": "x",
          "y": "think",
          "yref": "y"
         },
         {
          "font": {
           "color": "#FFFFFF",
           "size": 12
          },
          "showarrow": false,
          "text": "-0.01",
          "x": "ll",
          "xref": "x",
          "y": "think",
          "yref": "y"
         },
         {
          "font": {
           "color": "#FFFFFF",
           "size": 12
          },
          "showarrow": false,
          "text": "-0.0",
          "x": "need",
          "xref": "x",
          "y": "think",
          "yref": "y"
         },
         {
          "font": {
           "color": "#FFFFFF",
           "size": 12
          },
          "showarrow": false,
          "text": "-0.07",
          "x": "ok",
          "xref": "x",
          "y": "think",
          "yref": "y"
         },
         {
          "font": {
           "color": "#000000",
           "size": 12
          },
          "showarrow": false,
          "text": "0.05",
          "x": "really",
          "xref": "x",
          "y": "think",
          "yref": "y"
         },
         {
          "font": {
           "color": "#FFFFFF",
           "size": 12
          },
          "showarrow": false,
          "text": "-0.01",
          "x": "sure",
          "xref": "x",
          "y": "think",
          "yref": "y"
         },
         {
          "font": {
           "color": "#FFFFFF",
           "size": 12
          },
          "showarrow": false,
          "text": "-0.05",
          "x": "did",
          "xref": "x",
          "y": "sure",
          "yref": "y"
         },
         {
          "font": {
           "color": "#FFFFFF",
           "size": 12
          },
          "showarrow": false,
          "text": "-0.03",
          "x": "don",
          "xref": "x",
          "y": "sure",
          "yref": "y"
         },
         {
          "font": {
           "color": "#FFFFFF",
           "size": 12
          },
          "showarrow": false,
          "text": "-0.04",
          "x": "good",
          "xref": "x",
          "y": "sure",
          "yref": "y"
         },
         {
          "font": {
           "color": "#FFFFFF",
           "size": 12
          },
          "showarrow": false,
          "text": "-0.02",
          "x": "just",
          "xref": "x",
          "y": "sure",
          "yref": "y"
         },
         {
          "font": {
           "color": "#FFFFFF",
           "size": 12
          },
          "showarrow": false,
          "text": "-0.04",
          "x": "know",
          "xref": "x",
          "y": "sure",
          "yref": "y"
         },
         {
          "font": {
           "color": "#FFFFFF",
           "size": 12
          },
          "showarrow": false,
          "text": "-0.03",
          "x": "like",
          "xref": "x",
          "y": "sure",
          "yref": "y"
         },
         {
          "font": {
           "color": "#000000",
           "size": 12
          },
          "showarrow": false,
          "text": "0.02",
          "x": "ll",
          "xref": "x",
          "y": "sure",
          "yref": "y"
         },
         {
          "font": {
           "color": "#FFFFFF",
           "size": 12
          },
          "showarrow": false,
          "text": "-0.01",
          "x": "need",
          "xref": "x",
          "y": "sure",
          "yref": "y"
         },
         {
          "font": {
           "color": "#FFFFFF",
           "size": 12
          },
          "showarrow": false,
          "text": "-0.05",
          "x": "ok",
          "xref": "x",
          "y": "sure",
          "yref": "y"
         },
         {
          "font": {
           "color": "#FFFFFF",
           "size": 12
          },
          "showarrow": false,
          "text": "-0.01",
          "x": "really",
          "xref": "x",
          "y": "sure",
          "yref": "y"
         },
         {
          "font": {
           "color": "#FFFFFF",
           "size": 12
          },
          "showarrow": false,
          "text": "-0.0",
          "x": "did",
          "xref": "x",
          "y": "really",
          "yref": "y"
         },
         {
          "font": {
           "color": "#000000",
           "size": 12
          },
          "showarrow": false,
          "text": "0.04",
          "x": "don",
          "xref": "x",
          "y": "really",
          "yref": "y"
         },
         {
          "font": {
           "color": "#000000",
           "size": 12
          },
          "showarrow": false,
          "text": "0.01",
          "x": "good",
          "xref": "x",
          "y": "really",
          "yref": "y"
         },
         {
          "font": {
           "color": "#000000",
           "size": 12
          },
          "showarrow": false,
          "text": "0.01",
          "x": "just",
          "xref": "x",
          "y": "really",
          "yref": "y"
         },
         {
          "font": {
           "color": "#000000",
           "size": 12
          },
          "showarrow": false,
          "text": "0.04",
          "x": "know",
          "xref": "x",
          "y": "really",
          "yref": "y"
         },
         {
          "font": {
           "color": "#000000",
           "size": 12
          },
          "showarrow": false,
          "text": "0.05",
          "x": "like",
          "xref": "x",
          "y": "really",
          "yref": "y"
         },
         {
          "font": {
           "color": "#FFFFFF",
           "size": 12
          },
          "showarrow": false,
          "text": "-0.03",
          "x": "ll",
          "xref": "x",
          "y": "really",
          "yref": "y"
         },
         {
          "font": {
           "color": "#FFFFFF",
           "size": 12
          },
          "showarrow": false,
          "text": "-0.02",
          "x": "need",
          "xref": "x",
          "y": "really",
          "yref": "y"
         },
         {
          "font": {
           "color": "#FFFFFF",
           "size": 12
          },
          "showarrow": false,
          "text": "-0.08",
          "x": "ok",
          "xref": "x",
          "y": "really",
          "yref": "y"
         },
         {
          "font": {
           "color": "#FFFFFF",
           "size": 12
          },
          "showarrow": false,
          "text": "-0.1",
          "x": "did",
          "xref": "x",
          "y": "ok",
          "yref": "y"
         },
         {
          "font": {
           "color": "#FFFFFF",
           "size": 12
          },
          "showarrow": false,
          "text": "-0.07",
          "x": "don",
          "xref": "x",
          "y": "ok",
          "yref": "y"
         },
         {
          "font": {
           "color": "#FFFFFF",
           "size": 12
          },
          "showarrow": false,
          "text": "-0.07",
          "x": "good",
          "xref": "x",
          "y": "ok",
          "yref": "y"
         },
         {
          "font": {
           "color": "#FFFFFF",
           "size": 12
          },
          "showarrow": false,
          "text": "-0.07",
          "x": "just",
          "xref": "x",
          "y": "ok",
          "yref": "y"
         },
         {
          "font": {
           "color": "#FFFFFF",
           "size": 12
          },
          "showarrow": false,
          "text": "-0.07",
          "x": "know",
          "xref": "x",
          "y": "ok",
          "yref": "y"
         },
         {
          "font": {
           "color": "#FFFFFF",
           "size": 12
          },
          "showarrow": false,
          "text": "-0.1",
          "x": "like",
          "xref": "x",
          "y": "ok",
          "yref": "y"
         },
         {
          "font": {
           "color": "#000000",
           "size": 12
          },
          "showarrow": false,
          "text": "0.04",
          "x": "ll",
          "xref": "x",
          "y": "ok",
          "yref": "y"
         },
         {
          "font": {
           "color": "#FFFFFF",
           "size": 12
          },
          "showarrow": false,
          "text": "-0.01",
          "x": "need",
          "xref": "x",
          "y": "ok",
          "yref": "y"
         },
         {
          "font": {
           "color": "#FFFFFF",
           "size": 12
          },
          "showarrow": false,
          "text": "-0.05",
          "x": "did",
          "xref": "x",
          "y": "need",
          "yref": "y"
         },
         {
          "font": {
           "color": "#FFFFFF",
           "size": 12
          },
          "showarrow": false,
          "text": "-0.02",
          "x": "don",
          "xref": "x",
          "y": "need",
          "yref": "y"
         },
         {
          "font": {
           "color": "#FFFFFF",
           "size": 12
          },
          "showarrow": false,
          "text": "-0.03",
          "x": "good",
          "xref": "x",
          "y": "need",
          "yref": "y"
         },
         {
          "font": {
           "color": "#FFFFFF",
           "size": 12
          },
          "showarrow": false,
          "text": "-0.0",
          "x": "just",
          "xref": "x",
          "y": "need",
          "yref": "y"
         },
         {
          "font": {
           "color": "#FFFFFF",
           "size": 12
          },
          "showarrow": false,
          "text": "-0.02",
          "x": "know",
          "xref": "x",
          "y": "need",
          "yref": "y"
         },
         {
          "font": {
           "color": "#FFFFFF",
           "size": 12
          },
          "showarrow": false,
          "text": "-0.04",
          "x": "like",
          "xref": "x",
          "y": "need",
          "yref": "y"
         },
         {
          "font": {
           "color": "#FFFFFF",
           "size": 12
          },
          "showarrow": false,
          "text": "-0.01",
          "x": "ll",
          "xref": "x",
          "y": "need",
          "yref": "y"
         },
         {
          "font": {
           "color": "#FFFFFF",
           "size": 12
          },
          "showarrow": false,
          "text": "-0.08",
          "x": "did",
          "xref": "x",
          "y": "ll",
          "yref": "y"
         },
         {
          "font": {
           "color": "#FFFFFF",
           "size": 12
          },
          "showarrow": false,
          "text": "-0.0",
          "x": "don",
          "xref": "x",
          "y": "ll",
          "yref": "y"
         },
         {
          "font": {
           "color": "#FFFFFF",
           "size": 12
          },
          "showarrow": false,
          "text": "-0.03",
          "x": "good",
          "xref": "x",
          "y": "ll",
          "yref": "y"
         },
         {
          "font": {
           "color": "#FFFFFF",
           "size": 12
          },
          "showarrow": false,
          "text": "-0.04",
          "x": "just",
          "xref": "x",
          "y": "ll",
          "yref": "y"
         },
         {
          "font": {
           "color": "#FFFFFF",
           "size": 12
          },
          "showarrow": false,
          "text": "-0.01",
          "x": "know",
          "xref": "x",
          "y": "ll",
          "yref": "y"
         },
         {
          "font": {
           "color": "#FFFFFF",
           "size": 12
          },
          "showarrow": false,
          "text": "-0.06",
          "x": "like",
          "xref": "x",
          "y": "ll",
          "yref": "y"
         },
         {
          "font": {
           "color": "#FFFFFF",
           "size": 12
          },
          "showarrow": false,
          "text": "-0.03",
          "x": "did",
          "xref": "x",
          "y": "like",
          "yref": "y"
         },
         {
          "font": {
           "color": "#000000",
           "size": 12
          },
          "showarrow": false,
          "text": "0.06",
          "x": "don",
          "xref": "x",
          "y": "like",
          "yref": "y"
         },
         {
          "font": {
           "color": "#000000",
           "size": 12
          },
          "showarrow": false,
          "text": "0.01",
          "x": "good",
          "xref": "x",
          "y": "like",
          "yref": "y"
         },
         {
          "font": {
           "color": "#000000",
           "size": 12
          },
          "showarrow": false,
          "text": "0.02",
          "x": "just",
          "xref": "x",
          "y": "like",
          "yref": "y"
         },
         {
          "font": {
           "color": "#000000",
           "size": 12
          },
          "showarrow": false,
          "text": "0.02",
          "x": "know",
          "xref": "x",
          "y": "like",
          "yref": "y"
         },
         {
          "font": {
           "color": "#FFFFFF",
           "size": 12
          },
          "showarrow": false,
          "text": "-0.02",
          "x": "did",
          "xref": "x",
          "y": "know",
          "yref": "y"
         },
         {
          "font": {
           "color": "#000000",
           "size": 12
          },
          "showarrow": false,
          "text": "0.12",
          "x": "don",
          "xref": "x",
          "y": "know",
          "yref": "y"
         },
         {
          "font": {
           "color": "#FFFFFF",
           "size": 12
          },
          "showarrow": false,
          "text": "-0.02",
          "x": "good",
          "xref": "x",
          "y": "know",
          "yref": "y"
         },
         {
          "font": {
           "color": "#000000",
           "size": 12
          },
          "showarrow": false,
          "text": "0.02",
          "x": "just",
          "xref": "x",
          "y": "know",
          "yref": "y"
         },
         {
          "font": {
           "color": "#FFFFFF",
           "size": 12
          },
          "showarrow": false,
          "text": "-0.02",
          "x": "did",
          "xref": "x",
          "y": "just",
          "yref": "y"
         },
         {
          "font": {
           "color": "#000000",
           "size": 12
          },
          "showarrow": false,
          "text": "0.02",
          "x": "don",
          "xref": "x",
          "y": "just",
          "yref": "y"
         },
         {
          "font": {
           "color": "#FFFFFF",
           "size": 12
          },
          "showarrow": false,
          "text": "-0.03",
          "x": "good",
          "xref": "x",
          "y": "just",
          "yref": "y"
         },
         {
          "font": {
           "color": "#FFFFFF",
           "size": 12
          },
          "showarrow": false,
          "text": "-0.03",
          "x": "did",
          "xref": "x",
          "y": "good",
          "yref": "y"
         },
         {
          "font": {
           "color": "#FFFFFF",
           "size": 12
          },
          "showarrow": false,
          "text": "-0.05",
          "x": "don",
          "xref": "x",
          "y": "good",
          "yref": "y"
         },
         {
          "font": {
           "color": "#FFFFFF",
           "size": 12
          },
          "showarrow": false,
          "text": "-0.04",
          "x": "did",
          "xref": "x",
          "y": "don",
          "yref": "y"
         }
        ],
        "height": 800,
        "margin": {
         "l": 110,
         "t": 210
        },
        "template": {
         "data": {
          "bar": [
           {
            "error_x": {
             "color": "#f2f5fa"
            },
            "error_y": {
             "color": "#f2f5fa"
            },
            "marker": {
             "line": {
              "color": "rgb(17,17,17)",
              "width": 0.5
             },
             "pattern": {
              "fillmode": "overlay",
              "size": 10,
              "solidity": 0.2
             }
            },
            "type": "bar"
           }
          ],
          "barpolar": [
           {
            "marker": {
             "line": {
              "color": "rgb(17,17,17)",
              "width": 0.5
             },
             "pattern": {
              "fillmode": "overlay",
              "size": 10,
              "solidity": 0.2
             }
            },
            "type": "barpolar"
           }
          ],
          "carpet": [
           {
            "aaxis": {
             "endlinecolor": "#A2B1C6",
             "gridcolor": "#506784",
             "linecolor": "#506784",
             "minorgridcolor": "#506784",
             "startlinecolor": "#A2B1C6"
            },
            "baxis": {
             "endlinecolor": "#A2B1C6",
             "gridcolor": "#506784",
             "linecolor": "#506784",
             "minorgridcolor": "#506784",
             "startlinecolor": "#A2B1C6"
            },
            "type": "carpet"
           }
          ],
          "choropleth": [
           {
            "colorbar": {
             "outlinewidth": 0,
             "ticks": ""
            },
            "type": "choropleth"
           }
          ],
          "contour": [
           {
            "colorbar": {
             "outlinewidth": 0,
             "ticks": ""
            },
            "colorscale": [
             [
              0,
              "#0d0887"
             ],
             [
              0.1111111111111111,
              "#46039f"
             ],
             [
              0.2222222222222222,
              "#7201a8"
             ],
             [
              0.3333333333333333,
              "#9c179e"
             ],
             [
              0.4444444444444444,
              "#bd3786"
             ],
             [
              0.5555555555555556,
              "#d8576b"
             ],
             [
              0.6666666666666666,
              "#ed7953"
             ],
             [
              0.7777777777777778,
              "#fb9f3a"
             ],
             [
              0.8888888888888888,
              "#fdca26"
             ],
             [
              1,
              "#f0f921"
             ]
            ],
            "type": "contour"
           }
          ],
          "contourcarpet": [
           {
            "colorbar": {
             "outlinewidth": 0,
             "ticks": ""
            },
            "type": "contourcarpet"
           }
          ],
          "heatmap": [
           {
            "colorbar": {
             "outlinewidth": 0,
             "ticks": ""
            },
            "colorscale": [
             [
              0,
              "#0d0887"
             ],
             [
              0.1111111111111111,
              "#46039f"
             ],
             [
              0.2222222222222222,
              "#7201a8"
             ],
             [
              0.3333333333333333,
              "#9c179e"
             ],
             [
              0.4444444444444444,
              "#bd3786"
             ],
             [
              0.5555555555555556,
              "#d8576b"
             ],
             [
              0.6666666666666666,
              "#ed7953"
             ],
             [
              0.7777777777777778,
              "#fb9f3a"
             ],
             [
              0.8888888888888888,
              "#fdca26"
             ],
             [
              1,
              "#f0f921"
             ]
            ],
            "type": "heatmap"
           }
          ],
          "histogram": [
           {
            "marker": {
             "pattern": {
              "fillmode": "overlay",
              "size": 10,
              "solidity": 0.2
             }
            },
            "type": "histogram"
           }
          ],
          "histogram2d": [
           {
            "colorbar": {
             "outlinewidth": 0,
             "ticks": ""
            },
            "colorscale": [
             [
              0,
              "#0d0887"
             ],
             [
              0.1111111111111111,
              "#46039f"
             ],
             [
              0.2222222222222222,
              "#7201a8"
             ],
             [
              0.3333333333333333,
              "#9c179e"
             ],
             [
              0.4444444444444444,
              "#bd3786"
             ],
             [
              0.5555555555555556,
              "#d8576b"
             ],
             [
              0.6666666666666666,
              "#ed7953"
             ],
             [
              0.7777777777777778,
              "#fb9f3a"
             ],
             [
              0.8888888888888888,
              "#fdca26"
             ],
             [
              1,
              "#f0f921"
             ]
            ],
            "type": "histogram2d"
           }
          ],
          "histogram2dcontour": [
           {
            "colorbar": {
             "outlinewidth": 0,
             "ticks": ""
            },
            "colorscale": [
             [
              0,
              "#0d0887"
             ],
             [
              0.1111111111111111,
              "#46039f"
             ],
             [
              0.2222222222222222,
              "#7201a8"
             ],
             [
              0.3333333333333333,
              "#9c179e"
             ],
             [
              0.4444444444444444,
              "#bd3786"
             ],
             [
              0.5555555555555556,
              "#d8576b"
             ],
             [
              0.6666666666666666,
              "#ed7953"
             ],
             [
              0.7777777777777778,
              "#fb9f3a"
             ],
             [
              0.8888888888888888,
              "#fdca26"
             ],
             [
              1,
              "#f0f921"
             ]
            ],
            "type": "histogram2dcontour"
           }
          ],
          "mesh3d": [
           {
            "colorbar": {
             "outlinewidth": 0,
             "ticks": ""
            },
            "type": "mesh3d"
           }
          ],
          "parcoords": [
           {
            "line": {
             "colorbar": {
              "outlinewidth": 0,
              "ticks": ""
             }
            },
            "type": "parcoords"
           }
          ],
          "pie": [
           {
            "automargin": true,
            "type": "pie"
           }
          ],
          "scatter": [
           {
            "marker": {
             "line": {
              "color": "#283442"
             }
            },
            "type": "scatter"
           }
          ],
          "scatter3d": [
           {
            "line": {
             "colorbar": {
              "outlinewidth": 0,
              "ticks": ""
             }
            },
            "marker": {
             "colorbar": {
              "outlinewidth": 0,
              "ticks": ""
             }
            },
            "type": "scatter3d"
           }
          ],
          "scattercarpet": [
           {
            "marker": {
             "colorbar": {
              "outlinewidth": 0,
              "ticks": ""
             }
            },
            "type": "scattercarpet"
           }
          ],
          "scattergeo": [
           {
            "marker": {
             "colorbar": {
              "outlinewidth": 0,
              "ticks": ""
             }
            },
            "type": "scattergeo"
           }
          ],
          "scattergl": [
           {
            "marker": {
             "line": {
              "color": "#283442"
             }
            },
            "type": "scattergl"
           }
          ],
          "scattermap": [
           {
            "marker": {
             "colorbar": {
              "outlinewidth": 0,
              "ticks": ""
             }
            },
            "type": "scattermap"
           }
          ],
          "scattermapbox": [
           {
            "marker": {
             "colorbar": {
              "outlinewidth": 0,
              "ticks": ""
             }
            },
            "type": "scattermapbox"
           }
          ],
          "scatterpolar": [
           {
            "marker": {
             "colorbar": {
              "outlinewidth": 0,
              "ticks": ""
             }
            },
            "type": "scatterpolar"
           }
          ],
          "scatterpolargl": [
           {
            "marker": {
             "colorbar": {
              "outlinewidth": 0,
              "ticks": ""
             }
            },
            "type": "scatterpolargl"
           }
          ],
          "scatterternary": [
           {
            "marker": {
             "colorbar": {
              "outlinewidth": 0,
              "ticks": ""
             }
            },
            "type": "scatterternary"
           }
          ],
          "surface": [
           {
            "colorbar": {
             "outlinewidth": 0,
             "ticks": ""
            },
            "colorscale": [
             [
              0,
              "#0d0887"
             ],
             [
              0.1111111111111111,
              "#46039f"
             ],
             [
              0.2222222222222222,
              "#7201a8"
             ],
             [
              0.3333333333333333,
              "#9c179e"
             ],
             [
              0.4444444444444444,
              "#bd3786"
             ],
             [
              0.5555555555555556,
              "#d8576b"
             ],
             [
              0.6666666666666666,
              "#ed7953"
             ],
             [
              0.7777777777777778,
              "#fb9f3a"
             ],
             [
              0.8888888888888888,
              "#fdca26"
             ],
             [
              1,
              "#f0f921"
             ]
            ],
            "type": "surface"
           }
          ],
          "table": [
           {
            "cells": {
             "fill": {
              "color": "#506784"
             },
             "line": {
              "color": "rgb(17,17,17)"
             }
            },
            "header": {
             "fill": {
              "color": "#2a3f5f"
             },
             "line": {
              "color": "rgb(17,17,17)"
             }
            },
            "type": "table"
           }
          ]
         },
         "layout": {
          "annotationdefaults": {
           "arrowcolor": "#f2f5fa",
           "arrowhead": 0,
           "arrowwidth": 1
          },
          "autotypenumbers": "strict",
          "coloraxis": {
           "colorbar": {
            "outlinewidth": 0,
            "ticks": ""
           }
          },
          "colorscale": {
           "diverging": [
            [
             0,
             "#8e0152"
            ],
            [
             0.1,
             "#c51b7d"
            ],
            [
             0.2,
             "#de77ae"
            ],
            [
             0.3,
             "#f1b6da"
            ],
            [
             0.4,
             "#fde0ef"
            ],
            [
             0.5,
             "#f7f7f7"
            ],
            [
             0.6,
             "#e6f5d0"
            ],
            [
             0.7,
             "#b8e186"
            ],
            [
             0.8,
             "#7fbc41"
            ],
            [
             0.9,
             "#4d9221"
            ],
            [
             1,
             "#276419"
            ]
           ],
           "sequential": [
            [
             0,
             "#0d0887"
            ],
            [
             0.1111111111111111,
             "#46039f"
            ],
            [
             0.2222222222222222,
             "#7201a8"
            ],
            [
             0.3333333333333333,
             "#9c179e"
            ],
            [
             0.4444444444444444,
             "#bd3786"
            ],
            [
             0.5555555555555556,
             "#d8576b"
            ],
            [
             0.6666666666666666,
             "#ed7953"
            ],
            [
             0.7777777777777778,
             "#fb9f3a"
            ],
            [
             0.8888888888888888,
             "#fdca26"
            ],
            [
             1,
             "#f0f921"
            ]
           ],
           "sequentialminus": [
            [
             0,
             "#0d0887"
            ],
            [
             0.1111111111111111,
             "#46039f"
            ],
            [
             0.2222222222222222,
             "#7201a8"
            ],
            [
             0.3333333333333333,
             "#9c179e"
            ],
            [
             0.4444444444444444,
             "#bd3786"
            ],
            [
             0.5555555555555556,
             "#d8576b"
            ],
            [
             0.6666666666666666,
             "#ed7953"
            ],
            [
             0.7777777777777778,
             "#fb9f3a"
            ],
            [
             0.8888888888888888,
             "#fdca26"
            ],
            [
             1,
             "#f0f921"
            ]
           ]
          },
          "colorway": [
           "#636efa",
           "#EF553B",
           "#00cc96",
           "#ab63fa",
           "#FFA15A",
           "#19d3f3",
           "#FF6692",
           "#B6E880",
           "#FF97FF",
           "#FECB52"
          ],
          "font": {
           "color": "#f2f5fa"
          },
          "geo": {
           "bgcolor": "rgb(17,17,17)",
           "lakecolor": "rgb(17,17,17)",
           "landcolor": "rgb(17,17,17)",
           "showlakes": true,
           "showland": true,
           "subunitcolor": "#506784"
          },
          "hoverlabel": {
           "align": "left"
          },
          "hovermode": "closest",
          "mapbox": {
           "style": "dark"
          },
          "paper_bgcolor": "rgb(17,17,17)",
          "plot_bgcolor": "rgb(17,17,17)",
          "polar": {
           "angularaxis": {
            "gridcolor": "#506784",
            "linecolor": "#506784",
            "ticks": ""
           },
           "bgcolor": "rgb(17,17,17)",
           "radialaxis": {
            "gridcolor": "#506784",
            "linecolor": "#506784",
            "ticks": ""
           }
          },
          "scene": {
           "xaxis": {
            "backgroundcolor": "rgb(17,17,17)",
            "gridcolor": "#506784",
            "gridwidth": 2,
            "linecolor": "#506784",
            "showbackground": true,
            "ticks": "",
            "zerolinecolor": "#C8D4E3"
           },
           "yaxis": {
            "backgroundcolor": "rgb(17,17,17)",
            "gridcolor": "#506784",
            "gridwidth": 2,
            "linecolor": "#506784",
            "showbackground": true,
            "ticks": "",
            "zerolinecolor": "#C8D4E3"
           },
           "zaxis": {
            "backgroundcolor": "rgb(17,17,17)",
            "gridcolor": "#506784",
            "gridwidth": 2,
            "linecolor": "#506784",
            "showbackground": true,
            "ticks": "",
            "zerolinecolor": "#C8D4E3"
           }
          },
          "shapedefaults": {
           "line": {
            "color": "#f2f5fa"
           }
          },
          "sliderdefaults": {
           "bgcolor": "#C8D4E3",
           "bordercolor": "rgb(17,17,17)",
           "borderwidth": 1,
           "tickwidth": 0
          },
          "ternary": {
           "aaxis": {
            "gridcolor": "#506784",
            "linecolor": "#506784",
            "ticks": ""
           },
           "baxis": {
            "gridcolor": "#506784",
            "linecolor": "#506784",
            "ticks": ""
           },
           "bgcolor": "rgb(17,17,17)",
           "caxis": {
            "gridcolor": "#506784",
            "linecolor": "#506784",
            "ticks": ""
           }
          },
          "title": {
           "x": 0.05
          },
          "updatemenudefaults": {
           "bgcolor": "#506784",
           "borderwidth": 0
          },
          "xaxis": {
           "automargin": true,
           "gridcolor": "#283442",
           "linecolor": "#506784",
           "ticks": "",
           "title": {
            "standoff": 15
           },
           "zerolinecolor": "#283442",
           "zerolinewidth": 2
          },
          "yaxis": {
           "automargin": true,
           "gridcolor": "#283442",
           "linecolor": "#506784",
           "ticks": "",
           "title": {
            "standoff": 15
           },
           "zerolinecolor": "#283442",
           "zerolinewidth": 2
          }
         }
        },
        "title": {
         "text": "<b>Unigrams Heatmap<br><sup>&nbsp;&nbsp;&nbsp;&nbsp;<i>Train - Dialogue</i></sup></b>",
         "x": 0.025,
         "xanchor": "left",
         "y": 0.95
        },
        "width": 800,
        "xaxis": {
         "dtick": 1,
         "gridcolor": "rgb(0, 0, 0)",
         "showgrid": false,
         "side": "top",
         "ticks": ""
        },
        "yaxis": {
         "autorange": "reversed",
         "dtick": 1,
         "showgrid": false,
         "ticks": "",
         "ticksuffix": "  "
        }
       }
      }
     },
     "metadata": {},
     "output_type": "display_data"
    }
   ],
   "source": [
    "vectorizer = TfidfVectorizer(max_features = 15,stop_words = 'english') # Top 15 terms\n",
    "x = vectorizer.fit_transform(train['dialogue'])\n",
    "df_tfidfvect = pd.DataFrame(x.toarray(), columns=vectorizer.get_feature_names_out())\n",
    "plot_correlation(df_tfidfvect, 'Unigrams', 'Train - Dialogue', 800, 800, 12)"
   ]
  },
  {
   "cell_type": "code",
   "execution_count": 45,
   "metadata": {},
   "outputs": [
    {
     "data": {
      "application/vnd.plotly.v1+json": {
       "config": {
        "plotlyServerURL": "https://plot.ly"
       },
       "data": [
        {
         "colorscale": [
          [
           0,
           "#00224e"
          ],
          [
           0.1111111111111111,
           "#123570"
          ],
          [
           0.2222222222222222,
           "#3b496c"
          ],
          [
           0.3333333333333333,
           "#575d6d"
          ],
          [
           0.4444444444444444,
           "#707173"
          ],
          [
           0.5555555555555556,
           "#8a8678"
          ],
          [
           0.6666666666666666,
           "#a59c74"
          ],
          [
           0.7777777777777778,
           "#c3b369"
          ],
          [
           0.8888888888888888,
           "#e1cc55"
          ],
          [
           1,
           "#fee838"
          ]
         ],
         "reversescale": false,
         "showscale": false,
         "type": "heatmap",
         "x": [
          "buy",
          "come",
          "doesn",
          "going",
          "got",
          "home",
          "meet",
          "needs",
          "new",
          "party",
          "today",
          "tom",
          "tomorrow",
          "wants"
         ],
         "y": [
          "work",
          "wants",
          "tomorrow",
          "tom",
          "today",
          "party",
          "new",
          "needs",
          "meet",
          "home",
          "got",
          "going",
          "doesn",
          "come"
         ],
         "z": [
          [
           -0.03,
           -0.01,
           0,
           -0.02,
           -0.02,
           0.01,
           0,
           0.01,
           -0.01,
           -0.02,
           0.01,
           -0.01,
           -0.01,
           -0.03
          ],
          [
           0.02,
           -0.01,
           0,
           -0.05,
           -0.03,
           -0.02,
           -0.02,
           -0.01,
           -0.02,
           -0.03,
           -0.04,
           -0.03,
           -0.04
          ],
          [
           -0.03,
           0.02,
           -0.04,
           0,
           -0.03,
           -0.02,
           0.01,
           -0.01,
           -0.04,
           -0.02,
           -0.02,
           -0.02
          ],
          [
           -0.01,
           -0.01,
           -0.02,
           -0.02,
           -0.02,
           -0.02,
           -0.01,
           -0.02,
           -0.01,
           -0.01,
           -0.02
          ],
          [
           -0.02,
           0.01,
           -0.02,
           -0.02,
           -0.02,
           -0.02,
           -0.01,
           0,
           -0.03,
           -0.02
          ],
          [
           -0.02,
           0.02,
           -0.02,
           0.01,
           -0.01,
           -0.01,
           -0.02,
           -0.03,
           -0.01
          ],
          [
           0,
           -0.02,
           -0.02,
           -0.03,
           0.01,
           -0.03,
           -0.04,
           -0.01
          ],
          [
           0,
           -0.01,
           -0.01,
           -0.04,
           -0.02,
           0,
           -0.04
          ],
          [
           -0.04,
           -0.02,
           -0.03,
           0.02,
           -0.03,
           -0.03
          ],
          [
           0,
           0,
           -0.02,
           -0.02,
           0
          ],
          [
           -0.02,
           -0.03,
           -0.03,
           -0.05
          ],
          [
           -0.01,
           -0.04,
           -0.04
          ],
          [
           -0.02,
           -0.02
          ],
          [
           -0.02
          ]
         ]
        },
        {
         "colorscale": [
          [
           0,
           "#00224e"
          ],
          [
           0.1111111111111111,
           "#123570"
          ],
          [
           0.2222222222222222,
           "#3b496c"
          ],
          [
           0.3333333333333333,
           "#575d6d"
          ],
          [
           0.4444444444444444,
           "#707173"
          ],
          [
           0.5555555555555556,
           "#8a8678"
          ],
          [
           0.6666666666666666,
           "#a59c74"
          ],
          [
           0.7777777777777778,
           "#c3b369"
          ],
          [
           0.8888888888888888,
           "#e1cc55"
          ],
          [
           1,
           "#fee838"
          ]
         ],
         "showscale": true,
         "type": "heatmap",
         "visible": true,
         "z": [
          [
           -0.03,
           -0.01,
           0,
           -0.02,
           -0.02,
           0.01,
           0,
           0.01,
           -0.01,
           -0.02,
           0.01,
           -0.01,
           -0.01,
           -0.03
          ],
          [
           0.02,
           -0.01,
           0,
           -0.05,
           -0.03,
           -0.02,
           -0.02,
           -0.01,
           -0.02,
           -0.03,
           -0.04,
           -0.03,
           -0.04
          ],
          [
           -0.03,
           0.02,
           -0.04,
           0,
           -0.03,
           -0.02,
           0.01,
           -0.01,
           -0.04,
           -0.02,
           -0.02,
           -0.02
          ],
          [
           -0.01,
           -0.01,
           -0.02,
           -0.02,
           -0.02,
           -0.02,
           -0.01,
           -0.02,
           -0.01,
           -0.01,
           -0.02
          ],
          [
           -0.02,
           0.01,
           -0.02,
           -0.02,
           -0.02,
           -0.02,
           -0.01,
           0,
           -0.03,
           -0.02
          ],
          [
           -0.02,
           0.02,
           -0.02,
           0.01,
           -0.01,
           -0.01,
           -0.02,
           -0.03,
           -0.01
          ],
          [
           0,
           -0.02,
           -0.02,
           -0.03,
           0.01,
           -0.03,
           -0.04,
           -0.01
          ],
          [
           0,
           -0.01,
           -0.01,
           -0.04,
           -0.02,
           0,
           -0.04
          ],
          [
           -0.04,
           -0.02,
           -0.03,
           0.02,
           -0.03,
           -0.03
          ],
          [
           0,
           0,
           -0.02,
           -0.02,
           0
          ],
          [
           -0.02,
           -0.03,
           -0.03,
           -0.05
          ],
          [
           -0.01,
           -0.04,
           -0.04
          ],
          [
           -0.02,
           -0.02
          ],
          [
           -0.02
          ]
         ]
        }
       ],
       "layout": {
        "annotations": [
         {
          "font": {
           "color": "#FFFFFF",
           "size": 12
          },
          "showarrow": false,
          "text": "-0.03",
          "x": "buy",
          "xref": "x",
          "y": "work",
          "yref": "y"
         },
         {
          "font": {
           "color": "#000000",
           "size": 12
          },
          "showarrow": false,
          "text": "-0.01",
          "x": "come",
          "xref": "x",
          "y": "work",
          "yref": "y"
         },
         {
          "font": {
           "color": "#000000",
           "size": 12
          },
          "showarrow": false,
          "text": "0.0",
          "x": "doesn",
          "xref": "x",
          "y": "work",
          "yref": "y"
         },
         {
          "font": {
           "color": "#FFFFFF",
           "size": 12
          },
          "showarrow": false,
          "text": "-0.02",
          "x": "going",
          "xref": "x",
          "y": "work",
          "yref": "y"
         },
         {
          "font": {
           "color": "#FFFFFF",
           "size": 12
          },
          "showarrow": false,
          "text": "-0.02",
          "x": "got",
          "xref": "x",
          "y": "work",
          "yref": "y"
         },
         {
          "font": {
           "color": "#000000",
           "size": 12
          },
          "showarrow": false,
          "text": "0.01",
          "x": "home",
          "xref": "x",
          "y": "work",
          "yref": "y"
         },
         {
          "font": {
           "color": "#000000",
           "size": 12
          },
          "showarrow": false,
          "text": "0.0",
          "x": "meet",
          "xref": "x",
          "y": "work",
          "yref": "y"
         },
         {
          "font": {
           "color": "#000000",
           "size": 12
          },
          "showarrow": false,
          "text": "0.01",
          "x": "needs",
          "xref": "x",
          "y": "work",
          "yref": "y"
         },
         {
          "font": {
           "color": "#000000",
           "size": 12
          },
          "showarrow": false,
          "text": "-0.01",
          "x": "new",
          "xref": "x",
          "y": "work",
          "yref": "y"
         },
         {
          "font": {
           "color": "#FFFFFF",
           "size": 12
          },
          "showarrow": false,
          "text": "-0.02",
          "x": "party",
          "xref": "x",
          "y": "work",
          "yref": "y"
         },
         {
          "font": {
           "color": "#000000",
           "size": 12
          },
          "showarrow": false,
          "text": "0.01",
          "x": "today",
          "xref": "x",
          "y": "work",
          "yref": "y"
         },
         {
          "font": {
           "color": "#000000",
           "size": 12
          },
          "showarrow": false,
          "text": "-0.01",
          "x": "tom",
          "xref": "x",
          "y": "work",
          "yref": "y"
         },
         {
          "font": {
           "color": "#000000",
           "size": 12
          },
          "showarrow": false,
          "text": "-0.01",
          "x": "tomorrow",
          "xref": "x",
          "y": "work",
          "yref": "y"
         },
         {
          "font": {
           "color": "#FFFFFF",
           "size": 12
          },
          "showarrow": false,
          "text": "-0.03",
          "x": "wants",
          "xref": "x",
          "y": "work",
          "yref": "y"
         },
         {
          "font": {
           "color": "#000000",
           "size": 12
          },
          "showarrow": false,
          "text": "0.02",
          "x": "buy",
          "xref": "x",
          "y": "wants",
          "yref": "y"
         },
         {
          "font": {
           "color": "#000000",
           "size": 12
          },
          "showarrow": false,
          "text": "-0.01",
          "x": "come",
          "xref": "x",
          "y": "wants",
          "yref": "y"
         },
         {
          "font": {
           "color": "#000000",
           "size": 12
          },
          "showarrow": false,
          "text": "-0.0",
          "x": "doesn",
          "xref": "x",
          "y": "wants",
          "yref": "y"
         },
         {
          "font": {
           "color": "#FFFFFF",
           "size": 12
          },
          "showarrow": false,
          "text": "-0.05",
          "x": "going",
          "xref": "x",
          "y": "wants",
          "yref": "y"
         },
         {
          "font": {
           "color": "#FFFFFF",
           "size": 12
          },
          "showarrow": false,
          "text": "-0.03",
          "x": "got",
          "xref": "x",
          "y": "wants",
          "yref": "y"
         },
         {
          "font": {
           "color": "#FFFFFF",
           "size": 12
          },
          "showarrow": false,
          "text": "-0.02",
          "x": "home",
          "xref": "x",
          "y": "wants",
          "yref": "y"
         },
         {
          "font": {
           "color": "#FFFFFF",
           "size": 12
          },
          "showarrow": false,
          "text": "-0.02",
          "x": "meet",
          "xref": "x",
          "y": "wants",
          "yref": "y"
         },
         {
          "font": {
           "color": "#000000",
           "size": 12
          },
          "showarrow": false,
          "text": "-0.01",
          "x": "needs",
          "xref": "x",
          "y": "wants",
          "yref": "y"
         },
         {
          "font": {
           "color": "#FFFFFF",
           "size": 12
          },
          "showarrow": false,
          "text": "-0.02",
          "x": "new",
          "xref": "x",
          "y": "wants",
          "yref": "y"
         },
         {
          "font": {
           "color": "#FFFFFF",
           "size": 12
          },
          "showarrow": false,
          "text": "-0.03",
          "x": "party",
          "xref": "x",
          "y": "wants",
          "yref": "y"
         },
         {
          "font": {
           "color": "#FFFFFF",
           "size": 12
          },
          "showarrow": false,
          "text": "-0.04",
          "x": "today",
          "xref": "x",
          "y": "wants",
          "yref": "y"
         },
         {
          "font": {
           "color": "#FFFFFF",
           "size": 12
          },
          "showarrow": false,
          "text": "-0.03",
          "x": "tom",
          "xref": "x",
          "y": "wants",
          "yref": "y"
         },
         {
          "font": {
           "color": "#FFFFFF",
           "size": 12
          },
          "showarrow": false,
          "text": "-0.04",
          "x": "tomorrow",
          "xref": "x",
          "y": "wants",
          "yref": "y"
         },
         {
          "font": {
           "color": "#FFFFFF",
           "size": 12
          },
          "showarrow": false,
          "text": "-0.03",
          "x": "buy",
          "xref": "x",
          "y": "tomorrow",
          "yref": "y"
         },
         {
          "font": {
           "color": "#000000",
           "size": 12
          },
          "showarrow": false,
          "text": "0.02",
          "x": "come",
          "xref": "x",
          "y": "tomorrow",
          "yref": "y"
         },
         {
          "font": {
           "color": "#FFFFFF",
           "size": 12
          },
          "showarrow": false,
          "text": "-0.04",
          "x": "doesn",
          "xref": "x",
          "y": "tomorrow",
          "yref": "y"
         },
         {
          "font": {
           "color": "#000000",
           "size": 12
          },
          "showarrow": false,
          "text": "-0.0",
          "x": "going",
          "xref": "x",
          "y": "tomorrow",
          "yref": "y"
         },
         {
          "font": {
           "color": "#FFFFFF",
           "size": 12
          },
          "showarrow": false,
          "text": "-0.03",
          "x": "got",
          "xref": "x",
          "y": "tomorrow",
          "yref": "y"
         },
         {
          "font": {
           "color": "#FFFFFF",
           "size": 12
          },
          "showarrow": false,
          "text": "-0.02",
          "x": "home",
          "xref": "x",
          "y": "tomorrow",
          "yref": "y"
         },
         {
          "font": {
           "color": "#000000",
           "size": 12
          },
          "showarrow": false,
          "text": "0.01",
          "x": "meet",
          "xref": "x",
          "y": "tomorrow",
          "yref": "y"
         },
         {
          "font": {
           "color": "#000000",
           "size": 12
          },
          "showarrow": false,
          "text": "-0.01",
          "x": "needs",
          "xref": "x",
          "y": "tomorrow",
          "yref": "y"
         },
         {
          "font": {
           "color": "#FFFFFF",
           "size": 12
          },
          "showarrow": false,
          "text": "-0.04",
          "x": "new",
          "xref": "x",
          "y": "tomorrow",
          "yref": "y"
         },
         {
          "font": {
           "color": "#FFFFFF",
           "size": 12
          },
          "showarrow": false,
          "text": "-0.02",
          "x": "party",
          "xref": "x",
          "y": "tomorrow",
          "yref": "y"
         },
         {
          "font": {
           "color": "#FFFFFF",
           "size": 12
          },
          "showarrow": false,
          "text": "-0.02",
          "x": "today",
          "xref": "x",
          "y": "tomorrow",
          "yref": "y"
         },
         {
          "font": {
           "color": "#FFFFFF",
           "size": 12
          },
          "showarrow": false,
          "text": "-0.02",
          "x": "tom",
          "xref": "x",
          "y": "tomorrow",
          "yref": "y"
         },
         {
          "font": {
           "color": "#000000",
           "size": 12
          },
          "showarrow": false,
          "text": "-0.01",
          "x": "buy",
          "xref": "x",
          "y": "tom",
          "yref": "y"
         },
         {
          "font": {
           "color": "#000000",
           "size": 12
          },
          "showarrow": false,
          "text": "-0.01",
          "x": "come",
          "xref": "x",
          "y": "tom",
          "yref": "y"
         },
         {
          "font": {
           "color": "#FFFFFF",
           "size": 12
          },
          "showarrow": false,
          "text": "-0.02",
          "x": "doesn",
          "xref": "x",
          "y": "tom",
          "yref": "y"
         },
         {
          "font": {
           "color": "#FFFFFF",
           "size": 12
          },
          "showarrow": false,
          "text": "-0.02",
          "x": "going",
          "xref": "x",
          "y": "tom",
          "yref": "y"
         },
         {
          "font": {
           "color": "#FFFFFF",
           "size": 12
          },
          "showarrow": false,
          "text": "-0.02",
          "x": "got",
          "xref": "x",
          "y": "tom",
          "yref": "y"
         },
         {
          "font": {
           "color": "#FFFFFF",
           "size": 12
          },
          "showarrow": false,
          "text": "-0.02",
          "x": "home",
          "xref": "x",
          "y": "tom",
          "yref": "y"
         },
         {
          "font": {
           "color": "#000000",
           "size": 12
          },
          "showarrow": false,
          "text": "-0.01",
          "x": "meet",
          "xref": "x",
          "y": "tom",
          "yref": "y"
         },
         {
          "font": {
           "color": "#FFFFFF",
           "size": 12
          },
          "showarrow": false,
          "text": "-0.02",
          "x": "needs",
          "xref": "x",
          "y": "tom",
          "yref": "y"
         },
         {
          "font": {
           "color": "#000000",
           "size": 12
          },
          "showarrow": false,
          "text": "-0.01",
          "x": "new",
          "xref": "x",
          "y": "tom",
          "yref": "y"
         },
         {
          "font": {
           "color": "#000000",
           "size": 12
          },
          "showarrow": false,
          "text": "-0.01",
          "x": "party",
          "xref": "x",
          "y": "tom",
          "yref": "y"
         },
         {
          "font": {
           "color": "#FFFFFF",
           "size": 12
          },
          "showarrow": false,
          "text": "-0.02",
          "x": "today",
          "xref": "x",
          "y": "tom",
          "yref": "y"
         },
         {
          "font": {
           "color": "#FFFFFF",
           "size": 12
          },
          "showarrow": false,
          "text": "-0.02",
          "x": "buy",
          "xref": "x",
          "y": "today",
          "yref": "y"
         },
         {
          "font": {
           "color": "#000000",
           "size": 12
          },
          "showarrow": false,
          "text": "0.01",
          "x": "come",
          "xref": "x",
          "y": "today",
          "yref": "y"
         },
         {
          "font": {
           "color": "#FFFFFF",
           "size": 12
          },
          "showarrow": false,
          "text": "-0.02",
          "x": "doesn",
          "xref": "x",
          "y": "today",
          "yref": "y"
         },
         {
          "font": {
           "color": "#FFFFFF",
           "size": 12
          },
          "showarrow": false,
          "text": "-0.02",
          "x": "going",
          "xref": "x",
          "y": "today",
          "yref": "y"
         },
         {
          "font": {
           "color": "#FFFFFF",
           "size": 12
          },
          "showarrow": false,
          "text": "-0.02",
          "x": "got",
          "xref": "x",
          "y": "today",
          "yref": "y"
         },
         {
          "font": {
           "color": "#FFFFFF",
           "size": 12
          },
          "showarrow": false,
          "text": "-0.02",
          "x": "home",
          "xref": "x",
          "y": "today",
          "yref": "y"
         },
         {
          "font": {
           "color": "#000000",
           "size": 12
          },
          "showarrow": false,
          "text": "-0.01",
          "x": "meet",
          "xref": "x",
          "y": "today",
          "yref": "y"
         },
         {
          "font": {
           "color": "#000000",
           "size": 12
          },
          "showarrow": false,
          "text": "-0.0",
          "x": "needs",
          "xref": "x",
          "y": "today",
          "yref": "y"
         },
         {
          "font": {
           "color": "#FFFFFF",
           "size": 12
          },
          "showarrow": false,
          "text": "-0.03",
          "x": "new",
          "xref": "x",
          "y": "today",
          "yref": "y"
         },
         {
          "font": {
           "color": "#FFFFFF",
           "size": 12
          },
          "showarrow": false,
          "text": "-0.02",
          "x": "party",
          "xref": "x",
          "y": "today",
          "yref": "y"
         },
         {
          "font": {
           "color": "#FFFFFF",
           "size": 12
          },
          "showarrow": false,
          "text": "-0.02",
          "x": "buy",
          "xref": "x",
          "y": "party",
          "yref": "y"
         },
         {
          "font": {
           "color": "#000000",
           "size": 12
          },
          "showarrow": false,
          "text": "0.02",
          "x": "come",
          "xref": "x",
          "y": "party",
          "yref": "y"
         },
         {
          "font": {
           "color": "#FFFFFF",
           "size": 12
          },
          "showarrow": false,
          "text": "-0.02",
          "x": "doesn",
          "xref": "x",
          "y": "party",
          "yref": "y"
         },
         {
          "font": {
           "color": "#000000",
           "size": 12
          },
          "showarrow": false,
          "text": "0.01",
          "x": "going",
          "xref": "x",
          "y": "party",
          "yref": "y"
         },
         {
          "font": {
           "color": "#000000",
           "size": 12
          },
          "showarrow": false,
          "text": "-0.01",
          "x": "got",
          "xref": "x",
          "y": "party",
          "yref": "y"
         },
         {
          "font": {
           "color": "#000000",
           "size": 12
          },
          "showarrow": false,
          "text": "-0.01",
          "x": "home",
          "xref": "x",
          "y": "party",
          "yref": "y"
         },
         {
          "font": {
           "color": "#FFFFFF",
           "size": 12
          },
          "showarrow": false,
          "text": "-0.02",
          "x": "meet",
          "xref": "x",
          "y": "party",
          "yref": "y"
         },
         {
          "font": {
           "color": "#FFFFFF",
           "size": 12
          },
          "showarrow": false,
          "text": "-0.03",
          "x": "needs",
          "xref": "x",
          "y": "party",
          "yref": "y"
         },
         {
          "font": {
           "color": "#000000",
           "size": 12
          },
          "showarrow": false,
          "text": "-0.01",
          "x": "new",
          "xref": "x",
          "y": "party",
          "yref": "y"
         },
         {
          "font": {
           "color": "#000000",
           "size": 12
          },
          "showarrow": false,
          "text": "-0.0",
          "x": "buy",
          "xref": "x",
          "y": "new",
          "yref": "y"
         },
         {
          "font": {
           "color": "#FFFFFF",
           "size": 12
          },
          "showarrow": false,
          "text": "-0.02",
          "x": "come",
          "xref": "x",
          "y": "new",
          "yref": "y"
         },
         {
          "font": {
           "color": "#FFFFFF",
           "size": 12
          },
          "showarrow": false,
          "text": "-0.02",
          "x": "doesn",
          "xref": "x",
          "y": "new",
          "yref": "y"
         },
         {
          "font": {
           "color": "#FFFFFF",
           "size": 12
          },
          "showarrow": false,
          "text": "-0.03",
          "x": "going",
          "xref": "x",
          "y": "new",
          "yref": "y"
         },
         {
          "font": {
           "color": "#000000",
           "size": 12
          },
          "showarrow": false,
          "text": "0.01",
          "x": "got",
          "xref": "x",
          "y": "new",
          "yref": "y"
         },
         {
          "font": {
           "color": "#FFFFFF",
           "size": 12
          },
          "showarrow": false,
          "text": "-0.03",
          "x": "home",
          "xref": "x",
          "y": "new",
          "yref": "y"
         },
         {
          "font": {
           "color": "#FFFFFF",
           "size": 12
          },
          "showarrow": false,
          "text": "-0.04",
          "x": "meet",
          "xref": "x",
          "y": "new",
          "yref": "y"
         },
         {
          "font": {
           "color": "#000000",
           "size": 12
          },
          "showarrow": false,
          "text": "-0.01",
          "x": "needs",
          "xref": "x",
          "y": "new",
          "yref": "y"
         },
         {
          "font": {
           "color": "#000000",
           "size": 12
          },
          "showarrow": false,
          "text": "0.0",
          "x": "buy",
          "xref": "x",
          "y": "needs",
          "yref": "y"
         },
         {
          "font": {
           "color": "#000000",
           "size": 12
          },
          "showarrow": false,
          "text": "-0.01",
          "x": "come",
          "xref": "x",
          "y": "needs",
          "yref": "y"
         },
         {
          "font": {
           "color": "#000000",
           "size": 12
          },
          "showarrow": false,
          "text": "-0.01",
          "x": "doesn",
          "xref": "x",
          "y": "needs",
          "yref": "y"
         },
         {
          "font": {
           "color": "#FFFFFF",
           "size": 12
          },
          "showarrow": false,
          "text": "-0.04",
          "x": "going",
          "xref": "x",
          "y": "needs",
          "yref": "y"
         },
         {
          "font": {
           "color": "#FFFFFF",
           "size": 12
          },
          "showarrow": false,
          "text": "-0.02",
          "x": "got",
          "xref": "x",
          "y": "needs",
          "yref": "y"
         },
         {
          "font": {
           "color": "#000000",
           "size": 12
          },
          "showarrow": false,
          "text": "-0.0",
          "x": "home",
          "xref": "x",
          "y": "needs",
          "yref": "y"
         },
         {
          "font": {
           "color": "#FFFFFF",
           "size": 12
          },
          "showarrow": false,
          "text": "-0.04",
          "x": "meet",
          "xref": "x",
          "y": "needs",
          "yref": "y"
         },
         {
          "font": {
           "color": "#FFFFFF",
           "size": 12
          },
          "showarrow": false,
          "text": "-0.04",
          "x": "buy",
          "xref": "x",
          "y": "meet",
          "yref": "y"
         },
         {
          "font": {
           "color": "#FFFFFF",
           "size": 12
          },
          "showarrow": false,
          "text": "-0.02",
          "x": "come",
          "xref": "x",
          "y": "meet",
          "yref": "y"
         },
         {
          "font": {
           "color": "#FFFFFF",
           "size": 12
          },
          "showarrow": false,
          "text": "-0.03",
          "x": "doesn",
          "xref": "x",
          "y": "meet",
          "yref": "y"
         },
         {
          "font": {
           "color": "#000000",
           "size": 12
          },
          "showarrow": false,
          "text": "0.02",
          "x": "going",
          "xref": "x",
          "y": "meet",
          "yref": "y"
         },
         {
          "font": {
           "color": "#FFFFFF",
           "size": 12
          },
          "showarrow": false,
          "text": "-0.03",
          "x": "got",
          "xref": "x",
          "y": "meet",
          "yref": "y"
         },
         {
          "font": {
           "color": "#FFFFFF",
           "size": 12
          },
          "showarrow": false,
          "text": "-0.03",
          "x": "home",
          "xref": "x",
          "y": "meet",
          "yref": "y"
         },
         {
          "font": {
           "color": "#000000",
           "size": 12
          },
          "showarrow": false,
          "text": "-0.0",
          "x": "buy",
          "xref": "x",
          "y": "home",
          "yref": "y"
         },
         {
          "font": {
           "color": "#000000",
           "size": 12
          },
          "showarrow": false,
          "text": "-0.0",
          "x": "come",
          "xref": "x",
          "y": "home",
          "yref": "y"
         },
         {
          "font": {
           "color": "#FFFFFF",
           "size": 12
          },
          "showarrow": false,
          "text": "-0.02",
          "x": "doesn",
          "xref": "x",
          "y": "home",
          "yref": "y"
         },
         {
          "font": {
           "color": "#FFFFFF",
           "size": 12
          },
          "showarrow": false,
          "text": "-0.02",
          "x": "going",
          "xref": "x",
          "y": "home",
          "yref": "y"
         },
         {
          "font": {
           "color": "#000000",
           "size": 12
          },
          "showarrow": false,
          "text": "-0.0",
          "x": "got",
          "xref": "x",
          "y": "home",
          "yref": "y"
         },
         {
          "font": {
           "color": "#FFFFFF",
           "size": 12
          },
          "showarrow": false,
          "text": "-0.02",
          "x": "buy",
          "xref": "x",
          "y": "got",
          "yref": "y"
         },
         {
          "font": {
           "color": "#FFFFFF",
           "size": 12
          },
          "showarrow": false,
          "text": "-0.03",
          "x": "come",
          "xref": "x",
          "y": "got",
          "yref": "y"
         },
         {
          "font": {
           "color": "#FFFFFF",
           "size": 12
          },
          "showarrow": false,
          "text": "-0.03",
          "x": "doesn",
          "xref": "x",
          "y": "got",
          "yref": "y"
         },
         {
          "font": {
           "color": "#FFFFFF",
           "size": 12
          },
          "showarrow": false,
          "text": "-0.05",
          "x": "going",
          "xref": "x",
          "y": "got",
          "yref": "y"
         },
         {
          "font": {
           "color": "#000000",
           "size": 12
          },
          "showarrow": false,
          "text": "-0.01",
          "x": "buy",
          "xref": "x",
          "y": "going",
          "yref": "y"
         },
         {
          "font": {
           "color": "#FFFFFF",
           "size": 12
          },
          "showarrow": false,
          "text": "-0.04",
          "x": "come",
          "xref": "x",
          "y": "going",
          "yref": "y"
         },
         {
          "font": {
           "color": "#FFFFFF",
           "size": 12
          },
          "showarrow": false,
          "text": "-0.04",
          "x": "doesn",
          "xref": "x",
          "y": "going",
          "yref": "y"
         },
         {
          "font": {
           "color": "#FFFFFF",
           "size": 12
          },
          "showarrow": false,
          "text": "-0.02",
          "x": "buy",
          "xref": "x",
          "y": "doesn",
          "yref": "y"
         },
         {
          "font": {
           "color": "#FFFFFF",
           "size": 12
          },
          "showarrow": false,
          "text": "-0.02",
          "x": "come",
          "xref": "x",
          "y": "doesn",
          "yref": "y"
         },
         {
          "font": {
           "color": "#FFFFFF",
           "size": 12
          },
          "showarrow": false,
          "text": "-0.02",
          "x": "buy",
          "xref": "x",
          "y": "come",
          "yref": "y"
         }
        ],
        "height": 800,
        "margin": {
         "l": 110,
         "t": 210
        },
        "template": {
         "data": {
          "bar": [
           {
            "error_x": {
             "color": "#f2f5fa"
            },
            "error_y": {
             "color": "#f2f5fa"
            },
            "marker": {
             "line": {
              "color": "rgb(17,17,17)",
              "width": 0.5
             },
             "pattern": {
              "fillmode": "overlay",
              "size": 10,
              "solidity": 0.2
             }
            },
            "type": "bar"
           }
          ],
          "barpolar": [
           {
            "marker": {
             "line": {
              "color": "rgb(17,17,17)",
              "width": 0.5
             },
             "pattern": {
              "fillmode": "overlay",
              "size": 10,
              "solidity": 0.2
             }
            },
            "type": "barpolar"
           }
          ],
          "carpet": [
           {
            "aaxis": {
             "endlinecolor": "#A2B1C6",
             "gridcolor": "#506784",
             "linecolor": "#506784",
             "minorgridcolor": "#506784",
             "startlinecolor": "#A2B1C6"
            },
            "baxis": {
             "endlinecolor": "#A2B1C6",
             "gridcolor": "#506784",
             "linecolor": "#506784",
             "minorgridcolor": "#506784",
             "startlinecolor": "#A2B1C6"
            },
            "type": "carpet"
           }
          ],
          "choropleth": [
           {
            "colorbar": {
             "outlinewidth": 0,
             "ticks": ""
            },
            "type": "choropleth"
           }
          ],
          "contour": [
           {
            "colorbar": {
             "outlinewidth": 0,
             "ticks": ""
            },
            "colorscale": [
             [
              0,
              "#0d0887"
             ],
             [
              0.1111111111111111,
              "#46039f"
             ],
             [
              0.2222222222222222,
              "#7201a8"
             ],
             [
              0.3333333333333333,
              "#9c179e"
             ],
             [
              0.4444444444444444,
              "#bd3786"
             ],
             [
              0.5555555555555556,
              "#d8576b"
             ],
             [
              0.6666666666666666,
              "#ed7953"
             ],
             [
              0.7777777777777778,
              "#fb9f3a"
             ],
             [
              0.8888888888888888,
              "#fdca26"
             ],
             [
              1,
              "#f0f921"
             ]
            ],
            "type": "contour"
           }
          ],
          "contourcarpet": [
           {
            "colorbar": {
             "outlinewidth": 0,
             "ticks": ""
            },
            "type": "contourcarpet"
           }
          ],
          "heatmap": [
           {
            "colorbar": {
             "outlinewidth": 0,
             "ticks": ""
            },
            "colorscale": [
             [
              0,
              "#0d0887"
             ],
             [
              0.1111111111111111,
              "#46039f"
             ],
             [
              0.2222222222222222,
              "#7201a8"
             ],
             [
              0.3333333333333333,
              "#9c179e"
             ],
             [
              0.4444444444444444,
              "#bd3786"
             ],
             [
              0.5555555555555556,
              "#d8576b"
             ],
             [
              0.6666666666666666,
              "#ed7953"
             ],
             [
              0.7777777777777778,
              "#fb9f3a"
             ],
             [
              0.8888888888888888,
              "#fdca26"
             ],
             [
              1,
              "#f0f921"
             ]
            ],
            "type": "heatmap"
           }
          ],
          "histogram": [
           {
            "marker": {
             "pattern": {
              "fillmode": "overlay",
              "size": 10,
              "solidity": 0.2
             }
            },
            "type": "histogram"
           }
          ],
          "histogram2d": [
           {
            "colorbar": {
             "outlinewidth": 0,
             "ticks": ""
            },
            "colorscale": [
             [
              0,
              "#0d0887"
             ],
             [
              0.1111111111111111,
              "#46039f"
             ],
             [
              0.2222222222222222,
              "#7201a8"
             ],
             [
              0.3333333333333333,
              "#9c179e"
             ],
             [
              0.4444444444444444,
              "#bd3786"
             ],
             [
              0.5555555555555556,
              "#d8576b"
             ],
             [
              0.6666666666666666,
              "#ed7953"
             ],
             [
              0.7777777777777778,
              "#fb9f3a"
             ],
             [
              0.8888888888888888,
              "#fdca26"
             ],
             [
              1,
              "#f0f921"
             ]
            ],
            "type": "histogram2d"
           }
          ],
          "histogram2dcontour": [
           {
            "colorbar": {
             "outlinewidth": 0,
             "ticks": ""
            },
            "colorscale": [
             [
              0,
              "#0d0887"
             ],
             [
              0.1111111111111111,
              "#46039f"
             ],
             [
              0.2222222222222222,
              "#7201a8"
             ],
             [
              0.3333333333333333,
              "#9c179e"
             ],
             [
              0.4444444444444444,
              "#bd3786"
             ],
             [
              0.5555555555555556,
              "#d8576b"
             ],
             [
              0.6666666666666666,
              "#ed7953"
             ],
             [
              0.7777777777777778,
              "#fb9f3a"
             ],
             [
              0.8888888888888888,
              "#fdca26"
             ],
             [
              1,
              "#f0f921"
             ]
            ],
            "type": "histogram2dcontour"
           }
          ],
          "mesh3d": [
           {
            "colorbar": {
             "outlinewidth": 0,
             "ticks": ""
            },
            "type": "mesh3d"
           }
          ],
          "parcoords": [
           {
            "line": {
             "colorbar": {
              "outlinewidth": 0,
              "ticks": ""
             }
            },
            "type": "parcoords"
           }
          ],
          "pie": [
           {
            "automargin": true,
            "type": "pie"
           }
          ],
          "scatter": [
           {
            "marker": {
             "line": {
              "color": "#283442"
             }
            },
            "type": "scatter"
           }
          ],
          "scatter3d": [
           {
            "line": {
             "colorbar": {
              "outlinewidth": 0,
              "ticks": ""
             }
            },
            "marker": {
             "colorbar": {
              "outlinewidth": 0,
              "ticks": ""
             }
            },
            "type": "scatter3d"
           }
          ],
          "scattercarpet": [
           {
            "marker": {
             "colorbar": {
              "outlinewidth": 0,
              "ticks": ""
             }
            },
            "type": "scattercarpet"
           }
          ],
          "scattergeo": [
           {
            "marker": {
             "colorbar": {
              "outlinewidth": 0,
              "ticks": ""
             }
            },
            "type": "scattergeo"
           }
          ],
          "scattergl": [
           {
            "marker": {
             "line": {
              "color": "#283442"
             }
            },
            "type": "scattergl"
           }
          ],
          "scattermap": [
           {
            "marker": {
             "colorbar": {
              "outlinewidth": 0,
              "ticks": ""
             }
            },
            "type": "scattermap"
           }
          ],
          "scattermapbox": [
           {
            "marker": {
             "colorbar": {
              "outlinewidth": 0,
              "ticks": ""
             }
            },
            "type": "scattermapbox"
           }
          ],
          "scatterpolar": [
           {
            "marker": {
             "colorbar": {
              "outlinewidth": 0,
              "ticks": ""
             }
            },
            "type": "scatterpolar"
           }
          ],
          "scatterpolargl": [
           {
            "marker": {
             "colorbar": {
              "outlinewidth": 0,
              "ticks": ""
             }
            },
            "type": "scatterpolargl"
           }
          ],
          "scatterternary": [
           {
            "marker": {
             "colorbar": {
              "outlinewidth": 0,
              "ticks": ""
             }
            },
            "type": "scatterternary"
           }
          ],
          "surface": [
           {
            "colorbar": {
             "outlinewidth": 0,
             "ticks": ""
            },
            "colorscale": [
             [
              0,
              "#0d0887"
             ],
             [
              0.1111111111111111,
              "#46039f"
             ],
             [
              0.2222222222222222,
              "#7201a8"
             ],
             [
              0.3333333333333333,
              "#9c179e"
             ],
             [
              0.4444444444444444,
              "#bd3786"
             ],
             [
              0.5555555555555556,
              "#d8576b"
             ],
             [
              0.6666666666666666,
              "#ed7953"
             ],
             [
              0.7777777777777778,
              "#fb9f3a"
             ],
             [
              0.8888888888888888,
              "#fdca26"
             ],
             [
              1,
              "#f0f921"
             ]
            ],
            "type": "surface"
           }
          ],
          "table": [
           {
            "cells": {
             "fill": {
              "color": "#506784"
             },
             "line": {
              "color": "rgb(17,17,17)"
             }
            },
            "header": {
             "fill": {
              "color": "#2a3f5f"
             },
             "line": {
              "color": "rgb(17,17,17)"
             }
            },
            "type": "table"
           }
          ]
         },
         "layout": {
          "annotationdefaults": {
           "arrowcolor": "#f2f5fa",
           "arrowhead": 0,
           "arrowwidth": 1
          },
          "autotypenumbers": "strict",
          "coloraxis": {
           "colorbar": {
            "outlinewidth": 0,
            "ticks": ""
           }
          },
          "colorscale": {
           "diverging": [
            [
             0,
             "#8e0152"
            ],
            [
             0.1,
             "#c51b7d"
            ],
            [
             0.2,
             "#de77ae"
            ],
            [
             0.3,
             "#f1b6da"
            ],
            [
             0.4,
             "#fde0ef"
            ],
            [
             0.5,
             "#f7f7f7"
            ],
            [
             0.6,
             "#e6f5d0"
            ],
            [
             0.7,
             "#b8e186"
            ],
            [
             0.8,
             "#7fbc41"
            ],
            [
             0.9,
             "#4d9221"
            ],
            [
             1,
             "#276419"
            ]
           ],
           "sequential": [
            [
             0,
             "#0d0887"
            ],
            [
             0.1111111111111111,
             "#46039f"
            ],
            [
             0.2222222222222222,
             "#7201a8"
            ],
            [
             0.3333333333333333,
             "#9c179e"
            ],
            [
             0.4444444444444444,
             "#bd3786"
            ],
            [
             0.5555555555555556,
             "#d8576b"
            ],
            [
             0.6666666666666666,
             "#ed7953"
            ],
            [
             0.7777777777777778,
             "#fb9f3a"
            ],
            [
             0.8888888888888888,
             "#fdca26"
            ],
            [
             1,
             "#f0f921"
            ]
           ],
           "sequentialminus": [
            [
             0,
             "#0d0887"
            ],
            [
             0.1111111111111111,
             "#46039f"
            ],
            [
             0.2222222222222222,
             "#7201a8"
            ],
            [
             0.3333333333333333,
             "#9c179e"
            ],
            [
             0.4444444444444444,
             "#bd3786"
            ],
            [
             0.5555555555555556,
             "#d8576b"
            ],
            [
             0.6666666666666666,
             "#ed7953"
            ],
            [
             0.7777777777777778,
             "#fb9f3a"
            ],
            [
             0.8888888888888888,
             "#fdca26"
            ],
            [
             1,
             "#f0f921"
            ]
           ]
          },
          "colorway": [
           "#636efa",
           "#EF553B",
           "#00cc96",
           "#ab63fa",
           "#FFA15A",
           "#19d3f3",
           "#FF6692",
           "#B6E880",
           "#FF97FF",
           "#FECB52"
          ],
          "font": {
           "color": "#f2f5fa"
          },
          "geo": {
           "bgcolor": "rgb(17,17,17)",
           "lakecolor": "rgb(17,17,17)",
           "landcolor": "rgb(17,17,17)",
           "showlakes": true,
           "showland": true,
           "subunitcolor": "#506784"
          },
          "hoverlabel": {
           "align": "left"
          },
          "hovermode": "closest",
          "mapbox": {
           "style": "dark"
          },
          "paper_bgcolor": "rgb(17,17,17)",
          "plot_bgcolor": "rgb(17,17,17)",
          "polar": {
           "angularaxis": {
            "gridcolor": "#506784",
            "linecolor": "#506784",
            "ticks": ""
           },
           "bgcolor": "rgb(17,17,17)",
           "radialaxis": {
            "gridcolor": "#506784",
            "linecolor": "#506784",
            "ticks": ""
           }
          },
          "scene": {
           "xaxis": {
            "backgroundcolor": "rgb(17,17,17)",
            "gridcolor": "#506784",
            "gridwidth": 2,
            "linecolor": "#506784",
            "showbackground": true,
            "ticks": "",
            "zerolinecolor": "#C8D4E3"
           },
           "yaxis": {
            "backgroundcolor": "rgb(17,17,17)",
            "gridcolor": "#506784",
            "gridwidth": 2,
            "linecolor": "#506784",
            "showbackground": true,
            "ticks": "",
            "zerolinecolor": "#C8D4E3"
           },
           "zaxis": {
            "backgroundcolor": "rgb(17,17,17)",
            "gridcolor": "#506784",
            "gridwidth": 2,
            "linecolor": "#506784",
            "showbackground": true,
            "ticks": "",
            "zerolinecolor": "#C8D4E3"
           }
          },
          "shapedefaults": {
           "line": {
            "color": "#f2f5fa"
           }
          },
          "sliderdefaults": {
           "bgcolor": "#C8D4E3",
           "bordercolor": "rgb(17,17,17)",
           "borderwidth": 1,
           "tickwidth": 0
          },
          "ternary": {
           "aaxis": {
            "gridcolor": "#506784",
            "linecolor": "#506784",
            "ticks": ""
           },
           "baxis": {
            "gridcolor": "#506784",
            "linecolor": "#506784",
            "ticks": ""
           },
           "bgcolor": "rgb(17,17,17)",
           "caxis": {
            "gridcolor": "#506784",
            "linecolor": "#506784",
            "ticks": ""
           }
          },
          "title": {
           "x": 0.05
          },
          "updatemenudefaults": {
           "bgcolor": "#506784",
           "borderwidth": 0
          },
          "xaxis": {
           "automargin": true,
           "gridcolor": "#283442",
           "linecolor": "#506784",
           "ticks": "",
           "title": {
            "standoff": 15
           },
           "zerolinecolor": "#283442",
           "zerolinewidth": 2
          },
          "yaxis": {
           "automargin": true,
           "gridcolor": "#283442",
           "linecolor": "#506784",
           "ticks": "",
           "title": {
            "standoff": 15
           },
           "zerolinecolor": "#283442",
           "zerolinewidth": 2
          }
         }
        },
        "title": {
         "text": "<b>Unigrams Heatmap<br><sup>&nbsp;&nbsp;&nbsp;&nbsp;<i>Train - Summary</i></sup></b>",
         "x": 0.025,
         "xanchor": "left",
         "y": 0.95
        },
        "width": 800,
        "xaxis": {
         "dtick": 1,
         "gridcolor": "rgb(0, 0, 0)",
         "showgrid": false,
         "side": "top",
         "ticks": ""
        },
        "yaxis": {
         "autorange": "reversed",
         "dtick": 1,
         "showgrid": false,
         "ticks": "",
         "ticksuffix": "  "
        }
       }
      }
     },
     "metadata": {},
     "output_type": "display_data"
    }
   ],
   "source": [
    "vectorizer = TfidfVectorizer(max_features = 15,stop_words = 'english') # Top 15 terms\n",
    "x = vectorizer.fit_transform(train['summary'].fillna(''))\n",
    "df_tfidfvect = pd.DataFrame(x.toarray(), columns=vectorizer.get_feature_names_out())\n",
    "plot_correlation(df_tfidfvect, 'Unigrams', 'Train - Summary', 800, 800, 12)"
   ]
  },
  {
   "cell_type": "code",
   "execution_count": 46,
   "metadata": {},
   "outputs": [
    {
     "data": {
      "application/vnd.plotly.v1+json": {
       "config": {
        "plotlyServerURL": "https://plot.ly"
       },
       "data": [
        {
         "colorscale": [
          [
           0,
           "#00224e"
          ],
          [
           0.1111111111111111,
           "#123570"
          ],
          [
           0.2222222222222222,
           "#3b496c"
          ],
          [
           0.3333333333333333,
           "#575d6d"
          ],
          [
           0.4444444444444444,
           "#707173"
          ],
          [
           0.5555555555555556,
           "#8a8678"
          ],
          [
           0.6666666666666666,
           "#a59c74"
          ],
          [
           0.7777777777777778,
           "#c3b369"
          ],
          [
           0.8888888888888888,
           "#e1cc55"
          ],
          [
           1,
           "#fee838"
          ]
         ],
         "reversescale": false,
         "showscale": false,
         "type": "heatmap",
         "x": [
          "didn know",
          "don know",
          "don think",
          "don want",
          "don worry",
          "feel like",
          "good idea",
          "good luck",
          "let know",
          "ll try",
          "ok ll",
          "sounds good",
          "sounds like",
          "ve got"
         ],
         "y": [
          "ve just",
          "ve got",
          "sounds like",
          "sounds good",
          "ok ll",
          "ll try",
          "let know",
          "good luck",
          "good idea",
          "feel like",
          "don worry",
          "don want",
          "don think",
          "don know"
         ],
         "z": [
          [
           -0.01,
           -0.01,
           -0.01,
           -0.01,
           -0.01,
           0,
           -0.01,
           -0.02,
           -0.01,
           -0.01,
           -0.01,
           -0.01,
           0,
           -0.01
          ],
          [
           0,
           -0.02,
           -0.01,
           -0.02,
           0.01,
           0,
           0,
           0,
           -0.02,
           -0.01,
           0,
           0,
           0
          ],
          [
           -0.01,
           0,
           0.01,
           0,
           -0.01,
           0.01,
           0.04,
           0,
           -0.01,
           0,
           -0.01,
           0.01
          ],
          [
           0,
           0,
           -0.01,
           -0.01,
           -0.01,
           0.02,
           0.01,
           -0.01,
           -0.01,
           0,
           0
          ],
          [
           -0.01,
           0,
           0,
           0,
           0,
           -0.01,
           -0.01,
           -0.01,
           0.02,
           0.04
          ],
          [
           0.01,
           0,
           0,
           0.01,
           0.02,
           0,
           0.01,
           -0.01,
           0.02
          ],
          [
           -0.01,
           -0.01,
           -0.01,
           -0.02,
           -0.01,
           -0.01,
           -0.01,
           0
          ],
          [
           -0.01,
           -0.01,
           -0.01,
           0,
           -0.01,
           -0.01,
           0
          ],
          [
           0,
           0,
           0,
           0,
           0,
           0
          ],
          [
           -0.01,
           0,
           0,
           0,
           -0.01
          ],
          [
           -0.01,
           -0.01,
           -0.01,
           0
          ],
          [
           0,
           0.01,
           0
          ],
          [
           0,
           0
          ],
          [
           -0.01
          ]
         ]
        },
        {
         "colorscale": [
          [
           0,
           "#00224e"
          ],
          [
           0.1111111111111111,
           "#123570"
          ],
          [
           0.2222222222222222,
           "#3b496c"
          ],
          [
           0.3333333333333333,
           "#575d6d"
          ],
          [
           0.4444444444444444,
           "#707173"
          ],
          [
           0.5555555555555556,
           "#8a8678"
          ],
          [
           0.6666666666666666,
           "#a59c74"
          ],
          [
           0.7777777777777778,
           "#c3b369"
          ],
          [
           0.8888888888888888,
           "#e1cc55"
          ],
          [
           1,
           "#fee838"
          ]
         ],
         "showscale": true,
         "type": "heatmap",
         "visible": true,
         "z": [
          [
           -0.01,
           -0.01,
           -0.01,
           -0.01,
           -0.01,
           0,
           -0.01,
           -0.02,
           -0.01,
           -0.01,
           -0.01,
           -0.01,
           0,
           -0.01
          ],
          [
           0,
           -0.02,
           -0.01,
           -0.02,
           0.01,
           0,
           0,
           0,
           -0.02,
           -0.01,
           0,
           0,
           0
          ],
          [
           -0.01,
           0,
           0.01,
           0,
           -0.01,
           0.01,
           0.04,
           0,
           -0.01,
           0,
           -0.01,
           0.01
          ],
          [
           0,
           0,
           -0.01,
           -0.01,
           -0.01,
           0.02,
           0.01,
           -0.01,
           -0.01,
           0,
           0
          ],
          [
           -0.01,
           0,
           0,
           0,
           0,
           -0.01,
           -0.01,
           -0.01,
           0.02,
           0.04
          ],
          [
           0.01,
           0,
           0,
           0.01,
           0.02,
           0,
           0.01,
           -0.01,
           0.02
          ],
          [
           -0.01,
           -0.01,
           -0.01,
           -0.02,
           -0.01,
           -0.01,
           -0.01,
           0
          ],
          [
           -0.01,
           -0.01,
           -0.01,
           0,
           -0.01,
           -0.01,
           0
          ],
          [
           0,
           0,
           0,
           0,
           0,
           0
          ],
          [
           -0.01,
           0,
           0,
           0,
           -0.01
          ],
          [
           -0.01,
           -0.01,
           -0.01,
           0
          ],
          [
           0,
           0.01,
           0
          ],
          [
           0,
           0
          ],
          [
           -0.01
          ]
         ]
        }
       ],
       "layout": {
        "annotations": [
         {
          "font": {
           "color": "#FFFFFF",
           "size": 12
          },
          "showarrow": false,
          "text": "-0.01",
          "x": "didn know",
          "xref": "x",
          "y": "ve just",
          "yref": "y"
         },
         {
          "font": {
           "color": "#FFFFFF",
           "size": 12
          },
          "showarrow": false,
          "text": "-0.01",
          "x": "don know",
          "xref": "x",
          "y": "ve just",
          "yref": "y"
         },
         {
          "font": {
           "color": "#FFFFFF",
           "size": 12
          },
          "showarrow": false,
          "text": "-0.01",
          "x": "don think",
          "xref": "x",
          "y": "ve just",
          "yref": "y"
         },
         {
          "font": {
           "color": "#FFFFFF",
           "size": 12
          },
          "showarrow": false,
          "text": "-0.01",
          "x": "don want",
          "xref": "x",
          "y": "ve just",
          "yref": "y"
         },
         {
          "font": {
           "color": "#FFFFFF",
           "size": 12
          },
          "showarrow": false,
          "text": "-0.01",
          "x": "don worry",
          "xref": "x",
          "y": "ve just",
          "yref": "y"
         },
         {
          "font": {
           "color": "#FFFFFF",
           "size": 12
          },
          "showarrow": false,
          "text": "0.0",
          "x": "feel like",
          "xref": "x",
          "y": "ve just",
          "yref": "y"
         },
         {
          "font": {
           "color": "#FFFFFF",
           "size": 12
          },
          "showarrow": false,
          "text": "-0.01",
          "x": "good idea",
          "xref": "x",
          "y": "ve just",
          "yref": "y"
         },
         {
          "font": {
           "color": "#FFFFFF",
           "size": 12
          },
          "showarrow": false,
          "text": "-0.02",
          "x": "good luck",
          "xref": "x",
          "y": "ve just",
          "yref": "y"
         },
         {
          "font": {
           "color": "#FFFFFF",
           "size": 12
          },
          "showarrow": false,
          "text": "-0.01",
          "x": "let know",
          "xref": "x",
          "y": "ve just",
          "yref": "y"
         },
         {
          "font": {
           "color": "#FFFFFF",
           "size": 12
          },
          "showarrow": false,
          "text": "-0.01",
          "x": "ll try",
          "xref": "x",
          "y": "ve just",
          "yref": "y"
         },
         {
          "font": {
           "color": "#FFFFFF",
           "size": 12
          },
          "showarrow": false,
          "text": "-0.01",
          "x": "ok ll",
          "xref": "x",
          "y": "ve just",
          "yref": "y"
         },
         {
          "font": {
           "color": "#FFFFFF",
           "size": 12
          },
          "showarrow": false,
          "text": "-0.01",
          "x": "sounds good",
          "xref": "x",
          "y": "ve just",
          "yref": "y"
         },
         {
          "font": {
           "color": "#FFFFFF",
           "size": 12
          },
          "showarrow": false,
          "text": "0.0",
          "x": "sounds like",
          "xref": "x",
          "y": "ve just",
          "yref": "y"
         },
         {
          "font": {
           "color": "#FFFFFF",
           "size": 12
          },
          "showarrow": false,
          "text": "-0.01",
          "x": "ve got",
          "xref": "x",
          "y": "ve just",
          "yref": "y"
         },
         {
          "font": {
           "color": "#FFFFFF",
           "size": 12
          },
          "showarrow": false,
          "text": "-0.0",
          "x": "didn know",
          "xref": "x",
          "y": "ve got",
          "yref": "y"
         },
         {
          "font": {
           "color": "#FFFFFF",
           "size": 12
          },
          "showarrow": false,
          "text": "-0.02",
          "x": "don know",
          "xref": "x",
          "y": "ve got",
          "yref": "y"
         },
         {
          "font": {
           "color": "#FFFFFF",
           "size": 12
          },
          "showarrow": false,
          "text": "-0.01",
          "x": "don think",
          "xref": "x",
          "y": "ve got",
          "yref": "y"
         },
         {
          "font": {
           "color": "#FFFFFF",
           "size": 12
          },
          "showarrow": false,
          "text": "-0.02",
          "x": "don want",
          "xref": "x",
          "y": "ve got",
          "yref": "y"
         },
         {
          "font": {
           "color": "#000000",
           "size": 12
          },
          "showarrow": false,
          "text": "0.01",
          "x": "don worry",
          "xref": "x",
          "y": "ve got",
          "yref": "y"
         },
         {
          "font": {
           "color": "#FFFFFF",
           "size": 12
          },
          "showarrow": false,
          "text": "0.0",
          "x": "feel like",
          "xref": "x",
          "y": "ve got",
          "yref": "y"
         },
         {
          "font": {
           "color": "#FFFFFF",
           "size": 12
          },
          "showarrow": false,
          "text": "-0.0",
          "x": "good idea",
          "xref": "x",
          "y": "ve got",
          "yref": "y"
         },
         {
          "font": {
           "color": "#FFFFFF",
           "size": 12
          },
          "showarrow": false,
          "text": "-0.0",
          "x": "good luck",
          "xref": "x",
          "y": "ve got",
          "yref": "y"
         },
         {
          "font": {
           "color": "#FFFFFF",
           "size": 12
          },
          "showarrow": false,
          "text": "-0.02",
          "x": "let know",
          "xref": "x",
          "y": "ve got",
          "yref": "y"
         },
         {
          "font": {
           "color": "#FFFFFF",
           "size": 12
          },
          "showarrow": false,
          "text": "-0.01",
          "x": "ll try",
          "xref": "x",
          "y": "ve got",
          "yref": "y"
         },
         {
          "font": {
           "color": "#FFFFFF",
           "size": 12
          },
          "showarrow": false,
          "text": "0.0",
          "x": "ok ll",
          "xref": "x",
          "y": "ve got",
          "yref": "y"
         },
         {
          "font": {
           "color": "#FFFFFF",
           "size": 12
          },
          "showarrow": false,
          "text": "0.0",
          "x": "sounds good",
          "xref": "x",
          "y": "ve got",
          "yref": "y"
         },
         {
          "font": {
           "color": "#FFFFFF",
           "size": 12
          },
          "showarrow": false,
          "text": "-0.0",
          "x": "sounds like",
          "xref": "x",
          "y": "ve got",
          "yref": "y"
         },
         {
          "font": {
           "color": "#FFFFFF",
           "size": 12
          },
          "showarrow": false,
          "text": "-0.01",
          "x": "didn know",
          "xref": "x",
          "y": "sounds like",
          "yref": "y"
         },
         {
          "font": {
           "color": "#FFFFFF",
           "size": 12
          },
          "showarrow": false,
          "text": "0.0",
          "x": "don know",
          "xref": "x",
          "y": "sounds like",
          "yref": "y"
         },
         {
          "font": {
           "color": "#000000",
           "size": 12
          },
          "showarrow": false,
          "text": "0.01",
          "x": "don think",
          "xref": "x",
          "y": "sounds like",
          "yref": "y"
         },
         {
          "font": {
           "color": "#FFFFFF",
           "size": 12
          },
          "showarrow": false,
          "text": "0.0",
          "x": "don want",
          "xref": "x",
          "y": "sounds like",
          "yref": "y"
         },
         {
          "font": {
           "color": "#FFFFFF",
           "size": 12
          },
          "showarrow": false,
          "text": "-0.01",
          "x": "don worry",
          "xref": "x",
          "y": "sounds like",
          "yref": "y"
         },
         {
          "font": {
           "color": "#000000",
           "size": 12
          },
          "showarrow": false,
          "text": "0.01",
          "x": "feel like",
          "xref": "x",
          "y": "sounds like",
          "yref": "y"
         },
         {
          "font": {
           "color": "#000000",
           "size": 12
          },
          "showarrow": false,
          "text": "0.04",
          "x": "good idea",
          "xref": "x",
          "y": "sounds like",
          "yref": "y"
         },
         {
          "font": {
           "color": "#FFFFFF",
           "size": 12
          },
          "showarrow": false,
          "text": "-0.0",
          "x": "good luck",
          "xref": "x",
          "y": "sounds like",
          "yref": "y"
         },
         {
          "font": {
           "color": "#FFFFFF",
           "size": 12
          },
          "showarrow": false,
          "text": "-0.01",
          "x": "let know",
          "xref": "x",
          "y": "sounds like",
          "yref": "y"
         },
         {
          "font": {
           "color": "#FFFFFF",
           "size": 12
          },
          "showarrow": false,
          "text": "-0.0",
          "x": "ll try",
          "xref": "x",
          "y": "sounds like",
          "yref": "y"
         },
         {
          "font": {
           "color": "#FFFFFF",
           "size": 12
          },
          "showarrow": false,
          "text": "-0.01",
          "x": "ok ll",
          "xref": "x",
          "y": "sounds like",
          "yref": "y"
         },
         {
          "font": {
           "color": "#000000",
           "size": 12
          },
          "showarrow": false,
          "text": "0.01",
          "x": "sounds good",
          "xref": "x",
          "y": "sounds like",
          "yref": "y"
         },
         {
          "font": {
           "color": "#FFFFFF",
           "size": 12
          },
          "showarrow": false,
          "text": "-0.0",
          "x": "didn know",
          "xref": "x",
          "y": "sounds good",
          "yref": "y"
         },
         {
          "font": {
           "color": "#FFFFFF",
           "size": 12
          },
          "showarrow": false,
          "text": "-0.0",
          "x": "don know",
          "xref": "x",
          "y": "sounds good",
          "yref": "y"
         },
         {
          "font": {
           "color": "#FFFFFF",
           "size": 12
          },
          "showarrow": false,
          "text": "-0.01",
          "x": "don think",
          "xref": "x",
          "y": "sounds good",
          "yref": "y"
         },
         {
          "font": {
           "color": "#FFFFFF",
           "size": 12
          },
          "showarrow": false,
          "text": "-0.01",
          "x": "don want",
          "xref": "x",
          "y": "sounds good",
          "yref": "y"
         },
         {
          "font": {
           "color": "#FFFFFF",
           "size": 12
          },
          "showarrow": false,
          "text": "-0.01",
          "x": "don worry",
          "xref": "x",
          "y": "sounds good",
          "yref": "y"
         },
         {
          "font": {
           "color": "#000000",
           "size": 12
          },
          "showarrow": false,
          "text": "0.02",
          "x": "feel like",
          "xref": "x",
          "y": "sounds good",
          "yref": "y"
         },
         {
          "font": {
           "color": "#000000",
           "size": 12
          },
          "showarrow": false,
          "text": "0.01",
          "x": "good idea",
          "xref": "x",
          "y": "sounds good",
          "yref": "y"
         },
         {
          "font": {
           "color": "#FFFFFF",
           "size": 12
          },
          "showarrow": false,
          "text": "-0.01",
          "x": "good luck",
          "xref": "x",
          "y": "sounds good",
          "yref": "y"
         },
         {
          "font": {
           "color": "#FFFFFF",
           "size": 12
          },
          "showarrow": false,
          "text": "-0.01",
          "x": "let know",
          "xref": "x",
          "y": "sounds good",
          "yref": "y"
         },
         {
          "font": {
           "color": "#FFFFFF",
           "size": 12
          },
          "showarrow": false,
          "text": "-0.0",
          "x": "ll try",
          "xref": "x",
          "y": "sounds good",
          "yref": "y"
         },
         {
          "font": {
           "color": "#FFFFFF",
           "size": 12
          },
          "showarrow": false,
          "text": "0.0",
          "x": "ok ll",
          "xref": "x",
          "y": "sounds good",
          "yref": "y"
         },
         {
          "font": {
           "color": "#FFFFFF",
           "size": 12
          },
          "showarrow": false,
          "text": "-0.01",
          "x": "didn know",
          "xref": "x",
          "y": "ok ll",
          "yref": "y"
         },
         {
          "font": {
           "color": "#FFFFFF",
           "size": 12
          },
          "showarrow": false,
          "text": "-0.0",
          "x": "don know",
          "xref": "x",
          "y": "ok ll",
          "yref": "y"
         },
         {
          "font": {
           "color": "#FFFFFF",
           "size": 12
          },
          "showarrow": false,
          "text": "-0.0",
          "x": "don think",
          "xref": "x",
          "y": "ok ll",
          "yref": "y"
         },
         {
          "font": {
           "color": "#FFFFFF",
           "size": 12
          },
          "showarrow": false,
          "text": "0.0",
          "x": "don want",
          "xref": "x",
          "y": "ok ll",
          "yref": "y"
         },
         {
          "font": {
           "color": "#FFFFFF",
           "size": 12
          },
          "showarrow": false,
          "text": "0.0",
          "x": "don worry",
          "xref": "x",
          "y": "ok ll",
          "yref": "y"
         },
         {
          "font": {
           "color": "#FFFFFF",
           "size": 12
          },
          "showarrow": false,
          "text": "-0.01",
          "x": "feel like",
          "xref": "x",
          "y": "ok ll",
          "yref": "y"
         },
         {
          "font": {
           "color": "#FFFFFF",
           "size": 12
          },
          "showarrow": false,
          "text": "-0.01",
          "x": "good idea",
          "xref": "x",
          "y": "ok ll",
          "yref": "y"
         },
         {
          "font": {
           "color": "#FFFFFF",
           "size": 12
          },
          "showarrow": false,
          "text": "-0.01",
          "x": "good luck",
          "xref": "x",
          "y": "ok ll",
          "yref": "y"
         },
         {
          "font": {
           "color": "#000000",
           "size": 12
          },
          "showarrow": false,
          "text": "0.02",
          "x": "let know",
          "xref": "x",
          "y": "ok ll",
          "yref": "y"
         },
         {
          "font": {
           "color": "#000000",
           "size": 12
          },
          "showarrow": false,
          "text": "0.04",
          "x": "ll try",
          "xref": "x",
          "y": "ok ll",
          "yref": "y"
         },
         {
          "font": {
           "color": "#000000",
           "size": 12
          },
          "showarrow": false,
          "text": "0.01",
          "x": "didn know",
          "xref": "x",
          "y": "ll try",
          "yref": "y"
         },
         {
          "font": {
           "color": "#FFFFFF",
           "size": 12
          },
          "showarrow": false,
          "text": "-0.0",
          "x": "don know",
          "xref": "x",
          "y": "ll try",
          "yref": "y"
         },
         {
          "font": {
           "color": "#FFFFFF",
           "size": 12
          },
          "showarrow": false,
          "text": "-0.0",
          "x": "don think",
          "xref": "x",
          "y": "ll try",
          "yref": "y"
         },
         {
          "font": {
           "color": "#000000",
           "size": 12
          },
          "showarrow": false,
          "text": "0.01",
          "x": "don want",
          "xref": "x",
          "y": "ll try",
          "yref": "y"
         },
         {
          "font": {
           "color": "#000000",
           "size": 12
          },
          "showarrow": false,
          "text": "0.02",
          "x": "don worry",
          "xref": "x",
          "y": "ll try",
          "yref": "y"
         },
         {
          "font": {
           "color": "#FFFFFF",
           "size": 12
          },
          "showarrow": false,
          "text": "0.0",
          "x": "feel like",
          "xref": "x",
          "y": "ll try",
          "yref": "y"
         },
         {
          "font": {
           "color": "#000000",
           "size": 12
          },
          "showarrow": false,
          "text": "0.01",
          "x": "good idea",
          "xref": "x",
          "y": "ll try",
          "yref": "y"
         },
         {
          "font": {
           "color": "#FFFFFF",
           "size": 12
          },
          "showarrow": false,
          "text": "-0.01",
          "x": "good luck",
          "xref": "x",
          "y": "ll try",
          "yref": "y"
         },
         {
          "font": {
           "color": "#000000",
           "size": 12
          },
          "showarrow": false,
          "text": "0.02",
          "x": "let know",
          "xref": "x",
          "y": "ll try",
          "yref": "y"
         },
         {
          "font": {
           "color": "#FFFFFF",
           "size": 12
          },
          "showarrow": false,
          "text": "-0.01",
          "x": "didn know",
          "xref": "x",
          "y": "let know",
          "yref": "y"
         },
         {
          "font": {
           "color": "#FFFFFF",
           "size": 12
          },
          "showarrow": false,
          "text": "-0.01",
          "x": "don know",
          "xref": "x",
          "y": "let know",
          "yref": "y"
         },
         {
          "font": {
           "color": "#FFFFFF",
           "size": 12
          },
          "showarrow": false,
          "text": "-0.01",
          "x": "don think",
          "xref": "x",
          "y": "let know",
          "yref": "y"
         },
         {
          "font": {
           "color": "#FFFFFF",
           "size": 12
          },
          "showarrow": false,
          "text": "-0.02",
          "x": "don want",
          "xref": "x",
          "y": "let know",
          "yref": "y"
         },
         {
          "font": {
           "color": "#FFFFFF",
           "size": 12
          },
          "showarrow": false,
          "text": "-0.01",
          "x": "don worry",
          "xref": "x",
          "y": "let know",
          "yref": "y"
         },
         {
          "font": {
           "color": "#FFFFFF",
           "size": 12
          },
          "showarrow": false,
          "text": "-0.01",
          "x": "feel like",
          "xref": "x",
          "y": "let know",
          "yref": "y"
         },
         {
          "font": {
           "color": "#FFFFFF",
           "size": 12
          },
          "showarrow": false,
          "text": "-0.01",
          "x": "good idea",
          "xref": "x",
          "y": "let know",
          "yref": "y"
         },
         {
          "font": {
           "color": "#FFFFFF",
           "size": 12
          },
          "showarrow": false,
          "text": "-0.0",
          "x": "good luck",
          "xref": "x",
          "y": "let know",
          "yref": "y"
         },
         {
          "font": {
           "color": "#FFFFFF",
           "size": 12
          },
          "showarrow": false,
          "text": "-0.01",
          "x": "didn know",
          "xref": "x",
          "y": "good luck",
          "yref": "y"
         },
         {
          "font": {
           "color": "#FFFFFF",
           "size": 12
          },
          "showarrow": false,
          "text": "-0.01",
          "x": "don know",
          "xref": "x",
          "y": "good luck",
          "yref": "y"
         },
         {
          "font": {
           "color": "#FFFFFF",
           "size": 12
          },
          "showarrow": false,
          "text": "-0.01",
          "x": "don think",
          "xref": "x",
          "y": "good luck",
          "yref": "y"
         },
         {
          "font": {
           "color": "#FFFFFF",
           "size": 12
          },
          "showarrow": false,
          "text": "-0.0",
          "x": "don want",
          "xref": "x",
          "y": "good luck",
          "yref": "y"
         },
         {
          "font": {
           "color": "#FFFFFF",
           "size": 12
          },
          "showarrow": false,
          "text": "-0.01",
          "x": "don worry",
          "xref": "x",
          "y": "good luck",
          "yref": "y"
         },
         {
          "font": {
           "color": "#FFFFFF",
           "size": 12
          },
          "showarrow": false,
          "text": "-0.01",
          "x": "feel like",
          "xref": "x",
          "y": "good luck",
          "yref": "y"
         },
         {
          "font": {
           "color": "#FFFFFF",
           "size": 12
          },
          "showarrow": false,
          "text": "0.0",
          "x": "good idea",
          "xref": "x",
          "y": "good luck",
          "yref": "y"
         },
         {
          "font": {
           "color": "#FFFFFF",
           "size": 12
          },
          "showarrow": false,
          "text": "-0.0",
          "x": "didn know",
          "xref": "x",
          "y": "good idea",
          "yref": "y"
         },
         {
          "font": {
           "color": "#FFFFFF",
           "size": 12
          },
          "showarrow": false,
          "text": "-0.0",
          "x": "don know",
          "xref": "x",
          "y": "good idea",
          "yref": "y"
         },
         {
          "font": {
           "color": "#FFFFFF",
           "size": 12
          },
          "showarrow": false,
          "text": "0.0",
          "x": "don think",
          "xref": "x",
          "y": "good idea",
          "yref": "y"
         },
         {
          "font": {
           "color": "#FFFFFF",
           "size": 12
          },
          "showarrow": false,
          "text": "0.0",
          "x": "don want",
          "xref": "x",
          "y": "good idea",
          "yref": "y"
         },
         {
          "font": {
           "color": "#FFFFFF",
           "size": 12
          },
          "showarrow": false,
          "text": "-0.0",
          "x": "don worry",
          "xref": "x",
          "y": "good idea",
          "yref": "y"
         },
         {
          "font": {
           "color": "#FFFFFF",
           "size": 12
          },
          "showarrow": false,
          "text": "-0.0",
          "x": "feel like",
          "xref": "x",
          "y": "good idea",
          "yref": "y"
         },
         {
          "font": {
           "color": "#FFFFFF",
           "size": 12
          },
          "showarrow": false,
          "text": "-0.01",
          "x": "didn know",
          "xref": "x",
          "y": "feel like",
          "yref": "y"
         },
         {
          "font": {
           "color": "#FFFFFF",
           "size": 12
          },
          "showarrow": false,
          "text": "0.0",
          "x": "don know",
          "xref": "x",
          "y": "feel like",
          "yref": "y"
         },
         {
          "font": {
           "color": "#FFFFFF",
           "size": 12
          },
          "showarrow": false,
          "text": "-0.0",
          "x": "don think",
          "xref": "x",
          "y": "feel like",
          "yref": "y"
         },
         {
          "font": {
           "color": "#FFFFFF",
           "size": 12
          },
          "showarrow": false,
          "text": "0.0",
          "x": "don want",
          "xref": "x",
          "y": "feel like",
          "yref": "y"
         },
         {
          "font": {
           "color": "#FFFFFF",
           "size": 12
          },
          "showarrow": false,
          "text": "-0.01",
          "x": "don worry",
          "xref": "x",
          "y": "feel like",
          "yref": "y"
         },
         {
          "font": {
           "color": "#FFFFFF",
           "size": 12
          },
          "showarrow": false,
          "text": "-0.01",
          "x": "didn know",
          "xref": "x",
          "y": "don worry",
          "yref": "y"
         },
         {
          "font": {
           "color": "#FFFFFF",
           "size": 12
          },
          "showarrow": false,
          "text": "-0.01",
          "x": "don know",
          "xref": "x",
          "y": "don worry",
          "yref": "y"
         },
         {
          "font": {
           "color": "#FFFFFF",
           "size": 12
          },
          "showarrow": false,
          "text": "-0.01",
          "x": "don think",
          "xref": "x",
          "y": "don worry",
          "yref": "y"
         },
         {
          "font": {
           "color": "#FFFFFF",
           "size": 12
          },
          "showarrow": false,
          "text": "0.0",
          "x": "don want",
          "xref": "x",
          "y": "don worry",
          "yref": "y"
         },
         {
          "font": {
           "color": "#FFFFFF",
           "size": 12
          },
          "showarrow": false,
          "text": "0.0",
          "x": "didn know",
          "xref": "x",
          "y": "don want",
          "yref": "y"
         },
         {
          "font": {
           "color": "#000000",
           "size": 12
          },
          "showarrow": false,
          "text": "0.01",
          "x": "don know",
          "xref": "x",
          "y": "don want",
          "yref": "y"
         },
         {
          "font": {
           "color": "#FFFFFF",
           "size": 12
          },
          "showarrow": false,
          "text": "0.0",
          "x": "don think",
          "xref": "x",
          "y": "don want",
          "yref": "y"
         },
         {
          "font": {
           "color": "#FFFFFF",
           "size": 12
          },
          "showarrow": false,
          "text": "0.0",
          "x": "didn know",
          "xref": "x",
          "y": "don think",
          "yref": "y"
         },
         {
          "font": {
           "color": "#FFFFFF",
           "size": 12
          },
          "showarrow": false,
          "text": "0.0",
          "x": "don know",
          "xref": "x",
          "y": "don think",
          "yref": "y"
         },
         {
          "font": {
           "color": "#FFFFFF",
           "size": 12
          },
          "showarrow": false,
          "text": "-0.01",
          "x": "didn know",
          "xref": "x",
          "y": "don know",
          "yref": "y"
         }
        ],
        "height": 800,
        "margin": {
         "l": 110,
         "t": 210
        },
        "template": {
         "data": {
          "bar": [
           {
            "error_x": {
             "color": "#f2f5fa"
            },
            "error_y": {
             "color": "#f2f5fa"
            },
            "marker": {
             "line": {
              "color": "rgb(17,17,17)",
              "width": 0.5
             },
             "pattern": {
              "fillmode": "overlay",
              "size": 10,
              "solidity": 0.2
             }
            },
            "type": "bar"
           }
          ],
          "barpolar": [
           {
            "marker": {
             "line": {
              "color": "rgb(17,17,17)",
              "width": 0.5
             },
             "pattern": {
              "fillmode": "overlay",
              "size": 10,
              "solidity": 0.2
             }
            },
            "type": "barpolar"
           }
          ],
          "carpet": [
           {
            "aaxis": {
             "endlinecolor": "#A2B1C6",
             "gridcolor": "#506784",
             "linecolor": "#506784",
             "minorgridcolor": "#506784",
             "startlinecolor": "#A2B1C6"
            },
            "baxis": {
             "endlinecolor": "#A2B1C6",
             "gridcolor": "#506784",
             "linecolor": "#506784",
             "minorgridcolor": "#506784",
             "startlinecolor": "#A2B1C6"
            },
            "type": "carpet"
           }
          ],
          "choropleth": [
           {
            "colorbar": {
             "outlinewidth": 0,
             "ticks": ""
            },
            "type": "choropleth"
           }
          ],
          "contour": [
           {
            "colorbar": {
             "outlinewidth": 0,
             "ticks": ""
            },
            "colorscale": [
             [
              0,
              "#0d0887"
             ],
             [
              0.1111111111111111,
              "#46039f"
             ],
             [
              0.2222222222222222,
              "#7201a8"
             ],
             [
              0.3333333333333333,
              "#9c179e"
             ],
             [
              0.4444444444444444,
              "#bd3786"
             ],
             [
              0.5555555555555556,
              "#d8576b"
             ],
             [
              0.6666666666666666,
              "#ed7953"
             ],
             [
              0.7777777777777778,
              "#fb9f3a"
             ],
             [
              0.8888888888888888,
              "#fdca26"
             ],
             [
              1,
              "#f0f921"
             ]
            ],
            "type": "contour"
           }
          ],
          "contourcarpet": [
           {
            "colorbar": {
             "outlinewidth": 0,
             "ticks": ""
            },
            "type": "contourcarpet"
           }
          ],
          "heatmap": [
           {
            "colorbar": {
             "outlinewidth": 0,
             "ticks": ""
            },
            "colorscale": [
             [
              0,
              "#0d0887"
             ],
             [
              0.1111111111111111,
              "#46039f"
             ],
             [
              0.2222222222222222,
              "#7201a8"
             ],
             [
              0.3333333333333333,
              "#9c179e"
             ],
             [
              0.4444444444444444,
              "#bd3786"
             ],
             [
              0.5555555555555556,
              "#d8576b"
             ],
             [
              0.6666666666666666,
              "#ed7953"
             ],
             [
              0.7777777777777778,
              "#fb9f3a"
             ],
             [
              0.8888888888888888,
              "#fdca26"
             ],
             [
              1,
              "#f0f921"
             ]
            ],
            "type": "heatmap"
           }
          ],
          "histogram": [
           {
            "marker": {
             "pattern": {
              "fillmode": "overlay",
              "size": 10,
              "solidity": 0.2
             }
            },
            "type": "histogram"
           }
          ],
          "histogram2d": [
           {
            "colorbar": {
             "outlinewidth": 0,
             "ticks": ""
            },
            "colorscale": [
             [
              0,
              "#0d0887"
             ],
             [
              0.1111111111111111,
              "#46039f"
             ],
             [
              0.2222222222222222,
              "#7201a8"
             ],
             [
              0.3333333333333333,
              "#9c179e"
             ],
             [
              0.4444444444444444,
              "#bd3786"
             ],
             [
              0.5555555555555556,
              "#d8576b"
             ],
             [
              0.6666666666666666,
              "#ed7953"
             ],
             [
              0.7777777777777778,
              "#fb9f3a"
             ],
             [
              0.8888888888888888,
              "#fdca26"
             ],
             [
              1,
              "#f0f921"
             ]
            ],
            "type": "histogram2d"
           }
          ],
          "histogram2dcontour": [
           {
            "colorbar": {
             "outlinewidth": 0,
             "ticks": ""
            },
            "colorscale": [
             [
              0,
              "#0d0887"
             ],
             [
              0.1111111111111111,
              "#46039f"
             ],
             [
              0.2222222222222222,
              "#7201a8"
             ],
             [
              0.3333333333333333,
              "#9c179e"
             ],
             [
              0.4444444444444444,
              "#bd3786"
             ],
             [
              0.5555555555555556,
              "#d8576b"
             ],
             [
              0.6666666666666666,
              "#ed7953"
             ],
             [
              0.7777777777777778,
              "#fb9f3a"
             ],
             [
              0.8888888888888888,
              "#fdca26"
             ],
             [
              1,
              "#f0f921"
             ]
            ],
            "type": "histogram2dcontour"
           }
          ],
          "mesh3d": [
           {
            "colorbar": {
             "outlinewidth": 0,
             "ticks": ""
            },
            "type": "mesh3d"
           }
          ],
          "parcoords": [
           {
            "line": {
             "colorbar": {
              "outlinewidth": 0,
              "ticks": ""
             }
            },
            "type": "parcoords"
           }
          ],
          "pie": [
           {
            "automargin": true,
            "type": "pie"
           }
          ],
          "scatter": [
           {
            "marker": {
             "line": {
              "color": "#283442"
             }
            },
            "type": "scatter"
           }
          ],
          "scatter3d": [
           {
            "line": {
             "colorbar": {
              "outlinewidth": 0,
              "ticks": ""
             }
            },
            "marker": {
             "colorbar": {
              "outlinewidth": 0,
              "ticks": ""
             }
            },
            "type": "scatter3d"
           }
          ],
          "scattercarpet": [
           {
            "marker": {
             "colorbar": {
              "outlinewidth": 0,
              "ticks": ""
             }
            },
            "type": "scattercarpet"
           }
          ],
          "scattergeo": [
           {
            "marker": {
             "colorbar": {
              "outlinewidth": 0,
              "ticks": ""
             }
            },
            "type": "scattergeo"
           }
          ],
          "scattergl": [
           {
            "marker": {
             "line": {
              "color": "#283442"
             }
            },
            "type": "scattergl"
           }
          ],
          "scattermap": [
           {
            "marker": {
             "colorbar": {
              "outlinewidth": 0,
              "ticks": ""
             }
            },
            "type": "scattermap"
           }
          ],
          "scattermapbox": [
           {
            "marker": {
             "colorbar": {
              "outlinewidth": 0,
              "ticks": ""
             }
            },
            "type": "scattermapbox"
           }
          ],
          "scatterpolar": [
           {
            "marker": {
             "colorbar": {
              "outlinewidth": 0,
              "ticks": ""
             }
            },
            "type": "scatterpolar"
           }
          ],
          "scatterpolargl": [
           {
            "marker": {
             "colorbar": {
              "outlinewidth": 0,
              "ticks": ""
             }
            },
            "type": "scatterpolargl"
           }
          ],
          "scatterternary": [
           {
            "marker": {
             "colorbar": {
              "outlinewidth": 0,
              "ticks": ""
             }
            },
            "type": "scatterternary"
           }
          ],
          "surface": [
           {
            "colorbar": {
             "outlinewidth": 0,
             "ticks": ""
            },
            "colorscale": [
             [
              0,
              "#0d0887"
             ],
             [
              0.1111111111111111,
              "#46039f"
             ],
             [
              0.2222222222222222,
              "#7201a8"
             ],
             [
              0.3333333333333333,
              "#9c179e"
             ],
             [
              0.4444444444444444,
              "#bd3786"
             ],
             [
              0.5555555555555556,
              "#d8576b"
             ],
             [
              0.6666666666666666,
              "#ed7953"
             ],
             [
              0.7777777777777778,
              "#fb9f3a"
             ],
             [
              0.8888888888888888,
              "#fdca26"
             ],
             [
              1,
              "#f0f921"
             ]
            ],
            "type": "surface"
           }
          ],
          "table": [
           {
            "cells": {
             "fill": {
              "color": "#506784"
             },
             "line": {
              "color": "rgb(17,17,17)"
             }
            },
            "header": {
             "fill": {
              "color": "#2a3f5f"
             },
             "line": {
              "color": "rgb(17,17,17)"
             }
            },
            "type": "table"
           }
          ]
         },
         "layout": {
          "annotationdefaults": {
           "arrowcolor": "#f2f5fa",
           "arrowhead": 0,
           "arrowwidth": 1
          },
          "autotypenumbers": "strict",
          "coloraxis": {
           "colorbar": {
            "outlinewidth": 0,
            "ticks": ""
           }
          },
          "colorscale": {
           "diverging": [
            [
             0,
             "#8e0152"
            ],
            [
             0.1,
             "#c51b7d"
            ],
            [
             0.2,
             "#de77ae"
            ],
            [
             0.3,
             "#f1b6da"
            ],
            [
             0.4,
             "#fde0ef"
            ],
            [
             0.5,
             "#f7f7f7"
            ],
            [
             0.6,
             "#e6f5d0"
            ],
            [
             0.7,
             "#b8e186"
            ],
            [
             0.8,
             "#7fbc41"
            ],
            [
             0.9,
             "#4d9221"
            ],
            [
             1,
             "#276419"
            ]
           ],
           "sequential": [
            [
             0,
             "#0d0887"
            ],
            [
             0.1111111111111111,
             "#46039f"
            ],
            [
             0.2222222222222222,
             "#7201a8"
            ],
            [
             0.3333333333333333,
             "#9c179e"
            ],
            [
             0.4444444444444444,
             "#bd3786"
            ],
            [
             0.5555555555555556,
             "#d8576b"
            ],
            [
             0.6666666666666666,
             "#ed7953"
            ],
            [
             0.7777777777777778,
             "#fb9f3a"
            ],
            [
             0.8888888888888888,
             "#fdca26"
            ],
            [
             1,
             "#f0f921"
            ]
           ],
           "sequentialminus": [
            [
             0,
             "#0d0887"
            ],
            [
             0.1111111111111111,
             "#46039f"
            ],
            [
             0.2222222222222222,
             "#7201a8"
            ],
            [
             0.3333333333333333,
             "#9c179e"
            ],
            [
             0.4444444444444444,
             "#bd3786"
            ],
            [
             0.5555555555555556,
             "#d8576b"
            ],
            [
             0.6666666666666666,
             "#ed7953"
            ],
            [
             0.7777777777777778,
             "#fb9f3a"
            ],
            [
             0.8888888888888888,
             "#fdca26"
            ],
            [
             1,
             "#f0f921"
            ]
           ]
          },
          "colorway": [
           "#636efa",
           "#EF553B",
           "#00cc96",
           "#ab63fa",
           "#FFA15A",
           "#19d3f3",
           "#FF6692",
           "#B6E880",
           "#FF97FF",
           "#FECB52"
          ],
          "font": {
           "color": "#f2f5fa"
          },
          "geo": {
           "bgcolor": "rgb(17,17,17)",
           "lakecolor": "rgb(17,17,17)",
           "landcolor": "rgb(17,17,17)",
           "showlakes": true,
           "showland": true,
           "subunitcolor": "#506784"
          },
          "hoverlabel": {
           "align": "left"
          },
          "hovermode": "closest",
          "mapbox": {
           "style": "dark"
          },
          "paper_bgcolor": "rgb(17,17,17)",
          "plot_bgcolor": "rgb(17,17,17)",
          "polar": {
           "angularaxis": {
            "gridcolor": "#506784",
            "linecolor": "#506784",
            "ticks": ""
           },
           "bgcolor": "rgb(17,17,17)",
           "radialaxis": {
            "gridcolor": "#506784",
            "linecolor": "#506784",
            "ticks": ""
           }
          },
          "scene": {
           "xaxis": {
            "backgroundcolor": "rgb(17,17,17)",
            "gridcolor": "#506784",
            "gridwidth": 2,
            "linecolor": "#506784",
            "showbackground": true,
            "ticks": "",
            "zerolinecolor": "#C8D4E3"
           },
           "yaxis": {
            "backgroundcolor": "rgb(17,17,17)",
            "gridcolor": "#506784",
            "gridwidth": 2,
            "linecolor": "#506784",
            "showbackground": true,
            "ticks": "",
            "zerolinecolor": "#C8D4E3"
           },
           "zaxis": {
            "backgroundcolor": "rgb(17,17,17)",
            "gridcolor": "#506784",
            "gridwidth": 2,
            "linecolor": "#506784",
            "showbackground": true,
            "ticks": "",
            "zerolinecolor": "#C8D4E3"
           }
          },
          "shapedefaults": {
           "line": {
            "color": "#f2f5fa"
           }
          },
          "sliderdefaults": {
           "bgcolor": "#C8D4E3",
           "bordercolor": "rgb(17,17,17)",
           "borderwidth": 1,
           "tickwidth": 0
          },
          "ternary": {
           "aaxis": {
            "gridcolor": "#506784",
            "linecolor": "#506784",
            "ticks": ""
           },
           "baxis": {
            "gridcolor": "#506784",
            "linecolor": "#506784",
            "ticks": ""
           },
           "bgcolor": "rgb(17,17,17)",
           "caxis": {
            "gridcolor": "#506784",
            "linecolor": "#506784",
            "ticks": ""
           }
          },
          "title": {
           "x": 0.05
          },
          "updatemenudefaults": {
           "bgcolor": "#506784",
           "borderwidth": 0
          },
          "xaxis": {
           "automargin": true,
           "gridcolor": "#283442",
           "linecolor": "#506784",
           "ticks": "",
           "title": {
            "standoff": 15
           },
           "zerolinecolor": "#283442",
           "zerolinewidth": 2
          },
          "yaxis": {
           "automargin": true,
           "gridcolor": "#283442",
           "linecolor": "#506784",
           "ticks": "",
           "title": {
            "standoff": 15
           },
           "zerolinecolor": "#283442",
           "zerolinewidth": 2
          }
         }
        },
        "title": {
         "text": "<b>Bigrams Heatmap<br><sup>&nbsp;&nbsp;&nbsp;&nbsp;<i>Train - Dialogue</i></sup></b>",
         "x": 0.025,
         "xanchor": "left",
         "y": 0.95
        },
        "width": 800,
        "xaxis": {
         "dtick": 1,
         "gridcolor": "rgb(0, 0, 0)",
         "showgrid": false,
         "side": "top",
         "ticks": ""
        },
        "yaxis": {
         "autorange": "reversed",
         "dtick": 1,
         "showgrid": false,
         "ticks": "",
         "ticksuffix": "  "
        }
       }
      }
     },
     "metadata": {},
     "output_type": "display_data"
    }
   ],
   "source": [
    "vectorizer = TfidfVectorizer(max_features = 15,stop_words = 'english',ngram_range = (2,2)) # Top 15 terms\n",
    "x = vectorizer.fit_transform(train['dialogue'].fillna(''))\n",
    "df_tfidfvect = pd.DataFrame(x.toarray(), columns=vectorizer.get_feature_names_out())\n",
    "plot_correlation(df_tfidfvect, 'Bigrams', 'Train - Dialogue', 800, 800, 12)"
   ]
  },
  {
   "cell_type": "code",
   "execution_count": 47,
   "metadata": {},
   "outputs": [
    {
     "data": {
      "application/vnd.plotly.v1+json": {
       "config": {
        "plotlyServerURL": "https://plot.ly"
       },
       "data": [
        {
         "colorscale": [
          [
           0,
           "#00224e"
          ],
          [
           0.1111111111111111,
           "#123570"
          ],
          [
           0.2222222222222222,
           "#3b496c"
          ],
          [
           0.3333333333333333,
           "#575d6d"
          ],
          [
           0.4444444444444444,
           "#707173"
          ],
          [
           0.5555555555555556,
           "#8a8678"
          ],
          [
           0.6666666666666666,
           "#a59c74"
          ],
          [
           0.7777777777777778,
           "#c3b369"
          ],
          [
           0.8888888888888888,
           "#e1cc55"
          ],
          [
           1,
           "#fee838"
          ]
         ],
         "reversescale": false,
         "showscale": false,
         "type": "heatmap",
         "x": [
          "10 minutes",
          "15 minutes",
          "20 minutes",
          "30 minutes",
          "birthday party",
          "buy new",
          "doesn know",
          "doesn like",
          "doesn want",
          "going meet",
          "new job",
          "new year",
          "wants buy",
          "wants know"
         ],
         "y": [
          "wants meet",
          "wants know",
          "wants buy",
          "new year",
          "new job",
          "going meet",
          "doesn want",
          "doesn like",
          "doesn know",
          "buy new",
          "birthday party",
          "30 minutes",
          "20 minutes",
          "15 minutes"
         ],
         "z": [
          [
           0,
           0,
           0,
           0,
           0,
           0,
           -0.01,
           0,
           0,
           -0.01,
           0,
           0,
           0,
           0
          ],
          [
           0,
           0,
           0.01,
           0,
           0,
           0,
           0.01,
           -0.01,
           0,
           -0.01,
           0,
           0,
           0
          ],
          [
           -0.01,
           0,
           0,
           0,
           0,
           0.14,
           0,
           -0.01,
           0,
           -0.01,
           0,
           0
          ],
          [
           -0.01,
           0,
           0,
           0,
           -0.01,
           0,
           0,
           0,
           0,
           0,
           0.01
          ],
          [
           -0.01,
           0,
           0,
           0,
           0,
           0,
           -0.01,
           -0.01,
           -0.01,
           -0.01
          ],
          [
           -0.01,
           0.01,
           -0.01,
           -0.01,
           0,
           -0.01,
           -0.01,
           -0.01,
           -0.01
          ],
          [
           -0.01,
           -0.01,
           -0.01,
           -0.01,
           0.01,
           0.01,
           -0.01,
           0.01
          ],
          [
           -0.01,
           -0.01,
           -0.01,
           -0.01,
           -0.01,
           0,
           0
          ],
          [
           -0.01,
           -0.01,
           -0.01,
           -0.01,
           0,
           0
          ],
          [
           0,
           0,
           0,
           0,
           0
          ],
          [
           -0.01,
           0,
           0,
           0
          ],
          [
           0.01,
           0.01,
           0
          ],
          [
           -0.01,
           0
          ],
          [
           -0.01
          ]
         ]
        },
        {
         "colorscale": [
          [
           0,
           "#00224e"
          ],
          [
           0.1111111111111111,
           "#123570"
          ],
          [
           0.2222222222222222,
           "#3b496c"
          ],
          [
           0.3333333333333333,
           "#575d6d"
          ],
          [
           0.4444444444444444,
           "#707173"
          ],
          [
           0.5555555555555556,
           "#8a8678"
          ],
          [
           0.6666666666666666,
           "#a59c74"
          ],
          [
           0.7777777777777778,
           "#c3b369"
          ],
          [
           0.8888888888888888,
           "#e1cc55"
          ],
          [
           1,
           "#fee838"
          ]
         ],
         "showscale": true,
         "type": "heatmap",
         "visible": true,
         "z": [
          [
           0,
           0,
           0,
           0,
           0,
           0,
           -0.01,
           0,
           0,
           -0.01,
           0,
           0,
           0,
           0
          ],
          [
           0,
           0,
           0.01,
           0,
           0,
           0,
           0.01,
           -0.01,
           0,
           -0.01,
           0,
           0,
           0
          ],
          [
           -0.01,
           0,
           0,
           0,
           0,
           0.14,
           0,
           -0.01,
           0,
           -0.01,
           0,
           0
          ],
          [
           -0.01,
           0,
           0,
           0,
           -0.01,
           0,
           0,
           0,
           0,
           0,
           0.01
          ],
          [
           -0.01,
           0,
           0,
           0,
           0,
           0,
           -0.01,
           -0.01,
           -0.01,
           -0.01
          ],
          [
           -0.01,
           0.01,
           -0.01,
           -0.01,
           0,
           -0.01,
           -0.01,
           -0.01,
           -0.01
          ],
          [
           -0.01,
           -0.01,
           -0.01,
           -0.01,
           0.01,
           0.01,
           -0.01,
           0.01
          ],
          [
           -0.01,
           -0.01,
           -0.01,
           -0.01,
           -0.01,
           0,
           0
          ],
          [
           -0.01,
           -0.01,
           -0.01,
           -0.01,
           0,
           0
          ],
          [
           0,
           0,
           0,
           0,
           0
          ],
          [
           -0.01,
           0,
           0,
           0
          ],
          [
           0.01,
           0.01,
           0
          ],
          [
           -0.01,
           0
          ],
          [
           -0.01
          ]
         ]
        }
       ],
       "layout": {
        "annotations": [
         {
          "font": {
           "color": "#FFFFFF",
           "size": 12
          },
          "showarrow": false,
          "text": "-0.0",
          "x": "10 minutes",
          "xref": "x",
          "y": "wants meet",
          "yref": "y"
         },
         {
          "font": {
           "color": "#FFFFFF",
           "size": 12
          },
          "showarrow": false,
          "text": "-0.0",
          "x": "15 minutes",
          "xref": "x",
          "y": "wants meet",
          "yref": "y"
         },
         {
          "font": {
           "color": "#FFFFFF",
           "size": 12
          },
          "showarrow": false,
          "text": "-0.0",
          "x": "20 minutes",
          "xref": "x",
          "y": "wants meet",
          "yref": "y"
         },
         {
          "font": {
           "color": "#FFFFFF",
           "size": 12
          },
          "showarrow": false,
          "text": "-0.0",
          "x": "30 minutes",
          "xref": "x",
          "y": "wants meet",
          "yref": "y"
         },
         {
          "font": {
           "color": "#FFFFFF",
           "size": 12
          },
          "showarrow": false,
          "text": "-0.0",
          "x": "birthday party",
          "xref": "x",
          "y": "wants meet",
          "yref": "y"
         },
         {
          "font": {
           "color": "#FFFFFF",
           "size": 12
          },
          "showarrow": false,
          "text": "-0.0",
          "x": "buy new",
          "xref": "x",
          "y": "wants meet",
          "yref": "y"
         },
         {
          "font": {
           "color": "#FFFFFF",
           "size": 12
          },
          "showarrow": false,
          "text": "-0.01",
          "x": "doesn know",
          "xref": "x",
          "y": "wants meet",
          "yref": "y"
         },
         {
          "font": {
           "color": "#FFFFFF",
           "size": 12
          },
          "showarrow": false,
          "text": "-0.0",
          "x": "doesn like",
          "xref": "x",
          "y": "wants meet",
          "yref": "y"
         },
         {
          "font": {
           "color": "#FFFFFF",
           "size": 12
          },
          "showarrow": false,
          "text": "0.0",
          "x": "doesn want",
          "xref": "x",
          "y": "wants meet",
          "yref": "y"
         },
         {
          "font": {
           "color": "#FFFFFF",
           "size": 12
          },
          "showarrow": false,
          "text": "-0.01",
          "x": "going meet",
          "xref": "x",
          "y": "wants meet",
          "yref": "y"
         },
         {
          "font": {
           "color": "#FFFFFF",
           "size": 12
          },
          "showarrow": false,
          "text": "-0.0",
          "x": "new job",
          "xref": "x",
          "y": "wants meet",
          "yref": "y"
         },
         {
          "font": {
           "color": "#FFFFFF",
           "size": 12
          },
          "showarrow": false,
          "text": "-0.0",
          "x": "new year",
          "xref": "x",
          "y": "wants meet",
          "yref": "y"
         },
         {
          "font": {
           "color": "#FFFFFF",
           "size": 12
          },
          "showarrow": false,
          "text": "-0.0",
          "x": "wants buy",
          "xref": "x",
          "y": "wants meet",
          "yref": "y"
         },
         {
          "font": {
           "color": "#FFFFFF",
           "size": 12
          },
          "showarrow": false,
          "text": "-0.0",
          "x": "wants know",
          "xref": "x",
          "y": "wants meet",
          "yref": "y"
         },
         {
          "font": {
           "color": "#FFFFFF",
           "size": 12
          },
          "showarrow": false,
          "text": "-0.0",
          "x": "10 minutes",
          "xref": "x",
          "y": "wants know",
          "yref": "y"
         },
         {
          "font": {
           "color": "#FFFFFF",
           "size": 12
          },
          "showarrow": false,
          "text": "-0.0",
          "x": "15 minutes",
          "xref": "x",
          "y": "wants know",
          "yref": "y"
         },
         {
          "font": {
           "color": "#FFFFFF",
           "size": 12
          },
          "showarrow": false,
          "text": "0.01",
          "x": "20 minutes",
          "xref": "x",
          "y": "wants know",
          "yref": "y"
         },
         {
          "font": {
           "color": "#FFFFFF",
           "size": 12
          },
          "showarrow": false,
          "text": "-0.0",
          "x": "30 minutes",
          "xref": "x",
          "y": "wants know",
          "yref": "y"
         },
         {
          "font": {
           "color": "#FFFFFF",
           "size": 12
          },
          "showarrow": false,
          "text": "-0.0",
          "x": "birthday party",
          "xref": "x",
          "y": "wants know",
          "yref": "y"
         },
         {
          "font": {
           "color": "#FFFFFF",
           "size": 12
          },
          "showarrow": false,
          "text": "-0.0",
          "x": "buy new",
          "xref": "x",
          "y": "wants know",
          "yref": "y"
         },
         {
          "font": {
           "color": "#FFFFFF",
           "size": 12
          },
          "showarrow": false,
          "text": "0.01",
          "x": "doesn know",
          "xref": "x",
          "y": "wants know",
          "yref": "y"
         },
         {
          "font": {
           "color": "#FFFFFF",
           "size": 12
          },
          "showarrow": false,
          "text": "-0.01",
          "x": "doesn like",
          "xref": "x",
          "y": "wants know",
          "yref": "y"
         },
         {
          "font": {
           "color": "#FFFFFF",
           "size": 12
          },
          "showarrow": false,
          "text": "0.0",
          "x": "doesn want",
          "xref": "x",
          "y": "wants know",
          "yref": "y"
         },
         {
          "font": {
           "color": "#FFFFFF",
           "size": 12
          },
          "showarrow": false,
          "text": "-0.01",
          "x": "going meet",
          "xref": "x",
          "y": "wants know",
          "yref": "y"
         },
         {
          "font": {
           "color": "#FFFFFF",
           "size": 12
          },
          "showarrow": false,
          "text": "-0.0",
          "x": "new job",
          "xref": "x",
          "y": "wants know",
          "yref": "y"
         },
         {
          "font": {
           "color": "#FFFFFF",
           "size": 12
          },
          "showarrow": false,
          "text": "-0.0",
          "x": "new year",
          "xref": "x",
          "y": "wants know",
          "yref": "y"
         },
         {
          "font": {
           "color": "#FFFFFF",
           "size": 12
          },
          "showarrow": false,
          "text": "-0.0",
          "x": "wants buy",
          "xref": "x",
          "y": "wants know",
          "yref": "y"
         },
         {
          "font": {
           "color": "#FFFFFF",
           "size": 12
          },
          "showarrow": false,
          "text": "-0.01",
          "x": "10 minutes",
          "xref": "x",
          "y": "wants buy",
          "yref": "y"
         },
         {
          "font": {
           "color": "#FFFFFF",
           "size": 12
          },
          "showarrow": false,
          "text": "-0.0",
          "x": "15 minutes",
          "xref": "x",
          "y": "wants buy",
          "yref": "y"
         },
         {
          "font": {
           "color": "#FFFFFF",
           "size": 12
          },
          "showarrow": false,
          "text": "-0.0",
          "x": "20 minutes",
          "xref": "x",
          "y": "wants buy",
          "yref": "y"
         },
         {
          "font": {
           "color": "#FFFFFF",
           "size": 12
          },
          "showarrow": false,
          "text": "-0.0",
          "x": "30 minutes",
          "xref": "x",
          "y": "wants buy",
          "yref": "y"
         },
         {
          "font": {
           "color": "#FFFFFF",
           "size": 12
          },
          "showarrow": false,
          "text": "-0.0",
          "x": "birthday party",
          "xref": "x",
          "y": "wants buy",
          "yref": "y"
         },
         {
          "font": {
           "color": "#000000",
           "size": 12
          },
          "showarrow": false,
          "text": "0.14",
          "x": "buy new",
          "xref": "x",
          "y": "wants buy",
          "yref": "y"
         },
         {
          "font": {
           "color": "#FFFFFF",
           "size": 12
          },
          "showarrow": false,
          "text": "0.0",
          "x": "doesn know",
          "xref": "x",
          "y": "wants buy",
          "yref": "y"
         },
         {
          "font": {
           "color": "#FFFFFF",
           "size": 12
          },
          "showarrow": false,
          "text": "-0.01",
          "x": "doesn like",
          "xref": "x",
          "y": "wants buy",
          "yref": "y"
         },
         {
          "font": {
           "color": "#FFFFFF",
           "size": 12
          },
          "showarrow": false,
          "text": "-0.0",
          "x": "doesn want",
          "xref": "x",
          "y": "wants buy",
          "yref": "y"
         },
         {
          "font": {
           "color": "#FFFFFF",
           "size": 12
          },
          "showarrow": false,
          "text": "-0.01",
          "x": "going meet",
          "xref": "x",
          "y": "wants buy",
          "yref": "y"
         },
         {
          "font": {
           "color": "#FFFFFF",
           "size": 12
          },
          "showarrow": false,
          "text": "-0.0",
          "x": "new job",
          "xref": "x",
          "y": "wants buy",
          "yref": "y"
         },
         {
          "font": {
           "color": "#FFFFFF",
           "size": 12
          },
          "showarrow": false,
          "text": "-0.0",
          "x": "new year",
          "xref": "x",
          "y": "wants buy",
          "yref": "y"
         },
         {
          "font": {
           "color": "#FFFFFF",
           "size": 12
          },
          "showarrow": false,
          "text": "-0.01",
          "x": "10 minutes",
          "xref": "x",
          "y": "new year",
          "yref": "y"
         },
         {
          "font": {
           "color": "#FFFFFF",
           "size": 12
          },
          "showarrow": false,
          "text": "-0.0",
          "x": "15 minutes",
          "xref": "x",
          "y": "new year",
          "yref": "y"
         },
         {
          "font": {
           "color": "#FFFFFF",
           "size": 12
          },
          "showarrow": false,
          "text": "-0.0",
          "x": "20 minutes",
          "xref": "x",
          "y": "new year",
          "yref": "y"
         },
         {
          "font": {
           "color": "#FFFFFF",
           "size": 12
          },
          "showarrow": false,
          "text": "-0.0",
          "x": "30 minutes",
          "xref": "x",
          "y": "new year",
          "yref": "y"
         },
         {
          "font": {
           "color": "#FFFFFF",
           "size": 12
          },
          "showarrow": false,
          "text": "-0.01",
          "x": "birthday party",
          "xref": "x",
          "y": "new year",
          "yref": "y"
         },
         {
          "font": {
           "color": "#FFFFFF",
           "size": 12
          },
          "showarrow": false,
          "text": "-0.0",
          "x": "buy new",
          "xref": "x",
          "y": "new year",
          "yref": "y"
         },
         {
          "font": {
           "color": "#FFFFFF",
           "size": 12
          },
          "showarrow": false,
          "text": "-0.0",
          "x": "doesn know",
          "xref": "x",
          "y": "new year",
          "yref": "y"
         },
         {
          "font": {
           "color": "#FFFFFF",
           "size": 12
          },
          "showarrow": false,
          "text": "-0.0",
          "x": "doesn like",
          "xref": "x",
          "y": "new year",
          "yref": "y"
         },
         {
          "font": {
           "color": "#FFFFFF",
           "size": 12
          },
          "showarrow": false,
          "text": "-0.0",
          "x": "doesn want",
          "xref": "x",
          "y": "new year",
          "yref": "y"
         },
         {
          "font": {
           "color": "#FFFFFF",
           "size": 12
          },
          "showarrow": false,
          "text": "-0.0",
          "x": "going meet",
          "xref": "x",
          "y": "new year",
          "yref": "y"
         },
         {
          "font": {
           "color": "#FFFFFF",
           "size": 12
          },
          "showarrow": false,
          "text": "0.01",
          "x": "new job",
          "xref": "x",
          "y": "new year",
          "yref": "y"
         },
         {
          "font": {
           "color": "#FFFFFF",
           "size": 12
          },
          "showarrow": false,
          "text": "-0.01",
          "x": "10 minutes",
          "xref": "x",
          "y": "new job",
          "yref": "y"
         },
         {
          "font": {
           "color": "#FFFFFF",
           "size": 12
          },
          "showarrow": false,
          "text": "-0.0",
          "x": "15 minutes",
          "xref": "x",
          "y": "new job",
          "yref": "y"
         },
         {
          "font": {
           "color": "#FFFFFF",
           "size": 12
          },
          "showarrow": false,
          "text": "-0.0",
          "x": "20 minutes",
          "xref": "x",
          "y": "new job",
          "yref": "y"
         },
         {
          "font": {
           "color": "#FFFFFF",
           "size": 12
          },
          "showarrow": false,
          "text": "-0.0",
          "x": "30 minutes",
          "xref": "x",
          "y": "new job",
          "yref": "y"
         },
         {
          "font": {
           "color": "#FFFFFF",
           "size": 12
          },
          "showarrow": false,
          "text": "-0.0",
          "x": "birthday party",
          "xref": "x",
          "y": "new job",
          "yref": "y"
         },
         {
          "font": {
           "color": "#FFFFFF",
           "size": 12
          },
          "showarrow": false,
          "text": "-0.0",
          "x": "buy new",
          "xref": "x",
          "y": "new job",
          "yref": "y"
         },
         {
          "font": {
           "color": "#FFFFFF",
           "size": 12
          },
          "showarrow": false,
          "text": "-0.01",
          "x": "doesn know",
          "xref": "x",
          "y": "new job",
          "yref": "y"
         },
         {
          "font": {
           "color": "#FFFFFF",
           "size": 12
          },
          "showarrow": false,
          "text": "-0.01",
          "x": "doesn like",
          "xref": "x",
          "y": "new job",
          "yref": "y"
         },
         {
          "font": {
           "color": "#FFFFFF",
           "size": 12
          },
          "showarrow": false,
          "text": "-0.01",
          "x": "doesn want",
          "xref": "x",
          "y": "new job",
          "yref": "y"
         },
         {
          "font": {
           "color": "#FFFFFF",
           "size": 12
          },
          "showarrow": false,
          "text": "-0.01",
          "x": "going meet",
          "xref": "x",
          "y": "new job",
          "yref": "y"
         },
         {
          "font": {
           "color": "#FFFFFF",
           "size": 12
          },
          "showarrow": false,
          "text": "-0.01",
          "x": "10 minutes",
          "xref": "x",
          "y": "going meet",
          "yref": "y"
         },
         {
          "font": {
           "color": "#FFFFFF",
           "size": 12
          },
          "showarrow": false,
          "text": "0.01",
          "x": "15 minutes",
          "xref": "x",
          "y": "going meet",
          "yref": "y"
         },
         {
          "font": {
           "color": "#FFFFFF",
           "size": 12
          },
          "showarrow": false,
          "text": "-0.01",
          "x": "20 minutes",
          "xref": "x",
          "y": "going meet",
          "yref": "y"
         },
         {
          "font": {
           "color": "#FFFFFF",
           "size": 12
          },
          "showarrow": false,
          "text": "-0.01",
          "x": "30 minutes",
          "xref": "x",
          "y": "going meet",
          "yref": "y"
         },
         {
          "font": {
           "color": "#FFFFFF",
           "size": 12
          },
          "showarrow": false,
          "text": "-0.0",
          "x": "birthday party",
          "xref": "x",
          "y": "going meet",
          "yref": "y"
         },
         {
          "font": {
           "color": "#FFFFFF",
           "size": 12
          },
          "showarrow": false,
          "text": "-0.01",
          "x": "buy new",
          "xref": "x",
          "y": "going meet",
          "yref": "y"
         },
         {
          "font": {
           "color": "#FFFFFF",
           "size": 12
          },
          "showarrow": false,
          "text": "-0.01",
          "x": "doesn know",
          "xref": "x",
          "y": "going meet",
          "yref": "y"
         },
         {
          "font": {
           "color": "#FFFFFF",
           "size": 12
          },
          "showarrow": false,
          "text": "-0.01",
          "x": "doesn like",
          "xref": "x",
          "y": "going meet",
          "yref": "y"
         },
         {
          "font": {
           "color": "#FFFFFF",
           "size": 12
          },
          "showarrow": false,
          "text": "-0.01",
          "x": "doesn want",
          "xref": "x",
          "y": "going meet",
          "yref": "y"
         },
         {
          "font": {
           "color": "#FFFFFF",
           "size": 12
          },
          "showarrow": false,
          "text": "-0.01",
          "x": "10 minutes",
          "xref": "x",
          "y": "doesn want",
          "yref": "y"
         },
         {
          "font": {
           "color": "#FFFFFF",
           "size": 12
          },
          "showarrow": false,
          "text": "-0.01",
          "x": "15 minutes",
          "xref": "x",
          "y": "doesn want",
          "yref": "y"
         },
         {
          "font": {
           "color": "#FFFFFF",
           "size": 12
          },
          "showarrow": false,
          "text": "-0.01",
          "x": "20 minutes",
          "xref": "x",
          "y": "doesn want",
          "yref": "y"
         },
         {
          "font": {
           "color": "#FFFFFF",
           "size": 12
          },
          "showarrow": false,
          "text": "-0.01",
          "x": "30 minutes",
          "xref": "x",
          "y": "doesn want",
          "yref": "y"
         },
         {
          "font": {
           "color": "#FFFFFF",
           "size": 12
          },
          "showarrow": false,
          "text": "0.01",
          "x": "birthday party",
          "xref": "x",
          "y": "doesn want",
          "yref": "y"
         },
         {
          "font": {
           "color": "#FFFFFF",
           "size": 12
          },
          "showarrow": false,
          "text": "0.01",
          "x": "buy new",
          "xref": "x",
          "y": "doesn want",
          "yref": "y"
         },
         {
          "font": {
           "color": "#FFFFFF",
           "size": 12
          },
          "showarrow": false,
          "text": "-0.01",
          "x": "doesn know",
          "xref": "x",
          "y": "doesn want",
          "yref": "y"
         },
         {
          "font": {
           "color": "#FFFFFF",
           "size": 12
          },
          "showarrow": false,
          "text": "0.01",
          "x": "doesn like",
          "xref": "x",
          "y": "doesn want",
          "yref": "y"
         },
         {
          "font": {
           "color": "#FFFFFF",
           "size": 12
          },
          "showarrow": false,
          "text": "-0.01",
          "x": "10 minutes",
          "xref": "x",
          "y": "doesn like",
          "yref": "y"
         },
         {
          "font": {
           "color": "#FFFFFF",
           "size": 12
          },
          "showarrow": false,
          "text": "-0.01",
          "x": "15 minutes",
          "xref": "x",
          "y": "doesn like",
          "yref": "y"
         },
         {
          "font": {
           "color": "#FFFFFF",
           "size": 12
          },
          "showarrow": false,
          "text": "-0.01",
          "x": "20 minutes",
          "xref": "x",
          "y": "doesn like",
          "yref": "y"
         },
         {
          "font": {
           "color": "#FFFFFF",
           "size": 12
          },
          "showarrow": false,
          "text": "-0.01",
          "x": "30 minutes",
          "xref": "x",
          "y": "doesn like",
          "yref": "y"
         },
         {
          "font": {
           "color": "#FFFFFF",
           "size": 12
          },
          "showarrow": false,
          "text": "-0.01",
          "x": "birthday party",
          "xref": "x",
          "y": "doesn like",
          "yref": "y"
         },
         {
          "font": {
           "color": "#FFFFFF",
           "size": 12
          },
          "showarrow": false,
          "text": "-0.0",
          "x": "buy new",
          "xref": "x",
          "y": "doesn like",
          "yref": "y"
         },
         {
          "font": {
           "color": "#FFFFFF",
           "size": 12
          },
          "showarrow": false,
          "text": "-0.0",
          "x": "doesn know",
          "xref": "x",
          "y": "doesn like",
          "yref": "y"
         },
         {
          "font": {
           "color": "#FFFFFF",
           "size": 12
          },
          "showarrow": false,
          "text": "-0.01",
          "x": "10 minutes",
          "xref": "x",
          "y": "doesn know",
          "yref": "y"
         },
         {
          "font": {
           "color": "#FFFFFF",
           "size": 12
          },
          "showarrow": false,
          "text": "-0.01",
          "x": "15 minutes",
          "xref": "x",
          "y": "doesn know",
          "yref": "y"
         },
         {
          "font": {
           "color": "#FFFFFF",
           "size": 12
          },
          "showarrow": false,
          "text": "-0.01",
          "x": "20 minutes",
          "xref": "x",
          "y": "doesn know",
          "yref": "y"
         },
         {
          "font": {
           "color": "#FFFFFF",
           "size": 12
          },
          "showarrow": false,
          "text": "-0.01",
          "x": "30 minutes",
          "xref": "x",
          "y": "doesn know",
          "yref": "y"
         },
         {
          "font": {
           "color": "#FFFFFF",
           "size": 12
          },
          "showarrow": false,
          "text": "-0.0",
          "x": "birthday party",
          "xref": "x",
          "y": "doesn know",
          "yref": "y"
         },
         {
          "font": {
           "color": "#FFFFFF",
           "size": 12
          },
          "showarrow": false,
          "text": "-0.0",
          "x": "buy new",
          "xref": "x",
          "y": "doesn know",
          "yref": "y"
         },
         {
          "font": {
           "color": "#FFFFFF",
           "size": 12
          },
          "showarrow": false,
          "text": "0.0",
          "x": "10 minutes",
          "xref": "x",
          "y": "buy new",
          "yref": "y"
         },
         {
          "font": {
           "color": "#FFFFFF",
           "size": 12
          },
          "showarrow": false,
          "text": "-0.0",
          "x": "15 minutes",
          "xref": "x",
          "y": "buy new",
          "yref": "y"
         },
         {
          "font": {
           "color": "#FFFFFF",
           "size": 12
          },
          "showarrow": false,
          "text": "-0.0",
          "x": "20 minutes",
          "xref": "x",
          "y": "buy new",
          "yref": "y"
         },
         {
          "font": {
           "color": "#FFFFFF",
           "size": 12
          },
          "showarrow": false,
          "text": "-0.0",
          "x": "30 minutes",
          "xref": "x",
          "y": "buy new",
          "yref": "y"
         },
         {
          "font": {
           "color": "#FFFFFF",
           "size": 12
          },
          "showarrow": false,
          "text": "-0.0",
          "x": "birthday party",
          "xref": "x",
          "y": "buy new",
          "yref": "y"
         },
         {
          "font": {
           "color": "#FFFFFF",
           "size": 12
          },
          "showarrow": false,
          "text": "-0.01",
          "x": "10 minutes",
          "xref": "x",
          "y": "birthday party",
          "yref": "y"
         },
         {
          "font": {
           "color": "#FFFFFF",
           "size": 12
          },
          "showarrow": false,
          "text": "-0.0",
          "x": "15 minutes",
          "xref": "x",
          "y": "birthday party",
          "yref": "y"
         },
         {
          "font": {
           "color": "#FFFFFF",
           "size": 12
          },
          "showarrow": false,
          "text": "-0.0",
          "x": "20 minutes",
          "xref": "x",
          "y": "birthday party",
          "yref": "y"
         },
         {
          "font": {
           "color": "#FFFFFF",
           "size": 12
          },
          "showarrow": false,
          "text": "-0.0",
          "x": "30 minutes",
          "xref": "x",
          "y": "birthday party",
          "yref": "y"
         },
         {
          "font": {
           "color": "#FFFFFF",
           "size": 12
          },
          "showarrow": false,
          "text": "0.01",
          "x": "10 minutes",
          "xref": "x",
          "y": "30 minutes",
          "yref": "y"
         },
         {
          "font": {
           "color": "#FFFFFF",
           "size": 12
          },
          "showarrow": false,
          "text": "0.01",
          "x": "15 minutes",
          "xref": "x",
          "y": "30 minutes",
          "yref": "y"
         },
         {
          "font": {
           "color": "#FFFFFF",
           "size": 12
          },
          "showarrow": false,
          "text": "-0.0",
          "x": "20 minutes",
          "xref": "x",
          "y": "30 minutes",
          "yref": "y"
         },
         {
          "font": {
           "color": "#FFFFFF",
           "size": 12
          },
          "showarrow": false,
          "text": "-0.01",
          "x": "10 minutes",
          "xref": "x",
          "y": "20 minutes",
          "yref": "y"
         },
         {
          "font": {
           "color": "#FFFFFF",
           "size": 12
          },
          "showarrow": false,
          "text": "0.0",
          "x": "15 minutes",
          "xref": "x",
          "y": "20 minutes",
          "yref": "y"
         },
         {
          "font": {
           "color": "#FFFFFF",
           "size": 12
          },
          "showarrow": false,
          "text": "-0.01",
          "x": "10 minutes",
          "xref": "x",
          "y": "15 minutes",
          "yref": "y"
         }
        ],
        "height": 800,
        "margin": {
         "l": 110,
         "t": 210
        },
        "template": {
         "data": {
          "bar": [
           {
            "error_x": {
             "color": "#f2f5fa"
            },
            "error_y": {
             "color": "#f2f5fa"
            },
            "marker": {
             "line": {
              "color": "rgb(17,17,17)",
              "width": 0.5
             },
             "pattern": {
              "fillmode": "overlay",
              "size": 10,
              "solidity": 0.2
             }
            },
            "type": "bar"
           }
          ],
          "barpolar": [
           {
            "marker": {
             "line": {
              "color": "rgb(17,17,17)",
              "width": 0.5
             },
             "pattern": {
              "fillmode": "overlay",
              "size": 10,
              "solidity": 0.2
             }
            },
            "type": "barpolar"
           }
          ],
          "carpet": [
           {
            "aaxis": {
             "endlinecolor": "#A2B1C6",
             "gridcolor": "#506784",
             "linecolor": "#506784",
             "minorgridcolor": "#506784",
             "startlinecolor": "#A2B1C6"
            },
            "baxis": {
             "endlinecolor": "#A2B1C6",
             "gridcolor": "#506784",
             "linecolor": "#506784",
             "minorgridcolor": "#506784",
             "startlinecolor": "#A2B1C6"
            },
            "type": "carpet"
           }
          ],
          "choropleth": [
           {
            "colorbar": {
             "outlinewidth": 0,
             "ticks": ""
            },
            "type": "choropleth"
           }
          ],
          "contour": [
           {
            "colorbar": {
             "outlinewidth": 0,
             "ticks": ""
            },
            "colorscale": [
             [
              0,
              "#0d0887"
             ],
             [
              0.1111111111111111,
              "#46039f"
             ],
             [
              0.2222222222222222,
              "#7201a8"
             ],
             [
              0.3333333333333333,
              "#9c179e"
             ],
             [
              0.4444444444444444,
              "#bd3786"
             ],
             [
              0.5555555555555556,
              "#d8576b"
             ],
             [
              0.6666666666666666,
              "#ed7953"
             ],
             [
              0.7777777777777778,
              "#fb9f3a"
             ],
             [
              0.8888888888888888,
              "#fdca26"
             ],
             [
              1,
              "#f0f921"
             ]
            ],
            "type": "contour"
           }
          ],
          "contourcarpet": [
           {
            "colorbar": {
             "outlinewidth": 0,
             "ticks": ""
            },
            "type": "contourcarpet"
           }
          ],
          "heatmap": [
           {
            "colorbar": {
             "outlinewidth": 0,
             "ticks": ""
            },
            "colorscale": [
             [
              0,
              "#0d0887"
             ],
             [
              0.1111111111111111,
              "#46039f"
             ],
             [
              0.2222222222222222,
              "#7201a8"
             ],
             [
              0.3333333333333333,
              "#9c179e"
             ],
             [
              0.4444444444444444,
              "#bd3786"
             ],
             [
              0.5555555555555556,
              "#d8576b"
             ],
             [
              0.6666666666666666,
              "#ed7953"
             ],
             [
              0.7777777777777778,
              "#fb9f3a"
             ],
             [
              0.8888888888888888,
              "#fdca26"
             ],
             [
              1,
              "#f0f921"
             ]
            ],
            "type": "heatmap"
           }
          ],
          "histogram": [
           {
            "marker": {
             "pattern": {
              "fillmode": "overlay",
              "size": 10,
              "solidity": 0.2
             }
            },
            "type": "histogram"
           }
          ],
          "histogram2d": [
           {
            "colorbar": {
             "outlinewidth": 0,
             "ticks": ""
            },
            "colorscale": [
             [
              0,
              "#0d0887"
             ],
             [
              0.1111111111111111,
              "#46039f"
             ],
             [
              0.2222222222222222,
              "#7201a8"
             ],
             [
              0.3333333333333333,
              "#9c179e"
             ],
             [
              0.4444444444444444,
              "#bd3786"
             ],
             [
              0.5555555555555556,
              "#d8576b"
             ],
             [
              0.6666666666666666,
              "#ed7953"
             ],
             [
              0.7777777777777778,
              "#fb9f3a"
             ],
             [
              0.8888888888888888,
              "#fdca26"
             ],
             [
              1,
              "#f0f921"
             ]
            ],
            "type": "histogram2d"
           }
          ],
          "histogram2dcontour": [
           {
            "colorbar": {
             "outlinewidth": 0,
             "ticks": ""
            },
            "colorscale": [
             [
              0,
              "#0d0887"
             ],
             [
              0.1111111111111111,
              "#46039f"
             ],
             [
              0.2222222222222222,
              "#7201a8"
             ],
             [
              0.3333333333333333,
              "#9c179e"
             ],
             [
              0.4444444444444444,
              "#bd3786"
             ],
             [
              0.5555555555555556,
              "#d8576b"
             ],
             [
              0.6666666666666666,
              "#ed7953"
             ],
             [
              0.7777777777777778,
              "#fb9f3a"
             ],
             [
              0.8888888888888888,
              "#fdca26"
             ],
             [
              1,
              "#f0f921"
             ]
            ],
            "type": "histogram2dcontour"
           }
          ],
          "mesh3d": [
           {
            "colorbar": {
             "outlinewidth": 0,
             "ticks": ""
            },
            "type": "mesh3d"
           }
          ],
          "parcoords": [
           {
            "line": {
             "colorbar": {
              "outlinewidth": 0,
              "ticks": ""
             }
            },
            "type": "parcoords"
           }
          ],
          "pie": [
           {
            "automargin": true,
            "type": "pie"
           }
          ],
          "scatter": [
           {
            "marker": {
             "line": {
              "color": "#283442"
             }
            },
            "type": "scatter"
           }
          ],
          "scatter3d": [
           {
            "line": {
             "colorbar": {
              "outlinewidth": 0,
              "ticks": ""
             }
            },
            "marker": {
             "colorbar": {
              "outlinewidth": 0,
              "ticks": ""
             }
            },
            "type": "scatter3d"
           }
          ],
          "scattercarpet": [
           {
            "marker": {
             "colorbar": {
              "outlinewidth": 0,
              "ticks": ""
             }
            },
            "type": "scattercarpet"
           }
          ],
          "scattergeo": [
           {
            "marker": {
             "colorbar": {
              "outlinewidth": 0,
              "ticks": ""
             }
            },
            "type": "scattergeo"
           }
          ],
          "scattergl": [
           {
            "marker": {
             "line": {
              "color": "#283442"
             }
            },
            "type": "scattergl"
           }
          ],
          "scattermap": [
           {
            "marker": {
             "colorbar": {
              "outlinewidth": 0,
              "ticks": ""
             }
            },
            "type": "scattermap"
           }
          ],
          "scattermapbox": [
           {
            "marker": {
             "colorbar": {
              "outlinewidth": 0,
              "ticks": ""
             }
            },
            "type": "scattermapbox"
           }
          ],
          "scatterpolar": [
           {
            "marker": {
             "colorbar": {
              "outlinewidth": 0,
              "ticks": ""
             }
            },
            "type": "scatterpolar"
           }
          ],
          "scatterpolargl": [
           {
            "marker": {
             "colorbar": {
              "outlinewidth": 0,
              "ticks": ""
             }
            },
            "type": "scatterpolargl"
           }
          ],
          "scatterternary": [
           {
            "marker": {
             "colorbar": {
              "outlinewidth": 0,
              "ticks": ""
             }
            },
            "type": "scatterternary"
           }
          ],
          "surface": [
           {
            "colorbar": {
             "outlinewidth": 0,
             "ticks": ""
            },
            "colorscale": [
             [
              0,
              "#0d0887"
             ],
             [
              0.1111111111111111,
              "#46039f"
             ],
             [
              0.2222222222222222,
              "#7201a8"
             ],
             [
              0.3333333333333333,
              "#9c179e"
             ],
             [
              0.4444444444444444,
              "#bd3786"
             ],
             [
              0.5555555555555556,
              "#d8576b"
             ],
             [
              0.6666666666666666,
              "#ed7953"
             ],
             [
              0.7777777777777778,
              "#fb9f3a"
             ],
             [
              0.8888888888888888,
              "#fdca26"
             ],
             [
              1,
              "#f0f921"
             ]
            ],
            "type": "surface"
           }
          ],
          "table": [
           {
            "cells": {
             "fill": {
              "color": "#506784"
             },
             "line": {
              "color": "rgb(17,17,17)"
             }
            },
            "header": {
             "fill": {
              "color": "#2a3f5f"
             },
             "line": {
              "color": "rgb(17,17,17)"
             }
            },
            "type": "table"
           }
          ]
         },
         "layout": {
          "annotationdefaults": {
           "arrowcolor": "#f2f5fa",
           "arrowhead": 0,
           "arrowwidth": 1
          },
          "autotypenumbers": "strict",
          "coloraxis": {
           "colorbar": {
            "outlinewidth": 0,
            "ticks": ""
           }
          },
          "colorscale": {
           "diverging": [
            [
             0,
             "#8e0152"
            ],
            [
             0.1,
             "#c51b7d"
            ],
            [
             0.2,
             "#de77ae"
            ],
            [
             0.3,
             "#f1b6da"
            ],
            [
             0.4,
             "#fde0ef"
            ],
            [
             0.5,
             "#f7f7f7"
            ],
            [
             0.6,
             "#e6f5d0"
            ],
            [
             0.7,
             "#b8e186"
            ],
            [
             0.8,
             "#7fbc41"
            ],
            [
             0.9,
             "#4d9221"
            ],
            [
             1,
             "#276419"
            ]
           ],
           "sequential": [
            [
             0,
             "#0d0887"
            ],
            [
             0.1111111111111111,
             "#46039f"
            ],
            [
             0.2222222222222222,
             "#7201a8"
            ],
            [
             0.3333333333333333,
             "#9c179e"
            ],
            [
             0.4444444444444444,
             "#bd3786"
            ],
            [
             0.5555555555555556,
             "#d8576b"
            ],
            [
             0.6666666666666666,
             "#ed7953"
            ],
            [
             0.7777777777777778,
             "#fb9f3a"
            ],
            [
             0.8888888888888888,
             "#fdca26"
            ],
            [
             1,
             "#f0f921"
            ]
           ],
           "sequentialminus": [
            [
             0,
             "#0d0887"
            ],
            [
             0.1111111111111111,
             "#46039f"
            ],
            [
             0.2222222222222222,
             "#7201a8"
            ],
            [
             0.3333333333333333,
             "#9c179e"
            ],
            [
             0.4444444444444444,
             "#bd3786"
            ],
            [
             0.5555555555555556,
             "#d8576b"
            ],
            [
             0.6666666666666666,
             "#ed7953"
            ],
            [
             0.7777777777777778,
             "#fb9f3a"
            ],
            [
             0.8888888888888888,
             "#fdca26"
            ],
            [
             1,
             "#f0f921"
            ]
           ]
          },
          "colorway": [
           "#636efa",
           "#EF553B",
           "#00cc96",
           "#ab63fa",
           "#FFA15A",
           "#19d3f3",
           "#FF6692",
           "#B6E880",
           "#FF97FF",
           "#FECB52"
          ],
          "font": {
           "color": "#f2f5fa"
          },
          "geo": {
           "bgcolor": "rgb(17,17,17)",
           "lakecolor": "rgb(17,17,17)",
           "landcolor": "rgb(17,17,17)",
           "showlakes": true,
           "showland": true,
           "subunitcolor": "#506784"
          },
          "hoverlabel": {
           "align": "left"
          },
          "hovermode": "closest",
          "mapbox": {
           "style": "dark"
          },
          "paper_bgcolor": "rgb(17,17,17)",
          "plot_bgcolor": "rgb(17,17,17)",
          "polar": {
           "angularaxis": {
            "gridcolor": "#506784",
            "linecolor": "#506784",
            "ticks": ""
           },
           "bgcolor": "rgb(17,17,17)",
           "radialaxis": {
            "gridcolor": "#506784",
            "linecolor": "#506784",
            "ticks": ""
           }
          },
          "scene": {
           "xaxis": {
            "backgroundcolor": "rgb(17,17,17)",
            "gridcolor": "#506784",
            "gridwidth": 2,
            "linecolor": "#506784",
            "showbackground": true,
            "ticks": "",
            "zerolinecolor": "#C8D4E3"
           },
           "yaxis": {
            "backgroundcolor": "rgb(17,17,17)",
            "gridcolor": "#506784",
            "gridwidth": 2,
            "linecolor": "#506784",
            "showbackground": true,
            "ticks": "",
            "zerolinecolor": "#C8D4E3"
           },
           "zaxis": {
            "backgroundcolor": "rgb(17,17,17)",
            "gridcolor": "#506784",
            "gridwidth": 2,
            "linecolor": "#506784",
            "showbackground": true,
            "ticks": "",
            "zerolinecolor": "#C8D4E3"
           }
          },
          "shapedefaults": {
           "line": {
            "color": "#f2f5fa"
           }
          },
          "sliderdefaults": {
           "bgcolor": "#C8D4E3",
           "bordercolor": "rgb(17,17,17)",
           "borderwidth": 1,
           "tickwidth": 0
          },
          "ternary": {
           "aaxis": {
            "gridcolor": "#506784",
            "linecolor": "#506784",
            "ticks": ""
           },
           "baxis": {
            "gridcolor": "#506784",
            "linecolor": "#506784",
            "ticks": ""
           },
           "bgcolor": "rgb(17,17,17)",
           "caxis": {
            "gridcolor": "#506784",
            "linecolor": "#506784",
            "ticks": ""
           }
          },
          "title": {
           "x": 0.05
          },
          "updatemenudefaults": {
           "bgcolor": "#506784",
           "borderwidth": 0
          },
          "xaxis": {
           "automargin": true,
           "gridcolor": "#283442",
           "linecolor": "#506784",
           "ticks": "",
           "title": {
            "standoff": 15
           },
           "zerolinecolor": "#283442",
           "zerolinewidth": 2
          },
          "yaxis": {
           "automargin": true,
           "gridcolor": "#283442",
           "linecolor": "#506784",
           "ticks": "",
           "title": {
            "standoff": 15
           },
           "zerolinecolor": "#283442",
           "zerolinewidth": 2
          }
         }
        },
        "title": {
         "text": "<b>Bigrams Heatmap<br><sup>&nbsp;&nbsp;&nbsp;&nbsp;<i>Train - Summary</i></sup></b>",
         "x": 0.025,
         "xanchor": "left",
         "y": 0.95
        },
        "width": 800,
        "xaxis": {
         "dtick": 1,
         "gridcolor": "rgb(0, 0, 0)",
         "showgrid": false,
         "side": "top",
         "ticks": ""
        },
        "yaxis": {
         "autorange": "reversed",
         "dtick": 1,
         "showgrid": false,
         "ticks": "",
         "ticksuffix": "  "
        }
       }
      }
     },
     "metadata": {},
     "output_type": "display_data"
    }
   ],
   "source": [
    "vectorizer = TfidfVectorizer(max_features = 15,stop_words = 'english',ngram_range = (2,2)) # Top 15 terms\n",
    "x = vectorizer.fit_transform(train['summary'].fillna(''))\n",
    "df_tfidfvect = pd.DataFrame(x.toarray(), columns=vectorizer.get_feature_names_out())\n",
    "plot_correlation(df_tfidfvect, 'Bigrams', 'Train - Summary', 800, 800, 12)"
   ]
  },
  {
   "cell_type": "code",
   "execution_count": 48,
   "metadata": {},
   "outputs": [
    {
     "data": {
      "text/html": [
       "<div>\n",
       "<style scoped>\n",
       "    .dataframe tbody tr th:only-of-type {\n",
       "        vertical-align: middle;\n",
       "    }\n",
       "\n",
       "    .dataframe tbody tr th {\n",
       "        vertical-align: top;\n",
       "    }\n",
       "\n",
       "    .dataframe thead th {\n",
       "        text-align: right;\n",
       "    }\n",
       "</style>\n",
       "<table border=\"1\" class=\"dataframe\">\n",
       "  <thead>\n",
       "    <tr style=\"text-align: right;\">\n",
       "      <th></th>\n",
       "      <th>id</th>\n",
       "      <th>dialogue</th>\n",
       "      <th>summary</th>\n",
       "    </tr>\n",
       "  </thead>\n",
       "  <tbody>\n",
       "    <tr>\n",
       "      <th>136</th>\n",
       "      <td>13827893</td>\n",
       "      <td>Kate: I'm here &lt;file_other&gt;\\r\\nKate: there was no place in Red Lion\\r\\nSteven: hey! but it's quite far away\\r\\nKate: c'mon it's just 10 min by bike!\\r\\nSteven: yes, but I'm not by bike\\r\\nKate: car?\\r\\nSteven: nope\\r\\nSteven: by foot :P :P \\r\\nSteven: anyway google maps says 15 min and I'm there:D\\r\\nKate: ok, w8in ^^</td>\n",
       "      <td>Kate will meet with Steven in 15 minutes.</td>\n",
       "    </tr>\n",
       "    <tr>\n",
       "      <th>428</th>\n",
       "      <td>13811484-1</td>\n",
       "      <td>Jenny: Let's go out to eat.\\r\\nLucy: That sounds like fun.\\r\\nJenny: Where do you wanna go?\\r\\nLucy: Let me think a minute.\\r\\nJenny: I feel like Chinese.\\r\\nLucy: That sounds yummy.\\r\\nJenny: I know a good Chinese restaurant.\\r\\nLucy: How far away is it?\\r\\nJenny: It's only 10 minutes from my place.\\r\\nLucy: Do we have to book a table?\\r\\nJenny: Oh, no. We can walk right in.\\r\\nLucy: Cool. Will be in 15 minute. I'm really hungry!</td>\n",
       "      <td>Jenny and Lucy are going to a Chinese restaurant to eat. They do not need to book a table. Lucy will be at Jenny's in 15 minutes.</td>\n",
       "    </tr>\n",
       "    <tr>\n",
       "      <th>570</th>\n",
       "      <td>13818296</td>\n",
       "      <td>Danielle: hey where RU?\\r\\nJuan: I told u I'd be late!\\r\\nDanielle: but it's been almost 45 mins!\\r\\nDanielle: &lt;file_gif&gt;\\r\\nJuan: I'll be there in 15 minutes\\r\\nJuan: &lt;file_gif&gt;</td>\n",
       "      <td>Juan is almost 45 minutes late. He'll be there in 15 minutes.</td>\n",
       "    </tr>\n",
       "    <tr>\n",
       "      <th>1213</th>\n",
       "      <td>13682296-1</td>\n",
       "      <td>John: I know you will be outraged but I like to provoke you :P\\r\\nTyre: What is it?\\r\\nJohn: I talked to our neighbour today and I am really starting to think that religious people are just stupid.\\r\\nTyre: Gosh. You know it's a stupid claim.\\r\\nJohn: I know that there are some clever, religious individuals. But statistically religious people are stupid.\\r\\nTyre: It's not true. There are stupid religious people and clever ones, just like atheists.\\r\\nJohn: But most of academics are not religious.\\r\\nTyre: How do you know it?\\r\\nJohn: Experience but also some data I've seen.\\r\\nTyre: It's just not true.\\r\\nJohn: They are mostly people believing in things that have nothing to do with logic or reason: miracles, ghosts, witchcraft, just as our neighbour.\\r\\nTyre: I think it's only one part of them. There are theologians, people who actually know a lot about philosophy, logic etc.\\r\\nJohn: Yes, there are also people doing \"scientifically\" tarot, horoscopes and astrology.\\r\\nTyre: You ca...</td>\n",
       "      <td>John and Tyre's neighbour stopped John in the staircase and talked about some miracles for 15 minutes. John thinks that religious people are stupid. Tyre disagrees with this generalization.</td>\n",
       "    </tr>\n",
       "    <tr>\n",
       "      <th>1812</th>\n",
       "      <td>13820691</td>\n",
       "      <td>Madge: are you alive? xD\\r\\nDorothy: i'm still drunk\\r\\nMadge: xDDDDDDDD jeeez\\r\\nFelicia: I don't know...how much did i drink?\\r\\nMadge: like 10 rounds\\r\\nFelicia: SHIT \\r\\nFelicia: you gotta be kidding me ahahaha xDDDDDDDDDDDDDDDDDD\\r\\nDorothy: of course she is\\r\\nDorothy: it was at least 15\\r\\nFelicia: ;________________;\\r\\nFelicia: was nice to meet you girls...shame on me as always\\r\\nDorothy: oh stop talking\\r\\nDorothy: just live the moment B-)\\r\\nFelicia: how am i supossed to live the moment if i don't remember the half o the night XD\\r\\nDorothy: well it happens :p \\r\\nMadge: we gotta repeat it, i had a lot of fun :D\\r\\nDorothy: i'm in. in 15min?\\r\\nFelicia: you're crazy ;-;</td>\n",
       "      <td>Dorothy is still intoxicated after at least 15 rounds of drink yesterday and can't remember much of what happened. She would like to meet her friends for a drink again in 15 minutes.</td>\n",
       "    </tr>\n",
       "  </tbody>\n",
       "</table>\n",
       "</div>"
      ],
      "text/plain": [
       "              id  \\\n",
       "136     13827893   \n",
       "428   13811484-1   \n",
       "570     13818296   \n",
       "1213  13682296-1   \n",
       "1812    13820691   \n",
       "\n",
       "                                                                                                                                                                                                                                                                                                                                                                                                                                                                                                                                                                                                                                                                                                                                                                                                                                                                                                                                                                                                                                     dialogue  \\\n",
       "136                                                                                                                                                                                                                                                                                                                                                                                                                                                                                                                                                                                                                                                                                                           Kate: I'm here <file_other>\\r\\nKate: there was no place in Red Lion\\r\\nSteven: hey! but it's quite far away\\r\\nKate: c'mon it's just 10 min by bike!\\r\\nSteven: yes, but I'm not by bike\\r\\nKate: car?\\r\\nSteven: nope\\r\\nSteven: by foot :P :P \\r\\nSteven: anyway google maps says 15 min and I'm there:D\\r\\nKate: ok, w8in ^^   \n",
       "428                                                                                                                                                                                                                                                                                                                                                                                                                                                                                                                                                                                        Jenny: Let's go out to eat.\\r\\nLucy: That sounds like fun.\\r\\nJenny: Where do you wanna go?\\r\\nLucy: Let me think a minute.\\r\\nJenny: I feel like Chinese.\\r\\nLucy: That sounds yummy.\\r\\nJenny: I know a good Chinese restaurant.\\r\\nLucy: How far away is it?\\r\\nJenny: It's only 10 minutes from my place.\\r\\nLucy: Do we have to book a table?\\r\\nJenny: Oh, no. We can walk right in.\\r\\nLucy: Cool. Will be in 15 minute. I'm really hungry!   \n",
       "570                                                                                                                                                                                                                                                                                                                                                                                                                                                                                                                                                                                                                                                                                                                                                                                                                                                        Danielle: hey where RU?\\r\\nJuan: I told u I'd be late!\\r\\nDanielle: but it's been almost 45 mins!\\r\\nDanielle: <file_gif>\\r\\nJuan: I'll be there in 15 minutes\\r\\nJuan: <file_gif>   \n",
       "1213  John: I know you will be outraged but I like to provoke you :P\\r\\nTyre: What is it?\\r\\nJohn: I talked to our neighbour today and I am really starting to think that religious people are just stupid.\\r\\nTyre: Gosh. You know it's a stupid claim.\\r\\nJohn: I know that there are some clever, religious individuals. But statistically religious people are stupid.\\r\\nTyre: It's not true. There are stupid religious people and clever ones, just like atheists.\\r\\nJohn: But most of academics are not religious.\\r\\nTyre: How do you know it?\\r\\nJohn: Experience but also some data I've seen.\\r\\nTyre: It's just not true.\\r\\nJohn: They are mostly people believing in things that have nothing to do with logic or reason: miracles, ghosts, witchcraft, just as our neighbour.\\r\\nTyre: I think it's only one part of them. There are theologians, people who actually know a lot about philosophy, logic etc.\\r\\nJohn: Yes, there are also people doing \"scientifically\" tarot, horoscopes and astrology.\\r\\nTyre: You ca...   \n",
       "1812                                                                                                                                                                                                                                                                                                                        Madge: are you alive? xD\\r\\nDorothy: i'm still drunk\\r\\nMadge: xDDDDDDDD jeeez\\r\\nFelicia: I don't know...how much did i drink?\\r\\nMadge: like 10 rounds\\r\\nFelicia: SHIT \\r\\nFelicia: you gotta be kidding me ahahaha xDDDDDDDDDDDDDDDDDD\\r\\nDorothy: of course she is\\r\\nDorothy: it was at least 15\\r\\nFelicia: ;________________;\\r\\nFelicia: was nice to meet you girls...shame on me as always\\r\\nDorothy: oh stop talking\\r\\nDorothy: just live the moment B-)\\r\\nFelicia: how am i supossed to live the moment if i don't remember the half o the night XD\\r\\nDorothy: well it happens :p \\r\\nMadge: we gotta repeat it, i had a lot of fun :D\\r\\nDorothy: i'm in. in 15min?\\r\\nFelicia: you're crazy ;-;   \n",
       "\n",
       "                                                                                                                                                                                            summary  \n",
       "136                                                                                                                                                       Kate will meet with Steven in 15 minutes.  \n",
       "428                                                               Jenny and Lucy are going to a Chinese restaurant to eat. They do not need to book a table. Lucy will be at Jenny's in 15 minutes.  \n",
       "570                                                                                                                                  Juan is almost 45 minutes late. He'll be there in 15 minutes.   \n",
       "1213  John and Tyre's neighbour stopped John in the staircase and talked about some miracles for 15 minutes. John thinks that religious people are stupid. Tyre disagrees with this generalization.  \n",
       "1812         Dorothy is still intoxicated after at least 15 rounds of drink yesterday and can't remember much of what happened. She would like to meet her friends for a drink again in 15 minutes.  "
      ]
     },
     "execution_count": 48,
     "metadata": {},
     "output_type": "execute_result"
    }
   ],
   "source": [
    "# Filtering dataset to see those containing the term '15 minutes' in the summary\n",
    "filtered_train = train[train['summary'].str.contains('15 minutes', case=False, na=False)]\n",
    "filtered_train.head()"
   ]
  },
  {
   "cell_type": "code",
   "execution_count": 49,
   "metadata": {},
   "outputs": [
    {
     "data": {
      "application/vnd.plotly.v1+json": {
       "config": {
        "plotlyServerURL": "https://plot.ly"
       },
       "data": [
        {
         "colorscale": [
          [
           0,
           "#00224e"
          ],
          [
           0.1111111111111111,
           "#123570"
          ],
          [
           0.2222222222222222,
           "#3b496c"
          ],
          [
           0.3333333333333333,
           "#575d6d"
          ],
          [
           0.4444444444444444,
           "#707173"
          ],
          [
           0.5555555555555556,
           "#8a8678"
          ],
          [
           0.6666666666666666,
           "#a59c74"
          ],
          [
           0.7777777777777778,
           "#c3b369"
          ],
          [
           0.8888888888888888,
           "#e1cc55"
          ],
          [
           1,
           "#fee838"
          ]
         ],
         "reversescale": false,
         "showscale": false,
         "type": "heatmap",
         "x": [
          "don feel like",
          "don think ll",
          "don worry ll",
          "file_photo file_photo file_photo",
          "ha ha ha",
          "happy new year",
          "jenny morris sharpei",
          "just let know",
          "let know need",
          "ll let know",
          "new year eve",
          "ok let know",
          "really don know",
          "sounds like good"
         ],
         "y": [
          "sounds like plan",
          "sounds like good",
          "really don know",
          "ok let know",
          "new year eve",
          "ll let know",
          "let know need",
          "just let know",
          "jenny morris sharpei",
          "happy new year",
          "ha ha ha",
          "file_photo file_photo file_photo",
          "don worry ll",
          "don think ll"
         ],
         "z": [
          [
           0.01,
           0,
           0,
           0.02,
           0,
           0,
           0,
           0,
           0,
           0,
           0,
           0,
           0,
           0
          ],
          [
           0,
           0,
           0,
           0,
           0.03,
           0,
           0,
           0,
           0,
           0.01,
           0.03,
           0,
           0
          ],
          [
           0,
           0,
           0,
           0,
           0,
           0,
           0,
           0,
           0,
           -0.01,
           0,
           0
          ],
          [
           0,
           0,
           0,
           0,
           0,
           0,
           0,
           0,
           0.05,
           0,
           0
          ],
          [
           0.01,
           0,
           0,
           0,
           0,
           0,
           0,
           0.01,
           0,
           -0.01
          ],
          [
           0,
           0.01,
           0,
           0,
           0,
           0,
           0,
           0,
           0.04
          ],
          [
           0,
           0,
           0,
           0,
           0,
           0,
           0,
           0.02
          ],
          [
           0,
           0,
           0,
           0,
           0,
           0,
           0
          ],
          [
           0,
           0,
           0,
           0,
           0,
           0
          ],
          [
           0,
           0,
           0,
           0,
           0
          ],
          [
           0,
           0,
           0.01,
           0
          ],
          [
           0,
           0,
           0
          ],
          [
           0,
           0.01
          ],
          [
           0
          ]
         ]
        },
        {
         "colorscale": [
          [
           0,
           "#00224e"
          ],
          [
           0.1111111111111111,
           "#123570"
          ],
          [
           0.2222222222222222,
           "#3b496c"
          ],
          [
           0.3333333333333333,
           "#575d6d"
          ],
          [
           0.4444444444444444,
           "#707173"
          ],
          [
           0.5555555555555556,
           "#8a8678"
          ],
          [
           0.6666666666666666,
           "#a59c74"
          ],
          [
           0.7777777777777778,
           "#c3b369"
          ],
          [
           0.8888888888888888,
           "#e1cc55"
          ],
          [
           1,
           "#fee838"
          ]
         ],
         "showscale": true,
         "type": "heatmap",
         "visible": true,
         "z": [
          [
           0.01,
           0,
           0,
           0.02,
           0,
           0,
           0,
           0,
           0,
           0,
           0,
           0,
           0,
           0
          ],
          [
           0,
           0,
           0,
           0,
           0.03,
           0,
           0,
           0,
           0,
           0.01,
           0.03,
           0,
           0
          ],
          [
           0,
           0,
           0,
           0,
           0,
           0,
           0,
           0,
           0,
           -0.01,
           0,
           0
          ],
          [
           0,
           0,
           0,
           0,
           0,
           0,
           0,
           0,
           0.05,
           0,
           0
          ],
          [
           0.01,
           0,
           0,
           0,
           0,
           0,
           0,
           0.01,
           0,
           -0.01
          ],
          [
           0,
           0.01,
           0,
           0,
           0,
           0,
           0,
           0,
           0.04
          ],
          [
           0,
           0,
           0,
           0,
           0,
           0,
           0,
           0.02
          ],
          [
           0,
           0,
           0,
           0,
           0,
           0,
           0
          ],
          [
           0,
           0,
           0,
           0,
           0,
           0
          ],
          [
           0,
           0,
           0,
           0,
           0
          ],
          [
           0,
           0,
           0.01,
           0
          ],
          [
           0,
           0,
           0
          ],
          [
           0,
           0.01
          ],
          [
           0
          ]
         ]
        }
       ],
       "layout": {
        "annotations": [
         {
          "font": {
           "color": "#FFFFFF",
           "size": 12
          },
          "showarrow": false,
          "text": "0.01",
          "x": "don feel like",
          "xref": "x",
          "y": "sounds like plan",
          "yref": "y"
         },
         {
          "font": {
           "color": "#FFFFFF",
           "size": 12
          },
          "showarrow": false,
          "text": "-0.0",
          "x": "don think ll",
          "xref": "x",
          "y": "sounds like plan",
          "yref": "y"
         },
         {
          "font": {
           "color": "#FFFFFF",
           "size": 12
          },
          "showarrow": false,
          "text": "-0.0",
          "x": "don worry ll",
          "xref": "x",
          "y": "sounds like plan",
          "yref": "y"
         },
         {
          "font": {
           "color": "#000000",
           "size": 12
          },
          "showarrow": false,
          "text": "0.02",
          "x": "file_photo file_photo file_photo",
          "xref": "x",
          "y": "sounds like plan",
          "yref": "y"
         },
         {
          "font": {
           "color": "#FFFFFF",
           "size": 12
          },
          "showarrow": false,
          "text": "-0.0",
          "x": "ha ha ha",
          "xref": "x",
          "y": "sounds like plan",
          "yref": "y"
         },
         {
          "font": {
           "color": "#FFFFFF",
           "size": 12
          },
          "showarrow": false,
          "text": "-0.0",
          "x": "happy new year",
          "xref": "x",
          "y": "sounds like plan",
          "yref": "y"
         },
         {
          "font": {
           "color": "#FFFFFF",
           "size": 12
          },
          "showarrow": false,
          "text": "-0.0",
          "x": "jenny morris sharpei",
          "xref": "x",
          "y": "sounds like plan",
          "yref": "y"
         },
         {
          "font": {
           "color": "#FFFFFF",
           "size": 12
          },
          "showarrow": false,
          "text": "-0.0",
          "x": "just let know",
          "xref": "x",
          "y": "sounds like plan",
          "yref": "y"
         },
         {
          "font": {
           "color": "#FFFFFF",
           "size": 12
          },
          "showarrow": false,
          "text": "-0.0",
          "x": "let know need",
          "xref": "x",
          "y": "sounds like plan",
          "yref": "y"
         },
         {
          "font": {
           "color": "#FFFFFF",
           "size": 12
          },
          "showarrow": false,
          "text": "0.0",
          "x": "ll let know",
          "xref": "x",
          "y": "sounds like plan",
          "yref": "y"
         },
         {
          "font": {
           "color": "#FFFFFF",
           "size": 12
          },
          "showarrow": false,
          "text": "-0.0",
          "x": "new year eve",
          "xref": "x",
          "y": "sounds like plan",
          "yref": "y"
         },
         {
          "font": {
           "color": "#FFFFFF",
           "size": 12
          },
          "showarrow": false,
          "text": "-0.0",
          "x": "ok let know",
          "xref": "x",
          "y": "sounds like plan",
          "yref": "y"
         },
         {
          "font": {
           "color": "#FFFFFF",
           "size": 12
          },
          "showarrow": false,
          "text": "-0.0",
          "x": "really don know",
          "xref": "x",
          "y": "sounds like plan",
          "yref": "y"
         },
         {
          "font": {
           "color": "#FFFFFF",
           "size": 12
          },
          "showarrow": false,
          "text": "-0.0",
          "x": "sounds like good",
          "xref": "x",
          "y": "sounds like plan",
          "yref": "y"
         },
         {
          "font": {
           "color": "#FFFFFF",
           "size": 12
          },
          "showarrow": false,
          "text": "-0.0",
          "x": "don feel like",
          "xref": "x",
          "y": "sounds like good",
          "yref": "y"
         },
         {
          "font": {
           "color": "#FFFFFF",
           "size": 12
          },
          "showarrow": false,
          "text": "-0.0",
          "x": "don think ll",
          "xref": "x",
          "y": "sounds like good",
          "yref": "y"
         },
         {
          "font": {
           "color": "#FFFFFF",
           "size": 12
          },
          "showarrow": false,
          "text": "-0.0",
          "x": "don worry ll",
          "xref": "x",
          "y": "sounds like good",
          "yref": "y"
         },
         {
          "font": {
           "color": "#FFFFFF",
           "size": 12
          },
          "showarrow": false,
          "text": "-0.0",
          "x": "file_photo file_photo file_photo",
          "xref": "x",
          "y": "sounds like good",
          "yref": "y"
         },
         {
          "font": {
           "color": "#000000",
           "size": 12
          },
          "showarrow": false,
          "text": "0.03",
          "x": "ha ha ha",
          "xref": "x",
          "y": "sounds like good",
          "yref": "y"
         },
         {
          "font": {
           "color": "#FFFFFF",
           "size": 12
          },
          "showarrow": false,
          "text": "-0.0",
          "x": "happy new year",
          "xref": "x",
          "y": "sounds like good",
          "yref": "y"
         },
         {
          "font": {
           "color": "#FFFFFF",
           "size": 12
          },
          "showarrow": false,
          "text": "-0.0",
          "x": "jenny morris sharpei",
          "xref": "x",
          "y": "sounds like good",
          "yref": "y"
         },
         {
          "font": {
           "color": "#FFFFFF",
           "size": 12
          },
          "showarrow": false,
          "text": "-0.0",
          "x": "just let know",
          "xref": "x",
          "y": "sounds like good",
          "yref": "y"
         },
         {
          "font": {
           "color": "#FFFFFF",
           "size": 12
          },
          "showarrow": false,
          "text": "-0.0",
          "x": "let know need",
          "xref": "x",
          "y": "sounds like good",
          "yref": "y"
         },
         {
          "font": {
           "color": "#FFFFFF",
           "size": 12
          },
          "showarrow": false,
          "text": "0.01",
          "x": "ll let know",
          "xref": "x",
          "y": "sounds like good",
          "yref": "y"
         },
         {
          "font": {
           "color": "#000000",
           "size": 12
          },
          "showarrow": false,
          "text": "0.03",
          "x": "new year eve",
          "xref": "x",
          "y": "sounds like good",
          "yref": "y"
         },
         {
          "font": {
           "color": "#FFFFFF",
           "size": 12
          },
          "showarrow": false,
          "text": "-0.0",
          "x": "ok let know",
          "xref": "x",
          "y": "sounds like good",
          "yref": "y"
         },
         {
          "font": {
           "color": "#FFFFFF",
           "size": 12
          },
          "showarrow": false,
          "text": "-0.0",
          "x": "really don know",
          "xref": "x",
          "y": "sounds like good",
          "yref": "y"
         },
         {
          "font": {
           "color": "#FFFFFF",
           "size": 12
          },
          "showarrow": false,
          "text": "-0.0",
          "x": "don feel like",
          "xref": "x",
          "y": "really don know",
          "yref": "y"
         },
         {
          "font": {
           "color": "#FFFFFF",
           "size": 12
          },
          "showarrow": false,
          "text": "-0.0",
          "x": "don think ll",
          "xref": "x",
          "y": "really don know",
          "yref": "y"
         },
         {
          "font": {
           "color": "#FFFFFF",
           "size": 12
          },
          "showarrow": false,
          "text": "-0.0",
          "x": "don worry ll",
          "xref": "x",
          "y": "really don know",
          "yref": "y"
         },
         {
          "font": {
           "color": "#FFFFFF",
           "size": 12
          },
          "showarrow": false,
          "text": "-0.0",
          "x": "file_photo file_photo file_photo",
          "xref": "x",
          "y": "really don know",
          "yref": "y"
         },
         {
          "font": {
           "color": "#FFFFFF",
           "size": 12
          },
          "showarrow": false,
          "text": "-0.0",
          "x": "ha ha ha",
          "xref": "x",
          "y": "really don know",
          "yref": "y"
         },
         {
          "font": {
           "color": "#FFFFFF",
           "size": 12
          },
          "showarrow": false,
          "text": "-0.0",
          "x": "happy new year",
          "xref": "x",
          "y": "really don know",
          "yref": "y"
         },
         {
          "font": {
           "color": "#FFFFFF",
           "size": 12
          },
          "showarrow": false,
          "text": "-0.0",
          "x": "jenny morris sharpei",
          "xref": "x",
          "y": "really don know",
          "yref": "y"
         },
         {
          "font": {
           "color": "#FFFFFF",
           "size": 12
          },
          "showarrow": false,
          "text": "-0.0",
          "x": "just let know",
          "xref": "x",
          "y": "really don know",
          "yref": "y"
         },
         {
          "font": {
           "color": "#FFFFFF",
           "size": 12
          },
          "showarrow": false,
          "text": "-0.0",
          "x": "let know need",
          "xref": "x",
          "y": "really don know",
          "yref": "y"
         },
         {
          "font": {
           "color": "#FFFFFF",
           "size": 12
          },
          "showarrow": false,
          "text": "-0.01",
          "x": "ll let know",
          "xref": "x",
          "y": "really don know",
          "yref": "y"
         },
         {
          "font": {
           "color": "#FFFFFF",
           "size": 12
          },
          "showarrow": false,
          "text": "-0.0",
          "x": "new year eve",
          "xref": "x",
          "y": "really don know",
          "yref": "y"
         },
         {
          "font": {
           "color": "#FFFFFF",
           "size": 12
          },
          "showarrow": false,
          "text": "-0.0",
          "x": "ok let know",
          "xref": "x",
          "y": "really don know",
          "yref": "y"
         },
         {
          "font": {
           "color": "#FFFFFF",
           "size": 12
          },
          "showarrow": false,
          "text": "-0.0",
          "x": "don feel like",
          "xref": "x",
          "y": "ok let know",
          "yref": "y"
         },
         {
          "font": {
           "color": "#FFFFFF",
           "size": 12
          },
          "showarrow": false,
          "text": "-0.0",
          "x": "don think ll",
          "xref": "x",
          "y": "ok let know",
          "yref": "y"
         },
         {
          "font": {
           "color": "#FFFFFF",
           "size": 12
          },
          "showarrow": false,
          "text": "0.0",
          "x": "don worry ll",
          "xref": "x",
          "y": "ok let know",
          "yref": "y"
         },
         {
          "font": {
           "color": "#FFFFFF",
           "size": 12
          },
          "showarrow": false,
          "text": "-0.0",
          "x": "file_photo file_photo file_photo",
          "xref": "x",
          "y": "ok let know",
          "yref": "y"
         },
         {
          "font": {
           "color": "#FFFFFF",
           "size": 12
          },
          "showarrow": false,
          "text": "-0.0",
          "x": "ha ha ha",
          "xref": "x",
          "y": "ok let know",
          "yref": "y"
         },
         {
          "font": {
           "color": "#FFFFFF",
           "size": 12
          },
          "showarrow": false,
          "text": "-0.0",
          "x": "happy new year",
          "xref": "x",
          "y": "ok let know",
          "yref": "y"
         },
         {
          "font": {
           "color": "#FFFFFF",
           "size": 12
          },
          "showarrow": false,
          "text": "-0.0",
          "x": "jenny morris sharpei",
          "xref": "x",
          "y": "ok let know",
          "yref": "y"
         },
         {
          "font": {
           "color": "#FFFFFF",
           "size": 12
          },
          "showarrow": false,
          "text": "-0.0",
          "x": "just let know",
          "xref": "x",
          "y": "ok let know",
          "yref": "y"
         },
         {
          "font": {
           "color": "#000000",
           "size": 12
          },
          "showarrow": false,
          "text": "0.05",
          "x": "let know need",
          "xref": "x",
          "y": "ok let know",
          "yref": "y"
         },
         {
          "font": {
           "color": "#FFFFFF",
           "size": 12
          },
          "showarrow": false,
          "text": "0.0",
          "x": "ll let know",
          "xref": "x",
          "y": "ok let know",
          "yref": "y"
         },
         {
          "font": {
           "color": "#FFFFFF",
           "size": 12
          },
          "showarrow": false,
          "text": "-0.0",
          "x": "new year eve",
          "xref": "x",
          "y": "ok let know",
          "yref": "y"
         },
         {
          "font": {
           "color": "#FFFFFF",
           "size": 12
          },
          "showarrow": false,
          "text": "0.01",
          "x": "don feel like",
          "xref": "x",
          "y": "new year eve",
          "yref": "y"
         },
         {
          "font": {
           "color": "#FFFFFF",
           "size": 12
          },
          "showarrow": false,
          "text": "-0.0",
          "x": "don think ll",
          "xref": "x",
          "y": "new year eve",
          "yref": "y"
         },
         {
          "font": {
           "color": "#FFFFFF",
           "size": 12
          },
          "showarrow": false,
          "text": "-0.0",
          "x": "don worry ll",
          "xref": "x",
          "y": "new year eve",
          "yref": "y"
         },
         {
          "font": {
           "color": "#FFFFFF",
           "size": 12
          },
          "showarrow": false,
          "text": "-0.0",
          "x": "file_photo file_photo file_photo",
          "xref": "x",
          "y": "new year eve",
          "yref": "y"
         },
         {
          "font": {
           "color": "#FFFFFF",
           "size": 12
          },
          "showarrow": false,
          "text": "-0.0",
          "x": "ha ha ha",
          "xref": "x",
          "y": "new year eve",
          "yref": "y"
         },
         {
          "font": {
           "color": "#FFFFFF",
           "size": 12
          },
          "showarrow": false,
          "text": "-0.0",
          "x": "happy new year",
          "xref": "x",
          "y": "new year eve",
          "yref": "y"
         },
         {
          "font": {
           "color": "#FFFFFF",
           "size": 12
          },
          "showarrow": false,
          "text": "-0.0",
          "x": "jenny morris sharpei",
          "xref": "x",
          "y": "new year eve",
          "yref": "y"
         },
         {
          "font": {
           "color": "#FFFFFF",
           "size": 12
          },
          "showarrow": false,
          "text": "0.01",
          "x": "just let know",
          "xref": "x",
          "y": "new year eve",
          "yref": "y"
         },
         {
          "font": {
           "color": "#FFFFFF",
           "size": 12
          },
          "showarrow": false,
          "text": "-0.0",
          "x": "let know need",
          "xref": "x",
          "y": "new year eve",
          "yref": "y"
         },
         {
          "font": {
           "color": "#FFFFFF",
           "size": 12
          },
          "showarrow": false,
          "text": "-0.01",
          "x": "ll let know",
          "xref": "x",
          "y": "new year eve",
          "yref": "y"
         },
         {
          "font": {
           "color": "#FFFFFF",
           "size": 12
          },
          "showarrow": false,
          "text": "0.0",
          "x": "don feel like",
          "xref": "x",
          "y": "ll let know",
          "yref": "y"
         },
         {
          "font": {
           "color": "#FFFFFF",
           "size": 12
          },
          "showarrow": false,
          "text": "0.01",
          "x": "don think ll",
          "xref": "x",
          "y": "ll let know",
          "yref": "y"
         },
         {
          "font": {
           "color": "#FFFFFF",
           "size": 12
          },
          "showarrow": false,
          "text": "0.0",
          "x": "don worry ll",
          "xref": "x",
          "y": "ll let know",
          "yref": "y"
         },
         {
          "font": {
           "color": "#FFFFFF",
           "size": 12
          },
          "showarrow": false,
          "text": "-0.0",
          "x": "file_photo file_photo file_photo",
          "xref": "x",
          "y": "ll let know",
          "yref": "y"
         },
         {
          "font": {
           "color": "#FFFFFF",
           "size": 12
          },
          "showarrow": false,
          "text": "0.0",
          "x": "ha ha ha",
          "xref": "x",
          "y": "ll let know",
          "yref": "y"
         },
         {
          "font": {
           "color": "#FFFFFF",
           "size": 12
          },
          "showarrow": false,
          "text": "-0.0",
          "x": "happy new year",
          "xref": "x",
          "y": "ll let know",
          "yref": "y"
         },
         {
          "font": {
           "color": "#FFFFFF",
           "size": 12
          },
          "showarrow": false,
          "text": "-0.0",
          "x": "jenny morris sharpei",
          "xref": "x",
          "y": "ll let know",
          "yref": "y"
         },
         {
          "font": {
           "color": "#FFFFFF",
           "size": 12
          },
          "showarrow": false,
          "text": "0.0",
          "x": "just let know",
          "xref": "x",
          "y": "ll let know",
          "yref": "y"
         },
         {
          "font": {
           "color": "#000000",
           "size": 12
          },
          "showarrow": false,
          "text": "0.04",
          "x": "let know need",
          "xref": "x",
          "y": "ll let know",
          "yref": "y"
         },
         {
          "font": {
           "color": "#FFFFFF",
           "size": 12
          },
          "showarrow": false,
          "text": "-0.0",
          "x": "don feel like",
          "xref": "x",
          "y": "let know need",
          "yref": "y"
         },
         {
          "font": {
           "color": "#FFFFFF",
           "size": 12
          },
          "showarrow": false,
          "text": "-0.0",
          "x": "don think ll",
          "xref": "x",
          "y": "let know need",
          "yref": "y"
         },
         {
          "font": {
           "color": "#FFFFFF",
           "size": 12
          },
          "showarrow": false,
          "text": "-0.0",
          "x": "don worry ll",
          "xref": "x",
          "y": "let know need",
          "yref": "y"
         },
         {
          "font": {
           "color": "#FFFFFF",
           "size": 12
          },
          "showarrow": false,
          "text": "-0.0",
          "x": "file_photo file_photo file_photo",
          "xref": "x",
          "y": "let know need",
          "yref": "y"
         },
         {
          "font": {
           "color": "#FFFFFF",
           "size": 12
          },
          "showarrow": false,
          "text": "-0.0",
          "x": "ha ha ha",
          "xref": "x",
          "y": "let know need",
          "yref": "y"
         },
         {
          "font": {
           "color": "#FFFFFF",
           "size": 12
          },
          "showarrow": false,
          "text": "-0.0",
          "x": "happy new year",
          "xref": "x",
          "y": "let know need",
          "yref": "y"
         },
         {
          "font": {
           "color": "#FFFFFF",
           "size": 12
          },
          "showarrow": false,
          "text": "-0.0",
          "x": "jenny morris sharpei",
          "xref": "x",
          "y": "let know need",
          "yref": "y"
         },
         {
          "font": {
           "color": "#000000",
           "size": 12
          },
          "showarrow": false,
          "text": "0.02",
          "x": "just let know",
          "xref": "x",
          "y": "let know need",
          "yref": "y"
         },
         {
          "font": {
           "color": "#FFFFFF",
           "size": 12
          },
          "showarrow": false,
          "text": "0.0",
          "x": "don feel like",
          "xref": "x",
          "y": "just let know",
          "yref": "y"
         },
         {
          "font": {
           "color": "#FFFFFF",
           "size": 12
          },
          "showarrow": false,
          "text": "-0.0",
          "x": "don think ll",
          "xref": "x",
          "y": "just let know",
          "yref": "y"
         },
         {
          "font": {
           "color": "#FFFFFF",
           "size": 12
          },
          "showarrow": false,
          "text": "-0.0",
          "x": "don worry ll",
          "xref": "x",
          "y": "just let know",
          "yref": "y"
         },
         {
          "font": {
           "color": "#FFFFFF",
           "size": 12
          },
          "showarrow": false,
          "text": "-0.0",
          "x": "file_photo file_photo file_photo",
          "xref": "x",
          "y": "just let know",
          "yref": "y"
         },
         {
          "font": {
           "color": "#FFFFFF",
           "size": 12
          },
          "showarrow": false,
          "text": "-0.0",
          "x": "ha ha ha",
          "xref": "x",
          "y": "just let know",
          "yref": "y"
         },
         {
          "font": {
           "color": "#FFFFFF",
           "size": 12
          },
          "showarrow": false,
          "text": "0.0",
          "x": "happy new year",
          "xref": "x",
          "y": "just let know",
          "yref": "y"
         },
         {
          "font": {
           "color": "#FFFFFF",
           "size": 12
          },
          "showarrow": false,
          "text": "-0.0",
          "x": "jenny morris sharpei",
          "xref": "x",
          "y": "just let know",
          "yref": "y"
         },
         {
          "font": {
           "color": "#FFFFFF",
           "size": 12
          },
          "showarrow": false,
          "text": "-0.0",
          "x": "don feel like",
          "xref": "x",
          "y": "jenny morris sharpei",
          "yref": "y"
         },
         {
          "font": {
           "color": "#FFFFFF",
           "size": 12
          },
          "showarrow": false,
          "text": "-0.0",
          "x": "don think ll",
          "xref": "x",
          "y": "jenny morris sharpei",
          "yref": "y"
         },
         {
          "font": {
           "color": "#FFFFFF",
           "size": 12
          },
          "showarrow": false,
          "text": "-0.0",
          "x": "don worry ll",
          "xref": "x",
          "y": "jenny morris sharpei",
          "yref": "y"
         },
         {
          "font": {
           "color": "#FFFFFF",
           "size": 12
          },
          "showarrow": false,
          "text": "-0.0",
          "x": "file_photo file_photo file_photo",
          "xref": "x",
          "y": "jenny morris sharpei",
          "yref": "y"
         },
         {
          "font": {
           "color": "#FFFFFF",
           "size": 12
          },
          "showarrow": false,
          "text": "-0.0",
          "x": "ha ha ha",
          "xref": "x",
          "y": "jenny morris sharpei",
          "yref": "y"
         },
         {
          "font": {
           "color": "#FFFFFF",
           "size": 12
          },
          "showarrow": false,
          "text": "-0.0",
          "x": "happy new year",
          "xref": "x",
          "y": "jenny morris sharpei",
          "yref": "y"
         },
         {
          "font": {
           "color": "#FFFFFF",
           "size": 12
          },
          "showarrow": false,
          "text": "-0.0",
          "x": "don feel like",
          "xref": "x",
          "y": "happy new year",
          "yref": "y"
         },
         {
          "font": {
           "color": "#FFFFFF",
           "size": 12
          },
          "showarrow": false,
          "text": "-0.0",
          "x": "don think ll",
          "xref": "x",
          "y": "happy new year",
          "yref": "y"
         },
         {
          "font": {
           "color": "#FFFFFF",
           "size": 12
          },
          "showarrow": false,
          "text": "-0.0",
          "x": "don worry ll",
          "xref": "x",
          "y": "happy new year",
          "yref": "y"
         },
         {
          "font": {
           "color": "#FFFFFF",
           "size": 12
          },
          "showarrow": false,
          "text": "-0.0",
          "x": "file_photo file_photo file_photo",
          "xref": "x",
          "y": "happy new year",
          "yref": "y"
         },
         {
          "font": {
           "color": "#FFFFFF",
           "size": 12
          },
          "showarrow": false,
          "text": "-0.0",
          "x": "ha ha ha",
          "xref": "x",
          "y": "happy new year",
          "yref": "y"
         },
         {
          "font": {
           "color": "#FFFFFF",
           "size": 12
          },
          "showarrow": false,
          "text": "-0.0",
          "x": "don feel like",
          "xref": "x",
          "y": "ha ha ha",
          "yref": "y"
         },
         {
          "font": {
           "color": "#FFFFFF",
           "size": 12
          },
          "showarrow": false,
          "text": "-0.0",
          "x": "don think ll",
          "xref": "x",
          "y": "ha ha ha",
          "yref": "y"
         },
         {
          "font": {
           "color": "#FFFFFF",
           "size": 12
          },
          "showarrow": false,
          "text": "0.01",
          "x": "don worry ll",
          "xref": "x",
          "y": "ha ha ha",
          "yref": "y"
         },
         {
          "font": {
           "color": "#FFFFFF",
           "size": 12
          },
          "showarrow": false,
          "text": "-0.0",
          "x": "file_photo file_photo file_photo",
          "xref": "x",
          "y": "ha ha ha",
          "yref": "y"
         },
         {
          "font": {
           "color": "#FFFFFF",
           "size": 12
          },
          "showarrow": false,
          "text": "-0.0",
          "x": "don feel like",
          "xref": "x",
          "y": "file_photo file_photo file_photo",
          "yref": "y"
         },
         {
          "font": {
           "color": "#FFFFFF",
           "size": 12
          },
          "showarrow": false,
          "text": "-0.0",
          "x": "don think ll",
          "xref": "x",
          "y": "file_photo file_photo file_photo",
          "yref": "y"
         },
         {
          "font": {
           "color": "#FFFFFF",
           "size": 12
          },
          "showarrow": false,
          "text": "-0.0",
          "x": "don worry ll",
          "xref": "x",
          "y": "file_photo file_photo file_photo",
          "yref": "y"
         },
         {
          "font": {
           "color": "#FFFFFF",
           "size": 12
          },
          "showarrow": false,
          "text": "-0.0",
          "x": "don feel like",
          "xref": "x",
          "y": "don worry ll",
          "yref": "y"
         },
         {
          "font": {
           "color": "#FFFFFF",
           "size": 12
          },
          "showarrow": false,
          "text": "0.01",
          "x": "don think ll",
          "xref": "x",
          "y": "don worry ll",
          "yref": "y"
         },
         {
          "font": {
           "color": "#FFFFFF",
           "size": 12
          },
          "showarrow": false,
          "text": "-0.0",
          "x": "don feel like",
          "xref": "x",
          "y": "don think ll",
          "yref": "y"
         }
        ],
        "height": 800,
        "margin": {
         "l": 110,
         "t": 210
        },
        "template": {
         "data": {
          "bar": [
           {
            "error_x": {
             "color": "#f2f5fa"
            },
            "error_y": {
             "color": "#f2f5fa"
            },
            "marker": {
             "line": {
              "color": "rgb(17,17,17)",
              "width": 0.5
             },
             "pattern": {
              "fillmode": "overlay",
              "size": 10,
              "solidity": 0.2
             }
            },
            "type": "bar"
           }
          ],
          "barpolar": [
           {
            "marker": {
             "line": {
              "color": "rgb(17,17,17)",
              "width": 0.5
             },
             "pattern": {
              "fillmode": "overlay",
              "size": 10,
              "solidity": 0.2
             }
            },
            "type": "barpolar"
           }
          ],
          "carpet": [
           {
            "aaxis": {
             "endlinecolor": "#A2B1C6",
             "gridcolor": "#506784",
             "linecolor": "#506784",
             "minorgridcolor": "#506784",
             "startlinecolor": "#A2B1C6"
            },
            "baxis": {
             "endlinecolor": "#A2B1C6",
             "gridcolor": "#506784",
             "linecolor": "#506784",
             "minorgridcolor": "#506784",
             "startlinecolor": "#A2B1C6"
            },
            "type": "carpet"
           }
          ],
          "choropleth": [
           {
            "colorbar": {
             "outlinewidth": 0,
             "ticks": ""
            },
            "type": "choropleth"
           }
          ],
          "contour": [
           {
            "colorbar": {
             "outlinewidth": 0,
             "ticks": ""
            },
            "colorscale": [
             [
              0,
              "#0d0887"
             ],
             [
              0.1111111111111111,
              "#46039f"
             ],
             [
              0.2222222222222222,
              "#7201a8"
             ],
             [
              0.3333333333333333,
              "#9c179e"
             ],
             [
              0.4444444444444444,
              "#bd3786"
             ],
             [
              0.5555555555555556,
              "#d8576b"
             ],
             [
              0.6666666666666666,
              "#ed7953"
             ],
             [
              0.7777777777777778,
              "#fb9f3a"
             ],
             [
              0.8888888888888888,
              "#fdca26"
             ],
             [
              1,
              "#f0f921"
             ]
            ],
            "type": "contour"
           }
          ],
          "contourcarpet": [
           {
            "colorbar": {
             "outlinewidth": 0,
             "ticks": ""
            },
            "type": "contourcarpet"
           }
          ],
          "heatmap": [
           {
            "colorbar": {
             "outlinewidth": 0,
             "ticks": ""
            },
            "colorscale": [
             [
              0,
              "#0d0887"
             ],
             [
              0.1111111111111111,
              "#46039f"
             ],
             [
              0.2222222222222222,
              "#7201a8"
             ],
             [
              0.3333333333333333,
              "#9c179e"
             ],
             [
              0.4444444444444444,
              "#bd3786"
             ],
             [
              0.5555555555555556,
              "#d8576b"
             ],
             [
              0.6666666666666666,
              "#ed7953"
             ],
             [
              0.7777777777777778,
              "#fb9f3a"
             ],
             [
              0.8888888888888888,
              "#fdca26"
             ],
             [
              1,
              "#f0f921"
             ]
            ],
            "type": "heatmap"
           }
          ],
          "histogram": [
           {
            "marker": {
             "pattern": {
              "fillmode": "overlay",
              "size": 10,
              "solidity": 0.2
             }
            },
            "type": "histogram"
           }
          ],
          "histogram2d": [
           {
            "colorbar": {
             "outlinewidth": 0,
             "ticks": ""
            },
            "colorscale": [
             [
              0,
              "#0d0887"
             ],
             [
              0.1111111111111111,
              "#46039f"
             ],
             [
              0.2222222222222222,
              "#7201a8"
             ],
             [
              0.3333333333333333,
              "#9c179e"
             ],
             [
              0.4444444444444444,
              "#bd3786"
             ],
             [
              0.5555555555555556,
              "#d8576b"
             ],
             [
              0.6666666666666666,
              "#ed7953"
             ],
             [
              0.7777777777777778,
              "#fb9f3a"
             ],
             [
              0.8888888888888888,
              "#fdca26"
             ],
             [
              1,
              "#f0f921"
             ]
            ],
            "type": "histogram2d"
           }
          ],
          "histogram2dcontour": [
           {
            "colorbar": {
             "outlinewidth": 0,
             "ticks": ""
            },
            "colorscale": [
             [
              0,
              "#0d0887"
             ],
             [
              0.1111111111111111,
              "#46039f"
             ],
             [
              0.2222222222222222,
              "#7201a8"
             ],
             [
              0.3333333333333333,
              "#9c179e"
             ],
             [
              0.4444444444444444,
              "#bd3786"
             ],
             [
              0.5555555555555556,
              "#d8576b"
             ],
             [
              0.6666666666666666,
              "#ed7953"
             ],
             [
              0.7777777777777778,
              "#fb9f3a"
             ],
             [
              0.8888888888888888,
              "#fdca26"
             ],
             [
              1,
              "#f0f921"
             ]
            ],
            "type": "histogram2dcontour"
           }
          ],
          "mesh3d": [
           {
            "colorbar": {
             "outlinewidth": 0,
             "ticks": ""
            },
            "type": "mesh3d"
           }
          ],
          "parcoords": [
           {
            "line": {
             "colorbar": {
              "outlinewidth": 0,
              "ticks": ""
             }
            },
            "type": "parcoords"
           }
          ],
          "pie": [
           {
            "automargin": true,
            "type": "pie"
           }
          ],
          "scatter": [
           {
            "marker": {
             "line": {
              "color": "#283442"
             }
            },
            "type": "scatter"
           }
          ],
          "scatter3d": [
           {
            "line": {
             "colorbar": {
              "outlinewidth": 0,
              "ticks": ""
             }
            },
            "marker": {
             "colorbar": {
              "outlinewidth": 0,
              "ticks": ""
             }
            },
            "type": "scatter3d"
           }
          ],
          "scattercarpet": [
           {
            "marker": {
             "colorbar": {
              "outlinewidth": 0,
              "ticks": ""
             }
            },
            "type": "scattercarpet"
           }
          ],
          "scattergeo": [
           {
            "marker": {
             "colorbar": {
              "outlinewidth": 0,
              "ticks": ""
             }
            },
            "type": "scattergeo"
           }
          ],
          "scattergl": [
           {
            "marker": {
             "line": {
              "color": "#283442"
             }
            },
            "type": "scattergl"
           }
          ],
          "scattermap": [
           {
            "marker": {
             "colorbar": {
              "outlinewidth": 0,
              "ticks": ""
             }
            },
            "type": "scattermap"
           }
          ],
          "scattermapbox": [
           {
            "marker": {
             "colorbar": {
              "outlinewidth": 0,
              "ticks": ""
             }
            },
            "type": "scattermapbox"
           }
          ],
          "scatterpolar": [
           {
            "marker": {
             "colorbar": {
              "outlinewidth": 0,
              "ticks": ""
             }
            },
            "type": "scatterpolar"
           }
          ],
          "scatterpolargl": [
           {
            "marker": {
             "colorbar": {
              "outlinewidth": 0,
              "ticks": ""
             }
            },
            "type": "scatterpolargl"
           }
          ],
          "scatterternary": [
           {
            "marker": {
             "colorbar": {
              "outlinewidth": 0,
              "ticks": ""
             }
            },
            "type": "scatterternary"
           }
          ],
          "surface": [
           {
            "colorbar": {
             "outlinewidth": 0,
             "ticks": ""
            },
            "colorscale": [
             [
              0,
              "#0d0887"
             ],
             [
              0.1111111111111111,
              "#46039f"
             ],
             [
              0.2222222222222222,
              "#7201a8"
             ],
             [
              0.3333333333333333,
              "#9c179e"
             ],
             [
              0.4444444444444444,
              "#bd3786"
             ],
             [
              0.5555555555555556,
              "#d8576b"
             ],
             [
              0.6666666666666666,
              "#ed7953"
             ],
             [
              0.7777777777777778,
              "#fb9f3a"
             ],
             [
              0.8888888888888888,
              "#fdca26"
             ],
             [
              1,
              "#f0f921"
             ]
            ],
            "type": "surface"
           }
          ],
          "table": [
           {
            "cells": {
             "fill": {
              "color": "#506784"
             },
             "line": {
              "color": "rgb(17,17,17)"
             }
            },
            "header": {
             "fill": {
              "color": "#2a3f5f"
             },
             "line": {
              "color": "rgb(17,17,17)"
             }
            },
            "type": "table"
           }
          ]
         },
         "layout": {
          "annotationdefaults": {
           "arrowcolor": "#f2f5fa",
           "arrowhead": 0,
           "arrowwidth": 1
          },
          "autotypenumbers": "strict",
          "coloraxis": {
           "colorbar": {
            "outlinewidth": 0,
            "ticks": ""
           }
          },
          "colorscale": {
           "diverging": [
            [
             0,
             "#8e0152"
            ],
            [
             0.1,
             "#c51b7d"
            ],
            [
             0.2,
             "#de77ae"
            ],
            [
             0.3,
             "#f1b6da"
            ],
            [
             0.4,
             "#fde0ef"
            ],
            [
             0.5,
             "#f7f7f7"
            ],
            [
             0.6,
             "#e6f5d0"
            ],
            [
             0.7,
             "#b8e186"
            ],
            [
             0.8,
             "#7fbc41"
            ],
            [
             0.9,
             "#4d9221"
            ],
            [
             1,
             "#276419"
            ]
           ],
           "sequential": [
            [
             0,
             "#0d0887"
            ],
            [
             0.1111111111111111,
             "#46039f"
            ],
            [
             0.2222222222222222,
             "#7201a8"
            ],
            [
             0.3333333333333333,
             "#9c179e"
            ],
            [
             0.4444444444444444,
             "#bd3786"
            ],
            [
             0.5555555555555556,
             "#d8576b"
            ],
            [
             0.6666666666666666,
             "#ed7953"
            ],
            [
             0.7777777777777778,
             "#fb9f3a"
            ],
            [
             0.8888888888888888,
             "#fdca26"
            ],
            [
             1,
             "#f0f921"
            ]
           ],
           "sequentialminus": [
            [
             0,
             "#0d0887"
            ],
            [
             0.1111111111111111,
             "#46039f"
            ],
            [
             0.2222222222222222,
             "#7201a8"
            ],
            [
             0.3333333333333333,
             "#9c179e"
            ],
            [
             0.4444444444444444,
             "#bd3786"
            ],
            [
             0.5555555555555556,
             "#d8576b"
            ],
            [
             0.6666666666666666,
             "#ed7953"
            ],
            [
             0.7777777777777778,
             "#fb9f3a"
            ],
            [
             0.8888888888888888,
             "#fdca26"
            ],
            [
             1,
             "#f0f921"
            ]
           ]
          },
          "colorway": [
           "#636efa",
           "#EF553B",
           "#00cc96",
           "#ab63fa",
           "#FFA15A",
           "#19d3f3",
           "#FF6692",
           "#B6E880",
           "#FF97FF",
           "#FECB52"
          ],
          "font": {
           "color": "#f2f5fa"
          },
          "geo": {
           "bgcolor": "rgb(17,17,17)",
           "lakecolor": "rgb(17,17,17)",
           "landcolor": "rgb(17,17,17)",
           "showlakes": true,
           "showland": true,
           "subunitcolor": "#506784"
          },
          "hoverlabel": {
           "align": "left"
          },
          "hovermode": "closest",
          "mapbox": {
           "style": "dark"
          },
          "paper_bgcolor": "rgb(17,17,17)",
          "plot_bgcolor": "rgb(17,17,17)",
          "polar": {
           "angularaxis": {
            "gridcolor": "#506784",
            "linecolor": "#506784",
            "ticks": ""
           },
           "bgcolor": "rgb(17,17,17)",
           "radialaxis": {
            "gridcolor": "#506784",
            "linecolor": "#506784",
            "ticks": ""
           }
          },
          "scene": {
           "xaxis": {
            "backgroundcolor": "rgb(17,17,17)",
            "gridcolor": "#506784",
            "gridwidth": 2,
            "linecolor": "#506784",
            "showbackground": true,
            "ticks": "",
            "zerolinecolor": "#C8D4E3"
           },
           "yaxis": {
            "backgroundcolor": "rgb(17,17,17)",
            "gridcolor": "#506784",
            "gridwidth": 2,
            "linecolor": "#506784",
            "showbackground": true,
            "ticks": "",
            "zerolinecolor": "#C8D4E3"
           },
           "zaxis": {
            "backgroundcolor": "rgb(17,17,17)",
            "gridcolor": "#506784",
            "gridwidth": 2,
            "linecolor": "#506784",
            "showbackground": true,
            "ticks": "",
            "zerolinecolor": "#C8D4E3"
           }
          },
          "shapedefaults": {
           "line": {
            "color": "#f2f5fa"
           }
          },
          "sliderdefaults": {
           "bgcolor": "#C8D4E3",
           "bordercolor": "rgb(17,17,17)",
           "borderwidth": 1,
           "tickwidth": 0
          },
          "ternary": {
           "aaxis": {
            "gridcolor": "#506784",
            "linecolor": "#506784",
            "ticks": ""
           },
           "baxis": {
            "gridcolor": "#506784",
            "linecolor": "#506784",
            "ticks": ""
           },
           "bgcolor": "rgb(17,17,17)",
           "caxis": {
            "gridcolor": "#506784",
            "linecolor": "#506784",
            "ticks": ""
           }
          },
          "title": {
           "x": 0.05
          },
          "updatemenudefaults": {
           "bgcolor": "#506784",
           "borderwidth": 0
          },
          "xaxis": {
           "automargin": true,
           "gridcolor": "#283442",
           "linecolor": "#506784",
           "ticks": "",
           "title": {
            "standoff": 15
           },
           "zerolinecolor": "#283442",
           "zerolinewidth": 2
          },
          "yaxis": {
           "automargin": true,
           "gridcolor": "#283442",
           "linecolor": "#506784",
           "ticks": "",
           "title": {
            "standoff": 15
           },
           "zerolinecolor": "#283442",
           "zerolinewidth": 2
          }
         }
        },
        "title": {
         "text": "<b>Trigrams Heatmap<br><sup>&nbsp;&nbsp;&nbsp;&nbsp;<i>Train - Dialogue</i></sup></b>",
         "x": 0.025,
         "xanchor": "left",
         "y": 0.95
        },
        "width": 800,
        "xaxis": {
         "dtick": 1,
         "gridcolor": "rgb(0, 0, 0)",
         "showgrid": false,
         "side": "top",
         "ticks": ""
        },
        "yaxis": {
         "autorange": "reversed",
         "dtick": 1,
         "showgrid": false,
         "ticks": "",
         "ticksuffix": "  "
        }
       }
      }
     },
     "metadata": {},
     "output_type": "display_data"
    }
   ],
   "source": [
    "vectorizer = TfidfVectorizer(max_features = 15,stop_words = 'english',ngram_range = (3,3)) # Top 15 terms\n",
    "x = vectorizer.fit_transform(train['dialogue'].fillna(''))\n",
    "df_tfidfvect = pd.DataFrame(x.toarray(), columns=vectorizer.get_feature_names_out())\n",
    "plot_correlation(df_tfidfvect, 'Trigrams', 'Train - Dialogue', 800, 800, 12)"
   ]
  },
  {
   "cell_type": "code",
   "execution_count": 50,
   "metadata": {},
   "outputs": [
    {
     "data": {
      "application/vnd.plotly.v1+json": {
       "config": {
        "plotlyServerURL": "https://plot.ly"
       },
       "data": [
        {
         "colorscale": [
          [
           0,
           "#00224e"
          ],
          [
           0.1111111111111111,
           "#123570"
          ],
          [
           0.2222222222222222,
           "#3b496c"
          ],
          [
           0.3333333333333333,
           "#575d6d"
          ],
          [
           0.4444444444444444,
           "#707173"
          ],
          [
           0.5555555555555556,
           "#8a8678"
          ],
          [
           0.6666666666666666,
           "#a59c74"
          ],
          [
           0.7777777777777778,
           "#c3b369"
          ],
          [
           0.8888888888888888,
           "#e1cc55"
          ],
          [
           1,
           "#fee838"
          ]
         ],
         "reversescale": false,
         "showscale": false,
         "type": "heatmap",
         "x": [
          "10 minutes late",
          "15 20 minutes",
          "15 minutes late",
          "birthday party saturday",
          "doesn want talk",
          "going meet pm",
          "got new job",
          "happy new year",
          "jenny morris sharpei",
          "looking new job",
          "new year eve",
          "stay longer work",
          "stuck traffic jam",
          "wants buy new"
         ],
         "y": [
          "year eve party",
          "wants buy new",
          "stuck traffic jam",
          "stay longer work",
          "new year eve",
          "looking new job",
          "jenny morris sharpei",
          "happy new year",
          "got new job",
          "going meet pm",
          "doesn want talk",
          "birthday party saturday",
          "15 minutes late",
          "15 20 minutes"
         ],
         "z": [
          [
           0,
           0,
           0,
           0,
           0,
           0,
           0,
           0,
           0,
           0,
           0.25,
           0,
           0,
           0
          ],
          [
           0,
           0,
           0,
           0,
           0,
           0,
           0,
           0,
           0,
           0,
           0,
           0,
           0
          ],
          [
           0,
           0,
           0,
           0,
           0,
           0,
           0,
           0,
           0,
           0,
           0,
           0
          ],
          [
           0,
           0,
           0,
           0,
           0,
           0,
           0,
           0,
           0,
           0,
           0
          ],
          [
           0,
           0,
           0,
           0,
           0,
           0,
           0,
           0,
           0,
           0
          ],
          [
           0,
           0,
           0,
           0,
           0,
           0,
           0.07,
           0,
           0
          ],
          [
           0,
           0,
           0,
           0,
           0,
           0,
           0,
           0
          ],
          [
           0,
           0,
           0,
           0,
           0,
           0,
           0
          ],
          [
           0,
           0,
           0,
           0,
           0,
           0
          ],
          [
           0,
           0,
           0,
           0,
           0
          ],
          [
           0,
           0,
           0,
           0
          ],
          [
           0,
           0,
           0
          ],
          [
           0,
           0
          ],
          [
           0
          ]
         ]
        },
        {
         "colorscale": [
          [
           0,
           "#00224e"
          ],
          [
           0.1111111111111111,
           "#123570"
          ],
          [
           0.2222222222222222,
           "#3b496c"
          ],
          [
           0.3333333333333333,
           "#575d6d"
          ],
          [
           0.4444444444444444,
           "#707173"
          ],
          [
           0.5555555555555556,
           "#8a8678"
          ],
          [
           0.6666666666666666,
           "#a59c74"
          ],
          [
           0.7777777777777778,
           "#c3b369"
          ],
          [
           0.8888888888888888,
           "#e1cc55"
          ],
          [
           1,
           "#fee838"
          ]
         ],
         "showscale": true,
         "type": "heatmap",
         "visible": true,
         "z": [
          [
           0,
           0,
           0,
           0,
           0,
           0,
           0,
           0,
           0,
           0,
           0.25,
           0,
           0,
           0
          ],
          [
           0,
           0,
           0,
           0,
           0,
           0,
           0,
           0,
           0,
           0,
           0,
           0,
           0
          ],
          [
           0,
           0,
           0,
           0,
           0,
           0,
           0,
           0,
           0,
           0,
           0,
           0
          ],
          [
           0,
           0,
           0,
           0,
           0,
           0,
           0,
           0,
           0,
           0,
           0
          ],
          [
           0,
           0,
           0,
           0,
           0,
           0,
           0,
           0,
           0,
           0
          ],
          [
           0,
           0,
           0,
           0,
           0,
           0,
           0.07,
           0,
           0
          ],
          [
           0,
           0,
           0,
           0,
           0,
           0,
           0,
           0
          ],
          [
           0,
           0,
           0,
           0,
           0,
           0,
           0
          ],
          [
           0,
           0,
           0,
           0,
           0,
           0
          ],
          [
           0,
           0,
           0,
           0,
           0
          ],
          [
           0,
           0,
           0,
           0
          ],
          [
           0,
           0,
           0
          ],
          [
           0,
           0
          ],
          [
           0
          ]
         ]
        }
       ],
       "layout": {
        "annotations": [
         {
          "font": {
           "color": "#FFFFFF",
           "size": 12
          },
          "showarrow": false,
          "text": "-0.0",
          "x": "10 minutes late",
          "xref": "x",
          "y": "year eve party",
          "yref": "y"
         },
         {
          "font": {
           "color": "#FFFFFF",
           "size": 12
          },
          "showarrow": false,
          "text": "-0.0",
          "x": "15 20 minutes",
          "xref": "x",
          "y": "year eve party",
          "yref": "y"
         },
         {
          "font": {
           "color": "#FFFFFF",
           "size": 12
          },
          "showarrow": false,
          "text": "-0.0",
          "x": "15 minutes late",
          "xref": "x",
          "y": "year eve party",
          "yref": "y"
         },
         {
          "font": {
           "color": "#FFFFFF",
           "size": 12
          },
          "showarrow": false,
          "text": "-0.0",
          "x": "birthday party saturday",
          "xref": "x",
          "y": "year eve party",
          "yref": "y"
         },
         {
          "font": {
           "color": "#FFFFFF",
           "size": 12
          },
          "showarrow": false,
          "text": "-0.0",
          "x": "doesn want talk",
          "xref": "x",
          "y": "year eve party",
          "yref": "y"
         },
         {
          "font": {
           "color": "#FFFFFF",
           "size": 12
          },
          "showarrow": false,
          "text": "-0.0",
          "x": "going meet pm",
          "xref": "x",
          "y": "year eve party",
          "yref": "y"
         },
         {
          "font": {
           "color": "#FFFFFF",
           "size": 12
          },
          "showarrow": false,
          "text": "-0.0",
          "x": "got new job",
          "xref": "x",
          "y": "year eve party",
          "yref": "y"
         },
         {
          "font": {
           "color": "#FFFFFF",
           "size": 12
          },
          "showarrow": false,
          "text": "-0.0",
          "x": "happy new year",
          "xref": "x",
          "y": "year eve party",
          "yref": "y"
         },
         {
          "font": {
           "color": "#FFFFFF",
           "size": 12
          },
          "showarrow": false,
          "text": "-0.0",
          "x": "jenny morris sharpei",
          "xref": "x",
          "y": "year eve party",
          "yref": "y"
         },
         {
          "font": {
           "color": "#FFFFFF",
           "size": 12
          },
          "showarrow": false,
          "text": "-0.0",
          "x": "looking new job",
          "xref": "x",
          "y": "year eve party",
          "yref": "y"
         },
         {
          "font": {
           "color": "#000000",
           "size": 12
          },
          "showarrow": false,
          "text": "0.25",
          "x": "new year eve",
          "xref": "x",
          "y": "year eve party",
          "yref": "y"
         },
         {
          "font": {
           "color": "#FFFFFF",
           "size": 12
          },
          "showarrow": false,
          "text": "-0.0",
          "x": "stay longer work",
          "xref": "x",
          "y": "year eve party",
          "yref": "y"
         },
         {
          "font": {
           "color": "#FFFFFF",
           "size": 12
          },
          "showarrow": false,
          "text": "-0.0",
          "x": "stuck traffic jam",
          "xref": "x",
          "y": "year eve party",
          "yref": "y"
         },
         {
          "font": {
           "color": "#FFFFFF",
           "size": 12
          },
          "showarrow": false,
          "text": "-0.0",
          "x": "wants buy new",
          "xref": "x",
          "y": "year eve party",
          "yref": "y"
         },
         {
          "font": {
           "color": "#FFFFFF",
           "size": 12
          },
          "showarrow": false,
          "text": "-0.0",
          "x": "10 minutes late",
          "xref": "x",
          "y": "wants buy new",
          "yref": "y"
         },
         {
          "font": {
           "color": "#FFFFFF",
           "size": 12
          },
          "showarrow": false,
          "text": "-0.0",
          "x": "15 20 minutes",
          "xref": "x",
          "y": "wants buy new",
          "yref": "y"
         },
         {
          "font": {
           "color": "#FFFFFF",
           "size": 12
          },
          "showarrow": false,
          "text": "-0.0",
          "x": "15 minutes late",
          "xref": "x",
          "y": "wants buy new",
          "yref": "y"
         },
         {
          "font": {
           "color": "#FFFFFF",
           "size": 12
          },
          "showarrow": false,
          "text": "-0.0",
          "x": "birthday party saturday",
          "xref": "x",
          "y": "wants buy new",
          "yref": "y"
         },
         {
          "font": {
           "color": "#FFFFFF",
           "size": 12
          },
          "showarrow": false,
          "text": "-0.0",
          "x": "doesn want talk",
          "xref": "x",
          "y": "wants buy new",
          "yref": "y"
         },
         {
          "font": {
           "color": "#FFFFFF",
           "size": 12
          },
          "showarrow": false,
          "text": "-0.0",
          "x": "going meet pm",
          "xref": "x",
          "y": "wants buy new",
          "yref": "y"
         },
         {
          "font": {
           "color": "#FFFFFF",
           "size": 12
          },
          "showarrow": false,
          "text": "-0.0",
          "x": "got new job",
          "xref": "x",
          "y": "wants buy new",
          "yref": "y"
         },
         {
          "font": {
           "color": "#FFFFFF",
           "size": 12
          },
          "showarrow": false,
          "text": "-0.0",
          "x": "happy new year",
          "xref": "x",
          "y": "wants buy new",
          "yref": "y"
         },
         {
          "font": {
           "color": "#FFFFFF",
           "size": 12
          },
          "showarrow": false,
          "text": "-0.0",
          "x": "jenny morris sharpei",
          "xref": "x",
          "y": "wants buy new",
          "yref": "y"
         },
         {
          "font": {
           "color": "#FFFFFF",
           "size": 12
          },
          "showarrow": false,
          "text": "-0.0",
          "x": "looking new job",
          "xref": "x",
          "y": "wants buy new",
          "yref": "y"
         },
         {
          "font": {
           "color": "#FFFFFF",
           "size": 12
          },
          "showarrow": false,
          "text": "-0.0",
          "x": "new year eve",
          "xref": "x",
          "y": "wants buy new",
          "yref": "y"
         },
         {
          "font": {
           "color": "#FFFFFF",
           "size": 12
          },
          "showarrow": false,
          "text": "-0.0",
          "x": "stay longer work",
          "xref": "x",
          "y": "wants buy new",
          "yref": "y"
         },
         {
          "font": {
           "color": "#FFFFFF",
           "size": 12
          },
          "showarrow": false,
          "text": "-0.0",
          "x": "stuck traffic jam",
          "xref": "x",
          "y": "wants buy new",
          "yref": "y"
         },
         {
          "font": {
           "color": "#FFFFFF",
           "size": 12
          },
          "showarrow": false,
          "text": "-0.0",
          "x": "10 minutes late",
          "xref": "x",
          "y": "stuck traffic jam",
          "yref": "y"
         },
         {
          "font": {
           "color": "#FFFFFF",
           "size": 12
          },
          "showarrow": false,
          "text": "-0.0",
          "x": "15 20 minutes",
          "xref": "x",
          "y": "stuck traffic jam",
          "yref": "y"
         },
         {
          "font": {
           "color": "#FFFFFF",
           "size": 12
          },
          "showarrow": false,
          "text": "-0.0",
          "x": "15 minutes late",
          "xref": "x",
          "y": "stuck traffic jam",
          "yref": "y"
         },
         {
          "font": {
           "color": "#FFFFFF",
           "size": 12
          },
          "showarrow": false,
          "text": "-0.0",
          "x": "birthday party saturday",
          "xref": "x",
          "y": "stuck traffic jam",
          "yref": "y"
         },
         {
          "font": {
           "color": "#FFFFFF",
           "size": 12
          },
          "showarrow": false,
          "text": "-0.0",
          "x": "doesn want talk",
          "xref": "x",
          "y": "stuck traffic jam",
          "yref": "y"
         },
         {
          "font": {
           "color": "#FFFFFF",
           "size": 12
          },
          "showarrow": false,
          "text": "-0.0",
          "x": "going meet pm",
          "xref": "x",
          "y": "stuck traffic jam",
          "yref": "y"
         },
         {
          "font": {
           "color": "#FFFFFF",
           "size": 12
          },
          "showarrow": false,
          "text": "-0.0",
          "x": "got new job",
          "xref": "x",
          "y": "stuck traffic jam",
          "yref": "y"
         },
         {
          "font": {
           "color": "#FFFFFF",
           "size": 12
          },
          "showarrow": false,
          "text": "-0.0",
          "x": "happy new year",
          "xref": "x",
          "y": "stuck traffic jam",
          "yref": "y"
         },
         {
          "font": {
           "color": "#FFFFFF",
           "size": 12
          },
          "showarrow": false,
          "text": "-0.0",
          "x": "jenny morris sharpei",
          "xref": "x",
          "y": "stuck traffic jam",
          "yref": "y"
         },
         {
          "font": {
           "color": "#FFFFFF",
           "size": 12
          },
          "showarrow": false,
          "text": "-0.0",
          "x": "looking new job",
          "xref": "x",
          "y": "stuck traffic jam",
          "yref": "y"
         },
         {
          "font": {
           "color": "#FFFFFF",
           "size": 12
          },
          "showarrow": false,
          "text": "-0.0",
          "x": "new year eve",
          "xref": "x",
          "y": "stuck traffic jam",
          "yref": "y"
         },
         {
          "font": {
           "color": "#FFFFFF",
           "size": 12
          },
          "showarrow": false,
          "text": "-0.0",
          "x": "stay longer work",
          "xref": "x",
          "y": "stuck traffic jam",
          "yref": "y"
         },
         {
          "font": {
           "color": "#FFFFFF",
           "size": 12
          },
          "showarrow": false,
          "text": "-0.0",
          "x": "10 minutes late",
          "xref": "x",
          "y": "stay longer work",
          "yref": "y"
         },
         {
          "font": {
           "color": "#FFFFFF",
           "size": 12
          },
          "showarrow": false,
          "text": "-0.0",
          "x": "15 20 minutes",
          "xref": "x",
          "y": "stay longer work",
          "yref": "y"
         },
         {
          "font": {
           "color": "#FFFFFF",
           "size": 12
          },
          "showarrow": false,
          "text": "-0.0",
          "x": "15 minutes late",
          "xref": "x",
          "y": "stay longer work",
          "yref": "y"
         },
         {
          "font": {
           "color": "#FFFFFF",
           "size": 12
          },
          "showarrow": false,
          "text": "-0.0",
          "x": "birthday party saturday",
          "xref": "x",
          "y": "stay longer work",
          "yref": "y"
         },
         {
          "font": {
           "color": "#FFFFFF",
           "size": 12
          },
          "showarrow": false,
          "text": "-0.0",
          "x": "doesn want talk",
          "xref": "x",
          "y": "stay longer work",
          "yref": "y"
         },
         {
          "font": {
           "color": "#FFFFFF",
           "size": 12
          },
          "showarrow": false,
          "text": "-0.0",
          "x": "going meet pm",
          "xref": "x",
          "y": "stay longer work",
          "yref": "y"
         },
         {
          "font": {
           "color": "#FFFFFF",
           "size": 12
          },
          "showarrow": false,
          "text": "-0.0",
          "x": "got new job",
          "xref": "x",
          "y": "stay longer work",
          "yref": "y"
         },
         {
          "font": {
           "color": "#FFFFFF",
           "size": 12
          },
          "showarrow": false,
          "text": "-0.0",
          "x": "happy new year",
          "xref": "x",
          "y": "stay longer work",
          "yref": "y"
         },
         {
          "font": {
           "color": "#FFFFFF",
           "size": 12
          },
          "showarrow": false,
          "text": "-0.0",
          "x": "jenny morris sharpei",
          "xref": "x",
          "y": "stay longer work",
          "yref": "y"
         },
         {
          "font": {
           "color": "#FFFFFF",
           "size": 12
          },
          "showarrow": false,
          "text": "-0.0",
          "x": "looking new job",
          "xref": "x",
          "y": "stay longer work",
          "yref": "y"
         },
         {
          "font": {
           "color": "#FFFFFF",
           "size": 12
          },
          "showarrow": false,
          "text": "-0.0",
          "x": "new year eve",
          "xref": "x",
          "y": "stay longer work",
          "yref": "y"
         },
         {
          "font": {
           "color": "#FFFFFF",
           "size": 12
          },
          "showarrow": false,
          "text": "-0.0",
          "x": "10 minutes late",
          "xref": "x",
          "y": "new year eve",
          "yref": "y"
         },
         {
          "font": {
           "color": "#FFFFFF",
           "size": 12
          },
          "showarrow": false,
          "text": "-0.0",
          "x": "15 20 minutes",
          "xref": "x",
          "y": "new year eve",
          "yref": "y"
         },
         {
          "font": {
           "color": "#FFFFFF",
           "size": 12
          },
          "showarrow": false,
          "text": "-0.0",
          "x": "15 minutes late",
          "xref": "x",
          "y": "new year eve",
          "yref": "y"
         },
         {
          "font": {
           "color": "#FFFFFF",
           "size": 12
          },
          "showarrow": false,
          "text": "-0.0",
          "x": "birthday party saturday",
          "xref": "x",
          "y": "new year eve",
          "yref": "y"
         },
         {
          "font": {
           "color": "#FFFFFF",
           "size": 12
          },
          "showarrow": false,
          "text": "-0.0",
          "x": "doesn want talk",
          "xref": "x",
          "y": "new year eve",
          "yref": "y"
         },
         {
          "font": {
           "color": "#FFFFFF",
           "size": 12
          },
          "showarrow": false,
          "text": "-0.0",
          "x": "going meet pm",
          "xref": "x",
          "y": "new year eve",
          "yref": "y"
         },
         {
          "font": {
           "color": "#FFFFFF",
           "size": 12
          },
          "showarrow": false,
          "text": "-0.0",
          "x": "got new job",
          "xref": "x",
          "y": "new year eve",
          "yref": "y"
         },
         {
          "font": {
           "color": "#FFFFFF",
           "size": 12
          },
          "showarrow": false,
          "text": "-0.0",
          "x": "happy new year",
          "xref": "x",
          "y": "new year eve",
          "yref": "y"
         },
         {
          "font": {
           "color": "#FFFFFF",
           "size": 12
          },
          "showarrow": false,
          "text": "-0.0",
          "x": "jenny morris sharpei",
          "xref": "x",
          "y": "new year eve",
          "yref": "y"
         },
         {
          "font": {
           "color": "#FFFFFF",
           "size": 12
          },
          "showarrow": false,
          "text": "-0.0",
          "x": "looking new job",
          "xref": "x",
          "y": "new year eve",
          "yref": "y"
         },
         {
          "font": {
           "color": "#FFFFFF",
           "size": 12
          },
          "showarrow": false,
          "text": "-0.0",
          "x": "10 minutes late",
          "xref": "x",
          "y": "looking new job",
          "yref": "y"
         },
         {
          "font": {
           "color": "#FFFFFF",
           "size": 12
          },
          "showarrow": false,
          "text": "-0.0",
          "x": "15 20 minutes",
          "xref": "x",
          "y": "looking new job",
          "yref": "y"
         },
         {
          "font": {
           "color": "#FFFFFF",
           "size": 12
          },
          "showarrow": false,
          "text": "-0.0",
          "x": "15 minutes late",
          "xref": "x",
          "y": "looking new job",
          "yref": "y"
         },
         {
          "font": {
           "color": "#FFFFFF",
           "size": 12
          },
          "showarrow": false,
          "text": "-0.0",
          "x": "birthday party saturday",
          "xref": "x",
          "y": "looking new job",
          "yref": "y"
         },
         {
          "font": {
           "color": "#FFFFFF",
           "size": 12
          },
          "showarrow": false,
          "text": "-0.0",
          "x": "doesn want talk",
          "xref": "x",
          "y": "looking new job",
          "yref": "y"
         },
         {
          "font": {
           "color": "#FFFFFF",
           "size": 12
          },
          "showarrow": false,
          "text": "-0.0",
          "x": "going meet pm",
          "xref": "x",
          "y": "looking new job",
          "yref": "y"
         },
         {
          "font": {
           "color": "#FFFFFF",
           "size": 12
          },
          "showarrow": false,
          "text": "0.07",
          "x": "got new job",
          "xref": "x",
          "y": "looking new job",
          "yref": "y"
         },
         {
          "font": {
           "color": "#FFFFFF",
           "size": 12
          },
          "showarrow": false,
          "text": "-0.0",
          "x": "happy new year",
          "xref": "x",
          "y": "looking new job",
          "yref": "y"
         },
         {
          "font": {
           "color": "#FFFFFF",
           "size": 12
          },
          "showarrow": false,
          "text": "-0.0",
          "x": "jenny morris sharpei",
          "xref": "x",
          "y": "looking new job",
          "yref": "y"
         },
         {
          "font": {
           "color": "#FFFFFF",
           "size": 12
          },
          "showarrow": false,
          "text": "-0.0",
          "x": "10 minutes late",
          "xref": "x",
          "y": "jenny morris sharpei",
          "yref": "y"
         },
         {
          "font": {
           "color": "#FFFFFF",
           "size": 12
          },
          "showarrow": false,
          "text": "-0.0",
          "x": "15 20 minutes",
          "xref": "x",
          "y": "jenny morris sharpei",
          "yref": "y"
         },
         {
          "font": {
           "color": "#FFFFFF",
           "size": 12
          },
          "showarrow": false,
          "text": "-0.0",
          "x": "15 minutes late",
          "xref": "x",
          "y": "jenny morris sharpei",
          "yref": "y"
         },
         {
          "font": {
           "color": "#FFFFFF",
           "size": 12
          },
          "showarrow": false,
          "text": "-0.0",
          "x": "birthday party saturday",
          "xref": "x",
          "y": "jenny morris sharpei",
          "yref": "y"
         },
         {
          "font": {
           "color": "#FFFFFF",
           "size": 12
          },
          "showarrow": false,
          "text": "-0.0",
          "x": "doesn want talk",
          "xref": "x",
          "y": "jenny morris sharpei",
          "yref": "y"
         },
         {
          "font": {
           "color": "#FFFFFF",
           "size": 12
          },
          "showarrow": false,
          "text": "-0.0",
          "x": "going meet pm",
          "xref": "x",
          "y": "jenny morris sharpei",
          "yref": "y"
         },
         {
          "font": {
           "color": "#FFFFFF",
           "size": 12
          },
          "showarrow": false,
          "text": "-0.0",
          "x": "got new job",
          "xref": "x",
          "y": "jenny morris sharpei",
          "yref": "y"
         },
         {
          "font": {
           "color": "#FFFFFF",
           "size": 12
          },
          "showarrow": false,
          "text": "-0.0",
          "x": "happy new year",
          "xref": "x",
          "y": "jenny morris sharpei",
          "yref": "y"
         },
         {
          "font": {
           "color": "#FFFFFF",
           "size": 12
          },
          "showarrow": false,
          "text": "-0.0",
          "x": "10 minutes late",
          "xref": "x",
          "y": "happy new year",
          "yref": "y"
         },
         {
          "font": {
           "color": "#FFFFFF",
           "size": 12
          },
          "showarrow": false,
          "text": "-0.0",
          "x": "15 20 minutes",
          "xref": "x",
          "y": "happy new year",
          "yref": "y"
         },
         {
          "font": {
           "color": "#FFFFFF",
           "size": 12
          },
          "showarrow": false,
          "text": "-0.0",
          "x": "15 minutes late",
          "xref": "x",
          "y": "happy new year",
          "yref": "y"
         },
         {
          "font": {
           "color": "#FFFFFF",
           "size": 12
          },
          "showarrow": false,
          "text": "-0.0",
          "x": "birthday party saturday",
          "xref": "x",
          "y": "happy new year",
          "yref": "y"
         },
         {
          "font": {
           "color": "#FFFFFF",
           "size": 12
          },
          "showarrow": false,
          "text": "-0.0",
          "x": "doesn want talk",
          "xref": "x",
          "y": "happy new year",
          "yref": "y"
         },
         {
          "font": {
           "color": "#FFFFFF",
           "size": 12
          },
          "showarrow": false,
          "text": "-0.0",
          "x": "going meet pm",
          "xref": "x",
          "y": "happy new year",
          "yref": "y"
         },
         {
          "font": {
           "color": "#FFFFFF",
           "size": 12
          },
          "showarrow": false,
          "text": "-0.0",
          "x": "got new job",
          "xref": "x",
          "y": "happy new year",
          "yref": "y"
         },
         {
          "font": {
           "color": "#FFFFFF",
           "size": 12
          },
          "showarrow": false,
          "text": "-0.0",
          "x": "10 minutes late",
          "xref": "x",
          "y": "got new job",
          "yref": "y"
         },
         {
          "font": {
           "color": "#FFFFFF",
           "size": 12
          },
          "showarrow": false,
          "text": "-0.0",
          "x": "15 20 minutes",
          "xref": "x",
          "y": "got new job",
          "yref": "y"
         },
         {
          "font": {
           "color": "#FFFFFF",
           "size": 12
          },
          "showarrow": false,
          "text": "-0.0",
          "x": "15 minutes late",
          "xref": "x",
          "y": "got new job",
          "yref": "y"
         },
         {
          "font": {
           "color": "#FFFFFF",
           "size": 12
          },
          "showarrow": false,
          "text": "-0.0",
          "x": "birthday party saturday",
          "xref": "x",
          "y": "got new job",
          "yref": "y"
         },
         {
          "font": {
           "color": "#FFFFFF",
           "size": 12
          },
          "showarrow": false,
          "text": "-0.0",
          "x": "doesn want talk",
          "xref": "x",
          "y": "got new job",
          "yref": "y"
         },
         {
          "font": {
           "color": "#FFFFFF",
           "size": 12
          },
          "showarrow": false,
          "text": "-0.0",
          "x": "going meet pm",
          "xref": "x",
          "y": "got new job",
          "yref": "y"
         },
         {
          "font": {
           "color": "#FFFFFF",
           "size": 12
          },
          "showarrow": false,
          "text": "-0.0",
          "x": "10 minutes late",
          "xref": "x",
          "y": "going meet pm",
          "yref": "y"
         },
         {
          "font": {
           "color": "#FFFFFF",
           "size": 12
          },
          "showarrow": false,
          "text": "-0.0",
          "x": "15 20 minutes",
          "xref": "x",
          "y": "going meet pm",
          "yref": "y"
         },
         {
          "font": {
           "color": "#FFFFFF",
           "size": 12
          },
          "showarrow": false,
          "text": "-0.0",
          "x": "15 minutes late",
          "xref": "x",
          "y": "going meet pm",
          "yref": "y"
         },
         {
          "font": {
           "color": "#FFFFFF",
           "size": 12
          },
          "showarrow": false,
          "text": "-0.0",
          "x": "birthday party saturday",
          "xref": "x",
          "y": "going meet pm",
          "yref": "y"
         },
         {
          "font": {
           "color": "#FFFFFF",
           "size": 12
          },
          "showarrow": false,
          "text": "-0.0",
          "x": "doesn want talk",
          "xref": "x",
          "y": "going meet pm",
          "yref": "y"
         },
         {
          "font": {
           "color": "#FFFFFF",
           "size": 12
          },
          "showarrow": false,
          "text": "-0.0",
          "x": "10 minutes late",
          "xref": "x",
          "y": "doesn want talk",
          "yref": "y"
         },
         {
          "font": {
           "color": "#FFFFFF",
           "size": 12
          },
          "showarrow": false,
          "text": "-0.0",
          "x": "15 20 minutes",
          "xref": "x",
          "y": "doesn want talk",
          "yref": "y"
         },
         {
          "font": {
           "color": "#FFFFFF",
           "size": 12
          },
          "showarrow": false,
          "text": "-0.0",
          "x": "15 minutes late",
          "xref": "x",
          "y": "doesn want talk",
          "yref": "y"
         },
         {
          "font": {
           "color": "#FFFFFF",
           "size": 12
          },
          "showarrow": false,
          "text": "-0.0",
          "x": "birthday party saturday",
          "xref": "x",
          "y": "doesn want talk",
          "yref": "y"
         },
         {
          "font": {
           "color": "#FFFFFF",
           "size": 12
          },
          "showarrow": false,
          "text": "-0.0",
          "x": "10 minutes late",
          "xref": "x",
          "y": "birthday party saturday",
          "yref": "y"
         },
         {
          "font": {
           "color": "#FFFFFF",
           "size": 12
          },
          "showarrow": false,
          "text": "-0.0",
          "x": "15 20 minutes",
          "xref": "x",
          "y": "birthday party saturday",
          "yref": "y"
         },
         {
          "font": {
           "color": "#FFFFFF",
           "size": 12
          },
          "showarrow": false,
          "text": "-0.0",
          "x": "15 minutes late",
          "xref": "x",
          "y": "birthday party saturday",
          "yref": "y"
         },
         {
          "font": {
           "color": "#FFFFFF",
           "size": 12
          },
          "showarrow": false,
          "text": "-0.0",
          "x": "10 minutes late",
          "xref": "x",
          "y": "15 minutes late",
          "yref": "y"
         },
         {
          "font": {
           "color": "#FFFFFF",
           "size": 12
          },
          "showarrow": false,
          "text": "-0.0",
          "x": "15 20 minutes",
          "xref": "x",
          "y": "15 minutes late",
          "yref": "y"
         },
         {
          "font": {
           "color": "#FFFFFF",
           "size": 12
          },
          "showarrow": false,
          "text": "-0.0",
          "x": "10 minutes late",
          "xref": "x",
          "y": "15 20 minutes",
          "yref": "y"
         }
        ],
        "height": 800,
        "margin": {
         "l": 110,
         "t": 210
        },
        "template": {
         "data": {
          "bar": [
           {
            "error_x": {
             "color": "#f2f5fa"
            },
            "error_y": {
             "color": "#f2f5fa"
            },
            "marker": {
             "line": {
              "color": "rgb(17,17,17)",
              "width": 0.5
             },
             "pattern": {
              "fillmode": "overlay",
              "size": 10,
              "solidity": 0.2
             }
            },
            "type": "bar"
           }
          ],
          "barpolar": [
           {
            "marker": {
             "line": {
              "color": "rgb(17,17,17)",
              "width": 0.5
             },
             "pattern": {
              "fillmode": "overlay",
              "size": 10,
              "solidity": 0.2
             }
            },
            "type": "barpolar"
           }
          ],
          "carpet": [
           {
            "aaxis": {
             "endlinecolor": "#A2B1C6",
             "gridcolor": "#506784",
             "linecolor": "#506784",
             "minorgridcolor": "#506784",
             "startlinecolor": "#A2B1C6"
            },
            "baxis": {
             "endlinecolor": "#A2B1C6",
             "gridcolor": "#506784",
             "linecolor": "#506784",
             "minorgridcolor": "#506784",
             "startlinecolor": "#A2B1C6"
            },
            "type": "carpet"
           }
          ],
          "choropleth": [
           {
            "colorbar": {
             "outlinewidth": 0,
             "ticks": ""
            },
            "type": "choropleth"
           }
          ],
          "contour": [
           {
            "colorbar": {
             "outlinewidth": 0,
             "ticks": ""
            },
            "colorscale": [
             [
              0,
              "#0d0887"
             ],
             [
              0.1111111111111111,
              "#46039f"
             ],
             [
              0.2222222222222222,
              "#7201a8"
             ],
             [
              0.3333333333333333,
              "#9c179e"
             ],
             [
              0.4444444444444444,
              "#bd3786"
             ],
             [
              0.5555555555555556,
              "#d8576b"
             ],
             [
              0.6666666666666666,
              "#ed7953"
             ],
             [
              0.7777777777777778,
              "#fb9f3a"
             ],
             [
              0.8888888888888888,
              "#fdca26"
             ],
             [
              1,
              "#f0f921"
             ]
            ],
            "type": "contour"
           }
          ],
          "contourcarpet": [
           {
            "colorbar": {
             "outlinewidth": 0,
             "ticks": ""
            },
            "type": "contourcarpet"
           }
          ],
          "heatmap": [
           {
            "colorbar": {
             "outlinewidth": 0,
             "ticks": ""
            },
            "colorscale": [
             [
              0,
              "#0d0887"
             ],
             [
              0.1111111111111111,
              "#46039f"
             ],
             [
              0.2222222222222222,
              "#7201a8"
             ],
             [
              0.3333333333333333,
              "#9c179e"
             ],
             [
              0.4444444444444444,
              "#bd3786"
             ],
             [
              0.5555555555555556,
              "#d8576b"
             ],
             [
              0.6666666666666666,
              "#ed7953"
             ],
             [
              0.7777777777777778,
              "#fb9f3a"
             ],
             [
              0.8888888888888888,
              "#fdca26"
             ],
             [
              1,
              "#f0f921"
             ]
            ],
            "type": "heatmap"
           }
          ],
          "histogram": [
           {
            "marker": {
             "pattern": {
              "fillmode": "overlay",
              "size": 10,
              "solidity": 0.2
             }
            },
            "type": "histogram"
           }
          ],
          "histogram2d": [
           {
            "colorbar": {
             "outlinewidth": 0,
             "ticks": ""
            },
            "colorscale": [
             [
              0,
              "#0d0887"
             ],
             [
              0.1111111111111111,
              "#46039f"
             ],
             [
              0.2222222222222222,
              "#7201a8"
             ],
             [
              0.3333333333333333,
              "#9c179e"
             ],
             [
              0.4444444444444444,
              "#bd3786"
             ],
             [
              0.5555555555555556,
              "#d8576b"
             ],
             [
              0.6666666666666666,
              "#ed7953"
             ],
             [
              0.7777777777777778,
              "#fb9f3a"
             ],
             [
              0.8888888888888888,
              "#fdca26"
             ],
             [
              1,
              "#f0f921"
             ]
            ],
            "type": "histogram2d"
           }
          ],
          "histogram2dcontour": [
           {
            "colorbar": {
             "outlinewidth": 0,
             "ticks": ""
            },
            "colorscale": [
             [
              0,
              "#0d0887"
             ],
             [
              0.1111111111111111,
              "#46039f"
             ],
             [
              0.2222222222222222,
              "#7201a8"
             ],
             [
              0.3333333333333333,
              "#9c179e"
             ],
             [
              0.4444444444444444,
              "#bd3786"
             ],
             [
              0.5555555555555556,
              "#d8576b"
             ],
             [
              0.6666666666666666,
              "#ed7953"
             ],
             [
              0.7777777777777778,
              "#fb9f3a"
             ],
             [
              0.8888888888888888,
              "#fdca26"
             ],
             [
              1,
              "#f0f921"
             ]
            ],
            "type": "histogram2dcontour"
           }
          ],
          "mesh3d": [
           {
            "colorbar": {
             "outlinewidth": 0,
             "ticks": ""
            },
            "type": "mesh3d"
           }
          ],
          "parcoords": [
           {
            "line": {
             "colorbar": {
              "outlinewidth": 0,
              "ticks": ""
             }
            },
            "type": "parcoords"
           }
          ],
          "pie": [
           {
            "automargin": true,
            "type": "pie"
           }
          ],
          "scatter": [
           {
            "marker": {
             "line": {
              "color": "#283442"
             }
            },
            "type": "scatter"
           }
          ],
          "scatter3d": [
           {
            "line": {
             "colorbar": {
              "outlinewidth": 0,
              "ticks": ""
             }
            },
            "marker": {
             "colorbar": {
              "outlinewidth": 0,
              "ticks": ""
             }
            },
            "type": "scatter3d"
           }
          ],
          "scattercarpet": [
           {
            "marker": {
             "colorbar": {
              "outlinewidth": 0,
              "ticks": ""
             }
            },
            "type": "scattercarpet"
           }
          ],
          "scattergeo": [
           {
            "marker": {
             "colorbar": {
              "outlinewidth": 0,
              "ticks": ""
             }
            },
            "type": "scattergeo"
           }
          ],
          "scattergl": [
           {
            "marker": {
             "line": {
              "color": "#283442"
             }
            },
            "type": "scattergl"
           }
          ],
          "scattermap": [
           {
            "marker": {
             "colorbar": {
              "outlinewidth": 0,
              "ticks": ""
             }
            },
            "type": "scattermap"
           }
          ],
          "scattermapbox": [
           {
            "marker": {
             "colorbar": {
              "outlinewidth": 0,
              "ticks": ""
             }
            },
            "type": "scattermapbox"
           }
          ],
          "scatterpolar": [
           {
            "marker": {
             "colorbar": {
              "outlinewidth": 0,
              "ticks": ""
             }
            },
            "type": "scatterpolar"
           }
          ],
          "scatterpolargl": [
           {
            "marker": {
             "colorbar": {
              "outlinewidth": 0,
              "ticks": ""
             }
            },
            "type": "scatterpolargl"
           }
          ],
          "scatterternary": [
           {
            "marker": {
             "colorbar": {
              "outlinewidth": 0,
              "ticks": ""
             }
            },
            "type": "scatterternary"
           }
          ],
          "surface": [
           {
            "colorbar": {
             "outlinewidth": 0,
             "ticks": ""
            },
            "colorscale": [
             [
              0,
              "#0d0887"
             ],
             [
              0.1111111111111111,
              "#46039f"
             ],
             [
              0.2222222222222222,
              "#7201a8"
             ],
             [
              0.3333333333333333,
              "#9c179e"
             ],
             [
              0.4444444444444444,
              "#bd3786"
             ],
             [
              0.5555555555555556,
              "#d8576b"
             ],
             [
              0.6666666666666666,
              "#ed7953"
             ],
             [
              0.7777777777777778,
              "#fb9f3a"
             ],
             [
              0.8888888888888888,
              "#fdca26"
             ],
             [
              1,
              "#f0f921"
             ]
            ],
            "type": "surface"
           }
          ],
          "table": [
           {
            "cells": {
             "fill": {
              "color": "#506784"
             },
             "line": {
              "color": "rgb(17,17,17)"
             }
            },
            "header": {
             "fill": {
              "color": "#2a3f5f"
             },
             "line": {
              "color": "rgb(17,17,17)"
             }
            },
            "type": "table"
           }
          ]
         },
         "layout": {
          "annotationdefaults": {
           "arrowcolor": "#f2f5fa",
           "arrowhead": 0,
           "arrowwidth": 1
          },
          "autotypenumbers": "strict",
          "coloraxis": {
           "colorbar": {
            "outlinewidth": 0,
            "ticks": ""
           }
          },
          "colorscale": {
           "diverging": [
            [
             0,
             "#8e0152"
            ],
            [
             0.1,
             "#c51b7d"
            ],
            [
             0.2,
             "#de77ae"
            ],
            [
             0.3,
             "#f1b6da"
            ],
            [
             0.4,
             "#fde0ef"
            ],
            [
             0.5,
             "#f7f7f7"
            ],
            [
             0.6,
             "#e6f5d0"
            ],
            [
             0.7,
             "#b8e186"
            ],
            [
             0.8,
             "#7fbc41"
            ],
            [
             0.9,
             "#4d9221"
            ],
            [
             1,
             "#276419"
            ]
           ],
           "sequential": [
            [
             0,
             "#0d0887"
            ],
            [
             0.1111111111111111,
             "#46039f"
            ],
            [
             0.2222222222222222,
             "#7201a8"
            ],
            [
             0.3333333333333333,
             "#9c179e"
            ],
            [
             0.4444444444444444,
             "#bd3786"
            ],
            [
             0.5555555555555556,
             "#d8576b"
            ],
            [
             0.6666666666666666,
             "#ed7953"
            ],
            [
             0.7777777777777778,
             "#fb9f3a"
            ],
            [
             0.8888888888888888,
             "#fdca26"
            ],
            [
             1,
             "#f0f921"
            ]
           ],
           "sequentialminus": [
            [
             0,
             "#0d0887"
            ],
            [
             0.1111111111111111,
             "#46039f"
            ],
            [
             0.2222222222222222,
             "#7201a8"
            ],
            [
             0.3333333333333333,
             "#9c179e"
            ],
            [
             0.4444444444444444,
             "#bd3786"
            ],
            [
             0.5555555555555556,
             "#d8576b"
            ],
            [
             0.6666666666666666,
             "#ed7953"
            ],
            [
             0.7777777777777778,
             "#fb9f3a"
            ],
            [
             0.8888888888888888,
             "#fdca26"
            ],
            [
             1,
             "#f0f921"
            ]
           ]
          },
          "colorway": [
           "#636efa",
           "#EF553B",
           "#00cc96",
           "#ab63fa",
           "#FFA15A",
           "#19d3f3",
           "#FF6692",
           "#B6E880",
           "#FF97FF",
           "#FECB52"
          ],
          "font": {
           "color": "#f2f5fa"
          },
          "geo": {
           "bgcolor": "rgb(17,17,17)",
           "lakecolor": "rgb(17,17,17)",
           "landcolor": "rgb(17,17,17)",
           "showlakes": true,
           "showland": true,
           "subunitcolor": "#506784"
          },
          "hoverlabel": {
           "align": "left"
          },
          "hovermode": "closest",
          "mapbox": {
           "style": "dark"
          },
          "paper_bgcolor": "rgb(17,17,17)",
          "plot_bgcolor": "rgb(17,17,17)",
          "polar": {
           "angularaxis": {
            "gridcolor": "#506784",
            "linecolor": "#506784",
            "ticks": ""
           },
           "bgcolor": "rgb(17,17,17)",
           "radialaxis": {
            "gridcolor": "#506784",
            "linecolor": "#506784",
            "ticks": ""
           }
          },
          "scene": {
           "xaxis": {
            "backgroundcolor": "rgb(17,17,17)",
            "gridcolor": "#506784",
            "gridwidth": 2,
            "linecolor": "#506784",
            "showbackground": true,
            "ticks": "",
            "zerolinecolor": "#C8D4E3"
           },
           "yaxis": {
            "backgroundcolor": "rgb(17,17,17)",
            "gridcolor": "#506784",
            "gridwidth": 2,
            "linecolor": "#506784",
            "showbackground": true,
            "ticks": "",
            "zerolinecolor": "#C8D4E3"
           },
           "zaxis": {
            "backgroundcolor": "rgb(17,17,17)",
            "gridcolor": "#506784",
            "gridwidth": 2,
            "linecolor": "#506784",
            "showbackground": true,
            "ticks": "",
            "zerolinecolor": "#C8D4E3"
           }
          },
          "shapedefaults": {
           "line": {
            "color": "#f2f5fa"
           }
          },
          "sliderdefaults": {
           "bgcolor": "#C8D4E3",
           "bordercolor": "rgb(17,17,17)",
           "borderwidth": 1,
           "tickwidth": 0
          },
          "ternary": {
           "aaxis": {
            "gridcolor": "#506784",
            "linecolor": "#506784",
            "ticks": ""
           },
           "baxis": {
            "gridcolor": "#506784",
            "linecolor": "#506784",
            "ticks": ""
           },
           "bgcolor": "rgb(17,17,17)",
           "caxis": {
            "gridcolor": "#506784",
            "linecolor": "#506784",
            "ticks": ""
           }
          },
          "title": {
           "x": 0.05
          },
          "updatemenudefaults": {
           "bgcolor": "#506784",
           "borderwidth": 0
          },
          "xaxis": {
           "automargin": true,
           "gridcolor": "#283442",
           "linecolor": "#506784",
           "ticks": "",
           "title": {
            "standoff": 15
           },
           "zerolinecolor": "#283442",
           "zerolinewidth": 2
          },
          "yaxis": {
           "automargin": true,
           "gridcolor": "#283442",
           "linecolor": "#506784",
           "ticks": "",
           "title": {
            "standoff": 15
           },
           "zerolinecolor": "#283442",
           "zerolinewidth": 2
          }
         }
        },
        "title": {
         "text": "<b>Trigrams Heatmap<br><sup>&nbsp;&nbsp;&nbsp;&nbsp;<i>Train - Summary</i></sup></b>",
         "x": 0.025,
         "xanchor": "left",
         "y": 0.95
        },
        "width": 800,
        "xaxis": {
         "dtick": 1,
         "gridcolor": "rgb(0, 0, 0)",
         "showgrid": false,
         "side": "top",
         "ticks": ""
        },
        "yaxis": {
         "autorange": "reversed",
         "dtick": 1,
         "showgrid": false,
         "ticks": "",
         "ticksuffix": "  "
        }
       }
      }
     },
     "metadata": {},
     "output_type": "display_data"
    }
   ],
   "source": [
    "\n",
    "vectorizer = TfidfVectorizer(max_features = 15,stop_words = 'english',ngram_range = (3,3)) # Top 15 terms\n",
    "x = vectorizer.fit_transform(train['summary'].fillna(''))\n",
    "df_tfidfvect = pd.DataFrame(x.toarray(), columns=vectorizer.get_feature_names_out())\n",
    "plot_correlation(df_tfidfvect, 'Trigrams', 'Train - Summary', 800, 800, 12)"
   ]
  },
  {
   "cell_type": "code",
   "execution_count": 52,
   "metadata": {},
   "outputs": [
    {
     "name": "stdout",
     "output_type": "stream",
     "text": [
      "\n",
      "DataFrame shape: (819, 3)\n",
      "\n",
      "819 samples\n",
      "\n",
      "3 attributes\n",
      "\n",
      "Missing Data: \n",
      "id          0\n",
      "dialogue    0\n",
      "summary     0\n",
      "dtype: int64\n",
      "\n",
      "Duplicates: 0\n",
      "\n",
      "Data Types: \n",
      "id          object\n",
      "dialogue    object\n",
      "summary     object\n",
      "dtype: object\n",
      "\n",
      "Categorical Features: \n",
      "id, dialogue, summary\n",
      "\n",
      "Continuous Features: \n",
      "None\n",
      "\n",
      "Binary Features: \n",
      "None\n",
      "\n",
      "DataFrame Head: \n",
      "\n"
     ]
    },
    {
     "data": {
      "text/html": [
       "<div>\n",
       "<style scoped>\n",
       "    .dataframe tbody tr th:only-of-type {\n",
       "        vertical-align: middle;\n",
       "    }\n",
       "\n",
       "    .dataframe tbody tr th {\n",
       "        vertical-align: top;\n",
       "    }\n",
       "\n",
       "    .dataframe thead th {\n",
       "        text-align: right;\n",
       "    }\n",
       "</style>\n",
       "<table border=\"1\" class=\"dataframe\">\n",
       "  <thead>\n",
       "    <tr style=\"text-align: right;\">\n",
       "      <th></th>\n",
       "      <th>id</th>\n",
       "      <th>dialogue</th>\n",
       "      <th>summary</th>\n",
       "    </tr>\n",
       "  </thead>\n",
       "  <tbody>\n",
       "    <tr>\n",
       "      <th>0</th>\n",
       "      <td>13862856</td>\n",
       "      <td>Hannah: Hey, do you have Betty's number?\\nAmanda: Lemme check\\nHannah: &lt;file_gif&gt;\\nAmanda: Sorry, can't find it.\\nAmanda: Ask Larry\\nAmanda: He called her last time we were at the park together\\nHannah: I don't know him well\\nHannah: &lt;file_gif&gt;\\nAmanda: Don't be shy, he's very nice\\nHannah: If you say so..\\nHannah: I'd rather you texted him\\nAmanda: Just text him 🙂\\nHannah: Urgh.. Alright\\nHannah: Bye\\nAmanda: Bye bye</td>\n",
       "      <td>Hannah needs Betty's number but Amanda doesn't have it. She needs to contact Larry.</td>\n",
       "    </tr>\n",
       "    <tr>\n",
       "      <th>1</th>\n",
       "      <td>13729565</td>\n",
       "      <td>Eric: MACHINE!\\r\\nRob: That's so gr8!\\r\\nEric: I know! And shows how Americans see Russian ;)\\r\\nRob: And it's really funny!\\r\\nEric: I know! I especially like the train part!\\r\\nRob: Hahaha! No one talks to the machine like that!\\r\\nEric: Is this his only stand-up?\\r\\nRob: Idk. I'll check.\\r\\nEric: Sure.\\r\\nRob: Turns out no! There are some of his stand-ups on youtube.\\r\\nEric: Gr8! I'll watch them now!\\r\\nRob: Me too!\\r\\nEric: MACHINE!\\r\\nRob: MACHINE!\\r\\nEric: TTYL?\\r\\nRob: Sure :)</td>\n",
       "      <td>Eric and Rob are going to watch a stand-up on youtube.</td>\n",
       "    </tr>\n",
       "    <tr>\n",
       "      <th>2</th>\n",
       "      <td>13680171</td>\n",
       "      <td>Lenny: Babe, can you help me with something?\\r\\nBob: Sure, what's up?\\r\\nLenny: Which one should I pick?\\r\\nBob: Send me photos\\r\\nLenny:  &lt;file_photo&gt;\\r\\nLenny:  &lt;file_photo&gt;\\r\\nLenny:  &lt;file_photo&gt;\\r\\nBob: I like the first ones best\\r\\nLenny: But I already have purple trousers. Does it make sense to have two pairs?\\r\\nBob: I have four black pairs :D :D\\r\\nLenny: yeah, but shouldn't I pick a different color?\\r\\nBob: what matters is what you'll give you the most outfit options\\r\\nLenny: So I guess I'll buy the first or the third pair then\\r\\nBob: Pick the best quality then\\r\\nLenny: ur right, thx\\r\\nBob: no prob :)</td>\n",
       "      <td>Lenny can't decide which trousers to buy. Bob advised Lenny on that topic. Lenny goes with Bob's advice to pick the trousers that are of best quality.</td>\n",
       "    </tr>\n",
       "    <tr>\n",
       "      <th>3</th>\n",
       "      <td>13729438</td>\n",
       "      <td>Will: hey babe, what do you want for dinner tonight?\\r\\nEmma:  gah, don't even worry about it tonight\\r\\nWill: what do you mean? everything ok?\\r\\nEmma: not really, but it's ok, don't worry about cooking though, I'm not hungry\\r\\nWill: Well what time will you be home?\\r\\nEmma: soon, hopefully\\r\\nWill: you sure? Maybe you want me to pick you up?\\r\\nEmma: no no it's alright. I'll be home soon, i'll tell you when I get home. \\r\\nWill: Alright, love you. \\r\\nEmma: love you too.</td>\n",
       "      <td>Emma will be home soon and she will let Will know.</td>\n",
       "    </tr>\n",
       "    <tr>\n",
       "      <th>4</th>\n",
       "      <td>13828600</td>\n",
       "      <td>Ollie: Hi , are you in Warsaw\\r\\nJane: yes, just back! Btw are you free for diner the 19th?\\r\\nOllie: nope!\\r\\nJane: and the  18th?\\r\\nOllie: nope, we have this party and you must be there, remember?\\r\\nJane: oh right! i lost my calendar..  thanks for reminding me\\r\\nOllie: we have lunch this week?\\r\\nJane: with pleasure!\\r\\nOllie: friday?\\r\\nJane: ok\\r\\nJane: what do you mean \" we don't have any more whisky!\" lol..\\r\\nOllie: what!!!\\r\\nJane: you just call me and the all thing i heard was that sentence about whisky... what's wrong with you?\\r\\nOllie: oh oh... very strange! i have to be carefull may be there is some spy in my mobile! lol\\r\\nJane: dont' worry, we'll check on friday.\\r\\nOllie: don't forget to bring some sun with you\\r\\nJane: I can't wait to be in Morocco..\\r\\nOllie: enjoy and see you friday\\r\\nJane: sorry Ollie, i'm very busy, i won't have time for lunch  tomorrow, but may be at 6pm after my courses?this trip to Morocco was so nice, but time consuming!\\r\\nOllie: ok fo...</td>\n",
       "      <td>Jane is in Warsaw. Ollie and Jane has a party. Jane lost her calendar. They will get a lunch this week on Friday. Ollie accidentally called Jane and talked about whisky. Jane cancels lunch. They'll meet for a tea at 6 pm.</td>\n",
       "    </tr>\n",
       "  </tbody>\n",
       "</table>\n",
       "</div>"
      ],
      "text/plain": [
       "         id  \\\n",
       "0  13862856   \n",
       "1  13729565   \n",
       "2  13680171   \n",
       "3  13729438   \n",
       "4  13828600   \n",
       "\n",
       "                                                                                                                                                                                                                                                                                                                                                                                                                                                                                                                                                                                                                                                                                                                                                                                                                                                                                                                                                                                                                                  dialogue  \\\n",
       "0                                                                                                                                                                                                                                                                                                                                                                                                                                                                                                                                                                                                    Hannah: Hey, do you have Betty's number?\\nAmanda: Lemme check\\nHannah: <file_gif>\\nAmanda: Sorry, can't find it.\\nAmanda: Ask Larry\\nAmanda: He called her last time we were at the park together\\nHannah: I don't know him well\\nHannah: <file_gif>\\nAmanda: Don't be shy, he's very nice\\nHannah: If you say so..\\nHannah: I'd rather you texted him\\nAmanda: Just text him 🙂\\nHannah: Urgh.. Alright\\nHannah: Bye\\nAmanda: Bye bye   \n",
       "1                                                                                                                                                                                                                                                                                                                                                                                                                                                                                                                                Eric: MACHINE!\\r\\nRob: That's so gr8!\\r\\nEric: I know! And shows how Americans see Russian ;)\\r\\nRob: And it's really funny!\\r\\nEric: I know! I especially like the train part!\\r\\nRob: Hahaha! No one talks to the machine like that!\\r\\nEric: Is this his only stand-up?\\r\\nRob: Idk. I'll check.\\r\\nEric: Sure.\\r\\nRob: Turns out no! There are some of his stand-ups on youtube.\\r\\nEric: Gr8! I'll watch them now!\\r\\nRob: Me too!\\r\\nEric: MACHINE!\\r\\nRob: MACHINE!\\r\\nEric: TTYL?\\r\\nRob: Sure :)   \n",
       "2                                                                                                                                                                                                                                                                                                                                                                                           Lenny: Babe, can you help me with something?\\r\\nBob: Sure, what's up?\\r\\nLenny: Which one should I pick?\\r\\nBob: Send me photos\\r\\nLenny:  <file_photo>\\r\\nLenny:  <file_photo>\\r\\nLenny:  <file_photo>\\r\\nBob: I like the first ones best\\r\\nLenny: But I already have purple trousers. Does it make sense to have two pairs?\\r\\nBob: I have four black pairs :D :D\\r\\nLenny: yeah, but shouldn't I pick a different color?\\r\\nBob: what matters is what you'll give you the most outfit options\\r\\nLenny: So I guess I'll buy the first or the third pair then\\r\\nBob: Pick the best quality then\\r\\nLenny: ur right, thx\\r\\nBob: no prob :)   \n",
       "3                                                                                                                                                                                                                                                                                                                                                                                                                                                                                                                                          Will: hey babe, what do you want for dinner tonight?\\r\\nEmma:  gah, don't even worry about it tonight\\r\\nWill: what do you mean? everything ok?\\r\\nEmma: not really, but it's ok, don't worry about cooking though, I'm not hungry\\r\\nWill: Well what time will you be home?\\r\\nEmma: soon, hopefully\\r\\nWill: you sure? Maybe you want me to pick you up?\\r\\nEmma: no no it's alright. I'll be home soon, i'll tell you when I get home. \\r\\nWill: Alright, love you. \\r\\nEmma: love you too.    \n",
       "4  Ollie: Hi , are you in Warsaw\\r\\nJane: yes, just back! Btw are you free for diner the 19th?\\r\\nOllie: nope!\\r\\nJane: and the  18th?\\r\\nOllie: nope, we have this party and you must be there, remember?\\r\\nJane: oh right! i lost my calendar..  thanks for reminding me\\r\\nOllie: we have lunch this week?\\r\\nJane: with pleasure!\\r\\nOllie: friday?\\r\\nJane: ok\\r\\nJane: what do you mean \" we don't have any more whisky!\" lol..\\r\\nOllie: what!!!\\r\\nJane: you just call me and the all thing i heard was that sentence about whisky... what's wrong with you?\\r\\nOllie: oh oh... very strange! i have to be carefull may be there is some spy in my mobile! lol\\r\\nJane: dont' worry, we'll check on friday.\\r\\nOllie: don't forget to bring some sun with you\\r\\nJane: I can't wait to be in Morocco..\\r\\nOllie: enjoy and see you friday\\r\\nJane: sorry Ollie, i'm very busy, i won't have time for lunch  tomorrow, but may be at 6pm after my courses?this trip to Morocco was so nice, but time consuming!\\r\\nOllie: ok fo...   \n",
       "\n",
       "                                                                                                                                                                                                                         summary  \n",
       "0                                                                                                                                            Hannah needs Betty's number but Amanda doesn't have it. She needs to contact Larry.  \n",
       "1                                                                                                                                                                         Eric and Rob are going to watch a stand-up on youtube.  \n",
       "2                                                                         Lenny can't decide which trousers to buy. Bob advised Lenny on that topic. Lenny goes with Bob's advice to pick the trousers that are of best quality.  \n",
       "3                                                                                                                                                                             Emma will be home soon and she will let Will know.  \n",
       "4  Jane is in Warsaw. Ollie and Jane has a party. Jane lost her calendar. They will get a lunch this week on Friday. Ollie accidentally called Jane and talked about whisky. Jane cancels lunch. They'll meet for a tea at 6 pm.  "
      ]
     },
     "metadata": {},
     "output_type": "display_data"
    },
    {
     "name": "stdout",
     "output_type": "stream",
     "text": [
      "\n",
      "DataFrame Tail: \n",
      "\n"
     ]
    },
    {
     "data": {
      "text/html": [
       "<div>\n",
       "<style scoped>\n",
       "    .dataframe tbody tr th:only-of-type {\n",
       "        vertical-align: middle;\n",
       "    }\n",
       "\n",
       "    .dataframe tbody tr th {\n",
       "        vertical-align: top;\n",
       "    }\n",
       "\n",
       "    .dataframe thead th {\n",
       "        text-align: right;\n",
       "    }\n",
       "</style>\n",
       "<table border=\"1\" class=\"dataframe\">\n",
       "  <thead>\n",
       "    <tr style=\"text-align: right;\">\n",
       "      <th></th>\n",
       "      <th>id</th>\n",
       "      <th>dialogue</th>\n",
       "      <th>summary</th>\n",
       "    </tr>\n",
       "  </thead>\n",
       "  <tbody>\n",
       "    <tr>\n",
       "      <th>814</th>\n",
       "      <td>13611902-1</td>\n",
       "      <td>Alex: Were you able to attend Friday night's basketball game?\\r\\nBenjamin: I was unable to make it.\\r\\nAlex: You should have been there. It was intense.\\r\\nBenjamin: Is that right. Who ended up winning?\\r\\nAlex: Our team was victorious.\\r\\nBenjamin: I wish I was free that night. I'm kind of mad that I didn't go.\\r\\nAlex: It was a great game. Everything alright tough?\\r\\nBenjamin: Yeah man thanks for asking, it's just that my mom is sick and I am taking care of her.\\r\\nAlex: Oh sorry to hear that. Hope she makes a fast recovery 💪\\r\\nBenjamin: She will, she just has a nasty flu but she will be alright :D\\r\\nAlex: Glad to hear that!\\r\\nBenjamin: What was the score at the end of the game?\\r\\nAlex: Our team won 101-98.\\r\\nBenjamin: Sounds like it was a close game then.\\r\\nAlex: That's the reason it was such a great game.\\r\\nBenjamin: I'll go to the next one for sure.\\r\\nAlex: It's next weekend so you better put on your calendar ahaha\\r\\nBenjamin: ahaha I will I will. Talk to you later!\\...</td>\n",
       "      <td>Benjamin didn't come to see a basketball game on Friday's night. The team supported by Alex won 101-98. Benjamin's mom has a flu and he's looking after her. Benjamin declares to attend the next basketball match.</td>\n",
       "    </tr>\n",
       "    <tr>\n",
       "      <th>815</th>\n",
       "      <td>13820989</td>\n",
       "      <td>Jamilla: remember that the audition starts at 7.30 P.M.\\r\\nKiki: which station?\\r\\nJamilla: Antena 3\\r\\nYoyo: roger that</td>\n",
       "      <td>The audition starts at 7.30 P.M. in Antena 3.</td>\n",
       "    </tr>\n",
       "    <tr>\n",
       "      <th>816</th>\n",
       "      <td>13717193</td>\n",
       "      <td>Marta: &lt;file_gif&gt;\\r\\nMarta: Sorry girls, I clicked something by accident :D\\r\\nAgnieszka: No problem :p\\r\\nWeronika: Hahaha\\r\\nAgnieszka: Good thing you didn't send something from your gallery ;)</td>\n",
       "      <td>Marta sent a file accidentally,</td>\n",
       "    </tr>\n",
       "    <tr>\n",
       "      <th>817</th>\n",
       "      <td>13829115</td>\n",
       "      <td>Cora: Have you heard how much fuss British media made about meet and greet with James Charles in Birmingham?\\r\\nEllie: no...! what happened?\\r\\nCora: Well, there was a meet and greet with James Charles in one of the malls in Birmingham and about 8000 fans showed up for it.\\r\\nCora: It cause a gridlock around the mall and - of course - British media had to make some (quite negative) comments on it.\\r\\nEllie: they came for sister James?! &gt;:(\\r\\nEllie: i sister snapped!! :p :D\\r\\nCora: Haha :D\\r\\nCora: You shouldn't watch so much youtube, you're getting weirder and weirder. :d\\r\\nEllie: sister shut up :P so, what did they say?\\r\\nCora: ;) :* \"Daily Mail\" was surprised that a meet and greet with a \"virtually unknown\" youtuber gathered 8000 people. :p\\r\\nCora: A host from LBC tried to find an answer to an unanswerable question: \"Who is James Charles?\". Eventually James called him and introduced himself. On air. :D\\r\\nEllie: there's something called google lol\\r\\nCora: Right? :p\\r\\nCora:...</td>\n",
       "      <td>There was a meet-and-greet with James Charles in Birmingham which gathered 8000  people.</td>\n",
       "    </tr>\n",
       "    <tr>\n",
       "      <th>818</th>\n",
       "      <td>13818810</td>\n",
       "      <td>Rachel: &lt;file_other&gt;\\r\\nRachel: Top 50 Best Films of 2018\\r\\nRachel: :)\\r\\nJanice: Omg, I've watched almost all 50... xDD\\r\\nSpencer: Hahah, Deadpool 2 also??\\r\\nJanice: Yep\\r\\nSpencer: Really??\\r\\nJanice: My bf forced me to watch it xD\\r\\nRachel: Hahah\\r\\nJanice: It wasn't that bad\\r\\nJanice: I thought it'd be worse\\r\\nRachel: And Avengers? :D\\r\\nJanice: 2 times\\r\\nRachel: Omg\\r\\nJanice: xP\\r\\nRachel: You are the best gf in the world\\r\\nRachel: Your bf should appreciate that ;-)\\r\\nJanice: He does\\r\\nJanice: x)</td>\n",
       "      <td>Rachel sends a list of Top 50 films of 2018. Janice watched almost half of them, Deadpool 2 and Avengers included.</td>\n",
       "    </tr>\n",
       "  </tbody>\n",
       "</table>\n",
       "</div>"
      ],
      "text/plain": [
       "             id  \\\n",
       "814  13611902-1   \n",
       "815    13820989   \n",
       "816    13717193   \n",
       "817    13829115   \n",
       "818    13818810   \n",
       "\n",
       "                                                                                                                                                                                                                                                                                                                                                                                                                                                                                                                                                                                                                                                                                                                                                                                                                                                                                                                                                                                                                                    dialogue  \\\n",
       "814  Alex: Were you able to attend Friday night's basketball game?\\r\\nBenjamin: I was unable to make it.\\r\\nAlex: You should have been there. It was intense.\\r\\nBenjamin: Is that right. Who ended up winning?\\r\\nAlex: Our team was victorious.\\r\\nBenjamin: I wish I was free that night. I'm kind of mad that I didn't go.\\r\\nAlex: It was a great game. Everything alright tough?\\r\\nBenjamin: Yeah man thanks for asking, it's just that my mom is sick and I am taking care of her.\\r\\nAlex: Oh sorry to hear that. Hope she makes a fast recovery 💪\\r\\nBenjamin: She will, she just has a nasty flu but she will be alright :D\\r\\nAlex: Glad to hear that!\\r\\nBenjamin: What was the score at the end of the game?\\r\\nAlex: Our team won 101-98.\\r\\nBenjamin: Sounds like it was a close game then.\\r\\nAlex: That's the reason it was such a great game.\\r\\nBenjamin: I'll go to the next one for sure.\\r\\nAlex: It's next weekend so you better put on your calendar ahaha\\r\\nBenjamin: ahaha I will I will. Talk to you later!\\...   \n",
       "815                                                                                                                                                                                                                                                                                                                                                                                                                                                                                                                                                                                                                                                                                                                                                                                                                                                                                                                 Jamilla: remember that the audition starts at 7.30 P.M.\\r\\nKiki: which station?\\r\\nJamilla: Antena 3\\r\\nYoyo: roger that   \n",
       "816                                                                                                                                                                                                                                                                                                                                                                                                                                                                                                                                                                                                                                                                                                                                                                                                                                      Marta: <file_gif>\\r\\nMarta: Sorry girls, I clicked something by accident :D\\r\\nAgnieszka: No problem :p\\r\\nWeronika: Hahaha\\r\\nAgnieszka: Good thing you didn't send something from your gallery ;)   \n",
       "817  Cora: Have you heard how much fuss British media made about meet and greet with James Charles in Birmingham?\\r\\nEllie: no...! what happened?\\r\\nCora: Well, there was a meet and greet with James Charles in one of the malls in Birmingham and about 8000 fans showed up for it.\\r\\nCora: It cause a gridlock around the mall and - of course - British media had to make some (quite negative) comments on it.\\r\\nEllie: they came for sister James?! >:(\\r\\nEllie: i sister snapped!! :p :D\\r\\nCora: Haha :D\\r\\nCora: You shouldn't watch so much youtube, you're getting weirder and weirder. :d\\r\\nEllie: sister shut up :P so, what did they say?\\r\\nCora: ;) :* \"Daily Mail\" was surprised that a meet and greet with a \"virtually unknown\" youtuber gathered 8000 people. :p\\r\\nCora: A host from LBC tried to find an answer to an unanswerable question: \"Who is James Charles?\". Eventually James called him and introduced himself. On air. :D\\r\\nEllie: there's something called google lol\\r\\nCora: Right? :p\\r\\nCora:...   \n",
       "818                                                                                                                                                                                                                                                                                                                                                                                                                                                                                                    Rachel: <file_other>\\r\\nRachel: Top 50 Best Films of 2018\\r\\nRachel: :)\\r\\nJanice: Omg, I've watched almost all 50... xDD\\r\\nSpencer: Hahah, Deadpool 2 also??\\r\\nJanice: Yep\\r\\nSpencer: Really??\\r\\nJanice: My bf forced me to watch it xD\\r\\nRachel: Hahah\\r\\nJanice: It wasn't that bad\\r\\nJanice: I thought it'd be worse\\r\\nRachel: And Avengers? :D\\r\\nJanice: 2 times\\r\\nRachel: Omg\\r\\nJanice: xP\\r\\nRachel: You are the best gf in the world\\r\\nRachel: Your bf should appreciate that ;-)\\r\\nJanice: He does\\r\\nJanice: x)   \n",
       "\n",
       "                                                                                                                                                                                                                 summary  \n",
       "814  Benjamin didn't come to see a basketball game on Friday's night. The team supported by Alex won 101-98. Benjamin's mom has a flu and he's looking after her. Benjamin declares to attend the next basketball match.  \n",
       "815                                                                                                                                                                        The audition starts at 7.30 P.M. in Antena 3.  \n",
       "816                                                                                                                                                                                      Marta sent a file accidentally,  \n",
       "817                                                                                                                             There was a meet-and-greet with James Charles in Birmingham which gathered 8000  people.  \n",
       "818                                                                                                   Rachel sends a list of Top 50 films of 2018. Janice watched almost half of them, Deadpool 2 and Avengers included.  "
      ]
     },
     "metadata": {},
     "output_type": "display_data"
    }
   ],
   "source": [
    "# Extracting info on the test dataset\n",
    "describe_df(test)\n",
    "\n",
    "# Removing 'Id' from categorical features list\n",
    "categorical_features.remove('id')"
   ]
  },
  {
   "cell_type": "code",
   "execution_count": 53,
   "metadata": {},
   "outputs": [
    {
     "data": {
      "application/vnd.plotly.v1+json": {
       "config": {
        "plotlyServerURL": "https://plot.ly"
       },
       "data": [
        {
         "fill": "tozeroy",
         "line": {
          "color": "#89c2e0"
         },
         "mode": "lines",
         "name": "Density",
         "type": "scatter",
         "x": {
          "bdata": "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",
          "dtype": "f8"
         },
         "xaxis": "x2",
         "y": {
          "bdata": "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",
          "dtype": "f8"
         },
         "yaxis": "y2"
        },
        {
         "boxmean": true,
         "line": {
          "color": "#d500ff"
         },
         "name": "Box Plot",
         "type": "box",
         "xaxis": "x",
         "y": {
          "bdata": "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",
          "dtype": "i2"
         },
         "yaxis": "y"
        }
       ],
       "layout": {
        "annotations": [
         {
          "font": {
           "size": 16
          },
          "showarrow": false,
          "text": "Box Plot",
          "x": 0.2,
          "xanchor": "center",
          "xref": "paper",
          "y": 1,
          "yanchor": "bottom",
          "yref": "paper"
         },
         {
          "font": {
           "size": 16
          },
          "showarrow": false,
          "text": "Histogram",
          "x": 0.8,
          "xanchor": "center",
          "xref": "paper",
          "y": 1,
          "yanchor": "bottom",
          "yref": "paper"
         }
        ],
        "height": 600,
        "margin": {
         "t": 100
        },
        "showlegend": true,
        "template": {
         "data": {
          "bar": [
           {
            "error_x": {
             "color": "#f2f5fa"
            },
            "error_y": {
             "color": "#f2f5fa"
            },
            "marker": {
             "line": {
              "color": "rgb(17,17,17)",
              "width": 0.5
             },
             "pattern": {
              "fillmode": "overlay",
              "size": 10,
              "solidity": 0.2
             }
            },
            "type": "bar"
           }
          ],
          "barpolar": [
           {
            "marker": {
             "line": {
              "color": "rgb(17,17,17)",
              "width": 0.5
             },
             "pattern": {
              "fillmode": "overlay",
              "size": 10,
              "solidity": 0.2
             }
            },
            "type": "barpolar"
           }
          ],
          "carpet": [
           {
            "aaxis": {
             "endlinecolor": "#A2B1C6",
             "gridcolor": "#506784",
             "linecolor": "#506784",
             "minorgridcolor": "#506784",
             "startlinecolor": "#A2B1C6"
            },
            "baxis": {
             "endlinecolor": "#A2B1C6",
             "gridcolor": "#506784",
             "linecolor": "#506784",
             "minorgridcolor": "#506784",
             "startlinecolor": "#A2B1C6"
            },
            "type": "carpet"
           }
          ],
          "choropleth": [
           {
            "colorbar": {
             "outlinewidth": 0,
             "ticks": ""
            },
            "type": "choropleth"
           }
          ],
          "contour": [
           {
            "colorbar": {
             "outlinewidth": 0,
             "ticks": ""
            },
            "colorscale": [
             [
              0,
              "#0d0887"
             ],
             [
              0.1111111111111111,
              "#46039f"
             ],
             [
              0.2222222222222222,
              "#7201a8"
             ],
             [
              0.3333333333333333,
              "#9c179e"
             ],
             [
              0.4444444444444444,
              "#bd3786"
             ],
             [
              0.5555555555555556,
              "#d8576b"
             ],
             [
              0.6666666666666666,
              "#ed7953"
             ],
             [
              0.7777777777777778,
              "#fb9f3a"
             ],
             [
              0.8888888888888888,
              "#fdca26"
             ],
             [
              1,
              "#f0f921"
             ]
            ],
            "type": "contour"
           }
          ],
          "contourcarpet": [
           {
            "colorbar": {
             "outlinewidth": 0,
             "ticks": ""
            },
            "type": "contourcarpet"
           }
          ],
          "heatmap": [
           {
            "colorbar": {
             "outlinewidth": 0,
             "ticks": ""
            },
            "colorscale": [
             [
              0,
              "#0d0887"
             ],
             [
              0.1111111111111111,
              "#46039f"
             ],
             [
              0.2222222222222222,
              "#7201a8"
             ],
             [
              0.3333333333333333,
              "#9c179e"
             ],
             [
              0.4444444444444444,
              "#bd3786"
             ],
             [
              0.5555555555555556,
              "#d8576b"
             ],
             [
              0.6666666666666666,
              "#ed7953"
             ],
             [
              0.7777777777777778,
              "#fb9f3a"
             ],
             [
              0.8888888888888888,
              "#fdca26"
             ],
             [
              1,
              "#f0f921"
             ]
            ],
            "type": "heatmap"
           }
          ],
          "histogram": [
           {
            "marker": {
             "pattern": {
              "fillmode": "overlay",
              "size": 10,
              "solidity": 0.2
             }
            },
            "type": "histogram"
           }
          ],
          "histogram2d": [
           {
            "colorbar": {
             "outlinewidth": 0,
             "ticks": ""
            },
            "colorscale": [
             [
              0,
              "#0d0887"
             ],
             [
              0.1111111111111111,
              "#46039f"
             ],
             [
              0.2222222222222222,
              "#7201a8"
             ],
             [
              0.3333333333333333,
              "#9c179e"
             ],
             [
              0.4444444444444444,
              "#bd3786"
             ],
             [
              0.5555555555555556,
              "#d8576b"
             ],
             [
              0.6666666666666666,
              "#ed7953"
             ],
             [
              0.7777777777777778,
              "#fb9f3a"
             ],
             [
              0.8888888888888888,
              "#fdca26"
             ],
             [
              1,
              "#f0f921"
             ]
            ],
            "type": "histogram2d"
           }
          ],
          "histogram2dcontour": [
           {
            "colorbar": {
             "outlinewidth": 0,
             "ticks": ""
            },
            "colorscale": [
             [
              0,
              "#0d0887"
             ],
             [
              0.1111111111111111,
              "#46039f"
             ],
             [
              0.2222222222222222,
              "#7201a8"
             ],
             [
              0.3333333333333333,
              "#9c179e"
             ],
             [
              0.4444444444444444,
              "#bd3786"
             ],
             [
              0.5555555555555556,
              "#d8576b"
             ],
             [
              0.6666666666666666,
              "#ed7953"
             ],
             [
              0.7777777777777778,
              "#fb9f3a"
             ],
             [
              0.8888888888888888,
              "#fdca26"
             ],
             [
              1,
              "#f0f921"
             ]
            ],
            "type": "histogram2dcontour"
           }
          ],
          "mesh3d": [
           {
            "colorbar": {
             "outlinewidth": 0,
             "ticks": ""
            },
            "type": "mesh3d"
           }
          ],
          "parcoords": [
           {
            "line": {
             "colorbar": {
              "outlinewidth": 0,
              "ticks": ""
             }
            },
            "type": "parcoords"
           }
          ],
          "pie": [
           {
            "automargin": true,
            "type": "pie"
           }
          ],
          "scatter": [
           {
            "marker": {
             "line": {
              "color": "#283442"
             }
            },
            "type": "scatter"
           }
          ],
          "scatter3d": [
           {
            "line": {
             "colorbar": {
              "outlinewidth": 0,
              "ticks": ""
             }
            },
            "marker": {
             "colorbar": {
              "outlinewidth": 0,
              "ticks": ""
             }
            },
            "type": "scatter3d"
           }
          ],
          "scattercarpet": [
           {
            "marker": {
             "colorbar": {
              "outlinewidth": 0,
              "ticks": ""
             }
            },
            "type": "scattercarpet"
           }
          ],
          "scattergeo": [
           {
            "marker": {
             "colorbar": {
              "outlinewidth": 0,
              "ticks": ""
             }
            },
            "type": "scattergeo"
           }
          ],
          "scattergl": [
           {
            "marker": {
             "line": {
              "color": "#283442"
             }
            },
            "type": "scattergl"
           }
          ],
          "scattermap": [
           {
            "marker": {
             "colorbar": {
              "outlinewidth": 0,
              "ticks": ""
             }
            },
            "type": "scattermap"
           }
          ],
          "scattermapbox": [
           {
            "marker": {
             "colorbar": {
              "outlinewidth": 0,
              "ticks": ""
             }
            },
            "type": "scattermapbox"
           }
          ],
          "scatterpolar": [
           {
            "marker": {
             "colorbar": {
              "outlinewidth": 0,
              "ticks": ""
             }
            },
            "type": "scatterpolar"
           }
          ],
          "scatterpolargl": [
           {
            "marker": {
             "colorbar": {
              "outlinewidth": 0,
              "ticks": ""
             }
            },
            "type": "scatterpolargl"
           }
          ],
          "scatterternary": [
           {
            "marker": {
             "colorbar": {
              "outlinewidth": 0,
              "ticks": ""
             }
            },
            "type": "scatterternary"
           }
          ],
          "surface": [
           {
            "colorbar": {
             "outlinewidth": 0,
             "ticks": ""
            },
            "colorscale": [
             [
              0,
              "#0d0887"
             ],
             [
              0.1111111111111111,
              "#46039f"
             ],
             [
              0.2222222222222222,
              "#7201a8"
             ],
             [
              0.3333333333333333,
              "#9c179e"
             ],
             [
              0.4444444444444444,
              "#bd3786"
             ],
             [
              0.5555555555555556,
              "#d8576b"
             ],
             [
              0.6666666666666666,
              "#ed7953"
             ],
             [
              0.7777777777777778,
              "#fb9f3a"
             ],
             [
              0.8888888888888888,
              "#fdca26"
             ],
             [
              1,
              "#f0f921"
             ]
            ],
            "type": "surface"
           }
          ],
          "table": [
           {
            "cells": {
             "fill": {
              "color": "#506784"
             },
             "line": {
              "color": "rgb(17,17,17)"
             }
            },
            "header": {
             "fill": {
              "color": "#2a3f5f"
             },
             "line": {
              "color": "rgb(17,17,17)"
             }
            },
            "type": "table"
           }
          ]
         },
         "layout": {
          "annotationdefaults": {
           "arrowcolor": "#f2f5fa",
           "arrowhead": 0,
           "arrowwidth": 1
          },
          "autotypenumbers": "strict",
          "coloraxis": {
           "colorbar": {
            "outlinewidth": 0,
            "ticks": ""
           }
          },
          "colorscale": {
           "diverging": [
            [
             0,
             "#8e0152"
            ],
            [
             0.1,
             "#c51b7d"
            ],
            [
             0.2,
             "#de77ae"
            ],
            [
             0.3,
             "#f1b6da"
            ],
            [
             0.4,
             "#fde0ef"
            ],
            [
             0.5,
             "#f7f7f7"
            ],
            [
             0.6,
             "#e6f5d0"
            ],
            [
             0.7,
             "#b8e186"
            ],
            [
             0.8,
             "#7fbc41"
            ],
            [
             0.9,
             "#4d9221"
            ],
            [
             1,
             "#276419"
            ]
           ],
           "sequential": [
            [
             0,
             "#0d0887"
            ],
            [
             0.1111111111111111,
             "#46039f"
            ],
            [
             0.2222222222222222,
             "#7201a8"
            ],
            [
             0.3333333333333333,
             "#9c179e"
            ],
            [
             0.4444444444444444,
             "#bd3786"
            ],
            [
             0.5555555555555556,
             "#d8576b"
            ],
            [
             0.6666666666666666,
             "#ed7953"
            ],
            [
             0.7777777777777778,
             "#fb9f3a"
            ],
            [
             0.8888888888888888,
             "#fdca26"
            ],
            [
             1,
             "#f0f921"
            ]
           ],
           "sequentialminus": [
            [
             0,
             "#0d0887"
            ],
            [
             0.1111111111111111,
             "#46039f"
            ],
            [
             0.2222222222222222,
             "#7201a8"
            ],
            [
             0.3333333333333333,
             "#9c179e"
            ],
            [
             0.4444444444444444,
             "#bd3786"
            ],
            [
             0.5555555555555556,
             "#d8576b"
            ],
            [
             0.6666666666666666,
             "#ed7953"
            ],
            [
             0.7777777777777778,
             "#fb9f3a"
            ],
            [
             0.8888888888888888,
             "#fdca26"
            ],
            [
             1,
             "#f0f921"
            ]
           ]
          },
          "colorway": [
           "#636efa",
           "#EF553B",
           "#00cc96",
           "#ab63fa",
           "#FFA15A",
           "#19d3f3",
           "#FF6692",
           "#B6E880",
           "#FF97FF",
           "#FECB52"
          ],
          "font": {
           "color": "#f2f5fa"
          },
          "geo": {
           "bgcolor": "rgb(17,17,17)",
           "lakecolor": "rgb(17,17,17)",
           "landcolor": "rgb(17,17,17)",
           "showlakes": true,
           "showland": true,
           "subunitcolor": "#506784"
          },
          "hoverlabel": {
           "align": "left"
          },
          "hovermode": "closest",
          "mapbox": {
           "style": "dark"
          },
          "paper_bgcolor": "rgb(17,17,17)",
          "plot_bgcolor": "rgb(17,17,17)",
          "polar": {
           "angularaxis": {
            "gridcolor": "#506784",
            "linecolor": "#506784",
            "ticks": ""
           },
           "bgcolor": "rgb(17,17,17)",
           "radialaxis": {
            "gridcolor": "#506784",
            "linecolor": "#506784",
            "ticks": ""
           }
          },
          "scene": {
           "xaxis": {
            "backgroundcolor": "rgb(17,17,17)",
            "gridcolor": "#506784",
            "gridwidth": 2,
            "linecolor": "#506784",
            "showbackground": true,
            "ticks": "",
            "zerolinecolor": "#C8D4E3"
           },
           "yaxis": {
            "backgroundcolor": "rgb(17,17,17)",
            "gridcolor": "#506784",
            "gridwidth": 2,
            "linecolor": "#506784",
            "showbackground": true,
            "ticks": "",
            "zerolinecolor": "#C8D4E3"
           },
           "zaxis": {
            "backgroundcolor": "rgb(17,17,17)",
            "gridcolor": "#506784",
            "gridwidth": 2,
            "linecolor": "#506784",
            "showbackground": true,
            "ticks": "",
            "zerolinecolor": "#C8D4E3"
           }
          },
          "shapedefaults": {
           "line": {
            "color": "#f2f5fa"
           }
          },
          "sliderdefaults": {
           "bgcolor": "#C8D4E3",
           "bordercolor": "rgb(17,17,17)",
           "borderwidth": 1,
           "tickwidth": 0
          },
          "ternary": {
           "aaxis": {
            "gridcolor": "#506784",
            "linecolor": "#506784",
            "ticks": ""
           },
           "baxis": {
            "gridcolor": "#506784",
            "linecolor": "#506784",
            "ticks": ""
           },
           "bgcolor": "rgb(17,17,17)",
           "caxis": {
            "gridcolor": "#506784",
            "linecolor": "#506784",
            "ticks": ""
           }
          },
          "title": {
           "x": 0.05
          },
          "updatemenudefaults": {
           "bgcolor": "#506784",
           "borderwidth": 0
          },
          "xaxis": {
           "automargin": true,
           "gridcolor": "#283442",
           "linecolor": "#506784",
           "ticks": "",
           "title": {
            "standoff": 15
           },
           "zerolinecolor": "#283442",
           "zerolinewidth": 2
          },
          "yaxis": {
           "automargin": true,
           "gridcolor": "#283442",
           "linecolor": "#506784",
           "ticks": "",
           "title": {
            "standoff": 15
           },
           "zerolinecolor": "#283442",
           "zerolinewidth": 2
          }
         }
        },
        "title": {
         "text": "<b>Test Dataset Word Count<br><sup><i>&nbsp;&nbsp;&nbsp;&nbsp;dialogue</i></sup></b>",
         "x": 0.025,
         "xanchor": "left"
        },
        "width": 1000,
        "xaxis": {
         "anchor": "y",
         "domain": [
          0,
          0.4
         ],
         "showgrid": false,
         "title": {
          "text": ""
         }
        },
        "xaxis2": {
         "anchor": "y2",
         "domain": [
          0.6000000000000001,
          1
         ],
         "showgrid": false,
         "title": {
          "text": "<b>Words</b>"
         }
        },
        "yaxis": {
         "anchor": "x",
         "domain": [
          0,
          1
         ],
         "showgrid": false,
         "title": {
          "text": "<b>Words</b>"
         }
        },
        "yaxis2": {
         "anchor": "x2",
         "domain": [
          0,
          1
         ],
         "showgrid": false,
         "title": {
          "text": "<b>Frequency</b>"
         }
        }
       }
      }
     },
     "metadata": {},
     "output_type": "display_data"
    },
    {
     "name": "stdout",
     "output_type": "stream",
     "text": [
      "\n",
      "\n"
     ]
    },
    {
     "data": {
      "application/vnd.plotly.v1+json": {
       "config": {
        "plotlyServerURL": "https://plot.ly"
       },
       "data": [
        {
         "fill": "tozeroy",
         "line": {
          "color": "#89c2e0"
         },
         "mode": "lines",
         "name": "Density",
         "type": "scatter",
         "x": {
          "bdata": "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",
          "dtype": "f8"
         },
         "xaxis": "x2",
         "y": {
          "bdata": "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",
          "dtype": "f8"
         },
         "yaxis": "y2"
        },
        {
         "boxmean": true,
         "line": {
          "color": "#d500ff"
         },
         "name": "Box Plot",
         "type": "box",
         "xaxis": "x",
         "y": {
          "bdata": "DgsbCyo4Hg0bEhkbFw0kIAkZDBcoIBcKGhcJEyQdDwkHDykGDwgKGA0JKggPDx0MCRAgCg4NDxsICiwPBg4PJR8TBigiFw0KDBUKDBAbExELExkWESkeCx8RBBMcCxkcFBANExkOCAkMGhkPChUWEBQbFA4YCRQ2EAwLCAsMDQwQCQwpBw8VFC8RDBoDJQ0SEQoaIQkeCBITChs0CTIKCQcJEAgbHxYTFyAYMAkcDAsKEgcfFRwVFRALChcZCBkNERoaHxYNDgUVFR8RMhAdKikMGAkKDwwQGhYLExsPHRkSDwcUEhcGChIKDQ0tGhgKEwURLwoMFx8LDBELHBImES4oCRYgBB8YEQ8iEwwOGA8NChwLCywKIxUNKRQcHRktCxYMKSoPEAklFwwbBxo2GycMFwkgKBIUCSENFxkLEAccERMJFAsIDwkhIAkJFxwLFB8LGhUOGRghDhAIDg0tGRQcEhAFIBgpEBkJEAoLDwofBi4aHwkrESYLEQwbBBgXCwoUEyEnLRUPBBoYDygYJRIPDAsfHRYNBRINFgcgCzEcDA0SGSQTFgocGAwULDYgHhQdCAwSDh8LCxQPCiQmFh4MHwUJCQ8TFxUdHQwcERgkDQ8NIBQaCxASDw4gHCAUNiMSDxYUDAkOCQgnGBUSOgYHJhQYFycRBgomEgoXCQgPDA4UDAkRHQQLFxoPEA0JER0lMQwJHwcMEg0ZJRoXIAoYDggODQkJKQ0fIQkOGAkNBxcXFQ8GHgcIEg8ZHRoRDxYfBxQJFSsPGiIlJyIZKAooFAoYDg4HKgwVCg4VNBYKCBcXGBEOEw4qDiUGIyULJxYmGh4JDBQNEiwdJw4RCBEKDREUKBcNJw4EECUTHhcJDBoMCQ8KCxkLCg0QCgUUEBcSFBoKEyYoBhQUCw4PJw0PCRUPFBQTBBYWBxkcHA8LFBUPEAYQDBMPGgoIEw4JFxEUDhgPIhQrCwYGCg4ZKAcLHA4eJg8WDQkGKwwQHgcKGg4LCAkcGB8RDQgiIRQQFiQUCQ4ZBRQKDg8rCAoIDCULGi0MDxALEBkcGBQFExAWGRIVCAoOFAQGCxkWCCQJBQ0V",
          "dtype": "i1"
         },
         "yaxis": "y"
        }
       ],
       "layout": {
        "annotations": [
         {
          "font": {
           "size": 16
          },
          "showarrow": false,
          "text": "Box Plot",
          "x": 0.2,
          "xanchor": "center",
          "xref": "paper",
          "y": 1,
          "yanchor": "bottom",
          "yref": "paper"
         },
         {
          "font": {
           "size": 16
          },
          "showarrow": false,
          "text": "Histogram",
          "x": 0.8,
          "xanchor": "center",
          "xref": "paper",
          "y": 1,
          "yanchor": "bottom",
          "yref": "paper"
         }
        ],
        "height": 600,
        "margin": {
         "t": 100
        },
        "showlegend": true,
        "template": {
         "data": {
          "bar": [
           {
            "error_x": {
             "color": "#f2f5fa"
            },
            "error_y": {
             "color": "#f2f5fa"
            },
            "marker": {
             "line": {
              "color": "rgb(17,17,17)",
              "width": 0.5
             },
             "pattern": {
              "fillmode": "overlay",
              "size": 10,
              "solidity": 0.2
             }
            },
            "type": "bar"
           }
          ],
          "barpolar": [
           {
            "marker": {
             "line": {
              "color": "rgb(17,17,17)",
              "width": 0.5
             },
             "pattern": {
              "fillmode": "overlay",
              "size": 10,
              "solidity": 0.2
             }
            },
            "type": "barpolar"
           }
          ],
          "carpet": [
           {
            "aaxis": {
             "endlinecolor": "#A2B1C6",
             "gridcolor": "#506784",
             "linecolor": "#506784",
             "minorgridcolor": "#506784",
             "startlinecolor": "#A2B1C6"
            },
            "baxis": {
             "endlinecolor": "#A2B1C6",
             "gridcolor": "#506784",
             "linecolor": "#506784",
             "minorgridcolor": "#506784",
             "startlinecolor": "#A2B1C6"
            },
            "type": "carpet"
           }
          ],
          "choropleth": [
           {
            "colorbar": {
             "outlinewidth": 0,
             "ticks": ""
            },
            "type": "choropleth"
           }
          ],
          "contour": [
           {
            "colorbar": {
             "outlinewidth": 0,
             "ticks": ""
            },
            "colorscale": [
             [
              0,
              "#0d0887"
             ],
             [
              0.1111111111111111,
              "#46039f"
             ],
             [
              0.2222222222222222,
              "#7201a8"
             ],
             [
              0.3333333333333333,
              "#9c179e"
             ],
             [
              0.4444444444444444,
              "#bd3786"
             ],
             [
              0.5555555555555556,
              "#d8576b"
             ],
             [
              0.6666666666666666,
              "#ed7953"
             ],
             [
              0.7777777777777778,
              "#fb9f3a"
             ],
             [
              0.8888888888888888,
              "#fdca26"
             ],
             [
              1,
              "#f0f921"
             ]
            ],
            "type": "contour"
           }
          ],
          "contourcarpet": [
           {
            "colorbar": {
             "outlinewidth": 0,
             "ticks": ""
            },
            "type": "contourcarpet"
           }
          ],
          "heatmap": [
           {
            "colorbar": {
             "outlinewidth": 0,
             "ticks": ""
            },
            "colorscale": [
             [
              0,
              "#0d0887"
             ],
             [
              0.1111111111111111,
              "#46039f"
             ],
             [
              0.2222222222222222,
              "#7201a8"
             ],
             [
              0.3333333333333333,
              "#9c179e"
             ],
             [
              0.4444444444444444,
              "#bd3786"
             ],
             [
              0.5555555555555556,
              "#d8576b"
             ],
             [
              0.6666666666666666,
              "#ed7953"
             ],
             [
              0.7777777777777778,
              "#fb9f3a"
             ],
             [
              0.8888888888888888,
              "#fdca26"
             ],
             [
              1,
              "#f0f921"
             ]
            ],
            "type": "heatmap"
           }
          ],
          "histogram": [
           {
            "marker": {
             "pattern": {
              "fillmode": "overlay",
              "size": 10,
              "solidity": 0.2
             }
            },
            "type": "histogram"
           }
          ],
          "histogram2d": [
           {
            "colorbar": {
             "outlinewidth": 0,
             "ticks": ""
            },
            "colorscale": [
             [
              0,
              "#0d0887"
             ],
             [
              0.1111111111111111,
              "#46039f"
             ],
             [
              0.2222222222222222,
              "#7201a8"
             ],
             [
              0.3333333333333333,
              "#9c179e"
             ],
             [
              0.4444444444444444,
              "#bd3786"
             ],
             [
              0.5555555555555556,
              "#d8576b"
             ],
             [
              0.6666666666666666,
              "#ed7953"
             ],
             [
              0.7777777777777778,
              "#fb9f3a"
             ],
             [
              0.8888888888888888,
              "#fdca26"
             ],
             [
              1,
              "#f0f921"
             ]
            ],
            "type": "histogram2d"
           }
          ],
          "histogram2dcontour": [
           {
            "colorbar": {
             "outlinewidth": 0,
             "ticks": ""
            },
            "colorscale": [
             [
              0,
              "#0d0887"
             ],
             [
              0.1111111111111111,
              "#46039f"
             ],
             [
              0.2222222222222222,
              "#7201a8"
             ],
             [
              0.3333333333333333,
              "#9c179e"
             ],
             [
              0.4444444444444444,
              "#bd3786"
             ],
             [
              0.5555555555555556,
              "#d8576b"
             ],
             [
              0.6666666666666666,
              "#ed7953"
             ],
             [
              0.7777777777777778,
              "#fb9f3a"
             ],
             [
              0.8888888888888888,
              "#fdca26"
             ],
             [
              1,
              "#f0f921"
             ]
            ],
            "type": "histogram2dcontour"
           }
          ],
          "mesh3d": [
           {
            "colorbar": {
             "outlinewidth": 0,
             "ticks": ""
            },
            "type": "mesh3d"
           }
          ],
          "parcoords": [
           {
            "line": {
             "colorbar": {
              "outlinewidth": 0,
              "ticks": ""
             }
            },
            "type": "parcoords"
           }
          ],
          "pie": [
           {
            "automargin": true,
            "type": "pie"
           }
          ],
          "scatter": [
           {
            "marker": {
             "line": {
              "color": "#283442"
             }
            },
            "type": "scatter"
           }
          ],
          "scatter3d": [
           {
            "line": {
             "colorbar": {
              "outlinewidth": 0,
              "ticks": ""
             }
            },
            "marker": {
             "colorbar": {
              "outlinewidth": 0,
              "ticks": ""
             }
            },
            "type": "scatter3d"
           }
          ],
          "scattercarpet": [
           {
            "marker": {
             "colorbar": {
              "outlinewidth": 0,
              "ticks": ""
             }
            },
            "type": "scattercarpet"
           }
          ],
          "scattergeo": [
           {
            "marker": {
             "colorbar": {
              "outlinewidth": 0,
              "ticks": ""
             }
            },
            "type": "scattergeo"
           }
          ],
          "scattergl": [
           {
            "marker": {
             "line": {
              "color": "#283442"
             }
            },
            "type": "scattergl"
           }
          ],
          "scattermap": [
           {
            "marker": {
             "colorbar": {
              "outlinewidth": 0,
              "ticks": ""
             }
            },
            "type": "scattermap"
           }
          ],
          "scattermapbox": [
           {
            "marker": {
             "colorbar": {
              "outlinewidth": 0,
              "ticks": ""
             }
            },
            "type": "scattermapbox"
           }
          ],
          "scatterpolar": [
           {
            "marker": {
             "colorbar": {
              "outlinewidth": 0,
              "ticks": ""
             }
            },
            "type": "scatterpolar"
           }
          ],
          "scatterpolargl": [
           {
            "marker": {
             "colorbar": {
              "outlinewidth": 0,
              "ticks": ""
             }
            },
            "type": "scatterpolargl"
           }
          ],
          "scatterternary": [
           {
            "marker": {
             "colorbar": {
              "outlinewidth": 0,
              "ticks": ""
             }
            },
            "type": "scatterternary"
           }
          ],
          "surface": [
           {
            "colorbar": {
             "outlinewidth": 0,
             "ticks": ""
            },
            "colorscale": [
             [
              0,
              "#0d0887"
             ],
             [
              0.1111111111111111,
              "#46039f"
             ],
             [
              0.2222222222222222,
              "#7201a8"
             ],
             [
              0.3333333333333333,
              "#9c179e"
             ],
             [
              0.4444444444444444,
              "#bd3786"
             ],
             [
              0.5555555555555556,
              "#d8576b"
             ],
             [
              0.6666666666666666,
              "#ed7953"
             ],
             [
              0.7777777777777778,
              "#fb9f3a"
             ],
             [
              0.8888888888888888,
              "#fdca26"
             ],
             [
              1,
              "#f0f921"
             ]
            ],
            "type": "surface"
           }
          ],
          "table": [
           {
            "cells": {
             "fill": {
              "color": "#506784"
             },
             "line": {
              "color": "rgb(17,17,17)"
             }
            },
            "header": {
             "fill": {
              "color": "#2a3f5f"
             },
             "line": {
              "color": "rgb(17,17,17)"
             }
            },
            "type": "table"
           }
          ]
         },
         "layout": {
          "annotationdefaults": {
           "arrowcolor": "#f2f5fa",
           "arrowhead": 0,
           "arrowwidth": 1
          },
          "autotypenumbers": "strict",
          "coloraxis": {
           "colorbar": {
            "outlinewidth": 0,
            "ticks": ""
           }
          },
          "colorscale": {
           "diverging": [
            [
             0,
             "#8e0152"
            ],
            [
             0.1,
             "#c51b7d"
            ],
            [
             0.2,
             "#de77ae"
            ],
            [
             0.3,
             "#f1b6da"
            ],
            [
             0.4,
             "#fde0ef"
            ],
            [
             0.5,
             "#f7f7f7"
            ],
            [
             0.6,
             "#e6f5d0"
            ],
            [
             0.7,
             "#b8e186"
            ],
            [
             0.8,
             "#7fbc41"
            ],
            [
             0.9,
             "#4d9221"
            ],
            [
             1,
             "#276419"
            ]
           ],
           "sequential": [
            [
             0,
             "#0d0887"
            ],
            [
             0.1111111111111111,
             "#46039f"
            ],
            [
             0.2222222222222222,
             "#7201a8"
            ],
            [
             0.3333333333333333,
             "#9c179e"
            ],
            [
             0.4444444444444444,
             "#bd3786"
            ],
            [
             0.5555555555555556,
             "#d8576b"
            ],
            [
             0.6666666666666666,
             "#ed7953"
            ],
            [
             0.7777777777777778,
             "#fb9f3a"
            ],
            [
             0.8888888888888888,
             "#fdca26"
            ],
            [
             1,
             "#f0f921"
            ]
           ],
           "sequentialminus": [
            [
             0,
             "#0d0887"
            ],
            [
             0.1111111111111111,
             "#46039f"
            ],
            [
             0.2222222222222222,
             "#7201a8"
            ],
            [
             0.3333333333333333,
             "#9c179e"
            ],
            [
             0.4444444444444444,
             "#bd3786"
            ],
            [
             0.5555555555555556,
             "#d8576b"
            ],
            [
             0.6666666666666666,
             "#ed7953"
            ],
            [
             0.7777777777777778,
             "#fb9f3a"
            ],
            [
             0.8888888888888888,
             "#fdca26"
            ],
            [
             1,
             "#f0f921"
            ]
           ]
          },
          "colorway": [
           "#636efa",
           "#EF553B",
           "#00cc96",
           "#ab63fa",
           "#FFA15A",
           "#19d3f3",
           "#FF6692",
           "#B6E880",
           "#FF97FF",
           "#FECB52"
          ],
          "font": {
           "color": "#f2f5fa"
          },
          "geo": {
           "bgcolor": "rgb(17,17,17)",
           "lakecolor": "rgb(17,17,17)",
           "landcolor": "rgb(17,17,17)",
           "showlakes": true,
           "showland": true,
           "subunitcolor": "#506784"
          },
          "hoverlabel": {
           "align": "left"
          },
          "hovermode": "closest",
          "mapbox": {
           "style": "dark"
          },
          "paper_bgcolor": "rgb(17,17,17)",
          "plot_bgcolor": "rgb(17,17,17)",
          "polar": {
           "angularaxis": {
            "gridcolor": "#506784",
            "linecolor": "#506784",
            "ticks": ""
           },
           "bgcolor": "rgb(17,17,17)",
           "radialaxis": {
            "gridcolor": "#506784",
            "linecolor": "#506784",
            "ticks": ""
           }
          },
          "scene": {
           "xaxis": {
            "backgroundcolor": "rgb(17,17,17)",
            "gridcolor": "#506784",
            "gridwidth": 2,
            "linecolor": "#506784",
            "showbackground": true,
            "ticks": "",
            "zerolinecolor": "#C8D4E3"
           },
           "yaxis": {
            "backgroundcolor": "rgb(17,17,17)",
            "gridcolor": "#506784",
            "gridwidth": 2,
            "linecolor": "#506784",
            "showbackground": true,
            "ticks": "",
            "zerolinecolor": "#C8D4E3"
           },
           "zaxis": {
            "backgroundcolor": "rgb(17,17,17)",
            "gridcolor": "#506784",
            "gridwidth": 2,
            "linecolor": "#506784",
            "showbackground": true,
            "ticks": "",
            "zerolinecolor": "#C8D4E3"
           }
          },
          "shapedefaults": {
           "line": {
            "color": "#f2f5fa"
           }
          },
          "sliderdefaults": {
           "bgcolor": "#C8D4E3",
           "bordercolor": "rgb(17,17,17)",
           "borderwidth": 1,
           "tickwidth": 0
          },
          "ternary": {
           "aaxis": {
            "gridcolor": "#506784",
            "linecolor": "#506784",
            "ticks": ""
           },
           "baxis": {
            "gridcolor": "#506784",
            "linecolor": "#506784",
            "ticks": ""
           },
           "bgcolor": "rgb(17,17,17)",
           "caxis": {
            "gridcolor": "#506784",
            "linecolor": "#506784",
            "ticks": ""
           }
          },
          "title": {
           "x": 0.05
          },
          "updatemenudefaults": {
           "bgcolor": "#506784",
           "borderwidth": 0
          },
          "xaxis": {
           "automargin": true,
           "gridcolor": "#283442",
           "linecolor": "#506784",
           "ticks": "",
           "title": {
            "standoff": 15
           },
           "zerolinecolor": "#283442",
           "zerolinewidth": 2
          },
          "yaxis": {
           "automargin": true,
           "gridcolor": "#283442",
           "linecolor": "#506784",
           "ticks": "",
           "title": {
            "standoff": 15
           },
           "zerolinecolor": "#283442",
           "zerolinewidth": 2
          }
         }
        },
        "title": {
         "text": "<b>Test Dataset Word Count<br><sup><i>&nbsp;&nbsp;&nbsp;&nbsp;summary</i></sup></b>",
         "x": 0.025,
         "xanchor": "left"
        },
        "width": 1000,
        "xaxis": {
         "anchor": "y",
         "domain": [
          0,
          0.4
         ],
         "showgrid": false,
         "title": {
          "text": ""
         }
        },
        "xaxis2": {
         "anchor": "y2",
         "domain": [
          0.6000000000000001,
          1
         ],
         "showgrid": false,
         "title": {
          "text": "<b>Words</b>"
         }
        },
        "yaxis": {
         "anchor": "x",
         "domain": [
          0,
          1
         ],
         "showgrid": false,
         "title": {
          "text": "<b>Words</b>"
         }
        },
        "yaxis2": {
         "anchor": "x2",
         "domain": [
          0,
          1
         ],
         "showgrid": false,
         "title": {
          "text": "<b>Frequency</b>"
         }
        }
       }
      }
     },
     "metadata": {},
     "output_type": "display_data"
    },
    {
     "name": "stdout",
     "output_type": "stream",
     "text": [
      "\n",
      "\n"
     ]
    }
   ],
   "source": [
    "df_text_lenght = pd.DataFrame()\n",
    "for feat in categorical_features:\n",
    "    df_text_lenght[feat] = test[feat].apply(lambda x: len(str(x).split()))\n",
    "\n",
    "histogram_boxplot(df_text_lenght,'#89c2e0', '#d500ff', 600, 1000, True, 'Test Dataset')"
   ]
  },
  {
   "cell_type": "code",
   "execution_count": 54,
   "metadata": {},
   "outputs": [
    {
     "data": {
      "application/vnd.plotly.v1+json": {
       "config": {
        "plotlyServerURL": "https://plot.ly"
       },
       "data": [
        {
         "colorscale": [
          [
           0,
           "#00224e"
          ],
          [
           0.1111111111111111,
           "#123570"
          ],
          [
           0.2222222222222222,
           "#3b496c"
          ],
          [
           0.3333333333333333,
           "#575d6d"
          ],
          [
           0.4444444444444444,
           "#707173"
          ],
          [
           0.5555555555555556,
           "#8a8678"
          ],
          [
           0.6666666666666666,
           "#a59c74"
          ],
          [
           0.7777777777777778,
           "#c3b369"
          ],
          [
           0.8888888888888888,
           "#e1cc55"
          ],
          [
           1,
           "#fee838"
          ]
         ],
         "reversescale": false,
         "showscale": false,
         "type": "heatmap",
         "x": [
          "did",
          "don",
          "good",
          "just",
          "know",
          "like",
          "ll",
          "oh",
          "ok",
          "really",
          "sure",
          "think",
          "time",
          "yeah"
         ],
         "y": [
          "yes",
          "yeah",
          "time",
          "think",
          "sure",
          "really",
          "ok",
          "oh",
          "ll",
          "like",
          "know",
          "just",
          "good",
          "don"
         ],
         "z": [
          [
           0.03,
           -0.11,
           -0.02,
           -0.08,
           -0.06,
           -0.07,
           -0.08,
           0.01,
           -0.02,
           -0.01,
           -0.08,
           -0.04,
           -0.09,
           -0.14
          ],
          [
           -0.02,
           -0.06,
           -0.06,
           -0.04,
           0,
           0.03,
           -0.06,
           0,
           -0.07,
           0,
           -0.05,
           -0.01,
           -0.04
          ],
          [
           -0.07,
           0.06,
           -0.07,
           -0.02,
           -0.04,
           -0.02,
           -0.01,
           -0.07,
           -0.02,
           -0.02,
           -0.01,
           -0.05
          ],
          [
           -0.03,
           0.1,
           0.01,
           -0.02,
           0.06,
           0.06,
           -0.03,
           0.01,
           -0.1,
           0.04,
           0
          ],
          [
           -0.09,
           -0.03,
           -0.05,
           -0.05,
           -0.04,
           0.02,
           -0.01,
           -0.03,
           -0.03,
           -0.04
          ],
          [
           0.01,
           0.03,
           -0.02,
           0.03,
           0.02,
           0.03,
           -0.01,
           -0.04,
           -0.08
          ],
          [
           -0.11,
           -0.05,
           -0.08,
           -0.1,
           -0.07,
           -0.11,
           0.06,
           -0.03
          ],
          [
           -0.01,
           -0.07,
           -0.03,
           0.01,
           0.01,
           -0.03,
           0.01
          ],
          [
           -0.06,
           -0.02,
           -0.02,
           -0.07,
           -0.02,
           -0.02
          ],
          [
           -0.03,
           0.07,
           -0.04,
           0.03,
           0.02
          ],
          [
           -0.03,
           0.1,
           -0.03,
           0.05
          ],
          [
           0,
           0.04,
           -0.03
          ],
          [
           -0.06,
           -0.04
          ],
          [
           -0.06
          ]
         ]
        },
        {
         "colorscale": [
          [
           0,
           "#00224e"
          ],
          [
           0.1111111111111111,
           "#123570"
          ],
          [
           0.2222222222222222,
           "#3b496c"
          ],
          [
           0.3333333333333333,
           "#575d6d"
          ],
          [
           0.4444444444444444,
           "#707173"
          ],
          [
           0.5555555555555556,
           "#8a8678"
          ],
          [
           0.6666666666666666,
           "#a59c74"
          ],
          [
           0.7777777777777778,
           "#c3b369"
          ],
          [
           0.8888888888888888,
           "#e1cc55"
          ],
          [
           1,
           "#fee838"
          ]
         ],
         "showscale": true,
         "type": "heatmap",
         "visible": true,
         "z": [
          [
           0.03,
           -0.11,
           -0.02,
           -0.08,
           -0.06,
           -0.07,
           -0.08,
           0.01,
           -0.02,
           -0.01,
           -0.08,
           -0.04,
           -0.09,
           -0.14
          ],
          [
           -0.02,
           -0.06,
           -0.06,
           -0.04,
           0,
           0.03,
           -0.06,
           0,
           -0.07,
           0,
           -0.05,
           -0.01,
           -0.04
          ],
          [
           -0.07,
           0.06,
           -0.07,
           -0.02,
           -0.04,
           -0.02,
           -0.01,
           -0.07,
           -0.02,
           -0.02,
           -0.01,
           -0.05
          ],
          [
           -0.03,
           0.1,
           0.01,
           -0.02,
           0.06,
           0.06,
           -0.03,
           0.01,
           -0.1,
           0.04,
           0
          ],
          [
           -0.09,
           -0.03,
           -0.05,
           -0.05,
           -0.04,
           0.02,
           -0.01,
           -0.03,
           -0.03,
           -0.04
          ],
          [
           0.01,
           0.03,
           -0.02,
           0.03,
           0.02,
           0.03,
           -0.01,
           -0.04,
           -0.08
          ],
          [
           -0.11,
           -0.05,
           -0.08,
           -0.1,
           -0.07,
           -0.11,
           0.06,
           -0.03
          ],
          [
           -0.01,
           -0.07,
           -0.03,
           0.01,
           0.01,
           -0.03,
           0.01
          ],
          [
           -0.06,
           -0.02,
           -0.02,
           -0.07,
           -0.02,
           -0.02
          ],
          [
           -0.03,
           0.07,
           -0.04,
           0.03,
           0.02
          ],
          [
           -0.03,
           0.1,
           -0.03,
           0.05
          ],
          [
           0,
           0.04,
           -0.03
          ],
          [
           -0.06,
           -0.04
          ],
          [
           -0.06
          ]
         ]
        }
       ],
       "layout": {
        "annotations": [
         {
          "font": {
           "color": "#000000",
           "size": 12
          },
          "showarrow": false,
          "text": "0.03",
          "x": "did",
          "xref": "x",
          "y": "yes",
          "yref": "y"
         },
         {
          "font": {
           "color": "#FFFFFF",
           "size": 12
          },
          "showarrow": false,
          "text": "-0.11",
          "x": "don",
          "xref": "x",
          "y": "yes",
          "yref": "y"
         },
         {
          "font": {
           "color": "#000000",
           "size": 12
          },
          "showarrow": false,
          "text": "-0.02",
          "x": "good",
          "xref": "x",
          "y": "yes",
          "yref": "y"
         },
         {
          "font": {
           "color": "#FFFFFF",
           "size": 12
          },
          "showarrow": false,
          "text": "-0.08",
          "x": "just",
          "xref": "x",
          "y": "yes",
          "yref": "y"
         },
         {
          "font": {
           "color": "#FFFFFF",
           "size": 12
          },
          "showarrow": false,
          "text": "-0.06",
          "x": "know",
          "xref": "x",
          "y": "yes",
          "yref": "y"
         },
         {
          "font": {
           "color": "#FFFFFF",
           "size": 12
          },
          "showarrow": false,
          "text": "-0.07",
          "x": "like",
          "xref": "x",
          "y": "yes",
          "yref": "y"
         },
         {
          "font": {
           "color": "#FFFFFF",
           "size": 12
          },
          "showarrow": false,
          "text": "-0.08",
          "x": "ll",
          "xref": "x",
          "y": "yes",
          "yref": "y"
         },
         {
          "font": {
           "color": "#000000",
           "size": 12
          },
          "showarrow": false,
          "text": "0.01",
          "x": "oh",
          "xref": "x",
          "y": "yes",
          "yref": "y"
         },
         {
          "font": {
           "color": "#000000",
           "size": 12
          },
          "showarrow": false,
          "text": "-0.02",
          "x": "ok",
          "xref": "x",
          "y": "yes",
          "yref": "y"
         },
         {
          "font": {
           "color": "#000000",
           "size": 12
          },
          "showarrow": false,
          "text": "-0.01",
          "x": "really",
          "xref": "x",
          "y": "yes",
          "yref": "y"
         },
         {
          "font": {
           "color": "#FFFFFF",
           "size": 12
          },
          "showarrow": false,
          "text": "-0.08",
          "x": "sure",
          "xref": "x",
          "y": "yes",
          "yref": "y"
         },
         {
          "font": {
           "color": "#FFFFFF",
           "size": 12
          },
          "showarrow": false,
          "text": "-0.04",
          "x": "think",
          "xref": "x",
          "y": "yes",
          "yref": "y"
         },
         {
          "font": {
           "color": "#FFFFFF",
           "size": 12
          },
          "showarrow": false,
          "text": "-0.09",
          "x": "time",
          "xref": "x",
          "y": "yes",
          "yref": "y"
         },
         {
          "font": {
           "color": "#FFFFFF",
           "size": 12
          },
          "showarrow": false,
          "text": "-0.14",
          "x": "yeah",
          "xref": "x",
          "y": "yes",
          "yref": "y"
         },
         {
          "font": {
           "color": "#000000",
           "size": 12
          },
          "showarrow": false,
          "text": "-0.02",
          "x": "did",
          "xref": "x",
          "y": "yeah",
          "yref": "y"
         },
         {
          "font": {
           "color": "#FFFFFF",
           "size": 12
          },
          "showarrow": false,
          "text": "-0.06",
          "x": "don",
          "xref": "x",
          "y": "yeah",
          "yref": "y"
         },
         {
          "font": {
           "color": "#FFFFFF",
           "size": 12
          },
          "showarrow": false,
          "text": "-0.06",
          "x": "good",
          "xref": "x",
          "y": "yeah",
          "yref": "y"
         },
         {
          "font": {
           "color": "#FFFFFF",
           "size": 12
          },
          "showarrow": false,
          "text": "-0.04",
          "x": "just",
          "xref": "x",
          "y": "yeah",
          "yref": "y"
         },
         {
          "font": {
           "color": "#000000",
           "size": 12
          },
          "showarrow": false,
          "text": "0.0",
          "x": "know",
          "xref": "x",
          "y": "yeah",
          "yref": "y"
         },
         {
          "font": {
           "color": "#000000",
           "size": 12
          },
          "showarrow": false,
          "text": "0.03",
          "x": "like",
          "xref": "x",
          "y": "yeah",
          "yref": "y"
         },
         {
          "font": {
           "color": "#FFFFFF",
           "size": 12
          },
          "showarrow": false,
          "text": "-0.06",
          "x": "ll",
          "xref": "x",
          "y": "yeah",
          "yref": "y"
         },
         {
          "font": {
           "color": "#000000",
           "size": 12
          },
          "showarrow": false,
          "text": "0.0",
          "x": "oh",
          "xref": "x",
          "y": "yeah",
          "yref": "y"
         },
         {
          "font": {
           "color": "#FFFFFF",
           "size": 12
          },
          "showarrow": false,
          "text": "-0.07",
          "x": "ok",
          "xref": "x",
          "y": "yeah",
          "yref": "y"
         },
         {
          "font": {
           "color": "#000000",
           "size": 12
          },
          "showarrow": false,
          "text": "0.0",
          "x": "really",
          "xref": "x",
          "y": "yeah",
          "yref": "y"
         },
         {
          "font": {
           "color": "#FFFFFF",
           "size": 12
          },
          "showarrow": false,
          "text": "-0.05",
          "x": "sure",
          "xref": "x",
          "y": "yeah",
          "yref": "y"
         },
         {
          "font": {
           "color": "#000000",
           "size": 12
          },
          "showarrow": false,
          "text": "-0.01",
          "x": "think",
          "xref": "x",
          "y": "yeah",
          "yref": "y"
         },
         {
          "font": {
           "color": "#FFFFFF",
           "size": 12
          },
          "showarrow": false,
          "text": "-0.04",
          "x": "time",
          "xref": "x",
          "y": "yeah",
          "yref": "y"
         },
         {
          "font": {
           "color": "#FFFFFF",
           "size": 12
          },
          "showarrow": false,
          "text": "-0.07",
          "x": "did",
          "xref": "x",
          "y": "time",
          "yref": "y"
         },
         {
          "font": {
           "color": "#000000",
           "size": 12
          },
          "showarrow": false,
          "text": "0.06",
          "x": "don",
          "xref": "x",
          "y": "time",
          "yref": "y"
         },
         {
          "font": {
           "color": "#FFFFFF",
           "size": 12
          },
          "showarrow": false,
          "text": "-0.07",
          "x": "good",
          "xref": "x",
          "y": "time",
          "yref": "y"
         },
         {
          "font": {
           "color": "#000000",
           "size": 12
          },
          "showarrow": false,
          "text": "-0.02",
          "x": "just",
          "xref": "x",
          "y": "time",
          "yref": "y"
         },
         {
          "font": {
           "color": "#FFFFFF",
           "size": 12
          },
          "showarrow": false,
          "text": "-0.04",
          "x": "know",
          "xref": "x",
          "y": "time",
          "yref": "y"
         },
         {
          "font": {
           "color": "#000000",
           "size": 12
          },
          "showarrow": false,
          "text": "-0.02",
          "x": "like",
          "xref": "x",
          "y": "time",
          "yref": "y"
         },
         {
          "font": {
           "color": "#000000",
           "size": 12
          },
          "showarrow": false,
          "text": "-0.01",
          "x": "ll",
          "xref": "x",
          "y": "time",
          "yref": "y"
         },
         {
          "font": {
           "color": "#FFFFFF",
           "size": 12
          },
          "showarrow": false,
          "text": "-0.07",
          "x": "oh",
          "xref": "x",
          "y": "time",
          "yref": "y"
         },
         {
          "font": {
           "color": "#000000",
           "size": 12
          },
          "showarrow": false,
          "text": "-0.02",
          "x": "ok",
          "xref": "x",
          "y": "time",
          "yref": "y"
         },
         {
          "font": {
           "color": "#000000",
           "size": 12
          },
          "showarrow": false,
          "text": "-0.02",
          "x": "really",
          "xref": "x",
          "y": "time",
          "yref": "y"
         },
         {
          "font": {
           "color": "#000000",
           "size": 12
          },
          "showarrow": false,
          "text": "-0.01",
          "x": "sure",
          "xref": "x",
          "y": "time",
          "yref": "y"
         },
         {
          "font": {
           "color": "#FFFFFF",
           "size": 12
          },
          "showarrow": false,
          "text": "-0.05",
          "x": "think",
          "xref": "x",
          "y": "time",
          "yref": "y"
         },
         {
          "font": {
           "color": "#FFFFFF",
           "size": 12
          },
          "showarrow": false,
          "text": "-0.03",
          "x": "did",
          "xref": "x",
          "y": "think",
          "yref": "y"
         },
         {
          "font": {
           "color": "#000000",
           "size": 12
          },
          "showarrow": false,
          "text": "0.1",
          "x": "don",
          "xref": "x",
          "y": "think",
          "yref": "y"
         },
         {
          "font": {
           "color": "#000000",
           "size": 12
          },
          "showarrow": false,
          "text": "0.01",
          "x": "good",
          "xref": "x",
          "y": "think",
          "yref": "y"
         },
         {
          "font": {
           "color": "#000000",
           "size": 12
          },
          "showarrow": false,
          "text": "-0.02",
          "x": "just",
          "xref": "x",
          "y": "think",
          "yref": "y"
         },
         {
          "font": {
           "color": "#000000",
           "size": 12
          },
          "showarrow": false,
          "text": "0.06",
          "x": "know",
          "xref": "x",
          "y": "think",
          "yref": "y"
         },
         {
          "font": {
           "color": "#000000",
           "size": 12
          },
          "showarrow": false,
          "text": "0.06",
          "x": "like",
          "xref": "x",
          "y": "think",
          "yref": "y"
         },
         {
          "font": {
           "color": "#FFFFFF",
           "size": 12
          },
          "showarrow": false,
          "text": "-0.03",
          "x": "ll",
          "xref": "x",
          "y": "think",
          "yref": "y"
         },
         {
          "font": {
           "color": "#000000",
           "size": 12
          },
          "showarrow": false,
          "text": "0.01",
          "x": "oh",
          "xref": "x",
          "y": "think",
          "yref": "y"
         },
         {
          "font": {
           "color": "#FFFFFF",
           "size": 12
          },
          "showarrow": false,
          "text": "-0.1",
          "x": "ok",
          "xref": "x",
          "y": "think",
          "yref": "y"
         },
         {
          "font": {
           "color": "#000000",
           "size": 12
          },
          "showarrow": false,
          "text": "0.04",
          "x": "really",
          "xref": "x",
          "y": "think",
          "yref": "y"
         },
         {
          "font": {
           "color": "#000000",
           "size": 12
          },
          "showarrow": false,
          "text": "0.0",
          "x": "sure",
          "xref": "x",
          "y": "think",
          "yref": "y"
         },
         {
          "font": {
           "color": "#FFFFFF",
           "size": 12
          },
          "showarrow": false,
          "text": "-0.09",
          "x": "did",
          "xref": "x",
          "y": "sure",
          "yref": "y"
         },
         {
          "font": {
           "color": "#FFFFFF",
           "size": 12
          },
          "showarrow": false,
          "text": "-0.03",
          "x": "don",
          "xref": "x",
          "y": "sure",
          "yref": "y"
         },
         {
          "font": {
           "color": "#FFFFFF",
           "size": 12
          },
          "showarrow": false,
          "text": "-0.05",
          "x": "good",
          "xref": "x",
          "y": "sure",
          "yref": "y"
         },
         {
          "font": {
           "color": "#FFFFFF",
           "size": 12
          },
          "showarrow": false,
          "text": "-0.05",
          "x": "just",
          "xref": "x",
          "y": "sure",
          "yref": "y"
         },
         {
          "font": {
           "color": "#FFFFFF",
           "size": 12
          },
          "showarrow": false,
          "text": "-0.04",
          "x": "know",
          "xref": "x",
          "y": "sure",
          "yref": "y"
         },
         {
          "font": {
           "color": "#000000",
           "size": 12
          },
          "showarrow": false,
          "text": "0.02",
          "x": "like",
          "xref": "x",
          "y": "sure",
          "yref": "y"
         },
         {
          "font": {
           "color": "#000000",
           "size": 12
          },
          "showarrow": false,
          "text": "-0.01",
          "x": "ll",
          "xref": "x",
          "y": "sure",
          "yref": "y"
         },
         {
          "font": {
           "color": "#FFFFFF",
           "size": 12
          },
          "showarrow": false,
          "text": "-0.03",
          "x": "oh",
          "xref": "x",
          "y": "sure",
          "yref": "y"
         },
         {
          "font": {
           "color": "#FFFFFF",
           "size": 12
          },
          "showarrow": false,
          "text": "-0.03",
          "x": "ok",
          "xref": "x",
          "y": "sure",
          "yref": "y"
         },
         {
          "font": {
           "color": "#FFFFFF",
           "size": 12
          },
          "showarrow": false,
          "text": "-0.04",
          "x": "really",
          "xref": "x",
          "y": "sure",
          "yref": "y"
         },
         {
          "font": {
           "color": "#000000",
           "size": 12
          },
          "showarrow": false,
          "text": "0.01",
          "x": "did",
          "xref": "x",
          "y": "really",
          "yref": "y"
         },
         {
          "font": {
           "color": "#000000",
           "size": 12
          },
          "showarrow": false,
          "text": "0.03",
          "x": "don",
          "xref": "x",
          "y": "really",
          "yref": "y"
         },
         {
          "font": {
           "color": "#000000",
           "size": 12
          },
          "showarrow": false,
          "text": "-0.02",
          "x": "good",
          "xref": "x",
          "y": "really",
          "yref": "y"
         },
         {
          "font": {
           "color": "#000000",
           "size": 12
          },
          "showarrow": false,
          "text": "0.03",
          "x": "just",
          "xref": "x",
          "y": "really",
          "yref": "y"
         },
         {
          "font": {
           "color": "#000000",
           "size": 12
          },
          "showarrow": false,
          "text": "0.02",
          "x": "know",
          "xref": "x",
          "y": "really",
          "yref": "y"
         },
         {
          "font": {
           "color": "#000000",
           "size": 12
          },
          "showarrow": false,
          "text": "0.03",
          "x": "like",
          "xref": "x",
          "y": "really",
          "yref": "y"
         },
         {
          "font": {
           "color": "#000000",
           "size": 12
          },
          "showarrow": false,
          "text": "-0.01",
          "x": "ll",
          "xref": "x",
          "y": "really",
          "yref": "y"
         },
         {
          "font": {
           "color": "#FFFFFF",
           "size": 12
          },
          "showarrow": false,
          "text": "-0.04",
          "x": "oh",
          "xref": "x",
          "y": "really",
          "yref": "y"
         },
         {
          "font": {
           "color": "#FFFFFF",
           "size": 12
          },
          "showarrow": false,
          "text": "-0.08",
          "x": "ok",
          "xref": "x",
          "y": "really",
          "yref": "y"
         },
         {
          "font": {
           "color": "#FFFFFF",
           "size": 12
          },
          "showarrow": false,
          "text": "-0.11",
          "x": "did",
          "xref": "x",
          "y": "ok",
          "yref": "y"
         },
         {
          "font": {
           "color": "#FFFFFF",
           "size": 12
          },
          "showarrow": false,
          "text": "-0.05",
          "x": "don",
          "xref": "x",
          "y": "ok",
          "yref": "y"
         },
         {
          "font": {
           "color": "#FFFFFF",
           "size": 12
          },
          "showarrow": false,
          "text": "-0.08",
          "x": "good",
          "xref": "x",
          "y": "ok",
          "yref": "y"
         },
         {
          "font": {
           "color": "#FFFFFF",
           "size": 12
          },
          "showarrow": false,
          "text": "-0.1",
          "x": "just",
          "xref": "x",
          "y": "ok",
          "yref": "y"
         },
         {
          "font": {
           "color": "#FFFFFF",
           "size": 12
          },
          "showarrow": false,
          "text": "-0.07",
          "x": "know",
          "xref": "x",
          "y": "ok",
          "yref": "y"
         },
         {
          "font": {
           "color": "#FFFFFF",
           "size": 12
          },
          "showarrow": false,
          "text": "-0.11",
          "x": "like",
          "xref": "x",
          "y": "ok",
          "yref": "y"
         },
         {
          "font": {
           "color": "#000000",
           "size": 12
          },
          "showarrow": false,
          "text": "0.06",
          "x": "ll",
          "xref": "x",
          "y": "ok",
          "yref": "y"
         },
         {
          "font": {
           "color": "#FFFFFF",
           "size": 12
          },
          "showarrow": false,
          "text": "-0.03",
          "x": "oh",
          "xref": "x",
          "y": "ok",
          "yref": "y"
         },
         {
          "font": {
           "color": "#000000",
           "size": 12
          },
          "showarrow": false,
          "text": "-0.01",
          "x": "did",
          "xref": "x",
          "y": "oh",
          "yref": "y"
         },
         {
          "font": {
           "color": "#FFFFFF",
           "size": 12
          },
          "showarrow": false,
          "text": "-0.07",
          "x": "don",
          "xref": "x",
          "y": "oh",
          "yref": "y"
         },
         {
          "font": {
           "color": "#FFFFFF",
           "size": 12
          },
          "showarrow": false,
          "text": "-0.03",
          "x": "good",
          "xref": "x",
          "y": "oh",
          "yref": "y"
         },
         {
          "font": {
           "color": "#000000",
           "size": 12
          },
          "showarrow": false,
          "text": "0.01",
          "x": "just",
          "xref": "x",
          "y": "oh",
          "yref": "y"
         },
         {
          "font": {
           "color": "#000000",
           "size": 12
          },
          "showarrow": false,
          "text": "0.01",
          "x": "know",
          "xref": "x",
          "y": "oh",
          "yref": "y"
         },
         {
          "font": {
           "color": "#FFFFFF",
           "size": 12
          },
          "showarrow": false,
          "text": "-0.03",
          "x": "like",
          "xref": "x",
          "y": "oh",
          "yref": "y"
         },
         {
          "font": {
           "color": "#000000",
           "size": 12
          },
          "showarrow": false,
          "text": "0.01",
          "x": "ll",
          "xref": "x",
          "y": "oh",
          "yref": "y"
         },
         {
          "font": {
           "color": "#FFFFFF",
           "size": 12
          },
          "showarrow": false,
          "text": "-0.06",
          "x": "did",
          "xref": "x",
          "y": "ll",
          "yref": "y"
         },
         {
          "font": {
           "color": "#000000",
           "size": 12
          },
          "showarrow": false,
          "text": "-0.02",
          "x": "don",
          "xref": "x",
          "y": "ll",
          "yref": "y"
         },
         {
          "font": {
           "color": "#000000",
           "size": 12
          },
          "showarrow": false,
          "text": "-0.02",
          "x": "good",
          "xref": "x",
          "y": "ll",
          "yref": "y"
         },
         {
          "font": {
           "color": "#FFFFFF",
           "size": 12
          },
          "showarrow": false,
          "text": "-0.07",
          "x": "just",
          "xref": "x",
          "y": "ll",
          "yref": "y"
         },
         {
          "font": {
           "color": "#000000",
           "size": 12
          },
          "showarrow": false,
          "text": "-0.02",
          "x": "know",
          "xref": "x",
          "y": "ll",
          "yref": "y"
         },
         {
          "font": {
           "color": "#000000",
           "size": 12
          },
          "showarrow": false,
          "text": "-0.02",
          "x": "like",
          "xref": "x",
          "y": "ll",
          "yref": "y"
         },
         {
          "font": {
           "color": "#FFFFFF",
           "size": 12
          },
          "showarrow": false,
          "text": "-0.03",
          "x": "did",
          "xref": "x",
          "y": "like",
          "yref": "y"
         },
         {
          "font": {
           "color": "#000000",
           "size": 12
          },
          "showarrow": false,
          "text": "0.07",
          "x": "don",
          "xref": "x",
          "y": "like",
          "yref": "y"
         },
         {
          "font": {
           "color": "#FFFFFF",
           "size": 12
          },
          "showarrow": false,
          "text": "-0.04",
          "x": "good",
          "xref": "x",
          "y": "like",
          "yref": "y"
         },
         {
          "font": {
           "color": "#000000",
           "size": 12
          },
          "showarrow": false,
          "text": "0.03",
          "x": "just",
          "xref": "x",
          "y": "like",
          "yref": "y"
         },
         {
          "font": {
           "color": "#000000",
           "size": 12
          },
          "showarrow": false,
          "text": "0.02",
          "x": "know",
          "xref": "x",
          "y": "like",
          "yref": "y"
         },
         {
          "font": {
           "color": "#FFFFFF",
           "size": 12
          },
          "showarrow": false,
          "text": "-0.03",
          "x": "did",
          "xref": "x",
          "y": "know",
          "yref": "y"
         },
         {
          "font": {
           "color": "#000000",
           "size": 12
          },
          "showarrow": false,
          "text": "0.1",
          "x": "don",
          "xref": "x",
          "y": "know",
          "yref": "y"
         },
         {
          "font": {
           "color": "#FFFFFF",
           "size": 12
          },
          "showarrow": false,
          "text": "-0.03",
          "x": "good",
          "xref": "x",
          "y": "know",
          "yref": "y"
         },
         {
          "font": {
           "color": "#000000",
           "size": 12
          },
          "showarrow": false,
          "text": "0.05",
          "x": "just",
          "xref": "x",
          "y": "know",
          "yref": "y"
         },
         {
          "font": {
           "color": "#000000",
           "size": 12
          },
          "showarrow": false,
          "text": "0.0",
          "x": "did",
          "xref": "x",
          "y": "just",
          "yref": "y"
         },
         {
          "font": {
           "color": "#000000",
           "size": 12
          },
          "showarrow": false,
          "text": "0.04",
          "x": "don",
          "xref": "x",
          "y": "just",
          "yref": "y"
         },
         {
          "font": {
           "color": "#FFFFFF",
           "size": 12
          },
          "showarrow": false,
          "text": "-0.03",
          "x": "good",
          "xref": "x",
          "y": "just",
          "yref": "y"
         },
         {
          "font": {
           "color": "#FFFFFF",
           "size": 12
          },
          "showarrow": false,
          "text": "-0.06",
          "x": "did",
          "xref": "x",
          "y": "good",
          "yref": "y"
         },
         {
          "font": {
           "color": "#FFFFFF",
           "size": 12
          },
          "showarrow": false,
          "text": "-0.04",
          "x": "don",
          "xref": "x",
          "y": "good",
          "yref": "y"
         },
         {
          "font": {
           "color": "#FFFFFF",
           "size": 12
          },
          "showarrow": false,
          "text": "-0.06",
          "x": "did",
          "xref": "x",
          "y": "don",
          "yref": "y"
         }
        ],
        "height": 800,
        "margin": {
         "l": 110,
         "t": 210
        },
        "template": {
         "data": {
          "bar": [
           {
            "error_x": {
             "color": "#f2f5fa"
            },
            "error_y": {
             "color": "#f2f5fa"
            },
            "marker": {
             "line": {
              "color": "rgb(17,17,17)",
              "width": 0.5
             },
             "pattern": {
              "fillmode": "overlay",
              "size": 10,
              "solidity": 0.2
             }
            },
            "type": "bar"
           }
          ],
          "barpolar": [
           {
            "marker": {
             "line": {
              "color": "rgb(17,17,17)",
              "width": 0.5
             },
             "pattern": {
              "fillmode": "overlay",
              "size": 10,
              "solidity": 0.2
             }
            },
            "type": "barpolar"
           }
          ],
          "carpet": [
           {
            "aaxis": {
             "endlinecolor": "#A2B1C6",
             "gridcolor": "#506784",
             "linecolor": "#506784",
             "minorgridcolor": "#506784",
             "startlinecolor": "#A2B1C6"
            },
            "baxis": {
             "endlinecolor": "#A2B1C6",
             "gridcolor": "#506784",
             "linecolor": "#506784",
             "minorgridcolor": "#506784",
             "startlinecolor": "#A2B1C6"
            },
            "type": "carpet"
           }
          ],
          "choropleth": [
           {
            "colorbar": {
             "outlinewidth": 0,
             "ticks": ""
            },
            "type": "choropleth"
           }
          ],
          "contour": [
           {
            "colorbar": {
             "outlinewidth": 0,
             "ticks": ""
            },
            "colorscale": [
             [
              0,
              "#0d0887"
             ],
             [
              0.1111111111111111,
              "#46039f"
             ],
             [
              0.2222222222222222,
              "#7201a8"
             ],
             [
              0.3333333333333333,
              "#9c179e"
             ],
             [
              0.4444444444444444,
              "#bd3786"
             ],
             [
              0.5555555555555556,
              "#d8576b"
             ],
             [
              0.6666666666666666,
              "#ed7953"
             ],
             [
              0.7777777777777778,
              "#fb9f3a"
             ],
             [
              0.8888888888888888,
              "#fdca26"
             ],
             [
              1,
              "#f0f921"
             ]
            ],
            "type": "contour"
           }
          ],
          "contourcarpet": [
           {
            "colorbar": {
             "outlinewidth": 0,
             "ticks": ""
            },
            "type": "contourcarpet"
           }
          ],
          "heatmap": [
           {
            "colorbar": {
             "outlinewidth": 0,
             "ticks": ""
            },
            "colorscale": [
             [
              0,
              "#0d0887"
             ],
             [
              0.1111111111111111,
              "#46039f"
             ],
             [
              0.2222222222222222,
              "#7201a8"
             ],
             [
              0.3333333333333333,
              "#9c179e"
             ],
             [
              0.4444444444444444,
              "#bd3786"
             ],
             [
              0.5555555555555556,
              "#d8576b"
             ],
             [
              0.6666666666666666,
              "#ed7953"
             ],
             [
              0.7777777777777778,
              "#fb9f3a"
             ],
             [
              0.8888888888888888,
              "#fdca26"
             ],
             [
              1,
              "#f0f921"
             ]
            ],
            "type": "heatmap"
           }
          ],
          "histogram": [
           {
            "marker": {
             "pattern": {
              "fillmode": "overlay",
              "size": 10,
              "solidity": 0.2
             }
            },
            "type": "histogram"
           }
          ],
          "histogram2d": [
           {
            "colorbar": {
             "outlinewidth": 0,
             "ticks": ""
            },
            "colorscale": [
             [
              0,
              "#0d0887"
             ],
             [
              0.1111111111111111,
              "#46039f"
             ],
             [
              0.2222222222222222,
              "#7201a8"
             ],
             [
              0.3333333333333333,
              "#9c179e"
             ],
             [
              0.4444444444444444,
              "#bd3786"
             ],
             [
              0.5555555555555556,
              "#d8576b"
             ],
             [
              0.6666666666666666,
              "#ed7953"
             ],
             [
              0.7777777777777778,
              "#fb9f3a"
             ],
             [
              0.8888888888888888,
              "#fdca26"
             ],
             [
              1,
              "#f0f921"
             ]
            ],
            "type": "histogram2d"
           }
          ],
          "histogram2dcontour": [
           {
            "colorbar": {
             "outlinewidth": 0,
             "ticks": ""
            },
            "colorscale": [
             [
              0,
              "#0d0887"
             ],
             [
              0.1111111111111111,
              "#46039f"
             ],
             [
              0.2222222222222222,
              "#7201a8"
             ],
             [
              0.3333333333333333,
              "#9c179e"
             ],
             [
              0.4444444444444444,
              "#bd3786"
             ],
             [
              0.5555555555555556,
              "#d8576b"
             ],
             [
              0.6666666666666666,
              "#ed7953"
             ],
             [
              0.7777777777777778,
              "#fb9f3a"
             ],
             [
              0.8888888888888888,
              "#fdca26"
             ],
             [
              1,
              "#f0f921"
             ]
            ],
            "type": "histogram2dcontour"
           }
          ],
          "mesh3d": [
           {
            "colorbar": {
             "outlinewidth": 0,
             "ticks": ""
            },
            "type": "mesh3d"
           }
          ],
          "parcoords": [
           {
            "line": {
             "colorbar": {
              "outlinewidth": 0,
              "ticks": ""
             }
            },
            "type": "parcoords"
           }
          ],
          "pie": [
           {
            "automargin": true,
            "type": "pie"
           }
          ],
          "scatter": [
           {
            "marker": {
             "line": {
              "color": "#283442"
             }
            },
            "type": "scatter"
           }
          ],
          "scatter3d": [
           {
            "line": {
             "colorbar": {
              "outlinewidth": 0,
              "ticks": ""
             }
            },
            "marker": {
             "colorbar": {
              "outlinewidth": 0,
              "ticks": ""
             }
            },
            "type": "scatter3d"
           }
          ],
          "scattercarpet": [
           {
            "marker": {
             "colorbar": {
              "outlinewidth": 0,
              "ticks": ""
             }
            },
            "type": "scattercarpet"
           }
          ],
          "scattergeo": [
           {
            "marker": {
             "colorbar": {
              "outlinewidth": 0,
              "ticks": ""
             }
            },
            "type": "scattergeo"
           }
          ],
          "scattergl": [
           {
            "marker": {
             "line": {
              "color": "#283442"
             }
            },
            "type": "scattergl"
           }
          ],
          "scattermap": [
           {
            "marker": {
             "colorbar": {
              "outlinewidth": 0,
              "ticks": ""
             }
            },
            "type": "scattermap"
           }
          ],
          "scattermapbox": [
           {
            "marker": {
             "colorbar": {
              "outlinewidth": 0,
              "ticks": ""
             }
            },
            "type": "scattermapbox"
           }
          ],
          "scatterpolar": [
           {
            "marker": {
             "colorbar": {
              "outlinewidth": 0,
              "ticks": ""
             }
            },
            "type": "scatterpolar"
           }
          ],
          "scatterpolargl": [
           {
            "marker": {
             "colorbar": {
              "outlinewidth": 0,
              "ticks": ""
             }
            },
            "type": "scatterpolargl"
           }
          ],
          "scatterternary": [
           {
            "marker": {
             "colorbar": {
              "outlinewidth": 0,
              "ticks": ""
             }
            },
            "type": "scatterternary"
           }
          ],
          "surface": [
           {
            "colorbar": {
             "outlinewidth": 0,
             "ticks": ""
            },
            "colorscale": [
             [
              0,
              "#0d0887"
             ],
             [
              0.1111111111111111,
              "#46039f"
             ],
             [
              0.2222222222222222,
              "#7201a8"
             ],
             [
              0.3333333333333333,
              "#9c179e"
             ],
             [
              0.4444444444444444,
              "#bd3786"
             ],
             [
              0.5555555555555556,
              "#d8576b"
             ],
             [
              0.6666666666666666,
              "#ed7953"
             ],
             [
              0.7777777777777778,
              "#fb9f3a"
             ],
             [
              0.8888888888888888,
              "#fdca26"
             ],
             [
              1,
              "#f0f921"
             ]
            ],
            "type": "surface"
           }
          ],
          "table": [
           {
            "cells": {
             "fill": {
              "color": "#506784"
             },
             "line": {
              "color": "rgb(17,17,17)"
             }
            },
            "header": {
             "fill": {
              "color": "#2a3f5f"
             },
             "line": {
              "color": "rgb(17,17,17)"
             }
            },
            "type": "table"
           }
          ]
         },
         "layout": {
          "annotationdefaults": {
           "arrowcolor": "#f2f5fa",
           "arrowhead": 0,
           "arrowwidth": 1
          },
          "autotypenumbers": "strict",
          "coloraxis": {
           "colorbar": {
            "outlinewidth": 0,
            "ticks": ""
           }
          },
          "colorscale": {
           "diverging": [
            [
             0,
             "#8e0152"
            ],
            [
             0.1,
             "#c51b7d"
            ],
            [
             0.2,
             "#de77ae"
            ],
            [
             0.3,
             "#f1b6da"
            ],
            [
             0.4,
             "#fde0ef"
            ],
            [
             0.5,
             "#f7f7f7"
            ],
            [
             0.6,
             "#e6f5d0"
            ],
            [
             0.7,
             "#b8e186"
            ],
            [
             0.8,
             "#7fbc41"
            ],
            [
             0.9,
             "#4d9221"
            ],
            [
             1,
             "#276419"
            ]
           ],
           "sequential": [
            [
             0,
             "#0d0887"
            ],
            [
             0.1111111111111111,
             "#46039f"
            ],
            [
             0.2222222222222222,
             "#7201a8"
            ],
            [
             0.3333333333333333,
             "#9c179e"
            ],
            [
             0.4444444444444444,
             "#bd3786"
            ],
            [
             0.5555555555555556,
             "#d8576b"
            ],
            [
             0.6666666666666666,
             "#ed7953"
            ],
            [
             0.7777777777777778,
             "#fb9f3a"
            ],
            [
             0.8888888888888888,
             "#fdca26"
            ],
            [
             1,
             "#f0f921"
            ]
           ],
           "sequentialminus": [
            [
             0,
             "#0d0887"
            ],
            [
             0.1111111111111111,
             "#46039f"
            ],
            [
             0.2222222222222222,
             "#7201a8"
            ],
            [
             0.3333333333333333,
             "#9c179e"
            ],
            [
             0.4444444444444444,
             "#bd3786"
            ],
            [
             0.5555555555555556,
             "#d8576b"
            ],
            [
             0.6666666666666666,
             "#ed7953"
            ],
            [
             0.7777777777777778,
             "#fb9f3a"
            ],
            [
             0.8888888888888888,
             "#fdca26"
            ],
            [
             1,
             "#f0f921"
            ]
           ]
          },
          "colorway": [
           "#636efa",
           "#EF553B",
           "#00cc96",
           "#ab63fa",
           "#FFA15A",
           "#19d3f3",
           "#FF6692",
           "#B6E880",
           "#FF97FF",
           "#FECB52"
          ],
          "font": {
           "color": "#f2f5fa"
          },
          "geo": {
           "bgcolor": "rgb(17,17,17)",
           "lakecolor": "rgb(17,17,17)",
           "landcolor": "rgb(17,17,17)",
           "showlakes": true,
           "showland": true,
           "subunitcolor": "#506784"
          },
          "hoverlabel": {
           "align": "left"
          },
          "hovermode": "closest",
          "mapbox": {
           "style": "dark"
          },
          "paper_bgcolor": "rgb(17,17,17)",
          "plot_bgcolor": "rgb(17,17,17)",
          "polar": {
           "angularaxis": {
            "gridcolor": "#506784",
            "linecolor": "#506784",
            "ticks": ""
           },
           "bgcolor": "rgb(17,17,17)",
           "radialaxis": {
            "gridcolor": "#506784",
            "linecolor": "#506784",
            "ticks": ""
           }
          },
          "scene": {
           "xaxis": {
            "backgroundcolor": "rgb(17,17,17)",
            "gridcolor": "#506784",
            "gridwidth": 2,
            "linecolor": "#506784",
            "showbackground": true,
            "ticks": "",
            "zerolinecolor": "#C8D4E3"
           },
           "yaxis": {
            "backgroundcolor": "rgb(17,17,17)",
            "gridcolor": "#506784",
            "gridwidth": 2,
            "linecolor": "#506784",
            "showbackground": true,
            "ticks": "",
            "zerolinecolor": "#C8D4E3"
           },
           "zaxis": {
            "backgroundcolor": "rgb(17,17,17)",
            "gridcolor": "#506784",
            "gridwidth": 2,
            "linecolor": "#506784",
            "showbackground": true,
            "ticks": "",
            "zerolinecolor": "#C8D4E3"
           }
          },
          "shapedefaults": {
           "line": {
            "color": "#f2f5fa"
           }
          },
          "sliderdefaults": {
           "bgcolor": "#C8D4E3",
           "bordercolor": "rgb(17,17,17)",
           "borderwidth": 1,
           "tickwidth": 0
          },
          "ternary": {
           "aaxis": {
            "gridcolor": "#506784",
            "linecolor": "#506784",
            "ticks": ""
           },
           "baxis": {
            "gridcolor": "#506784",
            "linecolor": "#506784",
            "ticks": ""
           },
           "bgcolor": "rgb(17,17,17)",
           "caxis": {
            "gridcolor": "#506784",
            "linecolor": "#506784",
            "ticks": ""
           }
          },
          "title": {
           "x": 0.05
          },
          "updatemenudefaults": {
           "bgcolor": "#506784",
           "borderwidth": 0
          },
          "xaxis": {
           "automargin": true,
           "gridcolor": "#283442",
           "linecolor": "#506784",
           "ticks": "",
           "title": {
            "standoff": 15
           },
           "zerolinecolor": "#283442",
           "zerolinewidth": 2
          },
          "yaxis": {
           "automargin": true,
           "gridcolor": "#283442",
           "linecolor": "#506784",
           "ticks": "",
           "title": {
            "standoff": 15
           },
           "zerolinecolor": "#283442",
           "zerolinewidth": 2
          }
         }
        },
        "title": {
         "text": "<b>Unigrams Heatmap<br><sup>&nbsp;&nbsp;&nbsp;&nbsp;<i>Test - Dialogue</i></sup></b>",
         "x": 0.025,
         "xanchor": "left",
         "y": 0.95
        },
        "width": 800,
        "xaxis": {
         "dtick": 1,
         "gridcolor": "rgb(0, 0, 0)",
         "showgrid": false,
         "side": "top",
         "ticks": ""
        },
        "yaxis": {
         "autorange": "reversed",
         "dtick": 1,
         "showgrid": false,
         "ticks": "",
         "ticksuffix": "  "
        }
       }
      }
     },
     "metadata": {},
     "output_type": "display_data"
    }
   ],
   "source": [
    "vectorizer = TfidfVectorizer(max_features = 15,stop_words = 'english') # Top 15 terms\n",
    "x = vectorizer.fit_transform(test['dialogue'].fillna(''))\n",
    "df_tfidfvect = pd.DataFrame(x.toarray(), columns=vectorizer.get_feature_names_out())\n",
    "plot_correlation(df_tfidfvect, 'Unigrams', 'Test - Dialogue', 800, 800, 12)"
   ]
  },
  {
   "cell_type": "code",
   "execution_count": 55,
   "metadata": {},
   "outputs": [
    {
     "data": {
      "application/vnd.plotly.v1+json": {
       "config": {
        "plotlyServerURL": "https://plot.ly"
       },
       "data": [
        {
         "colorscale": [
          [
           0,
           "#00224e"
          ],
          [
           0.1111111111111111,
           "#123570"
          ],
          [
           0.2222222222222222,
           "#3b496c"
          ],
          [
           0.3333333333333333,
           "#575d6d"
          ],
          [
           0.4444444444444444,
           "#707173"
          ],
          [
           0.5555555555555556,
           "#8a8678"
          ],
          [
           0.6666666666666666,
           "#a59c74"
          ],
          [
           0.7777777777777778,
           "#c3b369"
          ],
          [
           0.8888888888888888,
           "#e1cc55"
          ],
          [
           1,
           "#fee838"
          ]
         ],
         "reversescale": false,
         "showscale": false,
         "type": "heatmap",
         "x": [
          "buy",
          "come",
          "doesn",
          "going",
          "got",
          "home",
          "know",
          "like",
          "meet",
          "new",
          "place",
          "today",
          "tomorrow",
          "wants"
         ],
         "y": [
          "work",
          "wants",
          "tomorrow",
          "today",
          "place",
          "new",
          "meet",
          "like",
          "know",
          "home",
          "got",
          "going",
          "doesn",
          "come"
         ],
         "z": [
          [
           -0.01,
           0.02,
           -0.02,
           -0.02,
           -0.03,
           0.04,
           -0.04,
           -0.03,
           0,
           -0.02,
           -0.03,
           0.02,
           0.01,
           0.01
          ],
          [
           0.04,
           0.02,
           0.01,
           -0.05,
           -0.02,
           -0.01,
           0.01,
           -0.01,
           0,
           -0.02,
           -0.03,
           -0.04,
           -0.03
          ],
          [
           -0.03,
           0.01,
           -0.02,
           -0.04,
           -0.03,
           -0.02,
           0,
           -0.02,
           0.05,
           -0.03,
           0.04,
           -0.03
          ],
          [
           -0.04,
           0.02,
           -0.05,
           -0.01,
           -0.02,
           0.04,
           -0.04,
           -0.02,
           -0.03,
           -0.05,
           -0.04
          ],
          [
           -0.02,
           0.07,
           -0.05,
           0,
           -0.04,
           -0.02,
           -0.02,
           -0.04,
           0.02,
           0
          ],
          [
           -0.01,
           -0.04,
           -0.03,
           -0.05,
           0,
           -0.03,
           -0.01,
           -0.01,
           -0.04
          ],
          [
           -0.02,
           -0.02,
           -0.04,
           0,
           -0.05,
           -0.02,
           -0.05,
           -0.02
          ],
          [
           -0.01,
           -0.04,
           0.13,
           -0.03,
           -0.04,
           -0.04,
           -0.01
          ],
          [
           0.01,
           -0.01,
           0.13,
           -0.04,
           -0.03,
           0.01
          ],
          [
           0,
           0.09,
           -0.05,
           0,
           -0.04
          ],
          [
           -0.03,
           -0.01,
           -0.02,
           -0.06
          ],
          [
           -0.02,
           -0.04,
           -0.05
          ],
          [
           0,
           -0.03
          ],
          [
           -0.04
          ]
         ]
        },
        {
         "colorscale": [
          [
           0,
           "#00224e"
          ],
          [
           0.1111111111111111,
           "#123570"
          ],
          [
           0.2222222222222222,
           "#3b496c"
          ],
          [
           0.3333333333333333,
           "#575d6d"
          ],
          [
           0.4444444444444444,
           "#707173"
          ],
          [
           0.5555555555555556,
           "#8a8678"
          ],
          [
           0.6666666666666666,
           "#a59c74"
          ],
          [
           0.7777777777777778,
           "#c3b369"
          ],
          [
           0.8888888888888888,
           "#e1cc55"
          ],
          [
           1,
           "#fee838"
          ]
         ],
         "showscale": true,
         "type": "heatmap",
         "visible": true,
         "z": [
          [
           -0.01,
           0.02,
           -0.02,
           -0.02,
           -0.03,
           0.04,
           -0.04,
           -0.03,
           0,
           -0.02,
           -0.03,
           0.02,
           0.01,
           0.01
          ],
          [
           0.04,
           0.02,
           0.01,
           -0.05,
           -0.02,
           -0.01,
           0.01,
           -0.01,
           0,
           -0.02,
           -0.03,
           -0.04,
           -0.03
          ],
          [
           -0.03,
           0.01,
           -0.02,
           -0.04,
           -0.03,
           -0.02,
           0,
           -0.02,
           0.05,
           -0.03,
           0.04,
           -0.03
          ],
          [
           -0.04,
           0.02,
           -0.05,
           -0.01,
           -0.02,
           0.04,
           -0.04,
           -0.02,
           -0.03,
           -0.05,
           -0.04
          ],
          [
           -0.02,
           0.07,
           -0.05,
           0,
           -0.04,
           -0.02,
           -0.02,
           -0.04,
           0.02,
           0
          ],
          [
           -0.01,
           -0.04,
           -0.03,
           -0.05,
           0,
           -0.03,
           -0.01,
           -0.01,
           -0.04
          ],
          [
           -0.02,
           -0.02,
           -0.04,
           0,
           -0.05,
           -0.02,
           -0.05,
           -0.02
          ],
          [
           -0.01,
           -0.04,
           0.13,
           -0.03,
           -0.04,
           -0.04,
           -0.01
          ],
          [
           0.01,
           -0.01,
           0.13,
           -0.04,
           -0.03,
           0.01
          ],
          [
           0,
           0.09,
           -0.05,
           0,
           -0.04
          ],
          [
           -0.03,
           -0.01,
           -0.02,
           -0.06
          ],
          [
           -0.02,
           -0.04,
           -0.05
          ],
          [
           0,
           -0.03
          ],
          [
           -0.04
          ]
         ]
        }
       ],
       "layout": {
        "annotations": [
         {
          "font": {
           "color": "#FFFFFF",
           "size": 12
          },
          "showarrow": false,
          "text": "-0.01",
          "x": "buy",
          "xref": "x",
          "y": "work",
          "yref": "y"
         },
         {
          "font": {
           "color": "#FFFFFF",
           "size": 12
          },
          "showarrow": false,
          "text": "0.02",
          "x": "come",
          "xref": "x",
          "y": "work",
          "yref": "y"
         },
         {
          "font": {
           "color": "#FFFFFF",
           "size": 12
          },
          "showarrow": false,
          "text": "-0.02",
          "x": "doesn",
          "xref": "x",
          "y": "work",
          "yref": "y"
         },
         {
          "font": {
           "color": "#FFFFFF",
           "size": 12
          },
          "showarrow": false,
          "text": "-0.02",
          "x": "going",
          "xref": "x",
          "y": "work",
          "yref": "y"
         },
         {
          "font": {
           "color": "#FFFFFF",
           "size": 12
          },
          "showarrow": false,
          "text": "-0.03",
          "x": "got",
          "xref": "x",
          "y": "work",
          "yref": "y"
         },
         {
          "font": {
           "color": "#000000",
           "size": 12
          },
          "showarrow": false,
          "text": "0.04",
          "x": "home",
          "xref": "x",
          "y": "work",
          "yref": "y"
         },
         {
          "font": {
           "color": "#FFFFFF",
           "size": 12
          },
          "showarrow": false,
          "text": "-0.04",
          "x": "know",
          "xref": "x",
          "y": "work",
          "yref": "y"
         },
         {
          "font": {
           "color": "#FFFFFF",
           "size": 12
          },
          "showarrow": false,
          "text": "-0.03",
          "x": "like",
          "xref": "x",
          "y": "work",
          "yref": "y"
         },
         {
          "font": {
           "color": "#FFFFFF",
           "size": 12
          },
          "showarrow": false,
          "text": "0.0",
          "x": "meet",
          "xref": "x",
          "y": "work",
          "yref": "y"
         },
         {
          "font": {
           "color": "#FFFFFF",
           "size": 12
          },
          "showarrow": false,
          "text": "-0.02",
          "x": "new",
          "xref": "x",
          "y": "work",
          "yref": "y"
         },
         {
          "font": {
           "color": "#FFFFFF",
           "size": 12
          },
          "showarrow": false,
          "text": "-0.03",
          "x": "place",
          "xref": "x",
          "y": "work",
          "yref": "y"
         },
         {
          "font": {
           "color": "#FFFFFF",
           "size": 12
          },
          "showarrow": false,
          "text": "0.02",
          "x": "today",
          "xref": "x",
          "y": "work",
          "yref": "y"
         },
         {
          "font": {
           "color": "#FFFFFF",
           "size": 12
          },
          "showarrow": false,
          "text": "0.01",
          "x": "tomorrow",
          "xref": "x",
          "y": "work",
          "yref": "y"
         },
         {
          "font": {
           "color": "#FFFFFF",
           "size": 12
          },
          "showarrow": false,
          "text": "0.01",
          "x": "wants",
          "xref": "x",
          "y": "work",
          "yref": "y"
         },
         {
          "font": {
           "color": "#000000",
           "size": 12
          },
          "showarrow": false,
          "text": "0.04",
          "x": "buy",
          "xref": "x",
          "y": "wants",
          "yref": "y"
         },
         {
          "font": {
           "color": "#FFFFFF",
           "size": 12
          },
          "showarrow": false,
          "text": "0.02",
          "x": "come",
          "xref": "x",
          "y": "wants",
          "yref": "y"
         },
         {
          "font": {
           "color": "#FFFFFF",
           "size": 12
          },
          "showarrow": false,
          "text": "0.01",
          "x": "doesn",
          "xref": "x",
          "y": "wants",
          "yref": "y"
         },
         {
          "font": {
           "color": "#FFFFFF",
           "size": 12
          },
          "showarrow": false,
          "text": "-0.05",
          "x": "going",
          "xref": "x",
          "y": "wants",
          "yref": "y"
         },
         {
          "font": {
           "color": "#FFFFFF",
           "size": 12
          },
          "showarrow": false,
          "text": "-0.02",
          "x": "got",
          "xref": "x",
          "y": "wants",
          "yref": "y"
         },
         {
          "font": {
           "color": "#FFFFFF",
           "size": 12
          },
          "showarrow": false,
          "text": "-0.01",
          "x": "home",
          "xref": "x",
          "y": "wants",
          "yref": "y"
         },
         {
          "font": {
           "color": "#FFFFFF",
           "size": 12
          },
          "showarrow": false,
          "text": "0.01",
          "x": "know",
          "xref": "x",
          "y": "wants",
          "yref": "y"
         },
         {
          "font": {
           "color": "#FFFFFF",
           "size": 12
          },
          "showarrow": false,
          "text": "-0.01",
          "x": "like",
          "xref": "x",
          "y": "wants",
          "yref": "y"
         },
         {
          "font": {
           "color": "#FFFFFF",
           "size": 12
          },
          "showarrow": false,
          "text": "0.0",
          "x": "meet",
          "xref": "x",
          "y": "wants",
          "yref": "y"
         },
         {
          "font": {
           "color": "#FFFFFF",
           "size": 12
          },
          "showarrow": false,
          "text": "-0.02",
          "x": "new",
          "xref": "x",
          "y": "wants",
          "yref": "y"
         },
         {
          "font": {
           "color": "#FFFFFF",
           "size": 12
          },
          "showarrow": false,
          "text": "-0.03",
          "x": "place",
          "xref": "x",
          "y": "wants",
          "yref": "y"
         },
         {
          "font": {
           "color": "#FFFFFF",
           "size": 12
          },
          "showarrow": false,
          "text": "-0.04",
          "x": "today",
          "xref": "x",
          "y": "wants",
          "yref": "y"
         },
         {
          "font": {
           "color": "#FFFFFF",
           "size": 12
          },
          "showarrow": false,
          "text": "-0.03",
          "x": "tomorrow",
          "xref": "x",
          "y": "wants",
          "yref": "y"
         },
         {
          "font": {
           "color": "#FFFFFF",
           "size": 12
          },
          "showarrow": false,
          "text": "-0.03",
          "x": "buy",
          "xref": "x",
          "y": "tomorrow",
          "yref": "y"
         },
         {
          "font": {
           "color": "#FFFFFF",
           "size": 12
          },
          "showarrow": false,
          "text": "0.01",
          "x": "come",
          "xref": "x",
          "y": "tomorrow",
          "yref": "y"
         },
         {
          "font": {
           "color": "#FFFFFF",
           "size": 12
          },
          "showarrow": false,
          "text": "-0.02",
          "x": "doesn",
          "xref": "x",
          "y": "tomorrow",
          "yref": "y"
         },
         {
          "font": {
           "color": "#FFFFFF",
           "size": 12
          },
          "showarrow": false,
          "text": "-0.04",
          "x": "going",
          "xref": "x",
          "y": "tomorrow",
          "yref": "y"
         },
         {
          "font": {
           "color": "#FFFFFF",
           "size": 12
          },
          "showarrow": false,
          "text": "-0.03",
          "x": "got",
          "xref": "x",
          "y": "tomorrow",
          "yref": "y"
         },
         {
          "font": {
           "color": "#FFFFFF",
           "size": 12
          },
          "showarrow": false,
          "text": "-0.02",
          "x": "home",
          "xref": "x",
          "y": "tomorrow",
          "yref": "y"
         },
         {
          "font": {
           "color": "#FFFFFF",
           "size": 12
          },
          "showarrow": false,
          "text": "0.0",
          "x": "know",
          "xref": "x",
          "y": "tomorrow",
          "yref": "y"
         },
         {
          "font": {
           "color": "#FFFFFF",
           "size": 12
          },
          "showarrow": false,
          "text": "-0.02",
          "x": "like",
          "xref": "x",
          "y": "tomorrow",
          "yref": "y"
         },
         {
          "font": {
           "color": "#000000",
           "size": 12
          },
          "showarrow": false,
          "text": "0.05",
          "x": "meet",
          "xref": "x",
          "y": "tomorrow",
          "yref": "y"
         },
         {
          "font": {
           "color": "#FFFFFF",
           "size": 12
          },
          "showarrow": false,
          "text": "-0.03",
          "x": "new",
          "xref": "x",
          "y": "tomorrow",
          "yref": "y"
         },
         {
          "font": {
           "color": "#000000",
           "size": 12
          },
          "showarrow": false,
          "text": "0.04",
          "x": "place",
          "xref": "x",
          "y": "tomorrow",
          "yref": "y"
         },
         {
          "font": {
           "color": "#FFFFFF",
           "size": 12
          },
          "showarrow": false,
          "text": "-0.03",
          "x": "today",
          "xref": "x",
          "y": "tomorrow",
          "yref": "y"
         },
         {
          "font": {
           "color": "#FFFFFF",
           "size": 12
          },
          "showarrow": false,
          "text": "-0.04",
          "x": "buy",
          "xref": "x",
          "y": "today",
          "yref": "y"
         },
         {
          "font": {
           "color": "#FFFFFF",
           "size": 12
          },
          "showarrow": false,
          "text": "0.02",
          "x": "come",
          "xref": "x",
          "y": "today",
          "yref": "y"
         },
         {
          "font": {
           "color": "#FFFFFF",
           "size": 12
          },
          "showarrow": false,
          "text": "-0.05",
          "x": "doesn",
          "xref": "x",
          "y": "today",
          "yref": "y"
         },
         {
          "font": {
           "color": "#FFFFFF",
           "size": 12
          },
          "showarrow": false,
          "text": "-0.01",
          "x": "going",
          "xref": "x",
          "y": "today",
          "yref": "y"
         },
         {
          "font": {
           "color": "#FFFFFF",
           "size": 12
          },
          "showarrow": false,
          "text": "-0.02",
          "x": "got",
          "xref": "x",
          "y": "today",
          "yref": "y"
         },
         {
          "font": {
           "color": "#000000",
           "size": 12
          },
          "showarrow": false,
          "text": "0.04",
          "x": "home",
          "xref": "x",
          "y": "today",
          "yref": "y"
         },
         {
          "font": {
           "color": "#FFFFFF",
           "size": 12
          },
          "showarrow": false,
          "text": "-0.04",
          "x": "know",
          "xref": "x",
          "y": "today",
          "yref": "y"
         },
         {
          "font": {
           "color": "#FFFFFF",
           "size": 12
          },
          "showarrow": false,
          "text": "-0.02",
          "x": "like",
          "xref": "x",
          "y": "today",
          "yref": "y"
         },
         {
          "font": {
           "color": "#FFFFFF",
           "size": 12
          },
          "showarrow": false,
          "text": "-0.03",
          "x": "meet",
          "xref": "x",
          "y": "today",
          "yref": "y"
         },
         {
          "font": {
           "color": "#FFFFFF",
           "size": 12
          },
          "showarrow": false,
          "text": "-0.05",
          "x": "new",
          "xref": "x",
          "y": "today",
          "yref": "y"
         },
         {
          "font": {
           "color": "#FFFFFF",
           "size": 12
          },
          "showarrow": false,
          "text": "-0.04",
          "x": "place",
          "xref": "x",
          "y": "today",
          "yref": "y"
         },
         {
          "font": {
           "color": "#FFFFFF",
           "size": 12
          },
          "showarrow": false,
          "text": "-0.02",
          "x": "buy",
          "xref": "x",
          "y": "place",
          "yref": "y"
         },
         {
          "font": {
           "color": "#000000",
           "size": 12
          },
          "showarrow": false,
          "text": "0.07",
          "x": "come",
          "xref": "x",
          "y": "place",
          "yref": "y"
         },
         {
          "font": {
           "color": "#FFFFFF",
           "size": 12
          },
          "showarrow": false,
          "text": "-0.05",
          "x": "doesn",
          "xref": "x",
          "y": "place",
          "yref": "y"
         },
         {
          "font": {
           "color": "#FFFFFF",
           "size": 12
          },
          "showarrow": false,
          "text": "-0.0",
          "x": "going",
          "xref": "x",
          "y": "place",
          "yref": "y"
         },
         {
          "font": {
           "color": "#FFFFFF",
           "size": 12
          },
          "showarrow": false,
          "text": "-0.04",
          "x": "got",
          "xref": "x",
          "y": "place",
          "yref": "y"
         },
         {
          "font": {
           "color": "#FFFFFF",
           "size": 12
          },
          "showarrow": false,
          "text": "-0.02",
          "x": "home",
          "xref": "x",
          "y": "place",
          "yref": "y"
         },
         {
          "font": {
           "color": "#FFFFFF",
           "size": 12
          },
          "showarrow": false,
          "text": "-0.02",
          "x": "know",
          "xref": "x",
          "y": "place",
          "yref": "y"
         },
         {
          "font": {
           "color": "#FFFFFF",
           "size": 12
          },
          "showarrow": false,
          "text": "-0.04",
          "x": "like",
          "xref": "x",
          "y": "place",
          "yref": "y"
         },
         {
          "font": {
           "color": "#FFFFFF",
           "size": 12
          },
          "showarrow": false,
          "text": "0.02",
          "x": "meet",
          "xref": "x",
          "y": "place",
          "yref": "y"
         },
         {
          "font": {
           "color": "#FFFFFF",
           "size": 12
          },
          "showarrow": false,
          "text": "0.0",
          "x": "new",
          "xref": "x",
          "y": "place",
          "yref": "y"
         },
         {
          "font": {
           "color": "#FFFFFF",
           "size": 12
          },
          "showarrow": false,
          "text": "-0.01",
          "x": "buy",
          "xref": "x",
          "y": "new",
          "yref": "y"
         },
         {
          "font": {
           "color": "#FFFFFF",
           "size": 12
          },
          "showarrow": false,
          "text": "-0.04",
          "x": "come",
          "xref": "x",
          "y": "new",
          "yref": "y"
         },
         {
          "font": {
           "color": "#FFFFFF",
           "size": 12
          },
          "showarrow": false,
          "text": "-0.03",
          "x": "doesn",
          "xref": "x",
          "y": "new",
          "yref": "y"
         },
         {
          "font": {
           "color": "#FFFFFF",
           "size": 12
          },
          "showarrow": false,
          "text": "-0.05",
          "x": "going",
          "xref": "x",
          "y": "new",
          "yref": "y"
         },
         {
          "font": {
           "color": "#FFFFFF",
           "size": 12
          },
          "showarrow": false,
          "text": "-0.0",
          "x": "got",
          "xref": "x",
          "y": "new",
          "yref": "y"
         },
         {
          "font": {
           "color": "#FFFFFF",
           "size": 12
          },
          "showarrow": false,
          "text": "-0.03",
          "x": "home",
          "xref": "x",
          "y": "new",
          "yref": "y"
         },
         {
          "font": {
           "color": "#FFFFFF",
           "size": 12
          },
          "showarrow": false,
          "text": "-0.01",
          "x": "know",
          "xref": "x",
          "y": "new",
          "yref": "y"
         },
         {
          "font": {
           "color": "#FFFFFF",
           "size": 12
          },
          "showarrow": false,
          "text": "-0.01",
          "x": "like",
          "xref": "x",
          "y": "new",
          "yref": "y"
         },
         {
          "font": {
           "color": "#FFFFFF",
           "size": 12
          },
          "showarrow": false,
          "text": "-0.04",
          "x": "meet",
          "xref": "x",
          "y": "new",
          "yref": "y"
         },
         {
          "font": {
           "color": "#FFFFFF",
           "size": 12
          },
          "showarrow": false,
          "text": "-0.02",
          "x": "buy",
          "xref": "x",
          "y": "meet",
          "yref": "y"
         },
         {
          "font": {
           "color": "#FFFFFF",
           "size": 12
          },
          "showarrow": false,
          "text": "-0.02",
          "x": "come",
          "xref": "x",
          "y": "meet",
          "yref": "y"
         },
         {
          "font": {
           "color": "#FFFFFF",
           "size": 12
          },
          "showarrow": false,
          "text": "-0.04",
          "x": "doesn",
          "xref": "x",
          "y": "meet",
          "yref": "y"
         },
         {
          "font": {
           "color": "#FFFFFF",
           "size": 12
          },
          "showarrow": false,
          "text": "0.0",
          "x": "going",
          "xref": "x",
          "y": "meet",
          "yref": "y"
         },
         {
          "font": {
           "color": "#FFFFFF",
           "size": 12
          },
          "showarrow": false,
          "text": "-0.05",
          "x": "got",
          "xref": "x",
          "y": "meet",
          "yref": "y"
         },
         {
          "font": {
           "color": "#FFFFFF",
           "size": 12
          },
          "showarrow": false,
          "text": "-0.02",
          "x": "home",
          "xref": "x",
          "y": "meet",
          "yref": "y"
         },
         {
          "font": {
           "color": "#FFFFFF",
           "size": 12
          },
          "showarrow": false,
          "text": "-0.05",
          "x": "know",
          "xref": "x",
          "y": "meet",
          "yref": "y"
         },
         {
          "font": {
           "color": "#FFFFFF",
           "size": 12
          },
          "showarrow": false,
          "text": "-0.02",
          "x": "like",
          "xref": "x",
          "y": "meet",
          "yref": "y"
         },
         {
          "font": {
           "color": "#FFFFFF",
           "size": 12
          },
          "showarrow": false,
          "text": "-0.01",
          "x": "buy",
          "xref": "x",
          "y": "like",
          "yref": "y"
         },
         {
          "font": {
           "color": "#FFFFFF",
           "size": 12
          },
          "showarrow": false,
          "text": "-0.04",
          "x": "come",
          "xref": "x",
          "y": "like",
          "yref": "y"
         },
         {
          "font": {
           "color": "#000000",
           "size": 12
          },
          "showarrow": false,
          "text": "0.13",
          "x": "doesn",
          "xref": "x",
          "y": "like",
          "yref": "y"
         },
         {
          "font": {
           "color": "#FFFFFF",
           "size": 12
          },
          "showarrow": false,
          "text": "-0.03",
          "x": "going",
          "xref": "x",
          "y": "like",
          "yref": "y"
         },
         {
          "font": {
           "color": "#FFFFFF",
           "size": 12
          },
          "showarrow": false,
          "text": "-0.04",
          "x": "got",
          "xref": "x",
          "y": "like",
          "yref": "y"
         },
         {
          "font": {
           "color": "#FFFFFF",
           "size": 12
          },
          "showarrow": false,
          "text": "-0.04",
          "x": "home",
          "xref": "x",
          "y": "like",
          "yref": "y"
         },
         {
          "font": {
           "color": "#FFFFFF",
           "size": 12
          },
          "showarrow": false,
          "text": "-0.01",
          "x": "know",
          "xref": "x",
          "y": "like",
          "yref": "y"
         },
         {
          "font": {
           "color": "#FFFFFF",
           "size": 12
          },
          "showarrow": false,
          "text": "0.01",
          "x": "buy",
          "xref": "x",
          "y": "know",
          "yref": "y"
         },
         {
          "font": {
           "color": "#FFFFFF",
           "size": 12
          },
          "showarrow": false,
          "text": "-0.01",
          "x": "come",
          "xref": "x",
          "y": "know",
          "yref": "y"
         },
         {
          "font": {
           "color": "#000000",
           "size": 12
          },
          "showarrow": false,
          "text": "0.13",
          "x": "doesn",
          "xref": "x",
          "y": "know",
          "yref": "y"
         },
         {
          "font": {
           "color": "#FFFFFF",
           "size": 12
          },
          "showarrow": false,
          "text": "-0.04",
          "x": "going",
          "xref": "x",
          "y": "know",
          "yref": "y"
         },
         {
          "font": {
           "color": "#FFFFFF",
           "size": 12
          },
          "showarrow": false,
          "text": "-0.03",
          "x": "got",
          "xref": "x",
          "y": "know",
          "yref": "y"
         },
         {
          "font": {
           "color": "#FFFFFF",
           "size": 12
          },
          "showarrow": false,
          "text": "0.01",
          "x": "home",
          "xref": "x",
          "y": "know",
          "yref": "y"
         },
         {
          "font": {
           "color": "#FFFFFF",
           "size": 12
          },
          "showarrow": false,
          "text": "-0.0",
          "x": "buy",
          "xref": "x",
          "y": "home",
          "yref": "y"
         },
         {
          "font": {
           "color": "#000000",
           "size": 12
          },
          "showarrow": false,
          "text": "0.09",
          "x": "come",
          "xref": "x",
          "y": "home",
          "yref": "y"
         },
         {
          "font": {
           "color": "#FFFFFF",
           "size": 12
          },
          "showarrow": false,
          "text": "-0.05",
          "x": "doesn",
          "xref": "x",
          "y": "home",
          "yref": "y"
         },
         {
          "font": {
           "color": "#FFFFFF",
           "size": 12
          },
          "showarrow": false,
          "text": "-0.0",
          "x": "going",
          "xref": "x",
          "y": "home",
          "yref": "y"
         },
         {
          "font": {
           "color": "#FFFFFF",
           "size": 12
          },
          "showarrow": false,
          "text": "-0.04",
          "x": "got",
          "xref": "x",
          "y": "home",
          "yref": "y"
         },
         {
          "font": {
           "color": "#FFFFFF",
           "size": 12
          },
          "showarrow": false,
          "text": "-0.03",
          "x": "buy",
          "xref": "x",
          "y": "got",
          "yref": "y"
         },
         {
          "font": {
           "color": "#FFFFFF",
           "size": 12
          },
          "showarrow": false,
          "text": "-0.01",
          "x": "come",
          "xref": "x",
          "y": "got",
          "yref": "y"
         },
         {
          "font": {
           "color": "#FFFFFF",
           "size": 12
          },
          "showarrow": false,
          "text": "-0.02",
          "x": "doesn",
          "xref": "x",
          "y": "got",
          "yref": "y"
         },
         {
          "font": {
           "color": "#FFFFFF",
           "size": 12
          },
          "showarrow": false,
          "text": "-0.06",
          "x": "going",
          "xref": "x",
          "y": "got",
          "yref": "y"
         },
         {
          "font": {
           "color": "#FFFFFF",
           "size": 12
          },
          "showarrow": false,
          "text": "-0.02",
          "x": "buy",
          "xref": "x",
          "y": "going",
          "yref": "y"
         },
         {
          "font": {
           "color": "#FFFFFF",
           "size": 12
          },
          "showarrow": false,
          "text": "-0.04",
          "x": "come",
          "xref": "x",
          "y": "going",
          "yref": "y"
         },
         {
          "font": {
           "color": "#FFFFFF",
           "size": 12
          },
          "showarrow": false,
          "text": "-0.05",
          "x": "doesn",
          "xref": "x",
          "y": "going",
          "yref": "y"
         },
         {
          "font": {
           "color": "#FFFFFF",
           "size": 12
          },
          "showarrow": false,
          "text": "0.0",
          "x": "buy",
          "xref": "x",
          "y": "doesn",
          "yref": "y"
         },
         {
          "font": {
           "color": "#FFFFFF",
           "size": 12
          },
          "showarrow": false,
          "text": "-0.03",
          "x": "come",
          "xref": "x",
          "y": "doesn",
          "yref": "y"
         },
         {
          "font": {
           "color": "#FFFFFF",
           "size": 12
          },
          "showarrow": false,
          "text": "-0.04",
          "x": "buy",
          "xref": "x",
          "y": "come",
          "yref": "y"
         }
        ],
        "height": 800,
        "margin": {
         "l": 110,
         "t": 210
        },
        "template": {
         "data": {
          "bar": [
           {
            "error_x": {
             "color": "#f2f5fa"
            },
            "error_y": {
             "color": "#f2f5fa"
            },
            "marker": {
             "line": {
              "color": "rgb(17,17,17)",
              "width": 0.5
             },
             "pattern": {
              "fillmode": "overlay",
              "size": 10,
              "solidity": 0.2
             }
            },
            "type": "bar"
           }
          ],
          "barpolar": [
           {
            "marker": {
             "line": {
              "color": "rgb(17,17,17)",
              "width": 0.5
             },
             "pattern": {
              "fillmode": "overlay",
              "size": 10,
              "solidity": 0.2
             }
            },
            "type": "barpolar"
           }
          ],
          "carpet": [
           {
            "aaxis": {
             "endlinecolor": "#A2B1C6",
             "gridcolor": "#506784",
             "linecolor": "#506784",
             "minorgridcolor": "#506784",
             "startlinecolor": "#A2B1C6"
            },
            "baxis": {
             "endlinecolor": "#A2B1C6",
             "gridcolor": "#506784",
             "linecolor": "#506784",
             "minorgridcolor": "#506784",
             "startlinecolor": "#A2B1C6"
            },
            "type": "carpet"
           }
          ],
          "choropleth": [
           {
            "colorbar": {
             "outlinewidth": 0,
             "ticks": ""
            },
            "type": "choropleth"
           }
          ],
          "contour": [
           {
            "colorbar": {
             "outlinewidth": 0,
             "ticks": ""
            },
            "colorscale": [
             [
              0,
              "#0d0887"
             ],
             [
              0.1111111111111111,
              "#46039f"
             ],
             [
              0.2222222222222222,
              "#7201a8"
             ],
             [
              0.3333333333333333,
              "#9c179e"
             ],
             [
              0.4444444444444444,
              "#bd3786"
             ],
             [
              0.5555555555555556,
              "#d8576b"
             ],
             [
              0.6666666666666666,
              "#ed7953"
             ],
             [
              0.7777777777777778,
              "#fb9f3a"
             ],
             [
              0.8888888888888888,
              "#fdca26"
             ],
             [
              1,
              "#f0f921"
             ]
            ],
            "type": "contour"
           }
          ],
          "contourcarpet": [
           {
            "colorbar": {
             "outlinewidth": 0,
             "ticks": ""
            },
            "type": "contourcarpet"
           }
          ],
          "heatmap": [
           {
            "colorbar": {
             "outlinewidth": 0,
             "ticks": ""
            },
            "colorscale": [
             [
              0,
              "#0d0887"
             ],
             [
              0.1111111111111111,
              "#46039f"
             ],
             [
              0.2222222222222222,
              "#7201a8"
             ],
             [
              0.3333333333333333,
              "#9c179e"
             ],
             [
              0.4444444444444444,
              "#bd3786"
             ],
             [
              0.5555555555555556,
              "#d8576b"
             ],
             [
              0.6666666666666666,
              "#ed7953"
             ],
             [
              0.7777777777777778,
              "#fb9f3a"
             ],
             [
              0.8888888888888888,
              "#fdca26"
             ],
             [
              1,
              "#f0f921"
             ]
            ],
            "type": "heatmap"
           }
          ],
          "histogram": [
           {
            "marker": {
             "pattern": {
              "fillmode": "overlay",
              "size": 10,
              "solidity": 0.2
             }
            },
            "type": "histogram"
           }
          ],
          "histogram2d": [
           {
            "colorbar": {
             "outlinewidth": 0,
             "ticks": ""
            },
            "colorscale": [
             [
              0,
              "#0d0887"
             ],
             [
              0.1111111111111111,
              "#46039f"
             ],
             [
              0.2222222222222222,
              "#7201a8"
             ],
             [
              0.3333333333333333,
              "#9c179e"
             ],
             [
              0.4444444444444444,
              "#bd3786"
             ],
             [
              0.5555555555555556,
              "#d8576b"
             ],
             [
              0.6666666666666666,
              "#ed7953"
             ],
             [
              0.7777777777777778,
              "#fb9f3a"
             ],
             [
              0.8888888888888888,
              "#fdca26"
             ],
             [
              1,
              "#f0f921"
             ]
            ],
            "type": "histogram2d"
           }
          ],
          "histogram2dcontour": [
           {
            "colorbar": {
             "outlinewidth": 0,
             "ticks": ""
            },
            "colorscale": [
             [
              0,
              "#0d0887"
             ],
             [
              0.1111111111111111,
              "#46039f"
             ],
             [
              0.2222222222222222,
              "#7201a8"
             ],
             [
              0.3333333333333333,
              "#9c179e"
             ],
             [
              0.4444444444444444,
              "#bd3786"
             ],
             [
              0.5555555555555556,
              "#d8576b"
             ],
             [
              0.6666666666666666,
              "#ed7953"
             ],
             [
              0.7777777777777778,
              "#fb9f3a"
             ],
             [
              0.8888888888888888,
              "#fdca26"
             ],
             [
              1,
              "#f0f921"
             ]
            ],
            "type": "histogram2dcontour"
           }
          ],
          "mesh3d": [
           {
            "colorbar": {
             "outlinewidth": 0,
             "ticks": ""
            },
            "type": "mesh3d"
           }
          ],
          "parcoords": [
           {
            "line": {
             "colorbar": {
              "outlinewidth": 0,
              "ticks": ""
             }
            },
            "type": "parcoords"
           }
          ],
          "pie": [
           {
            "automargin": true,
            "type": "pie"
           }
          ],
          "scatter": [
           {
            "marker": {
             "line": {
              "color": "#283442"
             }
            },
            "type": "scatter"
           }
          ],
          "scatter3d": [
           {
            "line": {
             "colorbar": {
              "outlinewidth": 0,
              "ticks": ""
             }
            },
            "marker": {
             "colorbar": {
              "outlinewidth": 0,
              "ticks": ""
             }
            },
            "type": "scatter3d"
           }
          ],
          "scattercarpet": [
           {
            "marker": {
             "colorbar": {
              "outlinewidth": 0,
              "ticks": ""
             }
            },
            "type": "scattercarpet"
           }
          ],
          "scattergeo": [
           {
            "marker": {
             "colorbar": {
              "outlinewidth": 0,
              "ticks": ""
             }
            },
            "type": "scattergeo"
           }
          ],
          "scattergl": [
           {
            "marker": {
             "line": {
              "color": "#283442"
             }
            },
            "type": "scattergl"
           }
          ],
          "scattermap": [
           {
            "marker": {
             "colorbar": {
              "outlinewidth": 0,
              "ticks": ""
             }
            },
            "type": "scattermap"
           }
          ],
          "scattermapbox": [
           {
            "marker": {
             "colorbar": {
              "outlinewidth": 0,
              "ticks": ""
             }
            },
            "type": "scattermapbox"
           }
          ],
          "scatterpolar": [
           {
            "marker": {
             "colorbar": {
              "outlinewidth": 0,
              "ticks": ""
             }
            },
            "type": "scatterpolar"
           }
          ],
          "scatterpolargl": [
           {
            "marker": {
             "colorbar": {
              "outlinewidth": 0,
              "ticks": ""
             }
            },
            "type": "scatterpolargl"
           }
          ],
          "scatterternary": [
           {
            "marker": {
             "colorbar": {
              "outlinewidth": 0,
              "ticks": ""
             }
            },
            "type": "scatterternary"
           }
          ],
          "surface": [
           {
            "colorbar": {
             "outlinewidth": 0,
             "ticks": ""
            },
            "colorscale": [
             [
              0,
              "#0d0887"
             ],
             [
              0.1111111111111111,
              "#46039f"
             ],
             [
              0.2222222222222222,
              "#7201a8"
             ],
             [
              0.3333333333333333,
              "#9c179e"
             ],
             [
              0.4444444444444444,
              "#bd3786"
             ],
             [
              0.5555555555555556,
              "#d8576b"
             ],
             [
              0.6666666666666666,
              "#ed7953"
             ],
             [
              0.7777777777777778,
              "#fb9f3a"
             ],
             [
              0.8888888888888888,
              "#fdca26"
             ],
             [
              1,
              "#f0f921"
             ]
            ],
            "type": "surface"
           }
          ],
          "table": [
           {
            "cells": {
             "fill": {
              "color": "#506784"
             },
             "line": {
              "color": "rgb(17,17,17)"
             }
            },
            "header": {
             "fill": {
              "color": "#2a3f5f"
             },
             "line": {
              "color": "rgb(17,17,17)"
             }
            },
            "type": "table"
           }
          ]
         },
         "layout": {
          "annotationdefaults": {
           "arrowcolor": "#f2f5fa",
           "arrowhead": 0,
           "arrowwidth": 1
          },
          "autotypenumbers": "strict",
          "coloraxis": {
           "colorbar": {
            "outlinewidth": 0,
            "ticks": ""
           }
          },
          "colorscale": {
           "diverging": [
            [
             0,
             "#8e0152"
            ],
            [
             0.1,
             "#c51b7d"
            ],
            [
             0.2,
             "#de77ae"
            ],
            [
             0.3,
             "#f1b6da"
            ],
            [
             0.4,
             "#fde0ef"
            ],
            [
             0.5,
             "#f7f7f7"
            ],
            [
             0.6,
             "#e6f5d0"
            ],
            [
             0.7,
             "#b8e186"
            ],
            [
             0.8,
             "#7fbc41"
            ],
            [
             0.9,
             "#4d9221"
            ],
            [
             1,
             "#276419"
            ]
           ],
           "sequential": [
            [
             0,
             "#0d0887"
            ],
            [
             0.1111111111111111,
             "#46039f"
            ],
            [
             0.2222222222222222,
             "#7201a8"
            ],
            [
             0.3333333333333333,
             "#9c179e"
            ],
            [
             0.4444444444444444,
             "#bd3786"
            ],
            [
             0.5555555555555556,
             "#d8576b"
            ],
            [
             0.6666666666666666,
             "#ed7953"
            ],
            [
             0.7777777777777778,
             "#fb9f3a"
            ],
            [
             0.8888888888888888,
             "#fdca26"
            ],
            [
             1,
             "#f0f921"
            ]
           ],
           "sequentialminus": [
            [
             0,
             "#0d0887"
            ],
            [
             0.1111111111111111,
             "#46039f"
            ],
            [
             0.2222222222222222,
             "#7201a8"
            ],
            [
             0.3333333333333333,
             "#9c179e"
            ],
            [
             0.4444444444444444,
             "#bd3786"
            ],
            [
             0.5555555555555556,
             "#d8576b"
            ],
            [
             0.6666666666666666,
             "#ed7953"
            ],
            [
             0.7777777777777778,
             "#fb9f3a"
            ],
            [
             0.8888888888888888,
             "#fdca26"
            ],
            [
             1,
             "#f0f921"
            ]
           ]
          },
          "colorway": [
           "#636efa",
           "#EF553B",
           "#00cc96",
           "#ab63fa",
           "#FFA15A",
           "#19d3f3",
           "#FF6692",
           "#B6E880",
           "#FF97FF",
           "#FECB52"
          ],
          "font": {
           "color": "#f2f5fa"
          },
          "geo": {
           "bgcolor": "rgb(17,17,17)",
           "lakecolor": "rgb(17,17,17)",
           "landcolor": "rgb(17,17,17)",
           "showlakes": true,
           "showland": true,
           "subunitcolor": "#506784"
          },
          "hoverlabel": {
           "align": "left"
          },
          "hovermode": "closest",
          "mapbox": {
           "style": "dark"
          },
          "paper_bgcolor": "rgb(17,17,17)",
          "plot_bgcolor": "rgb(17,17,17)",
          "polar": {
           "angularaxis": {
            "gridcolor": "#506784",
            "linecolor": "#506784",
            "ticks": ""
           },
           "bgcolor": "rgb(17,17,17)",
           "radialaxis": {
            "gridcolor": "#506784",
            "linecolor": "#506784",
            "ticks": ""
           }
          },
          "scene": {
           "xaxis": {
            "backgroundcolor": "rgb(17,17,17)",
            "gridcolor": "#506784",
            "gridwidth": 2,
            "linecolor": "#506784",
            "showbackground": true,
            "ticks": "",
            "zerolinecolor": "#C8D4E3"
           },
           "yaxis": {
            "backgroundcolor": "rgb(17,17,17)",
            "gridcolor": "#506784",
            "gridwidth": 2,
            "linecolor": "#506784",
            "showbackground": true,
            "ticks": "",
            "zerolinecolor": "#C8D4E3"
           },
           "zaxis": {
            "backgroundcolor": "rgb(17,17,17)",
            "gridcolor": "#506784",
            "gridwidth": 2,
            "linecolor": "#506784",
            "showbackground": true,
            "ticks": "",
            "zerolinecolor": "#C8D4E3"
           }
          },
          "shapedefaults": {
           "line": {
            "color": "#f2f5fa"
           }
          },
          "sliderdefaults": {
           "bgcolor": "#C8D4E3",
           "bordercolor": "rgb(17,17,17)",
           "borderwidth": 1,
           "tickwidth": 0
          },
          "ternary": {
           "aaxis": {
            "gridcolor": "#506784",
            "linecolor": "#506784",
            "ticks": ""
           },
           "baxis": {
            "gridcolor": "#506784",
            "linecolor": "#506784",
            "ticks": ""
           },
           "bgcolor": "rgb(17,17,17)",
           "caxis": {
            "gridcolor": "#506784",
            "linecolor": "#506784",
            "ticks": ""
           }
          },
          "title": {
           "x": 0.05
          },
          "updatemenudefaults": {
           "bgcolor": "#506784",
           "borderwidth": 0
          },
          "xaxis": {
           "automargin": true,
           "gridcolor": "#283442",
           "linecolor": "#506784",
           "ticks": "",
           "title": {
            "standoff": 15
           },
           "zerolinecolor": "#283442",
           "zerolinewidth": 2
          },
          "yaxis": {
           "automargin": true,
           "gridcolor": "#283442",
           "linecolor": "#506784",
           "ticks": "",
           "title": {
            "standoff": 15
           },
           "zerolinecolor": "#283442",
           "zerolinewidth": 2
          }
         }
        },
        "title": {
         "text": "<b>Unigrams Heatmap<br><sup>&nbsp;&nbsp;&nbsp;&nbsp;<i>Test - Summary</i></sup></b>",
         "x": 0.025,
         "xanchor": "left",
         "y": 0.95
        },
        "width": 800,
        "xaxis": {
         "dtick": 1,
         "gridcolor": "rgb(0, 0, 0)",
         "showgrid": false,
         "side": "top",
         "ticks": ""
        },
        "yaxis": {
         "autorange": "reversed",
         "dtick": 1,
         "showgrid": false,
         "ticks": "",
         "ticksuffix": "  "
        }
       }
      }
     },
     "metadata": {},
     "output_type": "display_data"
    }
   ],
   "source": [
    "vectorizer = TfidfVectorizer(max_features = 15,stop_words = 'english') # Top 15 terms\n",
    "x = vectorizer.fit_transform(test['summary'].fillna(''))\n",
    "df_tfidfvect = pd.DataFrame(x.toarray(), columns=vectorizer.get_feature_names_out())\n",
    "plot_correlation(df_tfidfvect, 'Unigrams', 'Test - Summary', 800, 800, 12)"
   ]
  },
  {
   "cell_type": "code",
   "execution_count": 56,
   "metadata": {},
   "outputs": [
    {
     "data": {
      "application/vnd.plotly.v1+json": {
       "config": {
        "plotlyServerURL": "https://plot.ly"
       },
       "data": [
        {
         "colorscale": [
          [
           0,
           "#00224e"
          ],
          [
           0.1111111111111111,
           "#123570"
          ],
          [
           0.2222222222222222,
           "#3b496c"
          ],
          [
           0.3333333333333333,
           "#575d6d"
          ],
          [
           0.4444444444444444,
           "#707173"
          ],
          [
           0.5555555555555556,
           "#8a8678"
          ],
          [
           0.6666666666666666,
           "#a59c74"
          ],
          [
           0.7777777777777778,
           "#c3b369"
          ],
          [
           0.8888888888888888,
           "#e1cc55"
          ],
          [
           1,
           "#fee838"
          ]
         ],
         "reversescale": false,
         "showscale": false,
         "type": "heatmap",
         "x": [
          "don know",
          "don think",
          "don want",
          "don worry",
          "good idea",
          "good luck",
          "just don",
          "let know",
          "ll try",
          "oh yes",
          "ok ll",
          "sounds good",
          "sounds like",
          "ve got"
         ],
         "y": [
          "ve just",
          "ve got",
          "sounds like",
          "sounds good",
          "ok ll",
          "oh yes",
          "ll try",
          "let know",
          "just don",
          "good luck",
          "good idea",
          "don worry",
          "don want",
          "don think"
         ],
         "z": [
          [
           0,
           0.02,
           0.02,
           0,
           -0.02,
           0.01,
           0.02,
           -0.02,
           0.02,
           -0.02,
           0,
           -0.02,
           -0.02,
           -0.01
          ],
          [
           0,
           -0.02,
           -0.01,
           -0.02,
           -0.01,
           -0.01,
           0.02,
           -0.02,
           -0.01,
           0.02,
           -0.01,
           0,
           0.01
          ],
          [
           0.01,
           -0.03,
           -0.02,
           0.05,
           0.1,
           0.02,
           -0.02,
           0.02,
           0.01,
           -0.02,
           0,
           0
          ],
          [
           -0.01,
           -0.03,
           -0.03,
           0,
           -0.02,
           -0.02,
           0.01,
           0.01,
           0.04,
           -0.02,
           0
          ],
          [
           -0.01,
           -0.01,
           -0.03,
           -0.03,
           -0.02,
           0,
           -0.02,
           -0.01,
           0.01,
           -0.02
          ],
          [
           -0.03,
           -0.03,
           -0.02,
           -0.02,
           -0.02,
           -0.02,
           -0.02,
           -0.01,
           -0.02
          ],
          [
           0.04,
           0,
           -0.02,
           0.01,
           0.02,
           -0.02,
           -0.02,
           -0.01
          ],
          [
           -0.03,
           -0.04,
           0,
           -0.01,
           0,
           0.05,
           -0.03
          ],
          [
           0.06,
           -0.03,
           -0.02,
           0.01,
           -0.02,
           0.02
          ],
          [
           0.01,
           0,
           -0.02,
           -0.02,
           -0.02
          ],
          [
           -0.04,
           0,
           -0.02,
           -0.02
          ],
          [
           0.07,
           0.03,
           0.01
          ],
          [
           0.03,
           0
          ],
          [
           0
          ]
         ]
        },
        {
         "colorscale": [
          [
           0,
           "#00224e"
          ],
          [
           0.1111111111111111,
           "#123570"
          ],
          [
           0.2222222222222222,
           "#3b496c"
          ],
          [
           0.3333333333333333,
           "#575d6d"
          ],
          [
           0.4444444444444444,
           "#707173"
          ],
          [
           0.5555555555555556,
           "#8a8678"
          ],
          [
           0.6666666666666666,
           "#a59c74"
          ],
          [
           0.7777777777777778,
           "#c3b369"
          ],
          [
           0.8888888888888888,
           "#e1cc55"
          ],
          [
           1,
           "#fee838"
          ]
         ],
         "showscale": true,
         "type": "heatmap",
         "visible": true,
         "z": [
          [
           0,
           0.02,
           0.02,
           0,
           -0.02,
           0.01,
           0.02,
           -0.02,
           0.02,
           -0.02,
           0,
           -0.02,
           -0.02,
           -0.01
          ],
          [
           0,
           -0.02,
           -0.01,
           -0.02,
           -0.01,
           -0.01,
           0.02,
           -0.02,
           -0.01,
           0.02,
           -0.01,
           0,
           0.01
          ],
          [
           0.01,
           -0.03,
           -0.02,
           0.05,
           0.1,
           0.02,
           -0.02,
           0.02,
           0.01,
           -0.02,
           0,
           0
          ],
          [
           -0.01,
           -0.03,
           -0.03,
           0,
           -0.02,
           -0.02,
           0.01,
           0.01,
           0.04,
           -0.02,
           0
          ],
          [
           -0.01,
           -0.01,
           -0.03,
           -0.03,
           -0.02,
           0,
           -0.02,
           -0.01,
           0.01,
           -0.02
          ],
          [
           -0.03,
           -0.03,
           -0.02,
           -0.02,
           -0.02,
           -0.02,
           -0.02,
           -0.01,
           -0.02
          ],
          [
           0.04,
           0,
           -0.02,
           0.01,
           0.02,
           -0.02,
           -0.02,
           -0.01
          ],
          [
           -0.03,
           -0.04,
           0,
           -0.01,
           0,
           0.05,
           -0.03
          ],
          [
           0.06,
           -0.03,
           -0.02,
           0.01,
           -0.02,
           0.02
          ],
          [
           0.01,
           0,
           -0.02,
           -0.02,
           -0.02
          ],
          [
           -0.04,
           0,
           -0.02,
           -0.02
          ],
          [
           0.07,
           0.03,
           0.01
          ],
          [
           0.03,
           0
          ],
          [
           0
          ]
         ]
        }
       ],
       "layout": {
        "annotations": [
         {
          "font": {
           "color": "#FFFFFF",
           "size": 12
          },
          "showarrow": false,
          "text": "0.0",
          "x": "don know",
          "xref": "x",
          "y": "ve just",
          "yref": "y"
         },
         {
          "font": {
           "color": "#FFFFFF",
           "size": 12
          },
          "showarrow": false,
          "text": "0.02",
          "x": "don think",
          "xref": "x",
          "y": "ve just",
          "yref": "y"
         },
         {
          "font": {
           "color": "#FFFFFF",
           "size": 12
          },
          "showarrow": false,
          "text": "0.02",
          "x": "don want",
          "xref": "x",
          "y": "ve just",
          "yref": "y"
         },
         {
          "font": {
           "color": "#FFFFFF",
           "size": 12
          },
          "showarrow": false,
          "text": "-0.0",
          "x": "don worry",
          "xref": "x",
          "y": "ve just",
          "yref": "y"
         },
         {
          "font": {
           "color": "#FFFFFF",
           "size": 12
          },
          "showarrow": false,
          "text": "-0.02",
          "x": "good idea",
          "xref": "x",
          "y": "ve just",
          "yref": "y"
         },
         {
          "font": {
           "color": "#FFFFFF",
           "size": 12
          },
          "showarrow": false,
          "text": "0.01",
          "x": "good luck",
          "xref": "x",
          "y": "ve just",
          "yref": "y"
         },
         {
          "font": {
           "color": "#FFFFFF",
           "size": 12
          },
          "showarrow": false,
          "text": "0.02",
          "x": "just don",
          "xref": "x",
          "y": "ve just",
          "yref": "y"
         },
         {
          "font": {
           "color": "#FFFFFF",
           "size": 12
          },
          "showarrow": false,
          "text": "-0.02",
          "x": "let know",
          "xref": "x",
          "y": "ve just",
          "yref": "y"
         },
         {
          "font": {
           "color": "#FFFFFF",
           "size": 12
          },
          "showarrow": false,
          "text": "0.02",
          "x": "ll try",
          "xref": "x",
          "y": "ve just",
          "yref": "y"
         },
         {
          "font": {
           "color": "#FFFFFF",
           "size": 12
          },
          "showarrow": false,
          "text": "-0.02",
          "x": "oh yes",
          "xref": "x",
          "y": "ve just",
          "yref": "y"
         },
         {
          "font": {
           "color": "#FFFFFF",
           "size": 12
          },
          "showarrow": false,
          "text": "0.0",
          "x": "ok ll",
          "xref": "x",
          "y": "ve just",
          "yref": "y"
         },
         {
          "font": {
           "color": "#FFFFFF",
           "size": 12
          },
          "showarrow": false,
          "text": "-0.02",
          "x": "sounds good",
          "xref": "x",
          "y": "ve just",
          "yref": "y"
         },
         {
          "font": {
           "color": "#FFFFFF",
           "size": 12
          },
          "showarrow": false,
          "text": "-0.02",
          "x": "sounds like",
          "xref": "x",
          "y": "ve just",
          "yref": "y"
         },
         {
          "font": {
           "color": "#FFFFFF",
           "size": 12
          },
          "showarrow": false,
          "text": "-0.01",
          "x": "ve got",
          "xref": "x",
          "y": "ve just",
          "yref": "y"
         },
         {
          "font": {
           "color": "#FFFFFF",
           "size": 12
          },
          "showarrow": false,
          "text": "0.0",
          "x": "don know",
          "xref": "x",
          "y": "ve got",
          "yref": "y"
         },
         {
          "font": {
           "color": "#FFFFFF",
           "size": 12
          },
          "showarrow": false,
          "text": "-0.02",
          "x": "don think",
          "xref": "x",
          "y": "ve got",
          "yref": "y"
         },
         {
          "font": {
           "color": "#FFFFFF",
           "size": 12
          },
          "showarrow": false,
          "text": "-0.01",
          "x": "don want",
          "xref": "x",
          "y": "ve got",
          "yref": "y"
         },
         {
          "font": {
           "color": "#FFFFFF",
           "size": 12
          },
          "showarrow": false,
          "text": "-0.02",
          "x": "don worry",
          "xref": "x",
          "y": "ve got",
          "yref": "y"
         },
         {
          "font": {
           "color": "#FFFFFF",
           "size": 12
          },
          "showarrow": false,
          "text": "-0.01",
          "x": "good idea",
          "xref": "x",
          "y": "ve got",
          "yref": "y"
         },
         {
          "font": {
           "color": "#FFFFFF",
           "size": 12
          },
          "showarrow": false,
          "text": "-0.01",
          "x": "good luck",
          "xref": "x",
          "y": "ve got",
          "yref": "y"
         },
         {
          "font": {
           "color": "#FFFFFF",
           "size": 12
          },
          "showarrow": false,
          "text": "0.02",
          "x": "just don",
          "xref": "x",
          "y": "ve got",
          "yref": "y"
         },
         {
          "font": {
           "color": "#FFFFFF",
           "size": 12
          },
          "showarrow": false,
          "text": "-0.02",
          "x": "let know",
          "xref": "x",
          "y": "ve got",
          "yref": "y"
         },
         {
          "font": {
           "color": "#FFFFFF",
           "size": 12
          },
          "showarrow": false,
          "text": "-0.01",
          "x": "ll try",
          "xref": "x",
          "y": "ve got",
          "yref": "y"
         },
         {
          "font": {
           "color": "#FFFFFF",
           "size": 12
          },
          "showarrow": false,
          "text": "0.02",
          "x": "oh yes",
          "xref": "x",
          "y": "ve got",
          "yref": "y"
         },
         {
          "font": {
           "color": "#FFFFFF",
           "size": 12
          },
          "showarrow": false,
          "text": "-0.01",
          "x": "ok ll",
          "xref": "x",
          "y": "ve got",
          "yref": "y"
         },
         {
          "font": {
           "color": "#FFFFFF",
           "size": 12
          },
          "showarrow": false,
          "text": "0.0",
          "x": "sounds good",
          "xref": "x",
          "y": "ve got",
          "yref": "y"
         },
         {
          "font": {
           "color": "#FFFFFF",
           "size": 12
          },
          "showarrow": false,
          "text": "0.01",
          "x": "sounds like",
          "xref": "x",
          "y": "ve got",
          "yref": "y"
         },
         {
          "font": {
           "color": "#FFFFFF",
           "size": 12
          },
          "showarrow": false,
          "text": "0.01",
          "x": "don know",
          "xref": "x",
          "y": "sounds like",
          "yref": "y"
         },
         {
          "font": {
           "color": "#FFFFFF",
           "size": 12
          },
          "showarrow": false,
          "text": "-0.03",
          "x": "don think",
          "xref": "x",
          "y": "sounds like",
          "yref": "y"
         },
         {
          "font": {
           "color": "#FFFFFF",
           "size": 12
          },
          "showarrow": false,
          "text": "-0.02",
          "x": "don want",
          "xref": "x",
          "y": "sounds like",
          "yref": "y"
         },
         {
          "font": {
           "color": "#000000",
           "size": 12
          },
          "showarrow": false,
          "text": "0.05",
          "x": "don worry",
          "xref": "x",
          "y": "sounds like",
          "yref": "y"
         },
         {
          "font": {
           "color": "#000000",
           "size": 12
          },
          "showarrow": false,
          "text": "0.1",
          "x": "good idea",
          "xref": "x",
          "y": "sounds like",
          "yref": "y"
         },
         {
          "font": {
           "color": "#FFFFFF",
           "size": 12
          },
          "showarrow": false,
          "text": "0.02",
          "x": "good luck",
          "xref": "x",
          "y": "sounds like",
          "yref": "y"
         },
         {
          "font": {
           "color": "#FFFFFF",
           "size": 12
          },
          "showarrow": false,
          "text": "-0.02",
          "x": "just don",
          "xref": "x",
          "y": "sounds like",
          "yref": "y"
         },
         {
          "font": {
           "color": "#FFFFFF",
           "size": 12
          },
          "showarrow": false,
          "text": "0.02",
          "x": "let know",
          "xref": "x",
          "y": "sounds like",
          "yref": "y"
         },
         {
          "font": {
           "color": "#FFFFFF",
           "size": 12
          },
          "showarrow": false,
          "text": "0.01",
          "x": "ll try",
          "xref": "x",
          "y": "sounds like",
          "yref": "y"
         },
         {
          "font": {
           "color": "#FFFFFF",
           "size": 12
          },
          "showarrow": false,
          "text": "-0.02",
          "x": "oh yes",
          "xref": "x",
          "y": "sounds like",
          "yref": "y"
         },
         {
          "font": {
           "color": "#FFFFFF",
           "size": 12
          },
          "showarrow": false,
          "text": "0.0",
          "x": "ok ll",
          "xref": "x",
          "y": "sounds like",
          "yref": "y"
         },
         {
          "font": {
           "color": "#FFFFFF",
           "size": 12
          },
          "showarrow": false,
          "text": "-0.0",
          "x": "sounds good",
          "xref": "x",
          "y": "sounds like",
          "yref": "y"
         },
         {
          "font": {
           "color": "#FFFFFF",
           "size": 12
          },
          "showarrow": false,
          "text": "-0.01",
          "x": "don know",
          "xref": "x",
          "y": "sounds good",
          "yref": "y"
         },
         {
          "font": {
           "color": "#FFFFFF",
           "size": 12
          },
          "showarrow": false,
          "text": "-0.03",
          "x": "don think",
          "xref": "x",
          "y": "sounds good",
          "yref": "y"
         },
         {
          "font": {
           "color": "#FFFFFF",
           "size": 12
          },
          "showarrow": false,
          "text": "-0.03",
          "x": "don want",
          "xref": "x",
          "y": "sounds good",
          "yref": "y"
         },
         {
          "font": {
           "color": "#FFFFFF",
           "size": 12
          },
          "showarrow": false,
          "text": "-0.0",
          "x": "don worry",
          "xref": "x",
          "y": "sounds good",
          "yref": "y"
         },
         {
          "font": {
           "color": "#FFFFFF",
           "size": 12
          },
          "showarrow": false,
          "text": "-0.02",
          "x": "good idea",
          "xref": "x",
          "y": "sounds good",
          "yref": "y"
         },
         {
          "font": {
           "color": "#FFFFFF",
           "size": 12
          },
          "showarrow": false,
          "text": "-0.02",
          "x": "good luck",
          "xref": "x",
          "y": "sounds good",
          "yref": "y"
         },
         {
          "font": {
           "color": "#FFFFFF",
           "size": 12
          },
          "showarrow": false,
          "text": "0.01",
          "x": "just don",
          "xref": "x",
          "y": "sounds good",
          "yref": "y"
         },
         {
          "font": {
           "color": "#FFFFFF",
           "size": 12
          },
          "showarrow": false,
          "text": "0.01",
          "x": "let know",
          "xref": "x",
          "y": "sounds good",
          "yref": "y"
         },
         {
          "font": {
           "color": "#000000",
           "size": 12
          },
          "showarrow": false,
          "text": "0.04",
          "x": "ll try",
          "xref": "x",
          "y": "sounds good",
          "yref": "y"
         },
         {
          "font": {
           "color": "#FFFFFF",
           "size": 12
          },
          "showarrow": false,
          "text": "-0.02",
          "x": "oh yes",
          "xref": "x",
          "y": "sounds good",
          "yref": "y"
         },
         {
          "font": {
           "color": "#FFFFFF",
           "size": 12
          },
          "showarrow": false,
          "text": "0.0",
          "x": "ok ll",
          "xref": "x",
          "y": "sounds good",
          "yref": "y"
         },
         {
          "font": {
           "color": "#FFFFFF",
           "size": 12
          },
          "showarrow": false,
          "text": "-0.01",
          "x": "don know",
          "xref": "x",
          "y": "ok ll",
          "yref": "y"
         },
         {
          "font": {
           "color": "#FFFFFF",
           "size": 12
          },
          "showarrow": false,
          "text": "-0.01",
          "x": "don think",
          "xref": "x",
          "y": "ok ll",
          "yref": "y"
         },
         {
          "font": {
           "color": "#FFFFFF",
           "size": 12
          },
          "showarrow": false,
          "text": "-0.03",
          "x": "don want",
          "xref": "x",
          "y": "ok ll",
          "yref": "y"
         },
         {
          "font": {
           "color": "#FFFFFF",
           "size": 12
          },
          "showarrow": false,
          "text": "-0.03",
          "x": "don worry",
          "xref": "x",
          "y": "ok ll",
          "yref": "y"
         },
         {
          "font": {
           "color": "#FFFFFF",
           "size": 12
          },
          "showarrow": false,
          "text": "-0.02",
          "x": "good idea",
          "xref": "x",
          "y": "ok ll",
          "yref": "y"
         },
         {
          "font": {
           "color": "#FFFFFF",
           "size": 12
          },
          "showarrow": false,
          "text": "0.0",
          "x": "good luck",
          "xref": "x",
          "y": "ok ll",
          "yref": "y"
         },
         {
          "font": {
           "color": "#FFFFFF",
           "size": 12
          },
          "showarrow": false,
          "text": "-0.02",
          "x": "just don",
          "xref": "x",
          "y": "ok ll",
          "yref": "y"
         },
         {
          "font": {
           "color": "#FFFFFF",
           "size": 12
          },
          "showarrow": false,
          "text": "-0.01",
          "x": "let know",
          "xref": "x",
          "y": "ok ll",
          "yref": "y"
         },
         {
          "font": {
           "color": "#FFFFFF",
           "size": 12
          },
          "showarrow": false,
          "text": "0.01",
          "x": "ll try",
          "xref": "x",
          "y": "ok ll",
          "yref": "y"
         },
         {
          "font": {
           "color": "#FFFFFF",
           "size": 12
          },
          "showarrow": false,
          "text": "-0.02",
          "x": "oh yes",
          "xref": "x",
          "y": "ok ll",
          "yref": "y"
         },
         {
          "font": {
           "color": "#FFFFFF",
           "size": 12
          },
          "showarrow": false,
          "text": "-0.03",
          "x": "don know",
          "xref": "x",
          "y": "oh yes",
          "yref": "y"
         },
         {
          "font": {
           "color": "#FFFFFF",
           "size": 12
          },
          "showarrow": false,
          "text": "-0.03",
          "x": "don think",
          "xref": "x",
          "y": "oh yes",
          "yref": "y"
         },
         {
          "font": {
           "color": "#FFFFFF",
           "size": 12
          },
          "showarrow": false,
          "text": "-0.02",
          "x": "don want",
          "xref": "x",
          "y": "oh yes",
          "yref": "y"
         },
         {
          "font": {
           "color": "#FFFFFF",
           "size": 12
          },
          "showarrow": false,
          "text": "-0.02",
          "x": "don worry",
          "xref": "x",
          "y": "oh yes",
          "yref": "y"
         },
         {
          "font": {
           "color": "#FFFFFF",
           "size": 12
          },
          "showarrow": false,
          "text": "-0.02",
          "x": "good idea",
          "xref": "x",
          "y": "oh yes",
          "yref": "y"
         },
         {
          "font": {
           "color": "#FFFFFF",
           "size": 12
          },
          "showarrow": false,
          "text": "-0.02",
          "x": "good luck",
          "xref": "x",
          "y": "oh yes",
          "yref": "y"
         },
         {
          "font": {
           "color": "#FFFFFF",
           "size": 12
          },
          "showarrow": false,
          "text": "-0.02",
          "x": "just don",
          "xref": "x",
          "y": "oh yes",
          "yref": "y"
         },
         {
          "font": {
           "color": "#FFFFFF",
           "size": 12
          },
          "showarrow": false,
          "text": "-0.01",
          "x": "let know",
          "xref": "x",
          "y": "oh yes",
          "yref": "y"
         },
         {
          "font": {
           "color": "#FFFFFF",
           "size": 12
          },
          "showarrow": false,
          "text": "-0.02",
          "x": "ll try",
          "xref": "x",
          "y": "oh yes",
          "yref": "y"
         },
         {
          "font": {
           "color": "#000000",
           "size": 12
          },
          "showarrow": false,
          "text": "0.04",
          "x": "don know",
          "xref": "x",
          "y": "ll try",
          "yref": "y"
         },
         {
          "font": {
           "color": "#FFFFFF",
           "size": 12
          },
          "showarrow": false,
          "text": "0.0",
          "x": "don think",
          "xref": "x",
          "y": "ll try",
          "yref": "y"
         },
         {
          "font": {
           "color": "#FFFFFF",
           "size": 12
          },
          "showarrow": false,
          "text": "-0.02",
          "x": "don want",
          "xref": "x",
          "y": "ll try",
          "yref": "y"
         },
         {
          "font": {
           "color": "#FFFFFF",
           "size": 12
          },
          "showarrow": false,
          "text": "0.01",
          "x": "don worry",
          "xref": "x",
          "y": "ll try",
          "yref": "y"
         },
         {
          "font": {
           "color": "#FFFFFF",
           "size": 12
          },
          "showarrow": false,
          "text": "0.02",
          "x": "good idea",
          "xref": "x",
          "y": "ll try",
          "yref": "y"
         },
         {
          "font": {
           "color": "#FFFFFF",
           "size": 12
          },
          "showarrow": false,
          "text": "-0.02",
          "x": "good luck",
          "xref": "x",
          "y": "ll try",
          "yref": "y"
         },
         {
          "font": {
           "color": "#FFFFFF",
           "size": 12
          },
          "showarrow": false,
          "text": "-0.02",
          "x": "just don",
          "xref": "x",
          "y": "ll try",
          "yref": "y"
         },
         {
          "font": {
           "color": "#FFFFFF",
           "size": 12
          },
          "showarrow": false,
          "text": "-0.01",
          "x": "let know",
          "xref": "x",
          "y": "ll try",
          "yref": "y"
         },
         {
          "font": {
           "color": "#FFFFFF",
           "size": 12
          },
          "showarrow": false,
          "text": "-0.03",
          "x": "don know",
          "xref": "x",
          "y": "let know",
          "yref": "y"
         },
         {
          "font": {
           "color": "#FFFFFF",
           "size": 12
          },
          "showarrow": false,
          "text": "-0.04",
          "x": "don think",
          "xref": "x",
          "y": "let know",
          "yref": "y"
         },
         {
          "font": {
           "color": "#FFFFFF",
           "size": 12
          },
          "showarrow": false,
          "text": "0.0",
          "x": "don want",
          "xref": "x",
          "y": "let know",
          "yref": "y"
         },
         {
          "font": {
           "color": "#FFFFFF",
           "size": 12
          },
          "showarrow": false,
          "text": "-0.01",
          "x": "don worry",
          "xref": "x",
          "y": "let know",
          "yref": "y"
         },
         {
          "font": {
           "color": "#FFFFFF",
           "size": 12
          },
          "showarrow": false,
          "text": "-0.0",
          "x": "good idea",
          "xref": "x",
          "y": "let know",
          "yref": "y"
         },
         {
          "font": {
           "color": "#000000",
           "size": 12
          },
          "showarrow": false,
          "text": "0.05",
          "x": "good luck",
          "xref": "x",
          "y": "let know",
          "yref": "y"
         },
         {
          "font": {
           "color": "#FFFFFF",
           "size": 12
          },
          "showarrow": false,
          "text": "-0.03",
          "x": "just don",
          "xref": "x",
          "y": "let know",
          "yref": "y"
         },
         {
          "font": {
           "color": "#000000",
           "size": 12
          },
          "showarrow": false,
          "text": "0.06",
          "x": "don know",
          "xref": "x",
          "y": "just don",
          "yref": "y"
         },
         {
          "font": {
           "color": "#FFFFFF",
           "size": 12
          },
          "showarrow": false,
          "text": "-0.03",
          "x": "don think",
          "xref": "x",
          "y": "just don",
          "yref": "y"
         },
         {
          "font": {
           "color": "#FFFFFF",
           "size": 12
          },
          "showarrow": false,
          "text": "-0.02",
          "x": "don want",
          "xref": "x",
          "y": "just don",
          "yref": "y"
         },
         {
          "font": {
           "color": "#FFFFFF",
           "size": 12
          },
          "showarrow": false,
          "text": "0.01",
          "x": "don worry",
          "xref": "x",
          "y": "just don",
          "yref": "y"
         },
         {
          "font": {
           "color": "#FFFFFF",
           "size": 12
          },
          "showarrow": false,
          "text": "-0.02",
          "x": "good idea",
          "xref": "x",
          "y": "just don",
          "yref": "y"
         },
         {
          "font": {
           "color": "#FFFFFF",
           "size": 12
          },
          "showarrow": false,
          "text": "0.02",
          "x": "good luck",
          "xref": "x",
          "y": "just don",
          "yref": "y"
         },
         {
          "font": {
           "color": "#FFFFFF",
           "size": 12
          },
          "showarrow": false,
          "text": "0.01",
          "x": "don know",
          "xref": "x",
          "y": "good luck",
          "yref": "y"
         },
         {
          "font": {
           "color": "#FFFFFF",
           "size": 12
          },
          "showarrow": false,
          "text": "0.0",
          "x": "don think",
          "xref": "x",
          "y": "good luck",
          "yref": "y"
         },
         {
          "font": {
           "color": "#FFFFFF",
           "size": 12
          },
          "showarrow": false,
          "text": "-0.02",
          "x": "don want",
          "xref": "x",
          "y": "good luck",
          "yref": "y"
         },
         {
          "font": {
           "color": "#FFFFFF",
           "size": 12
          },
          "showarrow": false,
          "text": "-0.02",
          "x": "don worry",
          "xref": "x",
          "y": "good luck",
          "yref": "y"
         },
         {
          "font": {
           "color": "#FFFFFF",
           "size": 12
          },
          "showarrow": false,
          "text": "-0.02",
          "x": "good idea",
          "xref": "x",
          "y": "good luck",
          "yref": "y"
         },
         {
          "font": {
           "color": "#FFFFFF",
           "size": 12
          },
          "showarrow": false,
          "text": "-0.04",
          "x": "don know",
          "xref": "x",
          "y": "good idea",
          "yref": "y"
         },
         {
          "font": {
           "color": "#FFFFFF",
           "size": 12
          },
          "showarrow": false,
          "text": "-0.0",
          "x": "don think",
          "xref": "x",
          "y": "good idea",
          "yref": "y"
         },
         {
          "font": {
           "color": "#FFFFFF",
           "size": 12
          },
          "showarrow": false,
          "text": "-0.02",
          "x": "don want",
          "xref": "x",
          "y": "good idea",
          "yref": "y"
         },
         {
          "font": {
           "color": "#FFFFFF",
           "size": 12
          },
          "showarrow": false,
          "text": "-0.02",
          "x": "don worry",
          "xref": "x",
          "y": "good idea",
          "yref": "y"
         },
         {
          "font": {
           "color": "#000000",
           "size": 12
          },
          "showarrow": false,
          "text": "0.07",
          "x": "don know",
          "xref": "x",
          "y": "don worry",
          "yref": "y"
         },
         {
          "font": {
           "color": "#FFFFFF",
           "size": 12
          },
          "showarrow": false,
          "text": "0.03",
          "x": "don think",
          "xref": "x",
          "y": "don worry",
          "yref": "y"
         },
         {
          "font": {
           "color": "#FFFFFF",
           "size": 12
          },
          "showarrow": false,
          "text": "0.01",
          "x": "don want",
          "xref": "x",
          "y": "don worry",
          "yref": "y"
         },
         {
          "font": {
           "color": "#FFFFFF",
           "size": 12
          },
          "showarrow": false,
          "text": "0.03",
          "x": "don know",
          "xref": "x",
          "y": "don want",
          "yref": "y"
         },
         {
          "font": {
           "color": "#FFFFFF",
           "size": 12
          },
          "showarrow": false,
          "text": "-0.0",
          "x": "don think",
          "xref": "x",
          "y": "don want",
          "yref": "y"
         },
         {
          "font": {
           "color": "#FFFFFF",
           "size": 12
          },
          "showarrow": false,
          "text": "0.0",
          "x": "don know",
          "xref": "x",
          "y": "don think",
          "yref": "y"
         }
        ],
        "height": 800,
        "margin": {
         "l": 110,
         "t": 210
        },
        "template": {
         "data": {
          "bar": [
           {
            "error_x": {
             "color": "#f2f5fa"
            },
            "error_y": {
             "color": "#f2f5fa"
            },
            "marker": {
             "line": {
              "color": "rgb(17,17,17)",
              "width": 0.5
             },
             "pattern": {
              "fillmode": "overlay",
              "size": 10,
              "solidity": 0.2
             }
            },
            "type": "bar"
           }
          ],
          "barpolar": [
           {
            "marker": {
             "line": {
              "color": "rgb(17,17,17)",
              "width": 0.5
             },
             "pattern": {
              "fillmode": "overlay",
              "size": 10,
              "solidity": 0.2
             }
            },
            "type": "barpolar"
           }
          ],
          "carpet": [
           {
            "aaxis": {
             "endlinecolor": "#A2B1C6",
             "gridcolor": "#506784",
             "linecolor": "#506784",
             "minorgridcolor": "#506784",
             "startlinecolor": "#A2B1C6"
            },
            "baxis": {
             "endlinecolor": "#A2B1C6",
             "gridcolor": "#506784",
             "linecolor": "#506784",
             "minorgridcolor": "#506784",
             "startlinecolor": "#A2B1C6"
            },
            "type": "carpet"
           }
          ],
          "choropleth": [
           {
            "colorbar": {
             "outlinewidth": 0,
             "ticks": ""
            },
            "type": "choropleth"
           }
          ],
          "contour": [
           {
            "colorbar": {
             "outlinewidth": 0,
             "ticks": ""
            },
            "colorscale": [
             [
              0,
              "#0d0887"
             ],
             [
              0.1111111111111111,
              "#46039f"
             ],
             [
              0.2222222222222222,
              "#7201a8"
             ],
             [
              0.3333333333333333,
              "#9c179e"
             ],
             [
              0.4444444444444444,
              "#bd3786"
             ],
             [
              0.5555555555555556,
              "#d8576b"
             ],
             [
              0.6666666666666666,
              "#ed7953"
             ],
             [
              0.7777777777777778,
              "#fb9f3a"
             ],
             [
              0.8888888888888888,
              "#fdca26"
             ],
             [
              1,
              "#f0f921"
             ]
            ],
            "type": "contour"
           }
          ],
          "contourcarpet": [
           {
            "colorbar": {
             "outlinewidth": 0,
             "ticks": ""
            },
            "type": "contourcarpet"
           }
          ],
          "heatmap": [
           {
            "colorbar": {
             "outlinewidth": 0,
             "ticks": ""
            },
            "colorscale": [
             [
              0,
              "#0d0887"
             ],
             [
              0.1111111111111111,
              "#46039f"
             ],
             [
              0.2222222222222222,
              "#7201a8"
             ],
             [
              0.3333333333333333,
              "#9c179e"
             ],
             [
              0.4444444444444444,
              "#bd3786"
             ],
             [
              0.5555555555555556,
              "#d8576b"
             ],
             [
              0.6666666666666666,
              "#ed7953"
             ],
             [
              0.7777777777777778,
              "#fb9f3a"
             ],
             [
              0.8888888888888888,
              "#fdca26"
             ],
             [
              1,
              "#f0f921"
             ]
            ],
            "type": "heatmap"
           }
          ],
          "histogram": [
           {
            "marker": {
             "pattern": {
              "fillmode": "overlay",
              "size": 10,
              "solidity": 0.2
             }
            },
            "type": "histogram"
           }
          ],
          "histogram2d": [
           {
            "colorbar": {
             "outlinewidth": 0,
             "ticks": ""
            },
            "colorscale": [
             [
              0,
              "#0d0887"
             ],
             [
              0.1111111111111111,
              "#46039f"
             ],
             [
              0.2222222222222222,
              "#7201a8"
             ],
             [
              0.3333333333333333,
              "#9c179e"
             ],
             [
              0.4444444444444444,
              "#bd3786"
             ],
             [
              0.5555555555555556,
              "#d8576b"
             ],
             [
              0.6666666666666666,
              "#ed7953"
             ],
             [
              0.7777777777777778,
              "#fb9f3a"
             ],
             [
              0.8888888888888888,
              "#fdca26"
             ],
             [
              1,
              "#f0f921"
             ]
            ],
            "type": "histogram2d"
           }
          ],
          "histogram2dcontour": [
           {
            "colorbar": {
             "outlinewidth": 0,
             "ticks": ""
            },
            "colorscale": [
             [
              0,
              "#0d0887"
             ],
             [
              0.1111111111111111,
              "#46039f"
             ],
             [
              0.2222222222222222,
              "#7201a8"
             ],
             [
              0.3333333333333333,
              "#9c179e"
             ],
             [
              0.4444444444444444,
              "#bd3786"
             ],
             [
              0.5555555555555556,
              "#d8576b"
             ],
             [
              0.6666666666666666,
              "#ed7953"
             ],
             [
              0.7777777777777778,
              "#fb9f3a"
             ],
             [
              0.8888888888888888,
              "#fdca26"
             ],
             [
              1,
              "#f0f921"
             ]
            ],
            "type": "histogram2dcontour"
           }
          ],
          "mesh3d": [
           {
            "colorbar": {
             "outlinewidth": 0,
             "ticks": ""
            },
            "type": "mesh3d"
           }
          ],
          "parcoords": [
           {
            "line": {
             "colorbar": {
              "outlinewidth": 0,
              "ticks": ""
             }
            },
            "type": "parcoords"
           }
          ],
          "pie": [
           {
            "automargin": true,
            "type": "pie"
           }
          ],
          "scatter": [
           {
            "marker": {
             "line": {
              "color": "#283442"
             }
            },
            "type": "scatter"
           }
          ],
          "scatter3d": [
           {
            "line": {
             "colorbar": {
              "outlinewidth": 0,
              "ticks": ""
             }
            },
            "marker": {
             "colorbar": {
              "outlinewidth": 0,
              "ticks": ""
             }
            },
            "type": "scatter3d"
           }
          ],
          "scattercarpet": [
           {
            "marker": {
             "colorbar": {
              "outlinewidth": 0,
              "ticks": ""
             }
            },
            "type": "scattercarpet"
           }
          ],
          "scattergeo": [
           {
            "marker": {
             "colorbar": {
              "outlinewidth": 0,
              "ticks": ""
             }
            },
            "type": "scattergeo"
           }
          ],
          "scattergl": [
           {
            "marker": {
             "line": {
              "color": "#283442"
             }
            },
            "type": "scattergl"
           }
          ],
          "scattermap": [
           {
            "marker": {
             "colorbar": {
              "outlinewidth": 0,
              "ticks": ""
             }
            },
            "type": "scattermap"
           }
          ],
          "scattermapbox": [
           {
            "marker": {
             "colorbar": {
              "outlinewidth": 0,
              "ticks": ""
             }
            },
            "type": "scattermapbox"
           }
          ],
          "scatterpolar": [
           {
            "marker": {
             "colorbar": {
              "outlinewidth": 0,
              "ticks": ""
             }
            },
            "type": "scatterpolar"
           }
          ],
          "scatterpolargl": [
           {
            "marker": {
             "colorbar": {
              "outlinewidth": 0,
              "ticks": ""
             }
            },
            "type": "scatterpolargl"
           }
          ],
          "scatterternary": [
           {
            "marker": {
             "colorbar": {
              "outlinewidth": 0,
              "ticks": ""
             }
            },
            "type": "scatterternary"
           }
          ],
          "surface": [
           {
            "colorbar": {
             "outlinewidth": 0,
             "ticks": ""
            },
            "colorscale": [
             [
              0,
              "#0d0887"
             ],
             [
              0.1111111111111111,
              "#46039f"
             ],
             [
              0.2222222222222222,
              "#7201a8"
             ],
             [
              0.3333333333333333,
              "#9c179e"
             ],
             [
              0.4444444444444444,
              "#bd3786"
             ],
             [
              0.5555555555555556,
              "#d8576b"
             ],
             [
              0.6666666666666666,
              "#ed7953"
             ],
             [
              0.7777777777777778,
              "#fb9f3a"
             ],
             [
              0.8888888888888888,
              "#fdca26"
             ],
             [
              1,
              "#f0f921"
             ]
            ],
            "type": "surface"
           }
          ],
          "table": [
           {
            "cells": {
             "fill": {
              "color": "#506784"
             },
             "line": {
              "color": "rgb(17,17,17)"
             }
            },
            "header": {
             "fill": {
              "color": "#2a3f5f"
             },
             "line": {
              "color": "rgb(17,17,17)"
             }
            },
            "type": "table"
           }
          ]
         },
         "layout": {
          "annotationdefaults": {
           "arrowcolor": "#f2f5fa",
           "arrowhead": 0,
           "arrowwidth": 1
          },
          "autotypenumbers": "strict",
          "coloraxis": {
           "colorbar": {
            "outlinewidth": 0,
            "ticks": ""
           }
          },
          "colorscale": {
           "diverging": [
            [
             0,
             "#8e0152"
            ],
            [
             0.1,
             "#c51b7d"
            ],
            [
             0.2,
             "#de77ae"
            ],
            [
             0.3,
             "#f1b6da"
            ],
            [
             0.4,
             "#fde0ef"
            ],
            [
             0.5,
             "#f7f7f7"
            ],
            [
             0.6,
             "#e6f5d0"
            ],
            [
             0.7,
             "#b8e186"
            ],
            [
             0.8,
             "#7fbc41"
            ],
            [
             0.9,
             "#4d9221"
            ],
            [
             1,
             "#276419"
            ]
           ],
           "sequential": [
            [
             0,
             "#0d0887"
            ],
            [
             0.1111111111111111,
             "#46039f"
            ],
            [
             0.2222222222222222,
             "#7201a8"
            ],
            [
             0.3333333333333333,
             "#9c179e"
            ],
            [
             0.4444444444444444,
             "#bd3786"
            ],
            [
             0.5555555555555556,
             "#d8576b"
            ],
            [
             0.6666666666666666,
             "#ed7953"
            ],
            [
             0.7777777777777778,
             "#fb9f3a"
            ],
            [
             0.8888888888888888,
             "#fdca26"
            ],
            [
             1,
             "#f0f921"
            ]
           ],
           "sequentialminus": [
            [
             0,
             "#0d0887"
            ],
            [
             0.1111111111111111,
             "#46039f"
            ],
            [
             0.2222222222222222,
             "#7201a8"
            ],
            [
             0.3333333333333333,
             "#9c179e"
            ],
            [
             0.4444444444444444,
             "#bd3786"
            ],
            [
             0.5555555555555556,
             "#d8576b"
            ],
            [
             0.6666666666666666,
             "#ed7953"
            ],
            [
             0.7777777777777778,
             "#fb9f3a"
            ],
            [
             0.8888888888888888,
             "#fdca26"
            ],
            [
             1,
             "#f0f921"
            ]
           ]
          },
          "colorway": [
           "#636efa",
           "#EF553B",
           "#00cc96",
           "#ab63fa",
           "#FFA15A",
           "#19d3f3",
           "#FF6692",
           "#B6E880",
           "#FF97FF",
           "#FECB52"
          ],
          "font": {
           "color": "#f2f5fa"
          },
          "geo": {
           "bgcolor": "rgb(17,17,17)",
           "lakecolor": "rgb(17,17,17)",
           "landcolor": "rgb(17,17,17)",
           "showlakes": true,
           "showland": true,
           "subunitcolor": "#506784"
          },
          "hoverlabel": {
           "align": "left"
          },
          "hovermode": "closest",
          "mapbox": {
           "style": "dark"
          },
          "paper_bgcolor": "rgb(17,17,17)",
          "plot_bgcolor": "rgb(17,17,17)",
          "polar": {
           "angularaxis": {
            "gridcolor": "#506784",
            "linecolor": "#506784",
            "ticks": ""
           },
           "bgcolor": "rgb(17,17,17)",
           "radialaxis": {
            "gridcolor": "#506784",
            "linecolor": "#506784",
            "ticks": ""
           }
          },
          "scene": {
           "xaxis": {
            "backgroundcolor": "rgb(17,17,17)",
            "gridcolor": "#506784",
            "gridwidth": 2,
            "linecolor": "#506784",
            "showbackground": true,
            "ticks": "",
            "zerolinecolor": "#C8D4E3"
           },
           "yaxis": {
            "backgroundcolor": "rgb(17,17,17)",
            "gridcolor": "#506784",
            "gridwidth": 2,
            "linecolor": "#506784",
            "showbackground": true,
            "ticks": "",
            "zerolinecolor": "#C8D4E3"
           },
           "zaxis": {
            "backgroundcolor": "rgb(17,17,17)",
            "gridcolor": "#506784",
            "gridwidth": 2,
            "linecolor": "#506784",
            "showbackground": true,
            "ticks": "",
            "zerolinecolor": "#C8D4E3"
           }
          },
          "shapedefaults": {
           "line": {
            "color": "#f2f5fa"
           }
          },
          "sliderdefaults": {
           "bgcolor": "#C8D4E3",
           "bordercolor": "rgb(17,17,17)",
           "borderwidth": 1,
           "tickwidth": 0
          },
          "ternary": {
           "aaxis": {
            "gridcolor": "#506784",
            "linecolor": "#506784",
            "ticks": ""
           },
           "baxis": {
            "gridcolor": "#506784",
            "linecolor": "#506784",
            "ticks": ""
           },
           "bgcolor": "rgb(17,17,17)",
           "caxis": {
            "gridcolor": "#506784",
            "linecolor": "#506784",
            "ticks": ""
           }
          },
          "title": {
           "x": 0.05
          },
          "updatemenudefaults": {
           "bgcolor": "#506784",
           "borderwidth": 0
          },
          "xaxis": {
           "automargin": true,
           "gridcolor": "#283442",
           "linecolor": "#506784",
           "ticks": "",
           "title": {
            "standoff": 15
           },
           "zerolinecolor": "#283442",
           "zerolinewidth": 2
          },
          "yaxis": {
           "automargin": true,
           "gridcolor": "#283442",
           "linecolor": "#506784",
           "ticks": "",
           "title": {
            "standoff": 15
           },
           "zerolinecolor": "#283442",
           "zerolinewidth": 2
          }
         }
        },
        "title": {
         "text": "<b>Bigrams Heatmap<br><sup>&nbsp;&nbsp;&nbsp;&nbsp;<i>Test - Dialogue</i></sup></b>",
         "x": 0.025,
         "xanchor": "left",
         "y": 0.95
        },
        "width": 800,
        "xaxis": {
         "dtick": 1,
         "gridcolor": "rgb(0, 0, 0)",
         "showgrid": false,
         "side": "top",
         "ticks": ""
        },
        "yaxis": {
         "autorange": "reversed",
         "dtick": 1,
         "showgrid": false,
         "ticks": "",
         "ticksuffix": "  "
        }
       }
      }
     },
     "metadata": {},
     "output_type": "display_data"
    }
   ],
   "source": [
    "vectorizer = TfidfVectorizer(max_features = 15,stop_words = 'english',ngram_range = (2,2)) # Top 15 terms\n",
    "x = vectorizer.fit_transform(test['dialogue'].fillna(''))\n",
    "df_tfidfvect = pd.DataFrame(x.toarray(), columns=vectorizer.get_feature_names_out())\n",
    "plot_correlation(df_tfidfvect, 'Bigrams', 'Test - Dialogue', 800, 800, 12)"
   ]
  },
  {
   "cell_type": "code",
   "execution_count": 57,
   "metadata": {},
   "outputs": [
    {
     "data": {
      "application/vnd.plotly.v1+json": {
       "config": {
        "plotlyServerURL": "https://plot.ly"
       },
       "data": [
        {
         "colorscale": [
          [
           0,
           "#00224e"
          ],
          [
           0.1111111111111111,
           "#123570"
          ],
          [
           0.2222222222222222,
           "#3b496c"
          ],
          [
           0.3333333333333333,
           "#575d6d"
          ],
          [
           0.4444444444444444,
           "#707173"
          ],
          [
           0.5555555555555556,
           "#8a8678"
          ],
          [
           0.6666666666666666,
           "#a59c74"
          ],
          [
           0.7777777777777778,
           "#c3b369"
          ],
          [
           0.8888888888888888,
           "#e1cc55"
          ],
          [
           1,
           "#fee838"
          ]
         ],
         "reversescale": false,
         "showscale": false,
         "type": "heatmap",
         "x": [
          "20 minutes",
          "doesn know",
          "doesn like",
          "doesn want",
          "going meet",
          "going watch",
          "got new",
          "hasn seen",
          "let know",
          "looks like",
          "new job",
          "new year",
          "phone number",
          "wants buy"
         ],
         "y": [
          "years ago",
          "wants buy",
          "phone number",
          "new year",
          "new job",
          "looks like",
          "let know",
          "hasn seen",
          "got new",
          "going watch",
          "going meet",
          "doesn want",
          "doesn like",
          "doesn know"
         ],
         "z": [
          [
           0,
           -0.01,
           -0.01,
           -0.01,
           0,
           0,
           0,
           0,
           0,
           0,
           0,
           0,
           0,
           -0.01
          ],
          [
           -0.01,
           0.07,
           0.07,
           0.06,
           -0.01,
           -0.01,
           -0.01,
           -0.01,
           -0.01,
           -0.01,
           -0.01,
           -0.01,
           -0.01
          ],
          [
           0,
           -0.01,
           -0.01,
           -0.01,
           0,
           0,
           0,
           0,
           0,
           0,
           0,
           -0.01
          ],
          [
           -0.01,
           -0.01,
           0.08,
           -0.01,
           -0.01,
           -0.01,
           -0.01,
           -0.01,
           -0.01,
           0,
           -0.01
          ],
          [
           0,
           -0.01,
           -0.01,
           -0.01,
           0,
           0,
           0.14,
           0,
           0,
           0
          ],
          [
           0,
           -0.01,
           -0.01,
           -0.01,
           0,
           0,
           0,
           0,
           0
          ],
          [
           0,
           -0.01,
           -0.01,
           -0.01,
           0,
           0,
           0,
           0
          ],
          [
           0,
           -0.01,
           -0.01,
           0.07,
           0,
           0,
           0
          ],
          [
           0,
           -0.01,
           -0.01,
           -0.01,
           0,
           0
          ],
          [
           0,
           -0.01,
           -0.01,
           -0.01,
           0
          ],
          [
           0,
           -0.01,
           -0.01,
           -0.01
          ],
          [
           -0.01,
           -0.01,
           -0.01
          ],
          [
           -0.01,
           -0.01
          ],
          [
           -0.01
          ]
         ]
        },
        {
         "colorscale": [
          [
           0,
           "#00224e"
          ],
          [
           0.1111111111111111,
           "#123570"
          ],
          [
           0.2222222222222222,
           "#3b496c"
          ],
          [
           0.3333333333333333,
           "#575d6d"
          ],
          [
           0.4444444444444444,
           "#707173"
          ],
          [
           0.5555555555555556,
           "#8a8678"
          ],
          [
           0.6666666666666666,
           "#a59c74"
          ],
          [
           0.7777777777777778,
           "#c3b369"
          ],
          [
           0.8888888888888888,
           "#e1cc55"
          ],
          [
           1,
           "#fee838"
          ]
         ],
         "showscale": true,
         "type": "heatmap",
         "visible": true,
         "z": [
          [
           0,
           -0.01,
           -0.01,
           -0.01,
           0,
           0,
           0,
           0,
           0,
           0,
           0,
           0,
           0,
           -0.01
          ],
          [
           -0.01,
           0.07,
           0.07,
           0.06,
           -0.01,
           -0.01,
           -0.01,
           -0.01,
           -0.01,
           -0.01,
           -0.01,
           -0.01,
           -0.01
          ],
          [
           0,
           -0.01,
           -0.01,
           -0.01,
           0,
           0,
           0,
           0,
           0,
           0,
           0,
           -0.01
          ],
          [
           -0.01,
           -0.01,
           0.08,
           -0.01,
           -0.01,
           -0.01,
           -0.01,
           -0.01,
           -0.01,
           0,
           -0.01
          ],
          [
           0,
           -0.01,
           -0.01,
           -0.01,
           0,
           0,
           0.14,
           0,
           0,
           0
          ],
          [
           0,
           -0.01,
           -0.01,
           -0.01,
           0,
           0,
           0,
           0,
           0
          ],
          [
           0,
           -0.01,
           -0.01,
           -0.01,
           0,
           0,
           0,
           0
          ],
          [
           0,
           -0.01,
           -0.01,
           0.07,
           0,
           0,
           0
          ],
          [
           0,
           -0.01,
           -0.01,
           -0.01,
           0,
           0
          ],
          [
           0,
           -0.01,
           -0.01,
           -0.01,
           0
          ],
          [
           0,
           -0.01,
           -0.01,
           -0.01
          ],
          [
           -0.01,
           -0.01,
           -0.01
          ],
          [
           -0.01,
           -0.01
          ],
          [
           -0.01
          ]
         ]
        }
       ],
       "layout": {
        "annotations": [
         {
          "font": {
           "color": "#FFFFFF",
           "size": 12
          },
          "showarrow": false,
          "text": "-0.0",
          "x": "20 minutes",
          "xref": "x",
          "y": "years ago",
          "yref": "y"
         },
         {
          "font": {
           "color": "#FFFFFF",
           "size": 12
          },
          "showarrow": false,
          "text": "-0.01",
          "x": "doesn know",
          "xref": "x",
          "y": "years ago",
          "yref": "y"
         },
         {
          "font": {
           "color": "#FFFFFF",
           "size": 12
          },
          "showarrow": false,
          "text": "-0.01",
          "x": "doesn like",
          "xref": "x",
          "y": "years ago",
          "yref": "y"
         },
         {
          "font": {
           "color": "#FFFFFF",
           "size": 12
          },
          "showarrow": false,
          "text": "-0.01",
          "x": "doesn want",
          "xref": "x",
          "y": "years ago",
          "yref": "y"
         },
         {
          "font": {
           "color": "#FFFFFF",
           "size": 12
          },
          "showarrow": false,
          "text": "-0.0",
          "x": "going meet",
          "xref": "x",
          "y": "years ago",
          "yref": "y"
         },
         {
          "font": {
           "color": "#FFFFFF",
           "size": 12
          },
          "showarrow": false,
          "text": "-0.0",
          "x": "going watch",
          "xref": "x",
          "y": "years ago",
          "yref": "y"
         },
         {
          "font": {
           "color": "#FFFFFF",
           "size": 12
          },
          "showarrow": false,
          "text": "-0.0",
          "x": "got new",
          "xref": "x",
          "y": "years ago",
          "yref": "y"
         },
         {
          "font": {
           "color": "#FFFFFF",
           "size": 12
          },
          "showarrow": false,
          "text": "-0.0",
          "x": "hasn seen",
          "xref": "x",
          "y": "years ago",
          "yref": "y"
         },
         {
          "font": {
           "color": "#FFFFFF",
           "size": 12
          },
          "showarrow": false,
          "text": "-0.0",
          "x": "let know",
          "xref": "x",
          "y": "years ago",
          "yref": "y"
         },
         {
          "font": {
           "color": "#FFFFFF",
           "size": 12
          },
          "showarrow": false,
          "text": "-0.0",
          "x": "looks like",
          "xref": "x",
          "y": "years ago",
          "yref": "y"
         },
         {
          "font": {
           "color": "#FFFFFF",
           "size": 12
          },
          "showarrow": false,
          "text": "-0.0",
          "x": "new job",
          "xref": "x",
          "y": "years ago",
          "yref": "y"
         },
         {
          "font": {
           "color": "#FFFFFF",
           "size": 12
          },
          "showarrow": false,
          "text": "-0.0",
          "x": "new year",
          "xref": "x",
          "y": "years ago",
          "yref": "y"
         },
         {
          "font": {
           "color": "#FFFFFF",
           "size": 12
          },
          "showarrow": false,
          "text": "-0.0",
          "x": "phone number",
          "xref": "x",
          "y": "years ago",
          "yref": "y"
         },
         {
          "font": {
           "color": "#FFFFFF",
           "size": 12
          },
          "showarrow": false,
          "text": "-0.01",
          "x": "wants buy",
          "xref": "x",
          "y": "years ago",
          "yref": "y"
         },
         {
          "font": {
           "color": "#FFFFFF",
           "size": 12
          },
          "showarrow": false,
          "text": "-0.01",
          "x": "20 minutes",
          "xref": "x",
          "y": "wants buy",
          "yref": "y"
         },
         {
          "font": {
           "color": "#000000",
           "size": 12
          },
          "showarrow": false,
          "text": "0.07",
          "x": "doesn know",
          "xref": "x",
          "y": "wants buy",
          "yref": "y"
         },
         {
          "font": {
           "color": "#000000",
           "size": 12
          },
          "showarrow": false,
          "text": "0.07",
          "x": "doesn like",
          "xref": "x",
          "y": "wants buy",
          "yref": "y"
         },
         {
          "font": {
           "color": "#FFFFFF",
           "size": 12
          },
          "showarrow": false,
          "text": "0.06",
          "x": "doesn want",
          "xref": "x",
          "y": "wants buy",
          "yref": "y"
         },
         {
          "font": {
           "color": "#FFFFFF",
           "size": 12
          },
          "showarrow": false,
          "text": "-0.01",
          "x": "going meet",
          "xref": "x",
          "y": "wants buy",
          "yref": "y"
         },
         {
          "font": {
           "color": "#FFFFFF",
           "size": 12
          },
          "showarrow": false,
          "text": "-0.01",
          "x": "going watch",
          "xref": "x",
          "y": "wants buy",
          "yref": "y"
         },
         {
          "font": {
           "color": "#FFFFFF",
           "size": 12
          },
          "showarrow": false,
          "text": "-0.01",
          "x": "got new",
          "xref": "x",
          "y": "wants buy",
          "yref": "y"
         },
         {
          "font": {
           "color": "#FFFFFF",
           "size": 12
          },
          "showarrow": false,
          "text": "-0.01",
          "x": "hasn seen",
          "xref": "x",
          "y": "wants buy",
          "yref": "y"
         },
         {
          "font": {
           "color": "#FFFFFF",
           "size": 12
          },
          "showarrow": false,
          "text": "-0.01",
          "x": "let know",
          "xref": "x",
          "y": "wants buy",
          "yref": "y"
         },
         {
          "font": {
           "color": "#FFFFFF",
           "size": 12
          },
          "showarrow": false,
          "text": "-0.01",
          "x": "looks like",
          "xref": "x",
          "y": "wants buy",
          "yref": "y"
         },
         {
          "font": {
           "color": "#FFFFFF",
           "size": 12
          },
          "showarrow": false,
          "text": "-0.01",
          "x": "new job",
          "xref": "x",
          "y": "wants buy",
          "yref": "y"
         },
         {
          "font": {
           "color": "#FFFFFF",
           "size": 12
          },
          "showarrow": false,
          "text": "-0.01",
          "x": "new year",
          "xref": "x",
          "y": "wants buy",
          "yref": "y"
         },
         {
          "font": {
           "color": "#FFFFFF",
           "size": 12
          },
          "showarrow": false,
          "text": "-0.01",
          "x": "phone number",
          "xref": "x",
          "y": "wants buy",
          "yref": "y"
         },
         {
          "font": {
           "color": "#FFFFFF",
           "size": 12
          },
          "showarrow": false,
          "text": "-0.0",
          "x": "20 minutes",
          "xref": "x",
          "y": "phone number",
          "yref": "y"
         },
         {
          "font": {
           "color": "#FFFFFF",
           "size": 12
          },
          "showarrow": false,
          "text": "-0.01",
          "x": "doesn know",
          "xref": "x",
          "y": "phone number",
          "yref": "y"
         },
         {
          "font": {
           "color": "#FFFFFF",
           "size": 12
          },
          "showarrow": false,
          "text": "-0.01",
          "x": "doesn like",
          "xref": "x",
          "y": "phone number",
          "yref": "y"
         },
         {
          "font": {
           "color": "#FFFFFF",
           "size": 12
          },
          "showarrow": false,
          "text": "-0.01",
          "x": "doesn want",
          "xref": "x",
          "y": "phone number",
          "yref": "y"
         },
         {
          "font": {
           "color": "#FFFFFF",
           "size": 12
          },
          "showarrow": false,
          "text": "-0.0",
          "x": "going meet",
          "xref": "x",
          "y": "phone number",
          "yref": "y"
         },
         {
          "font": {
           "color": "#FFFFFF",
           "size": 12
          },
          "showarrow": false,
          "text": "-0.0",
          "x": "going watch",
          "xref": "x",
          "y": "phone number",
          "yref": "y"
         },
         {
          "font": {
           "color": "#FFFFFF",
           "size": 12
          },
          "showarrow": false,
          "text": "-0.0",
          "x": "got new",
          "xref": "x",
          "y": "phone number",
          "yref": "y"
         },
         {
          "font": {
           "color": "#FFFFFF",
           "size": 12
          },
          "showarrow": false,
          "text": "-0.0",
          "x": "hasn seen",
          "xref": "x",
          "y": "phone number",
          "yref": "y"
         },
         {
          "font": {
           "color": "#FFFFFF",
           "size": 12
          },
          "showarrow": false,
          "text": "-0.0",
          "x": "let know",
          "xref": "x",
          "y": "phone number",
          "yref": "y"
         },
         {
          "font": {
           "color": "#FFFFFF",
           "size": 12
          },
          "showarrow": false,
          "text": "-0.0",
          "x": "looks like",
          "xref": "x",
          "y": "phone number",
          "yref": "y"
         },
         {
          "font": {
           "color": "#FFFFFF",
           "size": 12
          },
          "showarrow": false,
          "text": "-0.0",
          "x": "new job",
          "xref": "x",
          "y": "phone number",
          "yref": "y"
         },
         {
          "font": {
           "color": "#FFFFFF",
           "size": 12
          },
          "showarrow": false,
          "text": "-0.01",
          "x": "new year",
          "xref": "x",
          "y": "phone number",
          "yref": "y"
         },
         {
          "font": {
           "color": "#FFFFFF",
           "size": 12
          },
          "showarrow": false,
          "text": "-0.01",
          "x": "20 minutes",
          "xref": "x",
          "y": "new year",
          "yref": "y"
         },
         {
          "font": {
           "color": "#FFFFFF",
           "size": 12
          },
          "showarrow": false,
          "text": "-0.01",
          "x": "doesn know",
          "xref": "x",
          "y": "new year",
          "yref": "y"
         },
         {
          "font": {
           "color": "#000000",
           "size": 12
          },
          "showarrow": false,
          "text": "0.08",
          "x": "doesn like",
          "xref": "x",
          "y": "new year",
          "yref": "y"
         },
         {
          "font": {
           "color": "#FFFFFF",
           "size": 12
          },
          "showarrow": false,
          "text": "-0.01",
          "x": "doesn want",
          "xref": "x",
          "y": "new year",
          "yref": "y"
         },
         {
          "font": {
           "color": "#FFFFFF",
           "size": 12
          },
          "showarrow": false,
          "text": "-0.01",
          "x": "going meet",
          "xref": "x",
          "y": "new year",
          "yref": "y"
         },
         {
          "font": {
           "color": "#FFFFFF",
           "size": 12
          },
          "showarrow": false,
          "text": "-0.01",
          "x": "going watch",
          "xref": "x",
          "y": "new year",
          "yref": "y"
         },
         {
          "font": {
           "color": "#FFFFFF",
           "size": 12
          },
          "showarrow": false,
          "text": "-0.01",
          "x": "got new",
          "xref": "x",
          "y": "new year",
          "yref": "y"
         },
         {
          "font": {
           "color": "#FFFFFF",
           "size": 12
          },
          "showarrow": false,
          "text": "-0.01",
          "x": "hasn seen",
          "xref": "x",
          "y": "new year",
          "yref": "y"
         },
         {
          "font": {
           "color": "#FFFFFF",
           "size": 12
          },
          "showarrow": false,
          "text": "-0.01",
          "x": "let know",
          "xref": "x",
          "y": "new year",
          "yref": "y"
         },
         {
          "font": {
           "color": "#FFFFFF",
           "size": 12
          },
          "showarrow": false,
          "text": "-0.0",
          "x": "looks like",
          "xref": "x",
          "y": "new year",
          "yref": "y"
         },
         {
          "font": {
           "color": "#FFFFFF",
           "size": 12
          },
          "showarrow": false,
          "text": "-0.01",
          "x": "new job",
          "xref": "x",
          "y": "new year",
          "yref": "y"
         },
         {
          "font": {
           "color": "#FFFFFF",
           "size": 12
          },
          "showarrow": false,
          "text": "-0.0",
          "x": "20 minutes",
          "xref": "x",
          "y": "new job",
          "yref": "y"
         },
         {
          "font": {
           "color": "#FFFFFF",
           "size": 12
          },
          "showarrow": false,
          "text": "-0.01",
          "x": "doesn know",
          "xref": "x",
          "y": "new job",
          "yref": "y"
         },
         {
          "font": {
           "color": "#FFFFFF",
           "size": 12
          },
          "showarrow": false,
          "text": "-0.01",
          "x": "doesn like",
          "xref": "x",
          "y": "new job",
          "yref": "y"
         },
         {
          "font": {
           "color": "#FFFFFF",
           "size": 12
          },
          "showarrow": false,
          "text": "-0.01",
          "x": "doesn want",
          "xref": "x",
          "y": "new job",
          "yref": "y"
         },
         {
          "font": {
           "color": "#FFFFFF",
           "size": 12
          },
          "showarrow": false,
          "text": "-0.0",
          "x": "going meet",
          "xref": "x",
          "y": "new job",
          "yref": "y"
         },
         {
          "font": {
           "color": "#FFFFFF",
           "size": 12
          },
          "showarrow": false,
          "text": "-0.0",
          "x": "going watch",
          "xref": "x",
          "y": "new job",
          "yref": "y"
         },
         {
          "font": {
           "color": "#000000",
           "size": 12
          },
          "showarrow": false,
          "text": "0.14",
          "x": "got new",
          "xref": "x",
          "y": "new job",
          "yref": "y"
         },
         {
          "font": {
           "color": "#FFFFFF",
           "size": 12
          },
          "showarrow": false,
          "text": "-0.0",
          "x": "hasn seen",
          "xref": "x",
          "y": "new job",
          "yref": "y"
         },
         {
          "font": {
           "color": "#FFFFFF",
           "size": 12
          },
          "showarrow": false,
          "text": "-0.0",
          "x": "let know",
          "xref": "x",
          "y": "new job",
          "yref": "y"
         },
         {
          "font": {
           "color": "#FFFFFF",
           "size": 12
          },
          "showarrow": false,
          "text": "-0.0",
          "x": "looks like",
          "xref": "x",
          "y": "new job",
          "yref": "y"
         },
         {
          "font": {
           "color": "#FFFFFF",
           "size": 12
          },
          "showarrow": false,
          "text": "-0.0",
          "x": "20 minutes",
          "xref": "x",
          "y": "looks like",
          "yref": "y"
         },
         {
          "font": {
           "color": "#FFFFFF",
           "size": 12
          },
          "showarrow": false,
          "text": "-0.01",
          "x": "doesn know",
          "xref": "x",
          "y": "looks like",
          "yref": "y"
         },
         {
          "font": {
           "color": "#FFFFFF",
           "size": 12
          },
          "showarrow": false,
          "text": "-0.01",
          "x": "doesn like",
          "xref": "x",
          "y": "looks like",
          "yref": "y"
         },
         {
          "font": {
           "color": "#FFFFFF",
           "size": 12
          },
          "showarrow": false,
          "text": "-0.01",
          "x": "doesn want",
          "xref": "x",
          "y": "looks like",
          "yref": "y"
         },
         {
          "font": {
           "color": "#FFFFFF",
           "size": 12
          },
          "showarrow": false,
          "text": "-0.0",
          "x": "going meet",
          "xref": "x",
          "y": "looks like",
          "yref": "y"
         },
         {
          "font": {
           "color": "#FFFFFF",
           "size": 12
          },
          "showarrow": false,
          "text": "-0.0",
          "x": "going watch",
          "xref": "x",
          "y": "looks like",
          "yref": "y"
         },
         {
          "font": {
           "color": "#FFFFFF",
           "size": 12
          },
          "showarrow": false,
          "text": "-0.0",
          "x": "got new",
          "xref": "x",
          "y": "looks like",
          "yref": "y"
         },
         {
          "font": {
           "color": "#FFFFFF",
           "size": 12
          },
          "showarrow": false,
          "text": "-0.0",
          "x": "hasn seen",
          "xref": "x",
          "y": "looks like",
          "yref": "y"
         },
         {
          "font": {
           "color": "#FFFFFF",
           "size": 12
          },
          "showarrow": false,
          "text": "-0.0",
          "x": "let know",
          "xref": "x",
          "y": "looks like",
          "yref": "y"
         },
         {
          "font": {
           "color": "#FFFFFF",
           "size": 12
          },
          "showarrow": false,
          "text": "-0.0",
          "x": "20 minutes",
          "xref": "x",
          "y": "let know",
          "yref": "y"
         },
         {
          "font": {
           "color": "#FFFFFF",
           "size": 12
          },
          "showarrow": false,
          "text": "-0.01",
          "x": "doesn know",
          "xref": "x",
          "y": "let know",
          "yref": "y"
         },
         {
          "font": {
           "color": "#FFFFFF",
           "size": 12
          },
          "showarrow": false,
          "text": "-0.01",
          "x": "doesn like",
          "xref": "x",
          "y": "let know",
          "yref": "y"
         },
         {
          "font": {
           "color": "#FFFFFF",
           "size": 12
          },
          "showarrow": false,
          "text": "-0.01",
          "x": "doesn want",
          "xref": "x",
          "y": "let know",
          "yref": "y"
         },
         {
          "font": {
           "color": "#FFFFFF",
           "size": 12
          },
          "showarrow": false,
          "text": "-0.0",
          "x": "going meet",
          "xref": "x",
          "y": "let know",
          "yref": "y"
         },
         {
          "font": {
           "color": "#FFFFFF",
           "size": 12
          },
          "showarrow": false,
          "text": "-0.0",
          "x": "going watch",
          "xref": "x",
          "y": "let know",
          "yref": "y"
         },
         {
          "font": {
           "color": "#FFFFFF",
           "size": 12
          },
          "showarrow": false,
          "text": "-0.0",
          "x": "got new",
          "xref": "x",
          "y": "let know",
          "yref": "y"
         },
         {
          "font": {
           "color": "#FFFFFF",
           "size": 12
          },
          "showarrow": false,
          "text": "-0.0",
          "x": "hasn seen",
          "xref": "x",
          "y": "let know",
          "yref": "y"
         },
         {
          "font": {
           "color": "#FFFFFF",
           "size": 12
          },
          "showarrow": false,
          "text": "-0.0",
          "x": "20 minutes",
          "xref": "x",
          "y": "hasn seen",
          "yref": "y"
         },
         {
          "font": {
           "color": "#FFFFFF",
           "size": 12
          },
          "showarrow": false,
          "text": "-0.01",
          "x": "doesn know",
          "xref": "x",
          "y": "hasn seen",
          "yref": "y"
         },
         {
          "font": {
           "color": "#FFFFFF",
           "size": 12
          },
          "showarrow": false,
          "text": "-0.01",
          "x": "doesn like",
          "xref": "x",
          "y": "hasn seen",
          "yref": "y"
         },
         {
          "font": {
           "color": "#000000",
           "size": 12
          },
          "showarrow": false,
          "text": "0.07",
          "x": "doesn want",
          "xref": "x",
          "y": "hasn seen",
          "yref": "y"
         },
         {
          "font": {
           "color": "#FFFFFF",
           "size": 12
          },
          "showarrow": false,
          "text": "-0.0",
          "x": "going meet",
          "xref": "x",
          "y": "hasn seen",
          "yref": "y"
         },
         {
          "font": {
           "color": "#FFFFFF",
           "size": 12
          },
          "showarrow": false,
          "text": "-0.0",
          "x": "going watch",
          "xref": "x",
          "y": "hasn seen",
          "yref": "y"
         },
         {
          "font": {
           "color": "#FFFFFF",
           "size": 12
          },
          "showarrow": false,
          "text": "-0.0",
          "x": "got new",
          "xref": "x",
          "y": "hasn seen",
          "yref": "y"
         },
         {
          "font": {
           "color": "#FFFFFF",
           "size": 12
          },
          "showarrow": false,
          "text": "-0.0",
          "x": "20 minutes",
          "xref": "x",
          "y": "got new",
          "yref": "y"
         },
         {
          "font": {
           "color": "#FFFFFF",
           "size": 12
          },
          "showarrow": false,
          "text": "-0.01",
          "x": "doesn know",
          "xref": "x",
          "y": "got new",
          "yref": "y"
         },
         {
          "font": {
           "color": "#FFFFFF",
           "size": 12
          },
          "showarrow": false,
          "text": "-0.01",
          "x": "doesn like",
          "xref": "x",
          "y": "got new",
          "yref": "y"
         },
         {
          "font": {
           "color": "#FFFFFF",
           "size": 12
          },
          "showarrow": false,
          "text": "-0.01",
          "x": "doesn want",
          "xref": "x",
          "y": "got new",
          "yref": "y"
         },
         {
          "font": {
           "color": "#FFFFFF",
           "size": 12
          },
          "showarrow": false,
          "text": "-0.0",
          "x": "going meet",
          "xref": "x",
          "y": "got new",
          "yref": "y"
         },
         {
          "font": {
           "color": "#FFFFFF",
           "size": 12
          },
          "showarrow": false,
          "text": "-0.0",
          "x": "going watch",
          "xref": "x",
          "y": "got new",
          "yref": "y"
         },
         {
          "font": {
           "color": "#FFFFFF",
           "size": 12
          },
          "showarrow": false,
          "text": "-0.0",
          "x": "20 minutes",
          "xref": "x",
          "y": "going watch",
          "yref": "y"
         },
         {
          "font": {
           "color": "#FFFFFF",
           "size": 12
          },
          "showarrow": false,
          "text": "-0.01",
          "x": "doesn know",
          "xref": "x",
          "y": "going watch",
          "yref": "y"
         },
         {
          "font": {
           "color": "#FFFFFF",
           "size": 12
          },
          "showarrow": false,
          "text": "-0.01",
          "x": "doesn like",
          "xref": "x",
          "y": "going watch",
          "yref": "y"
         },
         {
          "font": {
           "color": "#FFFFFF",
           "size": 12
          },
          "showarrow": false,
          "text": "-0.01",
          "x": "doesn want",
          "xref": "x",
          "y": "going watch",
          "yref": "y"
         },
         {
          "font": {
           "color": "#FFFFFF",
           "size": 12
          },
          "showarrow": false,
          "text": "-0.0",
          "x": "going meet",
          "xref": "x",
          "y": "going watch",
          "yref": "y"
         },
         {
          "font": {
           "color": "#FFFFFF",
           "size": 12
          },
          "showarrow": false,
          "text": "-0.0",
          "x": "20 minutes",
          "xref": "x",
          "y": "going meet",
          "yref": "y"
         },
         {
          "font": {
           "color": "#FFFFFF",
           "size": 12
          },
          "showarrow": false,
          "text": "-0.01",
          "x": "doesn know",
          "xref": "x",
          "y": "going meet",
          "yref": "y"
         },
         {
          "font": {
           "color": "#FFFFFF",
           "size": 12
          },
          "showarrow": false,
          "text": "-0.01",
          "x": "doesn like",
          "xref": "x",
          "y": "going meet",
          "yref": "y"
         },
         {
          "font": {
           "color": "#FFFFFF",
           "size": 12
          },
          "showarrow": false,
          "text": "-0.01",
          "x": "doesn want",
          "xref": "x",
          "y": "going meet",
          "yref": "y"
         },
         {
          "font": {
           "color": "#FFFFFF",
           "size": 12
          },
          "showarrow": false,
          "text": "-0.01",
          "x": "20 minutes",
          "xref": "x",
          "y": "doesn want",
          "yref": "y"
         },
         {
          "font": {
           "color": "#FFFFFF",
           "size": 12
          },
          "showarrow": false,
          "text": "-0.01",
          "x": "doesn know",
          "xref": "x",
          "y": "doesn want",
          "yref": "y"
         },
         {
          "font": {
           "color": "#FFFFFF",
           "size": 12
          },
          "showarrow": false,
          "text": "-0.01",
          "x": "doesn like",
          "xref": "x",
          "y": "doesn want",
          "yref": "y"
         },
         {
          "font": {
           "color": "#FFFFFF",
           "size": 12
          },
          "showarrow": false,
          "text": "-0.01",
          "x": "20 minutes",
          "xref": "x",
          "y": "doesn like",
          "yref": "y"
         },
         {
          "font": {
           "color": "#FFFFFF",
           "size": 12
          },
          "showarrow": false,
          "text": "-0.01",
          "x": "doesn know",
          "xref": "x",
          "y": "doesn like",
          "yref": "y"
         },
         {
          "font": {
           "color": "#FFFFFF",
           "size": 12
          },
          "showarrow": false,
          "text": "-0.01",
          "x": "20 minutes",
          "xref": "x",
          "y": "doesn know",
          "yref": "y"
         }
        ],
        "height": 800,
        "margin": {
         "l": 110,
         "t": 210
        },
        "template": {
         "data": {
          "bar": [
           {
            "error_x": {
             "color": "#f2f5fa"
            },
            "error_y": {
             "color": "#f2f5fa"
            },
            "marker": {
             "line": {
              "color": "rgb(17,17,17)",
              "width": 0.5
             },
             "pattern": {
              "fillmode": "overlay",
              "size": 10,
              "solidity": 0.2
             }
            },
            "type": "bar"
           }
          ],
          "barpolar": [
           {
            "marker": {
             "line": {
              "color": "rgb(17,17,17)",
              "width": 0.5
             },
             "pattern": {
              "fillmode": "overlay",
              "size": 10,
              "solidity": 0.2
             }
            },
            "type": "barpolar"
           }
          ],
          "carpet": [
           {
            "aaxis": {
             "endlinecolor": "#A2B1C6",
             "gridcolor": "#506784",
             "linecolor": "#506784",
             "minorgridcolor": "#506784",
             "startlinecolor": "#A2B1C6"
            },
            "baxis": {
             "endlinecolor": "#A2B1C6",
             "gridcolor": "#506784",
             "linecolor": "#506784",
             "minorgridcolor": "#506784",
             "startlinecolor": "#A2B1C6"
            },
            "type": "carpet"
           }
          ],
          "choropleth": [
           {
            "colorbar": {
             "outlinewidth": 0,
             "ticks": ""
            },
            "type": "choropleth"
           }
          ],
          "contour": [
           {
            "colorbar": {
             "outlinewidth": 0,
             "ticks": ""
            },
            "colorscale": [
             [
              0,
              "#0d0887"
             ],
             [
              0.1111111111111111,
              "#46039f"
             ],
             [
              0.2222222222222222,
              "#7201a8"
             ],
             [
              0.3333333333333333,
              "#9c179e"
             ],
             [
              0.4444444444444444,
              "#bd3786"
             ],
             [
              0.5555555555555556,
              "#d8576b"
             ],
             [
              0.6666666666666666,
              "#ed7953"
             ],
             [
              0.7777777777777778,
              "#fb9f3a"
             ],
             [
              0.8888888888888888,
              "#fdca26"
             ],
             [
              1,
              "#f0f921"
             ]
            ],
            "type": "contour"
           }
          ],
          "contourcarpet": [
           {
            "colorbar": {
             "outlinewidth": 0,
             "ticks": ""
            },
            "type": "contourcarpet"
           }
          ],
          "heatmap": [
           {
            "colorbar": {
             "outlinewidth": 0,
             "ticks": ""
            },
            "colorscale": [
             [
              0,
              "#0d0887"
             ],
             [
              0.1111111111111111,
              "#46039f"
             ],
             [
              0.2222222222222222,
              "#7201a8"
             ],
             [
              0.3333333333333333,
              "#9c179e"
             ],
             [
              0.4444444444444444,
              "#bd3786"
             ],
             [
              0.5555555555555556,
              "#d8576b"
             ],
             [
              0.6666666666666666,
              "#ed7953"
             ],
             [
              0.7777777777777778,
              "#fb9f3a"
             ],
             [
              0.8888888888888888,
              "#fdca26"
             ],
             [
              1,
              "#f0f921"
             ]
            ],
            "type": "heatmap"
           }
          ],
          "histogram": [
           {
            "marker": {
             "pattern": {
              "fillmode": "overlay",
              "size": 10,
              "solidity": 0.2
             }
            },
            "type": "histogram"
           }
          ],
          "histogram2d": [
           {
            "colorbar": {
             "outlinewidth": 0,
             "ticks": ""
            },
            "colorscale": [
             [
              0,
              "#0d0887"
             ],
             [
              0.1111111111111111,
              "#46039f"
             ],
             [
              0.2222222222222222,
              "#7201a8"
             ],
             [
              0.3333333333333333,
              "#9c179e"
             ],
             [
              0.4444444444444444,
              "#bd3786"
             ],
             [
              0.5555555555555556,
              "#d8576b"
             ],
             [
              0.6666666666666666,
              "#ed7953"
             ],
             [
              0.7777777777777778,
              "#fb9f3a"
             ],
             [
              0.8888888888888888,
              "#fdca26"
             ],
             [
              1,
              "#f0f921"
             ]
            ],
            "type": "histogram2d"
           }
          ],
          "histogram2dcontour": [
           {
            "colorbar": {
             "outlinewidth": 0,
             "ticks": ""
            },
            "colorscale": [
             [
              0,
              "#0d0887"
             ],
             [
              0.1111111111111111,
              "#46039f"
             ],
             [
              0.2222222222222222,
              "#7201a8"
             ],
             [
              0.3333333333333333,
              "#9c179e"
             ],
             [
              0.4444444444444444,
              "#bd3786"
             ],
             [
              0.5555555555555556,
              "#d8576b"
             ],
             [
              0.6666666666666666,
              "#ed7953"
             ],
             [
              0.7777777777777778,
              "#fb9f3a"
             ],
             [
              0.8888888888888888,
              "#fdca26"
             ],
             [
              1,
              "#f0f921"
             ]
            ],
            "type": "histogram2dcontour"
           }
          ],
          "mesh3d": [
           {
            "colorbar": {
             "outlinewidth": 0,
             "ticks": ""
            },
            "type": "mesh3d"
           }
          ],
          "parcoords": [
           {
            "line": {
             "colorbar": {
              "outlinewidth": 0,
              "ticks": ""
             }
            },
            "type": "parcoords"
           }
          ],
          "pie": [
           {
            "automargin": true,
            "type": "pie"
           }
          ],
          "scatter": [
           {
            "marker": {
             "line": {
              "color": "#283442"
             }
            },
            "type": "scatter"
           }
          ],
          "scatter3d": [
           {
            "line": {
             "colorbar": {
              "outlinewidth": 0,
              "ticks": ""
             }
            },
            "marker": {
             "colorbar": {
              "outlinewidth": 0,
              "ticks": ""
             }
            },
            "type": "scatter3d"
           }
          ],
          "scattercarpet": [
           {
            "marker": {
             "colorbar": {
              "outlinewidth": 0,
              "ticks": ""
             }
            },
            "type": "scattercarpet"
           }
          ],
          "scattergeo": [
           {
            "marker": {
             "colorbar": {
              "outlinewidth": 0,
              "ticks": ""
             }
            },
            "type": "scattergeo"
           }
          ],
          "scattergl": [
           {
            "marker": {
             "line": {
              "color": "#283442"
             }
            },
            "type": "scattergl"
           }
          ],
          "scattermap": [
           {
            "marker": {
             "colorbar": {
              "outlinewidth": 0,
              "ticks": ""
             }
            },
            "type": "scattermap"
           }
          ],
          "scattermapbox": [
           {
            "marker": {
             "colorbar": {
              "outlinewidth": 0,
              "ticks": ""
             }
            },
            "type": "scattermapbox"
           }
          ],
          "scatterpolar": [
           {
            "marker": {
             "colorbar": {
              "outlinewidth": 0,
              "ticks": ""
             }
            },
            "type": "scatterpolar"
           }
          ],
          "scatterpolargl": [
           {
            "marker": {
             "colorbar": {
              "outlinewidth": 0,
              "ticks": ""
             }
            },
            "type": "scatterpolargl"
           }
          ],
          "scatterternary": [
           {
            "marker": {
             "colorbar": {
              "outlinewidth": 0,
              "ticks": ""
             }
            },
            "type": "scatterternary"
           }
          ],
          "surface": [
           {
            "colorbar": {
             "outlinewidth": 0,
             "ticks": ""
            },
            "colorscale": [
             [
              0,
              "#0d0887"
             ],
             [
              0.1111111111111111,
              "#46039f"
             ],
             [
              0.2222222222222222,
              "#7201a8"
             ],
             [
              0.3333333333333333,
              "#9c179e"
             ],
             [
              0.4444444444444444,
              "#bd3786"
             ],
             [
              0.5555555555555556,
              "#d8576b"
             ],
             [
              0.6666666666666666,
              "#ed7953"
             ],
             [
              0.7777777777777778,
              "#fb9f3a"
             ],
             [
              0.8888888888888888,
              "#fdca26"
             ],
             [
              1,
              "#f0f921"
             ]
            ],
            "type": "surface"
           }
          ],
          "table": [
           {
            "cells": {
             "fill": {
              "color": "#506784"
             },
             "line": {
              "color": "rgb(17,17,17)"
             }
            },
            "header": {
             "fill": {
              "color": "#2a3f5f"
             },
             "line": {
              "color": "rgb(17,17,17)"
             }
            },
            "type": "table"
           }
          ]
         },
         "layout": {
          "annotationdefaults": {
           "arrowcolor": "#f2f5fa",
           "arrowhead": 0,
           "arrowwidth": 1
          },
          "autotypenumbers": "strict",
          "coloraxis": {
           "colorbar": {
            "outlinewidth": 0,
            "ticks": ""
           }
          },
          "colorscale": {
           "diverging": [
            [
             0,
             "#8e0152"
            ],
            [
             0.1,
             "#c51b7d"
            ],
            [
             0.2,
             "#de77ae"
            ],
            [
             0.3,
             "#f1b6da"
            ],
            [
             0.4,
             "#fde0ef"
            ],
            [
             0.5,
             "#f7f7f7"
            ],
            [
             0.6,
             "#e6f5d0"
            ],
            [
             0.7,
             "#b8e186"
            ],
            [
             0.8,
             "#7fbc41"
            ],
            [
             0.9,
             "#4d9221"
            ],
            [
             1,
             "#276419"
            ]
           ],
           "sequential": [
            [
             0,
             "#0d0887"
            ],
            [
             0.1111111111111111,
             "#46039f"
            ],
            [
             0.2222222222222222,
             "#7201a8"
            ],
            [
             0.3333333333333333,
             "#9c179e"
            ],
            [
             0.4444444444444444,
             "#bd3786"
            ],
            [
             0.5555555555555556,
             "#d8576b"
            ],
            [
             0.6666666666666666,
             "#ed7953"
            ],
            [
             0.7777777777777778,
             "#fb9f3a"
            ],
            [
             0.8888888888888888,
             "#fdca26"
            ],
            [
             1,
             "#f0f921"
            ]
           ],
           "sequentialminus": [
            [
             0,
             "#0d0887"
            ],
            [
             0.1111111111111111,
             "#46039f"
            ],
            [
             0.2222222222222222,
             "#7201a8"
            ],
            [
             0.3333333333333333,
             "#9c179e"
            ],
            [
             0.4444444444444444,
             "#bd3786"
            ],
            [
             0.5555555555555556,
             "#d8576b"
            ],
            [
             0.6666666666666666,
             "#ed7953"
            ],
            [
             0.7777777777777778,
             "#fb9f3a"
            ],
            [
             0.8888888888888888,
             "#fdca26"
            ],
            [
             1,
             "#f0f921"
            ]
           ]
          },
          "colorway": [
           "#636efa",
           "#EF553B",
           "#00cc96",
           "#ab63fa",
           "#FFA15A",
           "#19d3f3",
           "#FF6692",
           "#B6E880",
           "#FF97FF",
           "#FECB52"
          ],
          "font": {
           "color": "#f2f5fa"
          },
          "geo": {
           "bgcolor": "rgb(17,17,17)",
           "lakecolor": "rgb(17,17,17)",
           "landcolor": "rgb(17,17,17)",
           "showlakes": true,
           "showland": true,
           "subunitcolor": "#506784"
          },
          "hoverlabel": {
           "align": "left"
          },
          "hovermode": "closest",
          "mapbox": {
           "style": "dark"
          },
          "paper_bgcolor": "rgb(17,17,17)",
          "plot_bgcolor": "rgb(17,17,17)",
          "polar": {
           "angularaxis": {
            "gridcolor": "#506784",
            "linecolor": "#506784",
            "ticks": ""
           },
           "bgcolor": "rgb(17,17,17)",
           "radialaxis": {
            "gridcolor": "#506784",
            "linecolor": "#506784",
            "ticks": ""
           }
          },
          "scene": {
           "xaxis": {
            "backgroundcolor": "rgb(17,17,17)",
            "gridcolor": "#506784",
            "gridwidth": 2,
            "linecolor": "#506784",
            "showbackground": true,
            "ticks": "",
            "zerolinecolor": "#C8D4E3"
           },
           "yaxis": {
            "backgroundcolor": "rgb(17,17,17)",
            "gridcolor": "#506784",
            "gridwidth": 2,
            "linecolor": "#506784",
            "showbackground": true,
            "ticks": "",
            "zerolinecolor": "#C8D4E3"
           },
           "zaxis": {
            "backgroundcolor": "rgb(17,17,17)",
            "gridcolor": "#506784",
            "gridwidth": 2,
            "linecolor": "#506784",
            "showbackground": true,
            "ticks": "",
            "zerolinecolor": "#C8D4E3"
           }
          },
          "shapedefaults": {
           "line": {
            "color": "#f2f5fa"
           }
          },
          "sliderdefaults": {
           "bgcolor": "#C8D4E3",
           "bordercolor": "rgb(17,17,17)",
           "borderwidth": 1,
           "tickwidth": 0
          },
          "ternary": {
           "aaxis": {
            "gridcolor": "#506784",
            "linecolor": "#506784",
            "ticks": ""
           },
           "baxis": {
            "gridcolor": "#506784",
            "linecolor": "#506784",
            "ticks": ""
           },
           "bgcolor": "rgb(17,17,17)",
           "caxis": {
            "gridcolor": "#506784",
            "linecolor": "#506784",
            "ticks": ""
           }
          },
          "title": {
           "x": 0.05
          },
          "updatemenudefaults": {
           "bgcolor": "#506784",
           "borderwidth": 0
          },
          "xaxis": {
           "automargin": true,
           "gridcolor": "#283442",
           "linecolor": "#506784",
           "ticks": "",
           "title": {
            "standoff": 15
           },
           "zerolinecolor": "#283442",
           "zerolinewidth": 2
          },
          "yaxis": {
           "automargin": true,
           "gridcolor": "#283442",
           "linecolor": "#506784",
           "ticks": "",
           "title": {
            "standoff": 15
           },
           "zerolinecolor": "#283442",
           "zerolinewidth": 2
          }
         }
        },
        "title": {
         "text": "<b>Bigrams Heatmap<br><sup>&nbsp;&nbsp;&nbsp;&nbsp;<i>Test - Summary</i></sup></b>",
         "x": 0.025,
         "xanchor": "left",
         "y": 0.95
        },
        "width": 800,
        "xaxis": {
         "dtick": 1,
         "gridcolor": "rgb(0, 0, 0)",
         "showgrid": false,
         "side": "top",
         "ticks": ""
        },
        "yaxis": {
         "autorange": "reversed",
         "dtick": 1,
         "showgrid": false,
         "ticks": "",
         "ticksuffix": "  "
        }
       }
      }
     },
     "metadata": {},
     "output_type": "display_data"
    }
   ],
   "source": [
    "vectorizer = TfidfVectorizer(max_features = 15,stop_words = 'english',ngram_range = (2,2)) # Top 15 terms\n",
    "x = vectorizer.fit_transform(test['summary'].fillna(''))\n",
    "df_tfidfvect = pd.DataFrame(x.toarray(), columns=vectorizer.get_feature_names_out())\n",
    "plot_correlation(df_tfidfvect, 'Bigrams', 'Test - Summary', 800, 800, 12)"
   ]
  },
  {
   "cell_type": "code",
   "execution_count": 58,
   "metadata": {},
   "outputs": [
    {
     "data": {
      "application/vnd.plotly.v1+json": {
       "config": {
        "plotlyServerURL": "https://plot.ly"
       },
       "data": [
        {
         "colorscale": [
          [
           0,
           "#00224e"
          ],
          [
           0.1111111111111111,
           "#123570"
          ],
          [
           0.2222222222222222,
           "#3b496c"
          ],
          [
           0.3333333333333333,
           "#575d6d"
          ],
          [
           0.4444444444444444,
           "#707173"
          ],
          [
           0.5555555555555556,
           "#8a8678"
          ],
          [
           0.6666666666666666,
           "#a59c74"
          ],
          [
           0.7777777777777778,
           "#c3b369"
          ],
          [
           0.8888888888888888,
           "#e1cc55"
          ],
          [
           1,
           "#fee838"
          ]
         ],
         "reversescale": false,
         "showscale": false,
         "type": "heatmap",
         "x": [
          "aaron file_gif aaron",
          "don know just",
          "file_other file_other file_other",
          "file_photo file_photo file_photo",
          "just don know",
          "kathy file_picture kathy",
          "laura file_photo laura",
          "let know need",
          "like good idea",
          "ll let know",
          "randal file_photo sidney",
          "sounds good ll",
          "sounds like good",
          "sounds like plan"
         ],
         "y": [
          "think let know",
          "sounds like plan",
          "sounds like good",
          "sounds good ll",
          "randal file_photo sidney",
          "ll let know",
          "like good idea",
          "let know need",
          "laura file_photo laura",
          "kathy file_picture kathy",
          "just don know",
          "file_photo file_photo file_photo",
          "file_other file_other file_other",
          "don know just"
         ],
         "z": [
          [
           0,
           0,
           0,
           0,
           0,
           0,
           0,
           0,
           0,
           -0.01,
           0,
           0,
           0,
           0
          ],
          [
           0,
           0,
           0,
           0,
           0,
           0,
           0,
           0,
           0,
           -0.01,
           0,
           0.17,
           0
          ],
          [
           0,
           0,
           0,
           0.14,
           0,
           0,
           0,
           0,
           0.7,
           -0.01,
           0,
           0
          ],
          [
           0,
           0,
           0,
           0,
           0,
           0,
           0,
           0,
           0,
           -0.01,
           0
          ],
          [
           0,
           0,
           0,
           0,
           0,
           0,
           0,
           0,
           0,
           0
          ],
          [
           0,
           -0.01,
           -0.01,
           0,
           -0.01,
           0,
           0.07,
           -0.01,
           -0.01
          ],
          [
           0,
           0,
           0,
           0.1,
           0,
           0,
           0,
           0
          ],
          [
           0,
           0,
           0,
           0,
           0,
           0,
           0
          ],
          [
           0,
           0,
           0,
           0,
           0,
           0
          ],
          [
           0,
           0,
           0,
           0,
           0
          ],
          [
           0,
           0,
           0,
           0
          ],
          [
           0,
           0,
           0
          ],
          [
           0,
           0
          ],
          [
           0
          ]
         ]
        },
        {
         "colorscale": [
          [
           0,
           "#00224e"
          ],
          [
           0.1111111111111111,
           "#123570"
          ],
          [
           0.2222222222222222,
           "#3b496c"
          ],
          [
           0.3333333333333333,
           "#575d6d"
          ],
          [
           0.4444444444444444,
           "#707173"
          ],
          [
           0.5555555555555556,
           "#8a8678"
          ],
          [
           0.6666666666666666,
           "#a59c74"
          ],
          [
           0.7777777777777778,
           "#c3b369"
          ],
          [
           0.8888888888888888,
           "#e1cc55"
          ],
          [
           1,
           "#fee838"
          ]
         ],
         "showscale": true,
         "type": "heatmap",
         "visible": true,
         "z": [
          [
           0,
           0,
           0,
           0,
           0,
           0,
           0,
           0,
           0,
           -0.01,
           0,
           0,
           0,
           0
          ],
          [
           0,
           0,
           0,
           0,
           0,
           0,
           0,
           0,
           0,
           -0.01,
           0,
           0.17,
           0
          ],
          [
           0,
           0,
           0,
           0.14,
           0,
           0,
           0,
           0,
           0.7,
           -0.01,
           0,
           0
          ],
          [
           0,
           0,
           0,
           0,
           0,
           0,
           0,
           0,
           0,
           -0.01,
           0
          ],
          [
           0,
           0,
           0,
           0,
           0,
           0,
           0,
           0,
           0,
           0
          ],
          [
           0,
           -0.01,
           -0.01,
           0,
           -0.01,
           0,
           0.07,
           -0.01,
           -0.01
          ],
          [
           0,
           0,
           0,
           0.1,
           0,
           0,
           0,
           0
          ],
          [
           0,
           0,
           0,
           0,
           0,
           0,
           0
          ],
          [
           0,
           0,
           0,
           0,
           0,
           0
          ],
          [
           0,
           0,
           0,
           0,
           0
          ],
          [
           0,
           0,
           0,
           0
          ],
          [
           0,
           0,
           0
          ],
          [
           0,
           0
          ],
          [
           0
          ]
         ]
        }
       ],
       "layout": {
        "annotations": [
         {
          "font": {
           "color": "#FFFFFF",
           "size": 12
          },
          "showarrow": false,
          "text": "-0.0",
          "x": "aaron file_gif aaron",
          "xref": "x",
          "y": "think let know",
          "yref": "y"
         },
         {
          "font": {
           "color": "#FFFFFF",
           "size": 12
          },
          "showarrow": false,
          "text": "-0.0",
          "x": "don know just",
          "xref": "x",
          "y": "think let know",
          "yref": "y"
         },
         {
          "font": {
           "color": "#FFFFFF",
           "size": 12
          },
          "showarrow": false,
          "text": "-0.0",
          "x": "file_other file_other file_other",
          "xref": "x",
          "y": "think let know",
          "yref": "y"
         },
         {
          "font": {
           "color": "#FFFFFF",
           "size": 12
          },
          "showarrow": false,
          "text": "-0.0",
          "x": "file_photo file_photo file_photo",
          "xref": "x",
          "y": "think let know",
          "yref": "y"
         },
         {
          "font": {
           "color": "#FFFFFF",
           "size": 12
          },
          "showarrow": false,
          "text": "-0.0",
          "x": "just don know",
          "xref": "x",
          "y": "think let know",
          "yref": "y"
         },
         {
          "font": {
           "color": "#FFFFFF",
           "size": 12
          },
          "showarrow": false,
          "text": "-0.0",
          "x": "kathy file_picture kathy",
          "xref": "x",
          "y": "think let know",
          "yref": "y"
         },
         {
          "font": {
           "color": "#FFFFFF",
           "size": 12
          },
          "showarrow": false,
          "text": "-0.0",
          "x": "laura file_photo laura",
          "xref": "x",
          "y": "think let know",
          "yref": "y"
         },
         {
          "font": {
           "color": "#FFFFFF",
           "size": 12
          },
          "showarrow": false,
          "text": "-0.0",
          "x": "let know need",
          "xref": "x",
          "y": "think let know",
          "yref": "y"
         },
         {
          "font": {
           "color": "#FFFFFF",
           "size": 12
          },
          "showarrow": false,
          "text": "-0.0",
          "x": "like good idea",
          "xref": "x",
          "y": "think let know",
          "yref": "y"
         },
         {
          "font": {
           "color": "#FFFFFF",
           "size": 12
          },
          "showarrow": false,
          "text": "-0.01",
          "x": "ll let know",
          "xref": "x",
          "y": "think let know",
          "yref": "y"
         },
         {
          "font": {
           "color": "#FFFFFF",
           "size": 12
          },
          "showarrow": false,
          "text": "-0.0",
          "x": "randal file_photo sidney",
          "xref": "x",
          "y": "think let know",
          "yref": "y"
         },
         {
          "font": {
           "color": "#FFFFFF",
           "size": 12
          },
          "showarrow": false,
          "text": "-0.0",
          "x": "sounds good ll",
          "xref": "x",
          "y": "think let know",
          "yref": "y"
         },
         {
          "font": {
           "color": "#FFFFFF",
           "size": 12
          },
          "showarrow": false,
          "text": "-0.0",
          "x": "sounds like good",
          "xref": "x",
          "y": "think let know",
          "yref": "y"
         },
         {
          "font": {
           "color": "#FFFFFF",
           "size": 12
          },
          "showarrow": false,
          "text": "-0.0",
          "x": "sounds like plan",
          "xref": "x",
          "y": "think let know",
          "yref": "y"
         },
         {
          "font": {
           "color": "#FFFFFF",
           "size": 12
          },
          "showarrow": false,
          "text": "-0.0",
          "x": "aaron file_gif aaron",
          "xref": "x",
          "y": "sounds like plan",
          "yref": "y"
         },
         {
          "font": {
           "color": "#FFFFFF",
           "size": 12
          },
          "showarrow": false,
          "text": "-0.0",
          "x": "don know just",
          "xref": "x",
          "y": "sounds like plan",
          "yref": "y"
         },
         {
          "font": {
           "color": "#FFFFFF",
           "size": 12
          },
          "showarrow": false,
          "text": "-0.0",
          "x": "file_other file_other file_other",
          "xref": "x",
          "y": "sounds like plan",
          "yref": "y"
         },
         {
          "font": {
           "color": "#FFFFFF",
           "size": 12
          },
          "showarrow": false,
          "text": "-0.0",
          "x": "file_photo file_photo file_photo",
          "xref": "x",
          "y": "sounds like plan",
          "yref": "y"
         },
         {
          "font": {
           "color": "#FFFFFF",
           "size": 12
          },
          "showarrow": false,
          "text": "-0.0",
          "x": "just don know",
          "xref": "x",
          "y": "sounds like plan",
          "yref": "y"
         },
         {
          "font": {
           "color": "#FFFFFF",
           "size": 12
          },
          "showarrow": false,
          "text": "-0.0",
          "x": "kathy file_picture kathy",
          "xref": "x",
          "y": "sounds like plan",
          "yref": "y"
         },
         {
          "font": {
           "color": "#FFFFFF",
           "size": 12
          },
          "showarrow": false,
          "text": "-0.0",
          "x": "laura file_photo laura",
          "xref": "x",
          "y": "sounds like plan",
          "yref": "y"
         },
         {
          "font": {
           "color": "#FFFFFF",
           "size": 12
          },
          "showarrow": false,
          "text": "-0.0",
          "x": "let know need",
          "xref": "x",
          "y": "sounds like plan",
          "yref": "y"
         },
         {
          "font": {
           "color": "#FFFFFF",
           "size": 12
          },
          "showarrow": false,
          "text": "-0.0",
          "x": "like good idea",
          "xref": "x",
          "y": "sounds like plan",
          "yref": "y"
         },
         {
          "font": {
           "color": "#FFFFFF",
           "size": 12
          },
          "showarrow": false,
          "text": "-0.01",
          "x": "ll let know",
          "xref": "x",
          "y": "sounds like plan",
          "yref": "y"
         },
         {
          "font": {
           "color": "#FFFFFF",
           "size": 12
          },
          "showarrow": false,
          "text": "-0.0",
          "x": "randal file_photo sidney",
          "xref": "x",
          "y": "sounds like plan",
          "yref": "y"
         },
         {
          "font": {
           "color": "#FFFFFF",
           "size": 12
          },
          "showarrow": false,
          "text": "0.17",
          "x": "sounds good ll",
          "xref": "x",
          "y": "sounds like plan",
          "yref": "y"
         },
         {
          "font": {
           "color": "#FFFFFF",
           "size": 12
          },
          "showarrow": false,
          "text": "-0.0",
          "x": "sounds like good",
          "xref": "x",
          "y": "sounds like plan",
          "yref": "y"
         },
         {
          "font": {
           "color": "#FFFFFF",
           "size": 12
          },
          "showarrow": false,
          "text": "-0.0",
          "x": "aaron file_gif aaron",
          "xref": "x",
          "y": "sounds like good",
          "yref": "y"
         },
         {
          "font": {
           "color": "#FFFFFF",
           "size": 12
          },
          "showarrow": false,
          "text": "-0.0",
          "x": "don know just",
          "xref": "x",
          "y": "sounds like good",
          "yref": "y"
         },
         {
          "font": {
           "color": "#FFFFFF",
           "size": 12
          },
          "showarrow": false,
          "text": "-0.0",
          "x": "file_other file_other file_other",
          "xref": "x",
          "y": "sounds like good",
          "yref": "y"
         },
         {
          "font": {
           "color": "#FFFFFF",
           "size": 12
          },
          "showarrow": false,
          "text": "0.14",
          "x": "file_photo file_photo file_photo",
          "xref": "x",
          "y": "sounds like good",
          "yref": "y"
         },
         {
          "font": {
           "color": "#FFFFFF",
           "size": 12
          },
          "showarrow": false,
          "text": "-0.0",
          "x": "just don know",
          "xref": "x",
          "y": "sounds like good",
          "yref": "y"
         },
         {
          "font": {
           "color": "#FFFFFF",
           "size": 12
          },
          "showarrow": false,
          "text": "-0.0",
          "x": "kathy file_picture kathy",
          "xref": "x",
          "y": "sounds like good",
          "yref": "y"
         },
         {
          "font": {
           "color": "#FFFFFF",
           "size": 12
          },
          "showarrow": false,
          "text": "-0.0",
          "x": "laura file_photo laura",
          "xref": "x",
          "y": "sounds like good",
          "yref": "y"
         },
         {
          "font": {
           "color": "#FFFFFF",
           "size": 12
          },
          "showarrow": false,
          "text": "-0.0",
          "x": "let know need",
          "xref": "x",
          "y": "sounds like good",
          "yref": "y"
         },
         {
          "font": {
           "color": "#000000",
           "size": 12
          },
          "showarrow": false,
          "text": "0.7",
          "x": "like good idea",
          "xref": "x",
          "y": "sounds like good",
          "yref": "y"
         },
         {
          "font": {
           "color": "#FFFFFF",
           "size": 12
          },
          "showarrow": false,
          "text": "-0.01",
          "x": "ll let know",
          "xref": "x",
          "y": "sounds like good",
          "yref": "y"
         },
         {
          "font": {
           "color": "#FFFFFF",
           "size": 12
          },
          "showarrow": false,
          "text": "-0.0",
          "x": "randal file_photo sidney",
          "xref": "x",
          "y": "sounds like good",
          "yref": "y"
         },
         {
          "font": {
           "color": "#FFFFFF",
           "size": 12
          },
          "showarrow": false,
          "text": "-0.0",
          "x": "sounds good ll",
          "xref": "x",
          "y": "sounds like good",
          "yref": "y"
         },
         {
          "font": {
           "color": "#FFFFFF",
           "size": 12
          },
          "showarrow": false,
          "text": "-0.0",
          "x": "aaron file_gif aaron",
          "xref": "x",
          "y": "sounds good ll",
          "yref": "y"
         },
         {
          "font": {
           "color": "#FFFFFF",
           "size": 12
          },
          "showarrow": false,
          "text": "-0.0",
          "x": "don know just",
          "xref": "x",
          "y": "sounds good ll",
          "yref": "y"
         },
         {
          "font": {
           "color": "#FFFFFF",
           "size": 12
          },
          "showarrow": false,
          "text": "-0.0",
          "x": "file_other file_other file_other",
          "xref": "x",
          "y": "sounds good ll",
          "yref": "y"
         },
         {
          "font": {
           "color": "#FFFFFF",
           "size": 12
          },
          "showarrow": false,
          "text": "-0.0",
          "x": "file_photo file_photo file_photo",
          "xref": "x",
          "y": "sounds good ll",
          "yref": "y"
         },
         {
          "font": {
           "color": "#FFFFFF",
           "size": 12
          },
          "showarrow": false,
          "text": "-0.0",
          "x": "just don know",
          "xref": "x",
          "y": "sounds good ll",
          "yref": "y"
         },
         {
          "font": {
           "color": "#FFFFFF",
           "size": 12
          },
          "showarrow": false,
          "text": "-0.0",
          "x": "kathy file_picture kathy",
          "xref": "x",
          "y": "sounds good ll",
          "yref": "y"
         },
         {
          "font": {
           "color": "#FFFFFF",
           "size": 12
          },
          "showarrow": false,
          "text": "-0.0",
          "x": "laura file_photo laura",
          "xref": "x",
          "y": "sounds good ll",
          "yref": "y"
         },
         {
          "font": {
           "color": "#FFFFFF",
           "size": 12
          },
          "showarrow": false,
          "text": "-0.0",
          "x": "let know need",
          "xref": "x",
          "y": "sounds good ll",
          "yref": "y"
         },
         {
          "font": {
           "color": "#FFFFFF",
           "size": 12
          },
          "showarrow": false,
          "text": "-0.0",
          "x": "like good idea",
          "xref": "x",
          "y": "sounds good ll",
          "yref": "y"
         },
         {
          "font": {
           "color": "#FFFFFF",
           "size": 12
          },
          "showarrow": false,
          "text": "-0.01",
          "x": "ll let know",
          "xref": "x",
          "y": "sounds good ll",
          "yref": "y"
         },
         {
          "font": {
           "color": "#FFFFFF",
           "size": 12
          },
          "showarrow": false,
          "text": "-0.0",
          "x": "randal file_photo sidney",
          "xref": "x",
          "y": "sounds good ll",
          "yref": "y"
         },
         {
          "font": {
           "color": "#FFFFFF",
           "size": 12
          },
          "showarrow": false,
          "text": "-0.0",
          "x": "aaron file_gif aaron",
          "xref": "x",
          "y": "randal file_photo sidney",
          "yref": "y"
         },
         {
          "font": {
           "color": "#FFFFFF",
           "size": 12
          },
          "showarrow": false,
          "text": "-0.0",
          "x": "don know just",
          "xref": "x",
          "y": "randal file_photo sidney",
          "yref": "y"
         },
         {
          "font": {
           "color": "#FFFFFF",
           "size": 12
          },
          "showarrow": false,
          "text": "-0.0",
          "x": "file_other file_other file_other",
          "xref": "x",
          "y": "randal file_photo sidney",
          "yref": "y"
         },
         {
          "font": {
           "color": "#FFFFFF",
           "size": 12
          },
          "showarrow": false,
          "text": "-0.0",
          "x": "file_photo file_photo file_photo",
          "xref": "x",
          "y": "randal file_photo sidney",
          "yref": "y"
         },
         {
          "font": {
           "color": "#FFFFFF",
           "size": 12
          },
          "showarrow": false,
          "text": "-0.0",
          "x": "just don know",
          "xref": "x",
          "y": "randal file_photo sidney",
          "yref": "y"
         },
         {
          "font": {
           "color": "#FFFFFF",
           "size": 12
          },
          "showarrow": false,
          "text": "-0.0",
          "x": "kathy file_picture kathy",
          "xref": "x",
          "y": "randal file_photo sidney",
          "yref": "y"
         },
         {
          "font": {
           "color": "#FFFFFF",
           "size": 12
          },
          "showarrow": false,
          "text": "-0.0",
          "x": "laura file_photo laura",
          "xref": "x",
          "y": "randal file_photo sidney",
          "yref": "y"
         },
         {
          "font": {
           "color": "#FFFFFF",
           "size": 12
          },
          "showarrow": false,
          "text": "-0.0",
          "x": "let know need",
          "xref": "x",
          "y": "randal file_photo sidney",
          "yref": "y"
         },
         {
          "font": {
           "color": "#FFFFFF",
           "size": 12
          },
          "showarrow": false,
          "text": "-0.0",
          "x": "like good idea",
          "xref": "x",
          "y": "randal file_photo sidney",
          "yref": "y"
         },
         {
          "font": {
           "color": "#FFFFFF",
           "size": 12
          },
          "showarrow": false,
          "text": "-0.0",
          "x": "ll let know",
          "xref": "x",
          "y": "randal file_photo sidney",
          "yref": "y"
         },
         {
          "font": {
           "color": "#FFFFFF",
           "size": 12
          },
          "showarrow": false,
          "text": "-0.0",
          "x": "aaron file_gif aaron",
          "xref": "x",
          "y": "ll let know",
          "yref": "y"
         },
         {
          "font": {
           "color": "#FFFFFF",
           "size": 12
          },
          "showarrow": false,
          "text": "-0.01",
          "x": "don know just",
          "xref": "x",
          "y": "ll let know",
          "yref": "y"
         },
         {
          "font": {
           "color": "#FFFFFF",
           "size": 12
          },
          "showarrow": false,
          "text": "-0.01",
          "x": "file_other file_other file_other",
          "xref": "x",
          "y": "ll let know",
          "yref": "y"
         },
         {
          "font": {
           "color": "#FFFFFF",
           "size": 12
          },
          "showarrow": false,
          "text": "-0.0",
          "x": "file_photo file_photo file_photo",
          "xref": "x",
          "y": "ll let know",
          "yref": "y"
         },
         {
          "font": {
           "color": "#FFFFFF",
           "size": 12
          },
          "showarrow": false,
          "text": "-0.01",
          "x": "just don know",
          "xref": "x",
          "y": "ll let know",
          "yref": "y"
         },
         {
          "font": {
           "color": "#FFFFFF",
           "size": 12
          },
          "showarrow": false,
          "text": "-0.0",
          "x": "kathy file_picture kathy",
          "xref": "x",
          "y": "ll let know",
          "yref": "y"
         },
         {
          "font": {
           "color": "#FFFFFF",
           "size": 12
          },
          "showarrow": false,
          "text": "0.07",
          "x": "laura file_photo laura",
          "xref": "x",
          "y": "ll let know",
          "yref": "y"
         },
         {
          "font": {
           "color": "#FFFFFF",
           "size": 12
          },
          "showarrow": false,
          "text": "-0.01",
          "x": "let know need",
          "xref": "x",
          "y": "ll let know",
          "yref": "y"
         },
         {
          "font": {
           "color": "#FFFFFF",
           "size": 12
          },
          "showarrow": false,
          "text": "-0.01",
          "x": "like good idea",
          "xref": "x",
          "y": "ll let know",
          "yref": "y"
         },
         {
          "font": {
           "color": "#FFFFFF",
           "size": 12
          },
          "showarrow": false,
          "text": "-0.0",
          "x": "aaron file_gif aaron",
          "xref": "x",
          "y": "like good idea",
          "yref": "y"
         },
         {
          "font": {
           "color": "#FFFFFF",
           "size": 12
          },
          "showarrow": false,
          "text": "-0.0",
          "x": "don know just",
          "xref": "x",
          "y": "like good idea",
          "yref": "y"
         },
         {
          "font": {
           "color": "#FFFFFF",
           "size": 12
          },
          "showarrow": false,
          "text": "-0.0",
          "x": "file_other file_other file_other",
          "xref": "x",
          "y": "like good idea",
          "yref": "y"
         },
         {
          "font": {
           "color": "#FFFFFF",
           "size": 12
          },
          "showarrow": false,
          "text": "0.1",
          "x": "file_photo file_photo file_photo",
          "xref": "x",
          "y": "like good idea",
          "yref": "y"
         },
         {
          "font": {
           "color": "#FFFFFF",
           "size": 12
          },
          "showarrow": false,
          "text": "-0.0",
          "x": "just don know",
          "xref": "x",
          "y": "like good idea",
          "yref": "y"
         },
         {
          "font": {
           "color": "#FFFFFF",
           "size": 12
          },
          "showarrow": false,
          "text": "-0.0",
          "x": "kathy file_picture kathy",
          "xref": "x",
          "y": "like good idea",
          "yref": "y"
         },
         {
          "font": {
           "color": "#FFFFFF",
           "size": 12
          },
          "showarrow": false,
          "text": "-0.0",
          "x": "laura file_photo laura",
          "xref": "x",
          "y": "like good idea",
          "yref": "y"
         },
         {
          "font": {
           "color": "#FFFFFF",
           "size": 12
          },
          "showarrow": false,
          "text": "-0.0",
          "x": "let know need",
          "xref": "x",
          "y": "like good idea",
          "yref": "y"
         },
         {
          "font": {
           "color": "#FFFFFF",
           "size": 12
          },
          "showarrow": false,
          "text": "-0.0",
          "x": "aaron file_gif aaron",
          "xref": "x",
          "y": "let know need",
          "yref": "y"
         },
         {
          "font": {
           "color": "#FFFFFF",
           "size": 12
          },
          "showarrow": false,
          "text": "-0.0",
          "x": "don know just",
          "xref": "x",
          "y": "let know need",
          "yref": "y"
         },
         {
          "font": {
           "color": "#FFFFFF",
           "size": 12
          },
          "showarrow": false,
          "text": "-0.0",
          "x": "file_other file_other file_other",
          "xref": "x",
          "y": "let know need",
          "yref": "y"
         },
         {
          "font": {
           "color": "#FFFFFF",
           "size": 12
          },
          "showarrow": false,
          "text": "-0.0",
          "x": "file_photo file_photo file_photo",
          "xref": "x",
          "y": "let know need",
          "yref": "y"
         },
         {
          "font": {
           "color": "#FFFFFF",
           "size": 12
          },
          "showarrow": false,
          "text": "-0.0",
          "x": "just don know",
          "xref": "x",
          "y": "let know need",
          "yref": "y"
         },
         {
          "font": {
           "color": "#FFFFFF",
           "size": 12
          },
          "showarrow": false,
          "text": "-0.0",
          "x": "kathy file_picture kathy",
          "xref": "x",
          "y": "let know need",
          "yref": "y"
         },
         {
          "font": {
           "color": "#FFFFFF",
           "size": 12
          },
          "showarrow": false,
          "text": "-0.0",
          "x": "laura file_photo laura",
          "xref": "x",
          "y": "let know need",
          "yref": "y"
         },
         {
          "font": {
           "color": "#FFFFFF",
           "size": 12
          },
          "showarrow": false,
          "text": "-0.0",
          "x": "aaron file_gif aaron",
          "xref": "x",
          "y": "laura file_photo laura",
          "yref": "y"
         },
         {
          "font": {
           "color": "#FFFFFF",
           "size": 12
          },
          "showarrow": false,
          "text": "-0.0",
          "x": "don know just",
          "xref": "x",
          "y": "laura file_photo laura",
          "yref": "y"
         },
         {
          "font": {
           "color": "#FFFFFF",
           "size": 12
          },
          "showarrow": false,
          "text": "-0.0",
          "x": "file_other file_other file_other",
          "xref": "x",
          "y": "laura file_photo laura",
          "yref": "y"
         },
         {
          "font": {
           "color": "#FFFFFF",
           "size": 12
          },
          "showarrow": false,
          "text": "-0.0",
          "x": "file_photo file_photo file_photo",
          "xref": "x",
          "y": "laura file_photo laura",
          "yref": "y"
         },
         {
          "font": {
           "color": "#FFFFFF",
           "size": 12
          },
          "showarrow": false,
          "text": "-0.0",
          "x": "just don know",
          "xref": "x",
          "y": "laura file_photo laura",
          "yref": "y"
         },
         {
          "font": {
           "color": "#FFFFFF",
           "size": 12
          },
          "showarrow": false,
          "text": "-0.0",
          "x": "kathy file_picture kathy",
          "xref": "x",
          "y": "laura file_photo laura",
          "yref": "y"
         },
         {
          "font": {
           "color": "#FFFFFF",
           "size": 12
          },
          "showarrow": false,
          "text": "-0.0",
          "x": "aaron file_gif aaron",
          "xref": "x",
          "y": "kathy file_picture kathy",
          "yref": "y"
         },
         {
          "font": {
           "color": "#FFFFFF",
           "size": 12
          },
          "showarrow": false,
          "text": "-0.0",
          "x": "don know just",
          "xref": "x",
          "y": "kathy file_picture kathy",
          "yref": "y"
         },
         {
          "font": {
           "color": "#FFFFFF",
           "size": 12
          },
          "showarrow": false,
          "text": "-0.0",
          "x": "file_other file_other file_other",
          "xref": "x",
          "y": "kathy file_picture kathy",
          "yref": "y"
         },
         {
          "font": {
           "color": "#FFFFFF",
           "size": 12
          },
          "showarrow": false,
          "text": "-0.0",
          "x": "file_photo file_photo file_photo",
          "xref": "x",
          "y": "kathy file_picture kathy",
          "yref": "y"
         },
         {
          "font": {
           "color": "#FFFFFF",
           "size": 12
          },
          "showarrow": false,
          "text": "-0.0",
          "x": "just don know",
          "xref": "x",
          "y": "kathy file_picture kathy",
          "yref": "y"
         },
         {
          "font": {
           "color": "#FFFFFF",
           "size": 12
          },
          "showarrow": false,
          "text": "-0.0",
          "x": "aaron file_gif aaron",
          "xref": "x",
          "y": "just don know",
          "yref": "y"
         },
         {
          "font": {
           "color": "#FFFFFF",
           "size": 12
          },
          "showarrow": false,
          "text": "-0.0",
          "x": "don know just",
          "xref": "x",
          "y": "just don know",
          "yref": "y"
         },
         {
          "font": {
           "color": "#FFFFFF",
           "size": 12
          },
          "showarrow": false,
          "text": "-0.0",
          "x": "file_other file_other file_other",
          "xref": "x",
          "y": "just don know",
          "yref": "y"
         },
         {
          "font": {
           "color": "#FFFFFF",
           "size": 12
          },
          "showarrow": false,
          "text": "-0.0",
          "x": "file_photo file_photo file_photo",
          "xref": "x",
          "y": "just don know",
          "yref": "y"
         },
         {
          "font": {
           "color": "#FFFFFF",
           "size": 12
          },
          "showarrow": false,
          "text": "-0.0",
          "x": "aaron file_gif aaron",
          "xref": "x",
          "y": "file_photo file_photo file_photo",
          "yref": "y"
         },
         {
          "font": {
           "color": "#FFFFFF",
           "size": 12
          },
          "showarrow": false,
          "text": "-0.0",
          "x": "don know just",
          "xref": "x",
          "y": "file_photo file_photo file_photo",
          "yref": "y"
         },
         {
          "font": {
           "color": "#FFFFFF",
           "size": 12
          },
          "showarrow": false,
          "text": "-0.0",
          "x": "file_other file_other file_other",
          "xref": "x",
          "y": "file_photo file_photo file_photo",
          "yref": "y"
         },
         {
          "font": {
           "color": "#FFFFFF",
           "size": 12
          },
          "showarrow": false,
          "text": "-0.0",
          "x": "aaron file_gif aaron",
          "xref": "x",
          "y": "file_other file_other file_other",
          "yref": "y"
         },
         {
          "font": {
           "color": "#FFFFFF",
           "size": 12
          },
          "showarrow": false,
          "text": "-0.0",
          "x": "don know just",
          "xref": "x",
          "y": "file_other file_other file_other",
          "yref": "y"
         },
         {
          "font": {
           "color": "#FFFFFF",
           "size": 12
          },
          "showarrow": false,
          "text": "-0.0",
          "x": "aaron file_gif aaron",
          "xref": "x",
          "y": "don know just",
          "yref": "y"
         }
        ],
        "height": 800,
        "margin": {
         "l": 110,
         "t": 210
        },
        "template": {
         "data": {
          "bar": [
           {
            "error_x": {
             "color": "#f2f5fa"
            },
            "error_y": {
             "color": "#f2f5fa"
            },
            "marker": {
             "line": {
              "color": "rgb(17,17,17)",
              "width": 0.5
             },
             "pattern": {
              "fillmode": "overlay",
              "size": 10,
              "solidity": 0.2
             }
            },
            "type": "bar"
           }
          ],
          "barpolar": [
           {
            "marker": {
             "line": {
              "color": "rgb(17,17,17)",
              "width": 0.5
             },
             "pattern": {
              "fillmode": "overlay",
              "size": 10,
              "solidity": 0.2
             }
            },
            "type": "barpolar"
           }
          ],
          "carpet": [
           {
            "aaxis": {
             "endlinecolor": "#A2B1C6",
             "gridcolor": "#506784",
             "linecolor": "#506784",
             "minorgridcolor": "#506784",
             "startlinecolor": "#A2B1C6"
            },
            "baxis": {
             "endlinecolor": "#A2B1C6",
             "gridcolor": "#506784",
             "linecolor": "#506784",
             "minorgridcolor": "#506784",
             "startlinecolor": "#A2B1C6"
            },
            "type": "carpet"
           }
          ],
          "choropleth": [
           {
            "colorbar": {
             "outlinewidth": 0,
             "ticks": ""
            },
            "type": "choropleth"
           }
          ],
          "contour": [
           {
            "colorbar": {
             "outlinewidth": 0,
             "ticks": ""
            },
            "colorscale": [
             [
              0,
              "#0d0887"
             ],
             [
              0.1111111111111111,
              "#46039f"
             ],
             [
              0.2222222222222222,
              "#7201a8"
             ],
             [
              0.3333333333333333,
              "#9c179e"
             ],
             [
              0.4444444444444444,
              "#bd3786"
             ],
             [
              0.5555555555555556,
              "#d8576b"
             ],
             [
              0.6666666666666666,
              "#ed7953"
             ],
             [
              0.7777777777777778,
              "#fb9f3a"
             ],
             [
              0.8888888888888888,
              "#fdca26"
             ],
             [
              1,
              "#f0f921"
             ]
            ],
            "type": "contour"
           }
          ],
          "contourcarpet": [
           {
            "colorbar": {
             "outlinewidth": 0,
             "ticks": ""
            },
            "type": "contourcarpet"
           }
          ],
          "heatmap": [
           {
            "colorbar": {
             "outlinewidth": 0,
             "ticks": ""
            },
            "colorscale": [
             [
              0,
              "#0d0887"
             ],
             [
              0.1111111111111111,
              "#46039f"
             ],
             [
              0.2222222222222222,
              "#7201a8"
             ],
             [
              0.3333333333333333,
              "#9c179e"
             ],
             [
              0.4444444444444444,
              "#bd3786"
             ],
             [
              0.5555555555555556,
              "#d8576b"
             ],
             [
              0.6666666666666666,
              "#ed7953"
             ],
             [
              0.7777777777777778,
              "#fb9f3a"
             ],
             [
              0.8888888888888888,
              "#fdca26"
             ],
             [
              1,
              "#f0f921"
             ]
            ],
            "type": "heatmap"
           }
          ],
          "histogram": [
           {
            "marker": {
             "pattern": {
              "fillmode": "overlay",
              "size": 10,
              "solidity": 0.2
             }
            },
            "type": "histogram"
           }
          ],
          "histogram2d": [
           {
            "colorbar": {
             "outlinewidth": 0,
             "ticks": ""
            },
            "colorscale": [
             [
              0,
              "#0d0887"
             ],
             [
              0.1111111111111111,
              "#46039f"
             ],
             [
              0.2222222222222222,
              "#7201a8"
             ],
             [
              0.3333333333333333,
              "#9c179e"
             ],
             [
              0.4444444444444444,
              "#bd3786"
             ],
             [
              0.5555555555555556,
              "#d8576b"
             ],
             [
              0.6666666666666666,
              "#ed7953"
             ],
             [
              0.7777777777777778,
              "#fb9f3a"
             ],
             [
              0.8888888888888888,
              "#fdca26"
             ],
             [
              1,
              "#f0f921"
             ]
            ],
            "type": "histogram2d"
           }
          ],
          "histogram2dcontour": [
           {
            "colorbar": {
             "outlinewidth": 0,
             "ticks": ""
            },
            "colorscale": [
             [
              0,
              "#0d0887"
             ],
             [
              0.1111111111111111,
              "#46039f"
             ],
             [
              0.2222222222222222,
              "#7201a8"
             ],
             [
              0.3333333333333333,
              "#9c179e"
             ],
             [
              0.4444444444444444,
              "#bd3786"
             ],
             [
              0.5555555555555556,
              "#d8576b"
             ],
             [
              0.6666666666666666,
              "#ed7953"
             ],
             [
              0.7777777777777778,
              "#fb9f3a"
             ],
             [
              0.8888888888888888,
              "#fdca26"
             ],
             [
              1,
              "#f0f921"
             ]
            ],
            "type": "histogram2dcontour"
           }
          ],
          "mesh3d": [
           {
            "colorbar": {
             "outlinewidth": 0,
             "ticks": ""
            },
            "type": "mesh3d"
           }
          ],
          "parcoords": [
           {
            "line": {
             "colorbar": {
              "outlinewidth": 0,
              "ticks": ""
             }
            },
            "type": "parcoords"
           }
          ],
          "pie": [
           {
            "automargin": true,
            "type": "pie"
           }
          ],
          "scatter": [
           {
            "marker": {
             "line": {
              "color": "#283442"
             }
            },
            "type": "scatter"
           }
          ],
          "scatter3d": [
           {
            "line": {
             "colorbar": {
              "outlinewidth": 0,
              "ticks": ""
             }
            },
            "marker": {
             "colorbar": {
              "outlinewidth": 0,
              "ticks": ""
             }
            },
            "type": "scatter3d"
           }
          ],
          "scattercarpet": [
           {
            "marker": {
             "colorbar": {
              "outlinewidth": 0,
              "ticks": ""
             }
            },
            "type": "scattercarpet"
           }
          ],
          "scattergeo": [
           {
            "marker": {
             "colorbar": {
              "outlinewidth": 0,
              "ticks": ""
             }
            },
            "type": "scattergeo"
           }
          ],
          "scattergl": [
           {
            "marker": {
             "line": {
              "color": "#283442"
             }
            },
            "type": "scattergl"
           }
          ],
          "scattermap": [
           {
            "marker": {
             "colorbar": {
              "outlinewidth": 0,
              "ticks": ""
             }
            },
            "type": "scattermap"
           }
          ],
          "scattermapbox": [
           {
            "marker": {
             "colorbar": {
              "outlinewidth": 0,
              "ticks": ""
             }
            },
            "type": "scattermapbox"
           }
          ],
          "scatterpolar": [
           {
            "marker": {
             "colorbar": {
              "outlinewidth": 0,
              "ticks": ""
             }
            },
            "type": "scatterpolar"
           }
          ],
          "scatterpolargl": [
           {
            "marker": {
             "colorbar": {
              "outlinewidth": 0,
              "ticks": ""
             }
            },
            "type": "scatterpolargl"
           }
          ],
          "scatterternary": [
           {
            "marker": {
             "colorbar": {
              "outlinewidth": 0,
              "ticks": ""
             }
            },
            "type": "scatterternary"
           }
          ],
          "surface": [
           {
            "colorbar": {
             "outlinewidth": 0,
             "ticks": ""
            },
            "colorscale": [
             [
              0,
              "#0d0887"
             ],
             [
              0.1111111111111111,
              "#46039f"
             ],
             [
              0.2222222222222222,
              "#7201a8"
             ],
             [
              0.3333333333333333,
              "#9c179e"
             ],
             [
              0.4444444444444444,
              "#bd3786"
             ],
             [
              0.5555555555555556,
              "#d8576b"
             ],
             [
              0.6666666666666666,
              "#ed7953"
             ],
             [
              0.7777777777777778,
              "#fb9f3a"
             ],
             [
              0.8888888888888888,
              "#fdca26"
             ],
             [
              1,
              "#f0f921"
             ]
            ],
            "type": "surface"
           }
          ],
          "table": [
           {
            "cells": {
             "fill": {
              "color": "#506784"
             },
             "line": {
              "color": "rgb(17,17,17)"
             }
            },
            "header": {
             "fill": {
              "color": "#2a3f5f"
             },
             "line": {
              "color": "rgb(17,17,17)"
             }
            },
            "type": "table"
           }
          ]
         },
         "layout": {
          "annotationdefaults": {
           "arrowcolor": "#f2f5fa",
           "arrowhead": 0,
           "arrowwidth": 1
          },
          "autotypenumbers": "strict",
          "coloraxis": {
           "colorbar": {
            "outlinewidth": 0,
            "ticks": ""
           }
          },
          "colorscale": {
           "diverging": [
            [
             0,
             "#8e0152"
            ],
            [
             0.1,
             "#c51b7d"
            ],
            [
             0.2,
             "#de77ae"
            ],
            [
             0.3,
             "#f1b6da"
            ],
            [
             0.4,
             "#fde0ef"
            ],
            [
             0.5,
             "#f7f7f7"
            ],
            [
             0.6,
             "#e6f5d0"
            ],
            [
             0.7,
             "#b8e186"
            ],
            [
             0.8,
             "#7fbc41"
            ],
            [
             0.9,
             "#4d9221"
            ],
            [
             1,
             "#276419"
            ]
           ],
           "sequential": [
            [
             0,
             "#0d0887"
            ],
            [
             0.1111111111111111,
             "#46039f"
            ],
            [
             0.2222222222222222,
             "#7201a8"
            ],
            [
             0.3333333333333333,
             "#9c179e"
            ],
            [
             0.4444444444444444,
             "#bd3786"
            ],
            [
             0.5555555555555556,
             "#d8576b"
            ],
            [
             0.6666666666666666,
             "#ed7953"
            ],
            [
             0.7777777777777778,
             "#fb9f3a"
            ],
            [
             0.8888888888888888,
             "#fdca26"
            ],
            [
             1,
             "#f0f921"
            ]
           ],
           "sequentialminus": [
            [
             0,
             "#0d0887"
            ],
            [
             0.1111111111111111,
             "#46039f"
            ],
            [
             0.2222222222222222,
             "#7201a8"
            ],
            [
             0.3333333333333333,
             "#9c179e"
            ],
            [
             0.4444444444444444,
             "#bd3786"
            ],
            [
             0.5555555555555556,
             "#d8576b"
            ],
            [
             0.6666666666666666,
             "#ed7953"
            ],
            [
             0.7777777777777778,
             "#fb9f3a"
            ],
            [
             0.8888888888888888,
             "#fdca26"
            ],
            [
             1,
             "#f0f921"
            ]
           ]
          },
          "colorway": [
           "#636efa",
           "#EF553B",
           "#00cc96",
           "#ab63fa",
           "#FFA15A",
           "#19d3f3",
           "#FF6692",
           "#B6E880",
           "#FF97FF",
           "#FECB52"
          ],
          "font": {
           "color": "#f2f5fa"
          },
          "geo": {
           "bgcolor": "rgb(17,17,17)",
           "lakecolor": "rgb(17,17,17)",
           "landcolor": "rgb(17,17,17)",
           "showlakes": true,
           "showland": true,
           "subunitcolor": "#506784"
          },
          "hoverlabel": {
           "align": "left"
          },
          "hovermode": "closest",
          "mapbox": {
           "style": "dark"
          },
          "paper_bgcolor": "rgb(17,17,17)",
          "plot_bgcolor": "rgb(17,17,17)",
          "polar": {
           "angularaxis": {
            "gridcolor": "#506784",
            "linecolor": "#506784",
            "ticks": ""
           },
           "bgcolor": "rgb(17,17,17)",
           "radialaxis": {
            "gridcolor": "#506784",
            "linecolor": "#506784",
            "ticks": ""
           }
          },
          "scene": {
           "xaxis": {
            "backgroundcolor": "rgb(17,17,17)",
            "gridcolor": "#506784",
            "gridwidth": 2,
            "linecolor": "#506784",
            "showbackground": true,
            "ticks": "",
            "zerolinecolor": "#C8D4E3"
           },
           "yaxis": {
            "backgroundcolor": "rgb(17,17,17)",
            "gridcolor": "#506784",
            "gridwidth": 2,
            "linecolor": "#506784",
            "showbackground": true,
            "ticks": "",
            "zerolinecolor": "#C8D4E3"
           },
           "zaxis": {
            "backgroundcolor": "rgb(17,17,17)",
            "gridcolor": "#506784",
            "gridwidth": 2,
            "linecolor": "#506784",
            "showbackground": true,
            "ticks": "",
            "zerolinecolor": "#C8D4E3"
           }
          },
          "shapedefaults": {
           "line": {
            "color": "#f2f5fa"
           }
          },
          "sliderdefaults": {
           "bgcolor": "#C8D4E3",
           "bordercolor": "rgb(17,17,17)",
           "borderwidth": 1,
           "tickwidth": 0
          },
          "ternary": {
           "aaxis": {
            "gridcolor": "#506784",
            "linecolor": "#506784",
            "ticks": ""
           },
           "baxis": {
            "gridcolor": "#506784",
            "linecolor": "#506784",
            "ticks": ""
           },
           "bgcolor": "rgb(17,17,17)",
           "caxis": {
            "gridcolor": "#506784",
            "linecolor": "#506784",
            "ticks": ""
           }
          },
          "title": {
           "x": 0.05
          },
          "updatemenudefaults": {
           "bgcolor": "#506784",
           "borderwidth": 0
          },
          "xaxis": {
           "automargin": true,
           "gridcolor": "#283442",
           "linecolor": "#506784",
           "ticks": "",
           "title": {
            "standoff": 15
           },
           "zerolinecolor": "#283442",
           "zerolinewidth": 2
          },
          "yaxis": {
           "automargin": true,
           "gridcolor": "#283442",
           "linecolor": "#506784",
           "ticks": "",
           "title": {
            "standoff": 15
           },
           "zerolinecolor": "#283442",
           "zerolinewidth": 2
          }
         }
        },
        "title": {
         "text": "<b>Trigrams Heatmap<br><sup>&nbsp;&nbsp;&nbsp;&nbsp;<i>Test - Dialogue</i></sup></b>",
         "x": 0.025,
         "xanchor": "left",
         "y": 0.95
        },
        "width": 800,
        "xaxis": {
         "dtick": 1,
         "gridcolor": "rgb(0, 0, 0)",
         "showgrid": false,
         "side": "top",
         "ticks": ""
        },
        "yaxis": {
         "autorange": "reversed",
         "dtick": 1,
         "showgrid": false,
         "ticks": "",
         "ticksuffix": "  "
        }
       }
      }
     },
     "metadata": {},
     "output_type": "display_data"
    }
   ],
   "source": [
    "vectorizer = TfidfVectorizer(max_features = 15,stop_words = 'english',ngram_range = (3,3)) # Top 15 terms\n",
    "x = vectorizer.fit_transform(test['dialogue'].fillna(''))\n",
    "df_tfidfvect = pd.DataFrame(x.toarray(), columns=vectorizer.get_feature_names_out())\n",
    "plot_correlation(df_tfidfvect, 'Trigrams', 'Test - Dialogue', 800, 800, 12)"
   ]
  },
  {
   "cell_type": "code",
   "execution_count": 59,
   "metadata": {},
   "outputs": [
    {
     "data": {
      "application/vnd.plotly.v1+json": {
       "config": {
        "plotlyServerURL": "https://plot.ly"
       },
       "data": [
        {
         "colorscale": [
          [
           0,
           "#00224e"
          ],
          [
           0.1111111111111111,
           "#123570"
          ],
          [
           0.2222222222222222,
           "#3b496c"
          ],
          [
           0.3333333333333333,
           "#575d6d"
          ],
          [
           0.4444444444444444,
           "#707173"
          ],
          [
           0.5555555555555556,
           "#8a8678"
          ],
          [
           0.6666666666666666,
           "#a59c74"
          ],
          [
           0.7777777777777778,
           "#c3b369"
          ],
          [
           0.8888888888888888,
           "#e1cc55"
          ],
          [
           1,
           "#fee838"
          ]
         ],
         "reversescale": false,
         "showscale": false,
         "type": "heatmap",
         "x": [
          "10 minutes late",
          "deborah nathan want",
          "home 40 minutes",
          "jamie marlo jimmy",
          "marlo jimmy alex",
          "martin jada alex",
          "mary wear red",
          "meet main entrance",
          "new phone number",
          "new year eve",
          "passover sarah going",
          "passport tomorrow reminded",
          "passports bosnia herzegovina",
          "sick won come"
         ],
         "y": [
          "william making spaghetti",
          "sick won come",
          "passports bosnia herzegovina",
          "passport tomorrow reminded",
          "passover sarah going",
          "new year eve",
          "new phone number",
          "meet main entrance",
          "mary wear red",
          "martin jada alex",
          "marlo jimmy alex",
          "jamie marlo jimmy",
          "home 40 minutes",
          "deborah nathan want"
         ],
         "z": [
          [
           0,
           0,
           0,
           0,
           0,
           0,
           0,
           0,
           0,
           0,
           0,
           0,
           0,
           0
          ],
          [
           0,
           0,
           0,
           0,
           0,
           0,
           0,
           0,
           0,
           0,
           0,
           0,
           0
          ],
          [
           0,
           0,
           0,
           0,
           0,
           0,
           0,
           0,
           0,
           0,
           0,
           0
          ],
          [
           0,
           0,
           0,
           0,
           0,
           0,
           0,
           0,
           0,
           0,
           0
          ],
          [
           0,
           0,
           0,
           0,
           0,
           0,
           0,
           0,
           0,
           0
          ],
          [
           0,
           0,
           0,
           0,
           0,
           0,
           0,
           0,
           0
          ],
          [
           0,
           0,
           0,
           0,
           0,
           0,
           0,
           0
          ],
          [
           0,
           0,
           0,
           0,
           0,
           0,
           0
          ],
          [
           0,
           0,
           0,
           0,
           0,
           0
          ],
          [
           0,
           0,
           0,
           0,
           0
          ],
          [
           0,
           0,
           0,
           1
          ],
          [
           0,
           0,
           0
          ],
          [
           0,
           0
          ],
          [
           0
          ]
         ]
        },
        {
         "colorscale": [
          [
           0,
           "#00224e"
          ],
          [
           0.1111111111111111,
           "#123570"
          ],
          [
           0.2222222222222222,
           "#3b496c"
          ],
          [
           0.3333333333333333,
           "#575d6d"
          ],
          [
           0.4444444444444444,
           "#707173"
          ],
          [
           0.5555555555555556,
           "#8a8678"
          ],
          [
           0.6666666666666666,
           "#a59c74"
          ],
          [
           0.7777777777777778,
           "#c3b369"
          ],
          [
           0.8888888888888888,
           "#e1cc55"
          ],
          [
           1,
           "#fee838"
          ]
         ],
         "showscale": true,
         "type": "heatmap",
         "visible": true,
         "z": [
          [
           0,
           0,
           0,
           0,
           0,
           0,
           0,
           0,
           0,
           0,
           0,
           0,
           0,
           0
          ],
          [
           0,
           0,
           0,
           0,
           0,
           0,
           0,
           0,
           0,
           0,
           0,
           0,
           0
          ],
          [
           0,
           0,
           0,
           0,
           0,
           0,
           0,
           0,
           0,
           0,
           0,
           0
          ],
          [
           0,
           0,
           0,
           0,
           0,
           0,
           0,
           0,
           0,
           0,
           0
          ],
          [
           0,
           0,
           0,
           0,
           0,
           0,
           0,
           0,
           0,
           0
          ],
          [
           0,
           0,
           0,
           0,
           0,
           0,
           0,
           0,
           0
          ],
          [
           0,
           0,
           0,
           0,
           0,
           0,
           0,
           0
          ],
          [
           0,
           0,
           0,
           0,
           0,
           0,
           0
          ],
          [
           0,
           0,
           0,
           0,
           0,
           0
          ],
          [
           0,
           0,
           0,
           0,
           0
          ],
          [
           0,
           0,
           0,
           1
          ],
          [
           0,
           0,
           0
          ],
          [
           0,
           0
          ],
          [
           0
          ]
         ]
        }
       ],
       "layout": {
        "annotations": [
         {
          "font": {
           "color": "#FFFFFF",
           "size": 12
          },
          "showarrow": false,
          "text": "-0.0",
          "x": "10 minutes late",
          "xref": "x",
          "y": "william making spaghetti",
          "yref": "y"
         },
         {
          "font": {
           "color": "#FFFFFF",
           "size": 12
          },
          "showarrow": false,
          "text": "-0.0",
          "x": "deborah nathan want",
          "xref": "x",
          "y": "william making spaghetti",
          "yref": "y"
         },
         {
          "font": {
           "color": "#FFFFFF",
           "size": 12
          },
          "showarrow": false,
          "text": "-0.0",
          "x": "home 40 minutes",
          "xref": "x",
          "y": "william making spaghetti",
          "yref": "y"
         },
         {
          "font": {
           "color": "#FFFFFF",
           "size": 12
          },
          "showarrow": false,
          "text": "-0.0",
          "x": "jamie marlo jimmy",
          "xref": "x",
          "y": "william making spaghetti",
          "yref": "y"
         },
         {
          "font": {
           "color": "#FFFFFF",
           "size": 12
          },
          "showarrow": false,
          "text": "-0.0",
          "x": "marlo jimmy alex",
          "xref": "x",
          "y": "william making spaghetti",
          "yref": "y"
         },
         {
          "font": {
           "color": "#FFFFFF",
           "size": 12
          },
          "showarrow": false,
          "text": "-0.0",
          "x": "martin jada alex",
          "xref": "x",
          "y": "william making spaghetti",
          "yref": "y"
         },
         {
          "font": {
           "color": "#FFFFFF",
           "size": 12
          },
          "showarrow": false,
          "text": "-0.0",
          "x": "mary wear red",
          "xref": "x",
          "y": "william making spaghetti",
          "yref": "y"
         },
         {
          "font": {
           "color": "#FFFFFF",
           "size": 12
          },
          "showarrow": false,
          "text": "-0.0",
          "x": "meet main entrance",
          "xref": "x",
          "y": "william making spaghetti",
          "yref": "y"
         },
         {
          "font": {
           "color": "#FFFFFF",
           "size": 12
          },
          "showarrow": false,
          "text": "-0.0",
          "x": "new phone number",
          "xref": "x",
          "y": "william making spaghetti",
          "yref": "y"
         },
         {
          "font": {
           "color": "#FFFFFF",
           "size": 12
          },
          "showarrow": false,
          "text": "-0.0",
          "x": "new year eve",
          "xref": "x",
          "y": "william making spaghetti",
          "yref": "y"
         },
         {
          "font": {
           "color": "#FFFFFF",
           "size": 12
          },
          "showarrow": false,
          "text": "-0.0",
          "x": "passover sarah going",
          "xref": "x",
          "y": "william making spaghetti",
          "yref": "y"
         },
         {
          "font": {
           "color": "#FFFFFF",
           "size": 12
          },
          "showarrow": false,
          "text": "-0.0",
          "x": "passport tomorrow reminded",
          "xref": "x",
          "y": "william making spaghetti",
          "yref": "y"
         },
         {
          "font": {
           "color": "#FFFFFF",
           "size": 12
          },
          "showarrow": false,
          "text": "-0.0",
          "x": "passports bosnia herzegovina",
          "xref": "x",
          "y": "william making spaghetti",
          "yref": "y"
         },
         {
          "font": {
           "color": "#FFFFFF",
           "size": 12
          },
          "showarrow": false,
          "text": "-0.0",
          "x": "sick won come",
          "xref": "x",
          "y": "william making spaghetti",
          "yref": "y"
         },
         {
          "font": {
           "color": "#FFFFFF",
           "size": 12
          },
          "showarrow": false,
          "text": "-0.0",
          "x": "10 minutes late",
          "xref": "x",
          "y": "sick won come",
          "yref": "y"
         },
         {
          "font": {
           "color": "#FFFFFF",
           "size": 12
          },
          "showarrow": false,
          "text": "-0.0",
          "x": "deborah nathan want",
          "xref": "x",
          "y": "sick won come",
          "yref": "y"
         },
         {
          "font": {
           "color": "#FFFFFF",
           "size": 12
          },
          "showarrow": false,
          "text": "-0.0",
          "x": "home 40 minutes",
          "xref": "x",
          "y": "sick won come",
          "yref": "y"
         },
         {
          "font": {
           "color": "#FFFFFF",
           "size": 12
          },
          "showarrow": false,
          "text": "-0.0",
          "x": "jamie marlo jimmy",
          "xref": "x",
          "y": "sick won come",
          "yref": "y"
         },
         {
          "font": {
           "color": "#FFFFFF",
           "size": 12
          },
          "showarrow": false,
          "text": "-0.0",
          "x": "marlo jimmy alex",
          "xref": "x",
          "y": "sick won come",
          "yref": "y"
         },
         {
          "font": {
           "color": "#FFFFFF",
           "size": 12
          },
          "showarrow": false,
          "text": "-0.0",
          "x": "martin jada alex",
          "xref": "x",
          "y": "sick won come",
          "yref": "y"
         },
         {
          "font": {
           "color": "#FFFFFF",
           "size": 12
          },
          "showarrow": false,
          "text": "-0.0",
          "x": "mary wear red",
          "xref": "x",
          "y": "sick won come",
          "yref": "y"
         },
         {
          "font": {
           "color": "#FFFFFF",
           "size": 12
          },
          "showarrow": false,
          "text": "-0.0",
          "x": "meet main entrance",
          "xref": "x",
          "y": "sick won come",
          "yref": "y"
         },
         {
          "font": {
           "color": "#FFFFFF",
           "size": 12
          },
          "showarrow": false,
          "text": "-0.0",
          "x": "new phone number",
          "xref": "x",
          "y": "sick won come",
          "yref": "y"
         },
         {
          "font": {
           "color": "#FFFFFF",
           "size": 12
          },
          "showarrow": false,
          "text": "-0.0",
          "x": "new year eve",
          "xref": "x",
          "y": "sick won come",
          "yref": "y"
         },
         {
          "font": {
           "color": "#FFFFFF",
           "size": 12
          },
          "showarrow": false,
          "text": "-0.0",
          "x": "passover sarah going",
          "xref": "x",
          "y": "sick won come",
          "yref": "y"
         },
         {
          "font": {
           "color": "#FFFFFF",
           "size": 12
          },
          "showarrow": false,
          "text": "-0.0",
          "x": "passport tomorrow reminded",
          "xref": "x",
          "y": "sick won come",
          "yref": "y"
         },
         {
          "font": {
           "color": "#FFFFFF",
           "size": 12
          },
          "showarrow": false,
          "text": "-0.0",
          "x": "passports bosnia herzegovina",
          "xref": "x",
          "y": "sick won come",
          "yref": "y"
         },
         {
          "font": {
           "color": "#FFFFFF",
           "size": 12
          },
          "showarrow": false,
          "text": "-0.0",
          "x": "10 minutes late",
          "xref": "x",
          "y": "passports bosnia herzegovina",
          "yref": "y"
         },
         {
          "font": {
           "color": "#FFFFFF",
           "size": 12
          },
          "showarrow": false,
          "text": "-0.0",
          "x": "deborah nathan want",
          "xref": "x",
          "y": "passports bosnia herzegovina",
          "yref": "y"
         },
         {
          "font": {
           "color": "#FFFFFF",
           "size": 12
          },
          "showarrow": false,
          "text": "-0.0",
          "x": "home 40 minutes",
          "xref": "x",
          "y": "passports bosnia herzegovina",
          "yref": "y"
         },
         {
          "font": {
           "color": "#FFFFFF",
           "size": 12
          },
          "showarrow": false,
          "text": "-0.0",
          "x": "jamie marlo jimmy",
          "xref": "x",
          "y": "passports bosnia herzegovina",
          "yref": "y"
         },
         {
          "font": {
           "color": "#FFFFFF",
           "size": 12
          },
          "showarrow": false,
          "text": "-0.0",
          "x": "marlo jimmy alex",
          "xref": "x",
          "y": "passports bosnia herzegovina",
          "yref": "y"
         },
         {
          "font": {
           "color": "#FFFFFF",
           "size": 12
          },
          "showarrow": false,
          "text": "-0.0",
          "x": "martin jada alex",
          "xref": "x",
          "y": "passports bosnia herzegovina",
          "yref": "y"
         },
         {
          "font": {
           "color": "#FFFFFF",
           "size": 12
          },
          "showarrow": false,
          "text": "-0.0",
          "x": "mary wear red",
          "xref": "x",
          "y": "passports bosnia herzegovina",
          "yref": "y"
         },
         {
          "font": {
           "color": "#FFFFFF",
           "size": 12
          },
          "showarrow": false,
          "text": "-0.0",
          "x": "meet main entrance",
          "xref": "x",
          "y": "passports bosnia herzegovina",
          "yref": "y"
         },
         {
          "font": {
           "color": "#FFFFFF",
           "size": 12
          },
          "showarrow": false,
          "text": "-0.0",
          "x": "new phone number",
          "xref": "x",
          "y": "passports bosnia herzegovina",
          "yref": "y"
         },
         {
          "font": {
           "color": "#FFFFFF",
           "size": 12
          },
          "showarrow": false,
          "text": "-0.0",
          "x": "new year eve",
          "xref": "x",
          "y": "passports bosnia herzegovina",
          "yref": "y"
         },
         {
          "font": {
           "color": "#FFFFFF",
           "size": 12
          },
          "showarrow": false,
          "text": "-0.0",
          "x": "passover sarah going",
          "xref": "x",
          "y": "passports bosnia herzegovina",
          "yref": "y"
         },
         {
          "font": {
           "color": "#FFFFFF",
           "size": 12
          },
          "showarrow": false,
          "text": "-0.0",
          "x": "passport tomorrow reminded",
          "xref": "x",
          "y": "passports bosnia herzegovina",
          "yref": "y"
         },
         {
          "font": {
           "color": "#FFFFFF",
           "size": 12
          },
          "showarrow": false,
          "text": "-0.0",
          "x": "10 minutes late",
          "xref": "x",
          "y": "passport tomorrow reminded",
          "yref": "y"
         },
         {
          "font": {
           "color": "#FFFFFF",
           "size": 12
          },
          "showarrow": false,
          "text": "-0.0",
          "x": "deborah nathan want",
          "xref": "x",
          "y": "passport tomorrow reminded",
          "yref": "y"
         },
         {
          "font": {
           "color": "#FFFFFF",
           "size": 12
          },
          "showarrow": false,
          "text": "-0.0",
          "x": "home 40 minutes",
          "xref": "x",
          "y": "passport tomorrow reminded",
          "yref": "y"
         },
         {
          "font": {
           "color": "#FFFFFF",
           "size": 12
          },
          "showarrow": false,
          "text": "-0.0",
          "x": "jamie marlo jimmy",
          "xref": "x",
          "y": "passport tomorrow reminded",
          "yref": "y"
         },
         {
          "font": {
           "color": "#FFFFFF",
           "size": 12
          },
          "showarrow": false,
          "text": "-0.0",
          "x": "marlo jimmy alex",
          "xref": "x",
          "y": "passport tomorrow reminded",
          "yref": "y"
         },
         {
          "font": {
           "color": "#FFFFFF",
           "size": 12
          },
          "showarrow": false,
          "text": "-0.0",
          "x": "martin jada alex",
          "xref": "x",
          "y": "passport tomorrow reminded",
          "yref": "y"
         },
         {
          "font": {
           "color": "#FFFFFF",
           "size": 12
          },
          "showarrow": false,
          "text": "-0.0",
          "x": "mary wear red",
          "xref": "x",
          "y": "passport tomorrow reminded",
          "yref": "y"
         },
         {
          "font": {
           "color": "#FFFFFF",
           "size": 12
          },
          "showarrow": false,
          "text": "-0.0",
          "x": "meet main entrance",
          "xref": "x",
          "y": "passport tomorrow reminded",
          "yref": "y"
         },
         {
          "font": {
           "color": "#FFFFFF",
           "size": 12
          },
          "showarrow": false,
          "text": "-0.0",
          "x": "new phone number",
          "xref": "x",
          "y": "passport tomorrow reminded",
          "yref": "y"
         },
         {
          "font": {
           "color": "#FFFFFF",
           "size": 12
          },
          "showarrow": false,
          "text": "-0.0",
          "x": "new year eve",
          "xref": "x",
          "y": "passport tomorrow reminded",
          "yref": "y"
         },
         {
          "font": {
           "color": "#FFFFFF",
           "size": 12
          },
          "showarrow": false,
          "text": "-0.0",
          "x": "passover sarah going",
          "xref": "x",
          "y": "passport tomorrow reminded",
          "yref": "y"
         },
         {
          "font": {
           "color": "#FFFFFF",
           "size": 12
          },
          "showarrow": false,
          "text": "-0.0",
          "x": "10 minutes late",
          "xref": "x",
          "y": "passover sarah going",
          "yref": "y"
         },
         {
          "font": {
           "color": "#FFFFFF",
           "size": 12
          },
          "showarrow": false,
          "text": "-0.0",
          "x": "deborah nathan want",
          "xref": "x",
          "y": "passover sarah going",
          "yref": "y"
         },
         {
          "font": {
           "color": "#FFFFFF",
           "size": 12
          },
          "showarrow": false,
          "text": "-0.0",
          "x": "home 40 minutes",
          "xref": "x",
          "y": "passover sarah going",
          "yref": "y"
         },
         {
          "font": {
           "color": "#FFFFFF",
           "size": 12
          },
          "showarrow": false,
          "text": "-0.0",
          "x": "jamie marlo jimmy",
          "xref": "x",
          "y": "passover sarah going",
          "yref": "y"
         },
         {
          "font": {
           "color": "#FFFFFF",
           "size": 12
          },
          "showarrow": false,
          "text": "-0.0",
          "x": "marlo jimmy alex",
          "xref": "x",
          "y": "passover sarah going",
          "yref": "y"
         },
         {
          "font": {
           "color": "#FFFFFF",
           "size": 12
          },
          "showarrow": false,
          "text": "-0.0",
          "x": "martin jada alex",
          "xref": "x",
          "y": "passover sarah going",
          "yref": "y"
         },
         {
          "font": {
           "color": "#FFFFFF",
           "size": 12
          },
          "showarrow": false,
          "text": "-0.0",
          "x": "mary wear red",
          "xref": "x",
          "y": "passover sarah going",
          "yref": "y"
         },
         {
          "font": {
           "color": "#FFFFFF",
           "size": 12
          },
          "showarrow": false,
          "text": "-0.0",
          "x": "meet main entrance",
          "xref": "x",
          "y": "passover sarah going",
          "yref": "y"
         },
         {
          "font": {
           "color": "#FFFFFF",
           "size": 12
          },
          "showarrow": false,
          "text": "-0.0",
          "x": "new phone number",
          "xref": "x",
          "y": "passover sarah going",
          "yref": "y"
         },
         {
          "font": {
           "color": "#FFFFFF",
           "size": 12
          },
          "showarrow": false,
          "text": "-0.0",
          "x": "new year eve",
          "xref": "x",
          "y": "passover sarah going",
          "yref": "y"
         },
         {
          "font": {
           "color": "#FFFFFF",
           "size": 12
          },
          "showarrow": false,
          "text": "-0.0",
          "x": "10 minutes late",
          "xref": "x",
          "y": "new year eve",
          "yref": "y"
         },
         {
          "font": {
           "color": "#FFFFFF",
           "size": 12
          },
          "showarrow": false,
          "text": "-0.0",
          "x": "deborah nathan want",
          "xref": "x",
          "y": "new year eve",
          "yref": "y"
         },
         {
          "font": {
           "color": "#FFFFFF",
           "size": 12
          },
          "showarrow": false,
          "text": "-0.0",
          "x": "home 40 minutes",
          "xref": "x",
          "y": "new year eve",
          "yref": "y"
         },
         {
          "font": {
           "color": "#FFFFFF",
           "size": 12
          },
          "showarrow": false,
          "text": "-0.0",
          "x": "jamie marlo jimmy",
          "xref": "x",
          "y": "new year eve",
          "yref": "y"
         },
         {
          "font": {
           "color": "#FFFFFF",
           "size": 12
          },
          "showarrow": false,
          "text": "-0.0",
          "x": "marlo jimmy alex",
          "xref": "x",
          "y": "new year eve",
          "yref": "y"
         },
         {
          "font": {
           "color": "#FFFFFF",
           "size": 12
          },
          "showarrow": false,
          "text": "-0.0",
          "x": "martin jada alex",
          "xref": "x",
          "y": "new year eve",
          "yref": "y"
         },
         {
          "font": {
           "color": "#FFFFFF",
           "size": 12
          },
          "showarrow": false,
          "text": "-0.0",
          "x": "mary wear red",
          "xref": "x",
          "y": "new year eve",
          "yref": "y"
         },
         {
          "font": {
           "color": "#FFFFFF",
           "size": 12
          },
          "showarrow": false,
          "text": "-0.0",
          "x": "meet main entrance",
          "xref": "x",
          "y": "new year eve",
          "yref": "y"
         },
         {
          "font": {
           "color": "#FFFFFF",
           "size": 12
          },
          "showarrow": false,
          "text": "-0.0",
          "x": "new phone number",
          "xref": "x",
          "y": "new year eve",
          "yref": "y"
         },
         {
          "font": {
           "color": "#FFFFFF",
           "size": 12
          },
          "showarrow": false,
          "text": "-0.0",
          "x": "10 minutes late",
          "xref": "x",
          "y": "new phone number",
          "yref": "y"
         },
         {
          "font": {
           "color": "#FFFFFF",
           "size": 12
          },
          "showarrow": false,
          "text": "-0.0",
          "x": "deborah nathan want",
          "xref": "x",
          "y": "new phone number",
          "yref": "y"
         },
         {
          "font": {
           "color": "#FFFFFF",
           "size": 12
          },
          "showarrow": false,
          "text": "-0.0",
          "x": "home 40 minutes",
          "xref": "x",
          "y": "new phone number",
          "yref": "y"
         },
         {
          "font": {
           "color": "#FFFFFF",
           "size": 12
          },
          "showarrow": false,
          "text": "-0.0",
          "x": "jamie marlo jimmy",
          "xref": "x",
          "y": "new phone number",
          "yref": "y"
         },
         {
          "font": {
           "color": "#FFFFFF",
           "size": 12
          },
          "showarrow": false,
          "text": "-0.0",
          "x": "marlo jimmy alex",
          "xref": "x",
          "y": "new phone number",
          "yref": "y"
         },
         {
          "font": {
           "color": "#FFFFFF",
           "size": 12
          },
          "showarrow": false,
          "text": "-0.0",
          "x": "martin jada alex",
          "xref": "x",
          "y": "new phone number",
          "yref": "y"
         },
         {
          "font": {
           "color": "#FFFFFF",
           "size": 12
          },
          "showarrow": false,
          "text": "-0.0",
          "x": "mary wear red",
          "xref": "x",
          "y": "new phone number",
          "yref": "y"
         },
         {
          "font": {
           "color": "#FFFFFF",
           "size": 12
          },
          "showarrow": false,
          "text": "-0.0",
          "x": "meet main entrance",
          "xref": "x",
          "y": "new phone number",
          "yref": "y"
         },
         {
          "font": {
           "color": "#FFFFFF",
           "size": 12
          },
          "showarrow": false,
          "text": "-0.0",
          "x": "10 minutes late",
          "xref": "x",
          "y": "meet main entrance",
          "yref": "y"
         },
         {
          "font": {
           "color": "#FFFFFF",
           "size": 12
          },
          "showarrow": false,
          "text": "-0.0",
          "x": "deborah nathan want",
          "xref": "x",
          "y": "meet main entrance",
          "yref": "y"
         },
         {
          "font": {
           "color": "#FFFFFF",
           "size": 12
          },
          "showarrow": false,
          "text": "-0.0",
          "x": "home 40 minutes",
          "xref": "x",
          "y": "meet main entrance",
          "yref": "y"
         },
         {
          "font": {
           "color": "#FFFFFF",
           "size": 12
          },
          "showarrow": false,
          "text": "-0.0",
          "x": "jamie marlo jimmy",
          "xref": "x",
          "y": "meet main entrance",
          "yref": "y"
         },
         {
          "font": {
           "color": "#FFFFFF",
           "size": 12
          },
          "showarrow": false,
          "text": "-0.0",
          "x": "marlo jimmy alex",
          "xref": "x",
          "y": "meet main entrance",
          "yref": "y"
         },
         {
          "font": {
           "color": "#FFFFFF",
           "size": 12
          },
          "showarrow": false,
          "text": "-0.0",
          "x": "martin jada alex",
          "xref": "x",
          "y": "meet main entrance",
          "yref": "y"
         },
         {
          "font": {
           "color": "#FFFFFF",
           "size": 12
          },
          "showarrow": false,
          "text": "-0.0",
          "x": "mary wear red",
          "xref": "x",
          "y": "meet main entrance",
          "yref": "y"
         },
         {
          "font": {
           "color": "#FFFFFF",
           "size": 12
          },
          "showarrow": false,
          "text": "-0.0",
          "x": "10 minutes late",
          "xref": "x",
          "y": "mary wear red",
          "yref": "y"
         },
         {
          "font": {
           "color": "#FFFFFF",
           "size": 12
          },
          "showarrow": false,
          "text": "-0.0",
          "x": "deborah nathan want",
          "xref": "x",
          "y": "mary wear red",
          "yref": "y"
         },
         {
          "font": {
           "color": "#FFFFFF",
           "size": 12
          },
          "showarrow": false,
          "text": "-0.0",
          "x": "home 40 minutes",
          "xref": "x",
          "y": "mary wear red",
          "yref": "y"
         },
         {
          "font": {
           "color": "#FFFFFF",
           "size": 12
          },
          "showarrow": false,
          "text": "-0.0",
          "x": "jamie marlo jimmy",
          "xref": "x",
          "y": "mary wear red",
          "yref": "y"
         },
         {
          "font": {
           "color": "#FFFFFF",
           "size": 12
          },
          "showarrow": false,
          "text": "-0.0",
          "x": "marlo jimmy alex",
          "xref": "x",
          "y": "mary wear red",
          "yref": "y"
         },
         {
          "font": {
           "color": "#FFFFFF",
           "size": 12
          },
          "showarrow": false,
          "text": "-0.0",
          "x": "martin jada alex",
          "xref": "x",
          "y": "mary wear red",
          "yref": "y"
         },
         {
          "font": {
           "color": "#FFFFFF",
           "size": 12
          },
          "showarrow": false,
          "text": "-0.0",
          "x": "10 minutes late",
          "xref": "x",
          "y": "martin jada alex",
          "yref": "y"
         },
         {
          "font": {
           "color": "#FFFFFF",
           "size": 12
          },
          "showarrow": false,
          "text": "-0.0",
          "x": "deborah nathan want",
          "xref": "x",
          "y": "martin jada alex",
          "yref": "y"
         },
         {
          "font": {
           "color": "#FFFFFF",
           "size": 12
          },
          "showarrow": false,
          "text": "-0.0",
          "x": "home 40 minutes",
          "xref": "x",
          "y": "martin jada alex",
          "yref": "y"
         },
         {
          "font": {
           "color": "#FFFFFF",
           "size": 12
          },
          "showarrow": false,
          "text": "-0.0",
          "x": "jamie marlo jimmy",
          "xref": "x",
          "y": "martin jada alex",
          "yref": "y"
         },
         {
          "font": {
           "color": "#FFFFFF",
           "size": 12
          },
          "showarrow": false,
          "text": "-0.0",
          "x": "marlo jimmy alex",
          "xref": "x",
          "y": "martin jada alex",
          "yref": "y"
         },
         {
          "font": {
           "color": "#FFFFFF",
           "size": 12
          },
          "showarrow": false,
          "text": "-0.0",
          "x": "10 minutes late",
          "xref": "x",
          "y": "marlo jimmy alex",
          "yref": "y"
         },
         {
          "font": {
           "color": "#FFFFFF",
           "size": 12
          },
          "showarrow": false,
          "text": "-0.0",
          "x": "deborah nathan want",
          "xref": "x",
          "y": "marlo jimmy alex",
          "yref": "y"
         },
         {
          "font": {
           "color": "#FFFFFF",
           "size": 12
          },
          "showarrow": false,
          "text": "-0.0",
          "x": "home 40 minutes",
          "xref": "x",
          "y": "marlo jimmy alex",
          "yref": "y"
         },
         {
          "font": {
           "color": "#000000",
           "size": 12
          },
          "showarrow": false,
          "text": "1.0",
          "x": "jamie marlo jimmy",
          "xref": "x",
          "y": "marlo jimmy alex",
          "yref": "y"
         },
         {
          "font": {
           "color": "#FFFFFF",
           "size": 12
          },
          "showarrow": false,
          "text": "-0.0",
          "x": "10 minutes late",
          "xref": "x",
          "y": "jamie marlo jimmy",
          "yref": "y"
         },
         {
          "font": {
           "color": "#FFFFFF",
           "size": 12
          },
          "showarrow": false,
          "text": "-0.0",
          "x": "deborah nathan want",
          "xref": "x",
          "y": "jamie marlo jimmy",
          "yref": "y"
         },
         {
          "font": {
           "color": "#FFFFFF",
           "size": 12
          },
          "showarrow": false,
          "text": "-0.0",
          "x": "home 40 minutes",
          "xref": "x",
          "y": "jamie marlo jimmy",
          "yref": "y"
         },
         {
          "font": {
           "color": "#FFFFFF",
           "size": 12
          },
          "showarrow": false,
          "text": "-0.0",
          "x": "10 minutes late",
          "xref": "x",
          "y": "home 40 minutes",
          "yref": "y"
         },
         {
          "font": {
           "color": "#FFFFFF",
           "size": 12
          },
          "showarrow": false,
          "text": "-0.0",
          "x": "deborah nathan want",
          "xref": "x",
          "y": "home 40 minutes",
          "yref": "y"
         },
         {
          "font": {
           "color": "#FFFFFF",
           "size": 12
          },
          "showarrow": false,
          "text": "-0.0",
          "x": "10 minutes late",
          "xref": "x",
          "y": "deborah nathan want",
          "yref": "y"
         }
        ],
        "height": 800,
        "margin": {
         "l": 110,
         "t": 210
        },
        "template": {
         "data": {
          "bar": [
           {
            "error_x": {
             "color": "#f2f5fa"
            },
            "error_y": {
             "color": "#f2f5fa"
            },
            "marker": {
             "line": {
              "color": "rgb(17,17,17)",
              "width": 0.5
             },
             "pattern": {
              "fillmode": "overlay",
              "size": 10,
              "solidity": 0.2
             }
            },
            "type": "bar"
           }
          ],
          "barpolar": [
           {
            "marker": {
             "line": {
              "color": "rgb(17,17,17)",
              "width": 0.5
             },
             "pattern": {
              "fillmode": "overlay",
              "size": 10,
              "solidity": 0.2
             }
            },
            "type": "barpolar"
           }
          ],
          "carpet": [
           {
            "aaxis": {
             "endlinecolor": "#A2B1C6",
             "gridcolor": "#506784",
             "linecolor": "#506784",
             "minorgridcolor": "#506784",
             "startlinecolor": "#A2B1C6"
            },
            "baxis": {
             "endlinecolor": "#A2B1C6",
             "gridcolor": "#506784",
             "linecolor": "#506784",
             "minorgridcolor": "#506784",
             "startlinecolor": "#A2B1C6"
            },
            "type": "carpet"
           }
          ],
          "choropleth": [
           {
            "colorbar": {
             "outlinewidth": 0,
             "ticks": ""
            },
            "type": "choropleth"
           }
          ],
          "contour": [
           {
            "colorbar": {
             "outlinewidth": 0,
             "ticks": ""
            },
            "colorscale": [
             [
              0,
              "#0d0887"
             ],
             [
              0.1111111111111111,
              "#46039f"
             ],
             [
              0.2222222222222222,
              "#7201a8"
             ],
             [
              0.3333333333333333,
              "#9c179e"
             ],
             [
              0.4444444444444444,
              "#bd3786"
             ],
             [
              0.5555555555555556,
              "#d8576b"
             ],
             [
              0.6666666666666666,
              "#ed7953"
             ],
             [
              0.7777777777777778,
              "#fb9f3a"
             ],
             [
              0.8888888888888888,
              "#fdca26"
             ],
             [
              1,
              "#f0f921"
             ]
            ],
            "type": "contour"
           }
          ],
          "contourcarpet": [
           {
            "colorbar": {
             "outlinewidth": 0,
             "ticks": ""
            },
            "type": "contourcarpet"
           }
          ],
          "heatmap": [
           {
            "colorbar": {
             "outlinewidth": 0,
             "ticks": ""
            },
            "colorscale": [
             [
              0,
              "#0d0887"
             ],
             [
              0.1111111111111111,
              "#46039f"
             ],
             [
              0.2222222222222222,
              "#7201a8"
             ],
             [
              0.3333333333333333,
              "#9c179e"
             ],
             [
              0.4444444444444444,
              "#bd3786"
             ],
             [
              0.5555555555555556,
              "#d8576b"
             ],
             [
              0.6666666666666666,
              "#ed7953"
             ],
             [
              0.7777777777777778,
              "#fb9f3a"
             ],
             [
              0.8888888888888888,
              "#fdca26"
             ],
             [
              1,
              "#f0f921"
             ]
            ],
            "type": "heatmap"
           }
          ],
          "histogram": [
           {
            "marker": {
             "pattern": {
              "fillmode": "overlay",
              "size": 10,
              "solidity": 0.2
             }
            },
            "type": "histogram"
           }
          ],
          "histogram2d": [
           {
            "colorbar": {
             "outlinewidth": 0,
             "ticks": ""
            },
            "colorscale": [
             [
              0,
              "#0d0887"
             ],
             [
              0.1111111111111111,
              "#46039f"
             ],
             [
              0.2222222222222222,
              "#7201a8"
             ],
             [
              0.3333333333333333,
              "#9c179e"
             ],
             [
              0.4444444444444444,
              "#bd3786"
             ],
             [
              0.5555555555555556,
              "#d8576b"
             ],
             [
              0.6666666666666666,
              "#ed7953"
             ],
             [
              0.7777777777777778,
              "#fb9f3a"
             ],
             [
              0.8888888888888888,
              "#fdca26"
             ],
             [
              1,
              "#f0f921"
             ]
            ],
            "type": "histogram2d"
           }
          ],
          "histogram2dcontour": [
           {
            "colorbar": {
             "outlinewidth": 0,
             "ticks": ""
            },
            "colorscale": [
             [
              0,
              "#0d0887"
             ],
             [
              0.1111111111111111,
              "#46039f"
             ],
             [
              0.2222222222222222,
              "#7201a8"
             ],
             [
              0.3333333333333333,
              "#9c179e"
             ],
             [
              0.4444444444444444,
              "#bd3786"
             ],
             [
              0.5555555555555556,
              "#d8576b"
             ],
             [
              0.6666666666666666,
              "#ed7953"
             ],
             [
              0.7777777777777778,
              "#fb9f3a"
             ],
             [
              0.8888888888888888,
              "#fdca26"
             ],
             [
              1,
              "#f0f921"
             ]
            ],
            "type": "histogram2dcontour"
           }
          ],
          "mesh3d": [
           {
            "colorbar": {
             "outlinewidth": 0,
             "ticks": ""
            },
            "type": "mesh3d"
           }
          ],
          "parcoords": [
           {
            "line": {
             "colorbar": {
              "outlinewidth": 0,
              "ticks": ""
             }
            },
            "type": "parcoords"
           }
          ],
          "pie": [
           {
            "automargin": true,
            "type": "pie"
           }
          ],
          "scatter": [
           {
            "marker": {
             "line": {
              "color": "#283442"
             }
            },
            "type": "scatter"
           }
          ],
          "scatter3d": [
           {
            "line": {
             "colorbar": {
              "outlinewidth": 0,
              "ticks": ""
             }
            },
            "marker": {
             "colorbar": {
              "outlinewidth": 0,
              "ticks": ""
             }
            },
            "type": "scatter3d"
           }
          ],
          "scattercarpet": [
           {
            "marker": {
             "colorbar": {
              "outlinewidth": 0,
              "ticks": ""
             }
            },
            "type": "scattercarpet"
           }
          ],
          "scattergeo": [
           {
            "marker": {
             "colorbar": {
              "outlinewidth": 0,
              "ticks": ""
             }
            },
            "type": "scattergeo"
           }
          ],
          "scattergl": [
           {
            "marker": {
             "line": {
              "color": "#283442"
             }
            },
            "type": "scattergl"
           }
          ],
          "scattermap": [
           {
            "marker": {
             "colorbar": {
              "outlinewidth": 0,
              "ticks": ""
             }
            },
            "type": "scattermap"
           }
          ],
          "scattermapbox": [
           {
            "marker": {
             "colorbar": {
              "outlinewidth": 0,
              "ticks": ""
             }
            },
            "type": "scattermapbox"
           }
          ],
          "scatterpolar": [
           {
            "marker": {
             "colorbar": {
              "outlinewidth": 0,
              "ticks": ""
             }
            },
            "type": "scatterpolar"
           }
          ],
          "scatterpolargl": [
           {
            "marker": {
             "colorbar": {
              "outlinewidth": 0,
              "ticks": ""
             }
            },
            "type": "scatterpolargl"
           }
          ],
          "scatterternary": [
           {
            "marker": {
             "colorbar": {
              "outlinewidth": 0,
              "ticks": ""
             }
            },
            "type": "scatterternary"
           }
          ],
          "surface": [
           {
            "colorbar": {
             "outlinewidth": 0,
             "ticks": ""
            },
            "colorscale": [
             [
              0,
              "#0d0887"
             ],
             [
              0.1111111111111111,
              "#46039f"
             ],
             [
              0.2222222222222222,
              "#7201a8"
             ],
             [
              0.3333333333333333,
              "#9c179e"
             ],
             [
              0.4444444444444444,
              "#bd3786"
             ],
             [
              0.5555555555555556,
              "#d8576b"
             ],
             [
              0.6666666666666666,
              "#ed7953"
             ],
             [
              0.7777777777777778,
              "#fb9f3a"
             ],
             [
              0.8888888888888888,
              "#fdca26"
             ],
             [
              1,
              "#f0f921"
             ]
            ],
            "type": "surface"
           }
          ],
          "table": [
           {
            "cells": {
             "fill": {
              "color": "#506784"
             },
             "line": {
              "color": "rgb(17,17,17)"
             }
            },
            "header": {
             "fill": {
              "color": "#2a3f5f"
             },
             "line": {
              "color": "rgb(17,17,17)"
             }
            },
            "type": "table"
           }
          ]
         },
         "layout": {
          "annotationdefaults": {
           "arrowcolor": "#f2f5fa",
           "arrowhead": 0,
           "arrowwidth": 1
          },
          "autotypenumbers": "strict",
          "coloraxis": {
           "colorbar": {
            "outlinewidth": 0,
            "ticks": ""
           }
          },
          "colorscale": {
           "diverging": [
            [
             0,
             "#8e0152"
            ],
            [
             0.1,
             "#c51b7d"
            ],
            [
             0.2,
             "#de77ae"
            ],
            [
             0.3,
             "#f1b6da"
            ],
            [
             0.4,
             "#fde0ef"
            ],
            [
             0.5,
             "#f7f7f7"
            ],
            [
             0.6,
             "#e6f5d0"
            ],
            [
             0.7,
             "#b8e186"
            ],
            [
             0.8,
             "#7fbc41"
            ],
            [
             0.9,
             "#4d9221"
            ],
            [
             1,
             "#276419"
            ]
           ],
           "sequential": [
            [
             0,
             "#0d0887"
            ],
            [
             0.1111111111111111,
             "#46039f"
            ],
            [
             0.2222222222222222,
             "#7201a8"
            ],
            [
             0.3333333333333333,
             "#9c179e"
            ],
            [
             0.4444444444444444,
             "#bd3786"
            ],
            [
             0.5555555555555556,
             "#d8576b"
            ],
            [
             0.6666666666666666,
             "#ed7953"
            ],
            [
             0.7777777777777778,
             "#fb9f3a"
            ],
            [
             0.8888888888888888,
             "#fdca26"
            ],
            [
             1,
             "#f0f921"
            ]
           ],
           "sequentialminus": [
            [
             0,
             "#0d0887"
            ],
            [
             0.1111111111111111,
             "#46039f"
            ],
            [
             0.2222222222222222,
             "#7201a8"
            ],
            [
             0.3333333333333333,
             "#9c179e"
            ],
            [
             0.4444444444444444,
             "#bd3786"
            ],
            [
             0.5555555555555556,
             "#d8576b"
            ],
            [
             0.6666666666666666,
             "#ed7953"
            ],
            [
             0.7777777777777778,
             "#fb9f3a"
            ],
            [
             0.8888888888888888,
             "#fdca26"
            ],
            [
             1,
             "#f0f921"
            ]
           ]
          },
          "colorway": [
           "#636efa",
           "#EF553B",
           "#00cc96",
           "#ab63fa",
           "#FFA15A",
           "#19d3f3",
           "#FF6692",
           "#B6E880",
           "#FF97FF",
           "#FECB52"
          ],
          "font": {
           "color": "#f2f5fa"
          },
          "geo": {
           "bgcolor": "rgb(17,17,17)",
           "lakecolor": "rgb(17,17,17)",
           "landcolor": "rgb(17,17,17)",
           "showlakes": true,
           "showland": true,
           "subunitcolor": "#506784"
          },
          "hoverlabel": {
           "align": "left"
          },
          "hovermode": "closest",
          "mapbox": {
           "style": "dark"
          },
          "paper_bgcolor": "rgb(17,17,17)",
          "plot_bgcolor": "rgb(17,17,17)",
          "polar": {
           "angularaxis": {
            "gridcolor": "#506784",
            "linecolor": "#506784",
            "ticks": ""
           },
           "bgcolor": "rgb(17,17,17)",
           "radialaxis": {
            "gridcolor": "#506784",
            "linecolor": "#506784",
            "ticks": ""
           }
          },
          "scene": {
           "xaxis": {
            "backgroundcolor": "rgb(17,17,17)",
            "gridcolor": "#506784",
            "gridwidth": 2,
            "linecolor": "#506784",
            "showbackground": true,
            "ticks": "",
            "zerolinecolor": "#C8D4E3"
           },
           "yaxis": {
            "backgroundcolor": "rgb(17,17,17)",
            "gridcolor": "#506784",
            "gridwidth": 2,
            "linecolor": "#506784",
            "showbackground": true,
            "ticks": "",
            "zerolinecolor": "#C8D4E3"
           },
           "zaxis": {
            "backgroundcolor": "rgb(17,17,17)",
            "gridcolor": "#506784",
            "gridwidth": 2,
            "linecolor": "#506784",
            "showbackground": true,
            "ticks": "",
            "zerolinecolor": "#C8D4E3"
           }
          },
          "shapedefaults": {
           "line": {
            "color": "#f2f5fa"
           }
          },
          "sliderdefaults": {
           "bgcolor": "#C8D4E3",
           "bordercolor": "rgb(17,17,17)",
           "borderwidth": 1,
           "tickwidth": 0
          },
          "ternary": {
           "aaxis": {
            "gridcolor": "#506784",
            "linecolor": "#506784",
            "ticks": ""
           },
           "baxis": {
            "gridcolor": "#506784",
            "linecolor": "#506784",
            "ticks": ""
           },
           "bgcolor": "rgb(17,17,17)",
           "caxis": {
            "gridcolor": "#506784",
            "linecolor": "#506784",
            "ticks": ""
           }
          },
          "title": {
           "x": 0.05
          },
          "updatemenudefaults": {
           "bgcolor": "#506784",
           "borderwidth": 0
          },
          "xaxis": {
           "automargin": true,
           "gridcolor": "#283442",
           "linecolor": "#506784",
           "ticks": "",
           "title": {
            "standoff": 15
           },
           "zerolinecolor": "#283442",
           "zerolinewidth": 2
          },
          "yaxis": {
           "automargin": true,
           "gridcolor": "#283442",
           "linecolor": "#506784",
           "ticks": "",
           "title": {
            "standoff": 15
           },
           "zerolinecolor": "#283442",
           "zerolinewidth": 2
          }
         }
        },
        "title": {
         "text": "<b>Trigrams Heatmap<br><sup>&nbsp;&nbsp;&nbsp;&nbsp;<i>Test - Summary</i></sup></b>",
         "x": 0.025,
         "xanchor": "left",
         "y": 0.95
        },
        "width": 800,
        "xaxis": {
         "dtick": 1,
         "gridcolor": "rgb(0, 0, 0)",
         "showgrid": false,
         "side": "top",
         "ticks": ""
        },
        "yaxis": {
         "autorange": "reversed",
         "dtick": 1,
         "showgrid": false,
         "ticks": "",
         "ticksuffix": "  "
        }
       }
      }
     },
     "metadata": {},
     "output_type": "display_data"
    }
   ],
   "source": [
    "vectorizer = TfidfVectorizer(max_features = 15,stop_words = 'english',ngram_range = (3,3)) # Top 15 terms\n",
    "x = vectorizer.fit_transform(test['summary'].fillna(''))\n",
    "df_tfidfvect = pd.DataFrame(x.toarray(), columns=vectorizer.get_feature_names_out())\n",
    "plot_correlation(df_tfidfvect, 'Trigrams', 'Test - Summary', 800, 800, 12)"
   ]
  },
  {
   "cell_type": "code",
   "execution_count": 60,
   "metadata": {},
   "outputs": [
    {
     "name": "stdout",
     "output_type": "stream",
     "text": [
      "Theresa: <file_photo>\n",
      "Theresa: <file_photo>\n",
      "Theresa: Hey Louise, how are u?\n",
      "Theresa: This is my workplace, they always give us so much food here 😊\n",
      "Theresa: Luckily they also offer us yoga classes, so all the food isn't much of a problem 😂\n",
      "Louise: Hey!! 🙂 \n",
      "Louise: Wow, that's awesome, seems great 😎 Haha\n",
      "Louise: I'm good! Are you coming to visit Stockholm this summer? 🙂\n",
      "Theresa: I don't think so :/ I need to prepare for Uni.. I will probably attend a few lessons this winter\n",
      "Louise: Nice! Do you already know which classes you will attend?\n",
      "Theresa: Yes, it will be psychology :) I want to complete a few modules that I missed :)\n",
      "Louise: Very good! Is it at the Uni in Prague?\n",
      "Theresa: No, it will be in my home town :)\n",
      "Louise: I have so much work right now, but I will continue to work until the end of summer, then I'm also back to Uni, on the 26th September!\n",
      "Theresa: You must send me some pictures, so I can see where you live :) \n",
      "Louise: I will, and of my cat and dog too 🤗\n",
      "Theresa: Yeeeesss pls :)))\n",
      "Louise: 👌👌\n",
      "Theresa: 🐱💕\n"
     ]
    }
   ],
   "source": [
    "print(train['dialogue'].iloc[14727])"
   ]
  },
  {
   "cell_type": "code",
   "execution_count": 61,
   "metadata": {},
   "outputs": [
    {
     "name": "stdout",
     "output_type": "stream",
     "text": [
      "Hannah: Hey, do you have Betty's number?\n",
      "Amanda: Lemme check\n",
      "Hannah: <file_gif>\n",
      "Amanda: Sorry, can't find it.\n",
      "Amanda: Ask Larry\n",
      "Amanda: He called her last time we were at the park together\n",
      "Hannah: I don't know him well\n",
      "Hannah: <file_gif>\n",
      "Amanda: Don't be shy, he's very nice\n",
      "Hannah: If you say so..\n",
      "Hannah: I'd rather you texted him\n",
      "Amanda: Just text him 🙂\n",
      "Hannah: Urgh.. Alright\n",
      "Hannah: Bye\n",
      "Amanda: Bye bye\n"
     ]
    }
   ],
   "source": [
    "print(test['dialogue'].iloc[0])"
   ]
  },
  {
   "cell_type": "code",
   "execution_count": 62,
   "metadata": {},
   "outputs": [
    {
     "name": "stderr",
     "output_type": "stream",
     "text": [
      "<>:6: SyntaxWarning:\n",
      "\n",
      "invalid escape sequence '\\s'\n",
      "\n",
      "<>:6: SyntaxWarning:\n",
      "\n",
      "invalid escape sequence '\\s'\n",
      "\n",
      "/var/folders/6n/xxr1dffx2lbdwlqml4kf1yy40000gn/T/ipykernel_42380/185632439.py:6: SyntaxWarning:\n",
      "\n",
      "invalid escape sequence '\\s'\n",
      "\n"
     ]
    }
   ],
   "source": [
    "def clean_tags(text):\n",
    "    clean = re.compile('<.*?>') # Compiling tags\n",
    "    clean = re.sub(clean, '', text) # Replacing tags text by an empty string\n",
    "\n",
    "    # Removing empty dialogues\n",
    "    clean = '\\n'.join([line for line in clean.split('\\n') if not re.match('.*:\\s*$', line)])\n",
    "\n",
    "    return clean"
   ]
  },
  {
   "cell_type": "code",
   "execution_count": 63,
   "metadata": {},
   "outputs": [
    {
     "name": "stdout",
     "output_type": "stream",
     "text": [
      "Theresa: Hey Louise, how are u?\n",
      "Theresa: This is my workplace, they always give us so much food here 😊\n",
      "Theresa: Luckily they also offer us yoga classes, so all the food isn't much of a problem 😂\n",
      "Louise: Hey!! 🙂 \n",
      "Louise: Wow, that's awesome, seems great 😎 Haha\n",
      "Louise: I'm good! Are you coming to visit Stockholm this summer? 🙂\n",
      "Theresa: I don't think so :/ I need to prepare for Uni.. I will probably attend a few lessons this winter\n",
      "Louise: Nice! Do you already know which classes you will attend?\n",
      "Theresa: Yes, it will be psychology :) I want to complete a few modules that I missed :)\n",
      "Louise: Very good! Is it at the Uni in Prague?\n",
      "Theresa: No, it will be in my home town :)\n",
      "Louise: I have so much work right now, but I will continue to work until the end of summer, then I'm also back to Uni, on the 26th September!\n",
      "Theresa: You must send me some pictures, so I can see where you live :) \n",
      "Louise: I will, and of my cat and dog too 🤗\n",
      "Theresa: Yeeeesss pls :)))\n",
      "Louise: 👌👌\n",
      "Theresa: 🐱💕\n",
      "\n",
      "\n",
      "\n",
      "\n",
      "Hannah: Hey, do you have Betty's number?\n",
      "Amanda: Lemme check\n",
      "Amanda: Sorry, can't find it.\n",
      "Amanda: Ask Larry\n",
      "Amanda: He called her last time we were at the park together\n",
      "Hannah: I don't know him well\n",
      "Amanda: Don't be shy, he's very nice\n",
      "Hannah: If you say so..\n",
      "Hannah: I'd rather you texted him\n",
      "Amanda: Just text him 🙂\n",
      "Hannah: Urgh.. Alright\n",
      "Hannah: Bye\n",
      "Amanda: Bye bye\n"
     ]
    }
   ],
   "source": [
    "test1 = clean_tags(train['dialogue'].iloc[14727]) # Applying function to example text\n",
    "test2 = clean_tags(test['dialogue'].iloc[0]) # Applying function to example text\n",
    "\n",
    "# Printing results\n",
    "print(test1)\n",
    "print('\\n' *3)\n",
    "print(test2)"
   ]
  },
  {
   "cell_type": "code",
   "execution_count": 64,
   "metadata": {},
   "outputs": [],
   "source": [
    "# Defining function to clean every text in the dataset.\n",
    "def clean_df(df, cols):\n",
    "    for col in cols:\n",
    "        df[col] = df[col].fillna('').apply(clean_tags)\n",
    "    return df"
   ]
  },
  {
   "cell_type": "code",
   "execution_count": 65,
   "metadata": {},
   "outputs": [],
   "source": [
    "# Cleaning texts in all datasets\n",
    "train = clean_df(train,['dialogue', 'summary'])\n",
    "test = clean_df(test,['dialogue', 'summary'])\n",
    "val = clean_df(val,['dialogue', 'summary'])"
   ]
  },
  {
   "cell_type": "code",
   "execution_count": 66,
   "metadata": {},
   "outputs": [
    {
     "data": {
      "text/html": [
       "<div>\n",
       "<style scoped>\n",
       "    .dataframe tbody tr th:only-of-type {\n",
       "        vertical-align: middle;\n",
       "    }\n",
       "\n",
       "    .dataframe tbody tr th {\n",
       "        vertical-align: top;\n",
       "    }\n",
       "\n",
       "    .dataframe thead th {\n",
       "        text-align: right;\n",
       "    }\n",
       "</style>\n",
       "<table border=\"1\" class=\"dataframe\">\n",
       "  <thead>\n",
       "    <tr style=\"text-align: right;\">\n",
       "      <th></th>\n",
       "      <th>id</th>\n",
       "      <th>dialogue</th>\n",
       "      <th>summary</th>\n",
       "    </tr>\n",
       "  </thead>\n",
       "  <tbody>\n",
       "    <tr>\n",
       "      <th>14729</th>\n",
       "      <td>13819050</td>\n",
       "      <td>John: Every day some bad news. Japan will hunt whales again\\r\\nErica: Yes, I've read this. It's very upsetting\\r\\nJohn: Cruel Japanese\\r\\nFaith: I think this is a racist remark. Because Island and Norways has never joined this international whaling agreement\\r\\nErica: really? I haven't known, everybody is so outraged by Japan\\r\\nFaith: sure, European hypocrisy \\r\\nJohn: not entirely. Scandinavians don't use the nets that Japanese use, so Norway and Island kill much less specimens that Japan will\\r\\nFaith: oh, it's much more complex than one may expect\\r\\nJohn: True, but the truth is, that all of them should stop\\r\\nJohn: and this decision is a step back\\r\\nFaith: yes, this is worrying\\r\\nErica: And it seems that the most important whaling countries are out of the agreement right now\\r\\nFaith: yes, seems so\\r\\nJohn: Just like USA leaving the Paris Agreement</td>\n",
       "      <td>Japan is going to hunt whales again. Island and Norway never stopped hunting them. The Scandinavians kill fewer whales than the Japanese.</td>\n",
       "    </tr>\n",
       "    <tr>\n",
       "      <th>14730</th>\n",
       "      <td>13828395</td>\n",
       "      <td>Jennifer: Dear Celia! How are you doing?\\r\\nJennifer: The afternoon with the Collins was very pleasant, nice folks, but we missed you.\\r\\nJennifer: But I appreciate your consideration for Peter.\\r\\nCelia: My dear Jenny! It turns out that my decision not to come, though I wanted so much to see you again and Peter and the Collins, was right. Yesterday it all developed into a full bore cold. Sh.....\\r\\nCelia: All symptoms like in a text book.\\r\\nCelia: Luckily it's contagious only on the first 2, 3 days, so when we meet next week it should be alright.\\r\\nCelia: Thanks for asking! Somehow for all of us Peter comes first now.\\r\\nJennifer: That's too bad. Poor you...\\r\\nJennifer: I'll be driving to FR, do you want me to bring you sth? It's on my way.\\r\\nCelia: Thank you dear! I was at the pharmacy yesterday and had done my shopping the day before.\\r\\nCelia: You'd better still stay away from me in case I'm still contagious\\r\\nJennifer: Right. So I'll only leave a basket on your terrace. A...</td>\n",
       "      <td>Celia couldn't make it to the afternoon with the Collins and Jennifer as she is ill. She's working, but doesn't want to meet with Jennifer as it might be contagious. Jennifer will leave a basket with cookies on Celia's terrace.</td>\n",
       "    </tr>\n",
       "    <tr>\n",
       "      <th>14731</th>\n",
       "      <td>13729017</td>\n",
       "      <td>Georgia: are you ready for hotel hunting? We need to book something finally for Lisbon\\r\\nJuliette: sure we can go on, show me what you found\\r\\nJuliette: nah... it looks like an old lady's room lol\\r\\nJuliette: that's better... but the bed doesn't look very comfortable\\r\\nGeorgia: i kind of like it and it's really close to the city center\\r\\nJuliette: show me the others please\\r\\nJuliette: nah... this one sucks too, look at those horrible curtains \\r\\nGeorgia: aff Julie you are such a princess\\r\\nJuliette: i just want to be comfortable\\r\\nGeorgia: come on, stop whining you know we are on a budget\\r\\nJuliette: well hopefully we can find something that's decent right?\\r\\nGeorgia: i did show you decent but you want a Marriott or something :/\\r\\nJuliette: ok ok don't get angry\\r\\nGeorgia: we need to decide today, the longer we wait the higher the prices get \\r\\nJuliette: ok how about we get the second one then?\\r\\nGeorgia: ok give me a second\\r\\nJuliette: sure\\r\\nGeorgia: affff someon...</td>\n",
       "      <td>Georgia and Juliette are looking for a hotel in Lisbon. Juliette dislikes Georgia's choices. Juliette and Georgia decide on the second option presented by Georgia, but it has already been booked. Finally Georgia books the third hotel.</td>\n",
       "    </tr>\n",
       "  </tbody>\n",
       "</table>\n",
       "</div>"
      ],
      "text/plain": [
       "             id  \\\n",
       "14729  13819050   \n",
       "14730  13828395   \n",
       "14731  13729017   \n",
       "\n",
       "                                                                                                                                                                                                                                                                                                                                                                                                                                                                                                                                                                                                                                                                                                                                                                                                                                                                                                                                                                                                                                      dialogue  \\\n",
       "14729                                                                                                                                     John: Every day some bad news. Japan will hunt whales again\\r\\nErica: Yes, I've read this. It's very upsetting\\r\\nJohn: Cruel Japanese\\r\\nFaith: I think this is a racist remark. Because Island and Norways has never joined this international whaling agreement\\r\\nErica: really? I haven't known, everybody is so outraged by Japan\\r\\nFaith: sure, European hypocrisy \\r\\nJohn: not entirely. Scandinavians don't use the nets that Japanese use, so Norway and Island kill much less specimens that Japan will\\r\\nFaith: oh, it's much more complex than one may expect\\r\\nJohn: True, but the truth is, that all of them should stop\\r\\nJohn: and this decision is a step back\\r\\nFaith: yes, this is worrying\\r\\nErica: And it seems that the most important whaling countries are out of the agreement right now\\r\\nFaith: yes, seems so\\r\\nJohn: Just like USA leaving the Paris Agreement   \n",
       "14730  Jennifer: Dear Celia! How are you doing?\\r\\nJennifer: The afternoon with the Collins was very pleasant, nice folks, but we missed you.\\r\\nJennifer: But I appreciate your consideration for Peter.\\r\\nCelia: My dear Jenny! It turns out that my decision not to come, though I wanted so much to see you again and Peter and the Collins, was right. Yesterday it all developed into a full bore cold. Sh.....\\r\\nCelia: All symptoms like in a text book.\\r\\nCelia: Luckily it's contagious only on the first 2, 3 days, so when we meet next week it should be alright.\\r\\nCelia: Thanks for asking! Somehow for all of us Peter comes first now.\\r\\nJennifer: That's too bad. Poor you...\\r\\nJennifer: I'll be driving to FR, do you want me to bring you sth? It's on my way.\\r\\nCelia: Thank you dear! I was at the pharmacy yesterday and had done my shopping the day before.\\r\\nCelia: You'd better still stay away from me in case I'm still contagious\\r\\nJennifer: Right. So I'll only leave a basket on your terrace. A...   \n",
       "14731  Georgia: are you ready for hotel hunting? We need to book something finally for Lisbon\\r\\nJuliette: sure we can go on, show me what you found\\r\\nJuliette: nah... it looks like an old lady's room lol\\r\\nJuliette: that's better... but the bed doesn't look very comfortable\\r\\nGeorgia: i kind of like it and it's really close to the city center\\r\\nJuliette: show me the others please\\r\\nJuliette: nah... this one sucks too, look at those horrible curtains \\r\\nGeorgia: aff Julie you are such a princess\\r\\nJuliette: i just want to be comfortable\\r\\nGeorgia: come on, stop whining you know we are on a budget\\r\\nJuliette: well hopefully we can find something that's decent right?\\r\\nGeorgia: i did show you decent but you want a Marriott or something :/\\r\\nJuliette: ok ok don't get angry\\r\\nGeorgia: we need to decide today, the longer we wait the higher the prices get \\r\\nJuliette: ok how about we get the second one then?\\r\\nGeorgia: ok give me a second\\r\\nJuliette: sure\\r\\nGeorgia: affff someon...   \n",
       "\n",
       "                                                                                                                                                                                                                                           summary  \n",
       "14729                                                                                                    Japan is going to hunt whales again. Island and Norway never stopped hunting them. The Scandinavians kill fewer whales than the Japanese.  \n",
       "14730         Celia couldn't make it to the afternoon with the Collins and Jennifer as she is ill. She's working, but doesn't want to meet with Jennifer as it might be contagious. Jennifer will leave a basket with cookies on Celia's terrace.   \n",
       "14731  Georgia and Juliette are looking for a hotel in Lisbon. Juliette dislikes Georgia's choices. Juliette and Georgia decide on the second option presented by Georgia, but it has already been booked. Finally Georgia books the third hotel.   "
      ]
     },
     "execution_count": 66,
     "metadata": {},
     "output_type": "execute_result"
    }
   ],
   "source": [
    "train.tail(3) # Visualizing results\n"
   ]
  },
  {
   "cell_type": "code",
   "execution_count": 69,
   "metadata": {},
   "outputs": [
    {
     "name": "stdout",
     "output_type": "stream",
     "text": [
      "Dataset({\n",
      "    features: ['id', 'dialogue', 'summary', '__index_level_0__'],\n",
      "    num_rows: 14731\n",
      "})\n",
      "\n",
      "\n",
      "\n",
      "Dataset({\n",
      "    features: ['id', 'dialogue', 'summary'],\n",
      "    num_rows: 819\n",
      "})\n",
      "\n",
      "\n",
      "\n",
      "Dataset({\n",
      "    features: ['id', 'dialogue', 'summary'],\n",
      "    num_rows: 818\n",
      "})\n"
     ]
    }
   ],
   "source": [
    "# Transforming dataframes into datasets\n",
    "train_ds = Dataset.from_pandas(train)\n",
    "test_ds = Dataset.from_pandas(test)\n",
    "val_ds = Dataset.from_pandas(val)\n",
    "\n",
    "# Visualizing results\n",
    "print(train_ds)\n",
    "print('\\n' * 2)\n",
    "print(test_ds)\n",
    "print('\\n' * 2)\n",
    "print(val_ds)"
   ]
  },
  {
   "cell_type": "code",
   "execution_count": 70,
   "metadata": {},
   "outputs": [
    {
     "data": {
      "text/plain": [
       "{'id': '13818513',\n",
       " 'dialogue': \"Amanda: I baked  cookies. Do you want some?\\r\\nJerry: Sure!\\r\\nAmanda: I'll bring you tomorrow :-)\",\n",
       " 'summary': 'Amanda baked cookies and will bring Jerry some tomorrow.',\n",
       " '__index_level_0__': 0}"
      ]
     },
     "execution_count": 70,
     "metadata": {},
     "output_type": "execute_result"
    }
   ],
   "source": [
    "train_ds[0] # Visualizing the first row\n"
   ]
  },
  {
   "cell_type": "code",
   "execution_count": 76,
   "metadata": {},
   "outputs": [
    {
     "name": "stderr",
     "output_type": "stream",
     "text": [
      "Device set to use cpu\n"
     ]
    }
   ],
   "source": [
    "# Loading summarization pipeline with the bart-large-cnn model\n",
    "# summarizer = pipeline('summarization', model = 'facebook/bart-large-xsum')\n",
    "summarizer = pipeline(\"summarization\", model=\"facebook/bart-large-cnn\", device=-1)  # Force CPU\n"
   ]
  },
  {
   "cell_type": "code",
   "execution_count": 77,
   "metadata": {},
   "outputs": [
    {
     "name": "stderr",
     "output_type": "stream",
     "text": [
      "Your max_length is set to 130, but your input_length is only 85. Since this is a summarization task, where outputs shorter than the input are typically wanted, you might consider decreasing max_length manually, e.g. summarizer('...', max_length=42)\n"
     ]
    },
    {
     "name": "stdout",
     "output_type": "stream",
     "text": [
      "Bobi, the worlds oldest dog ever, has died after reaching the almost inconceivable age of 31 years and 165 days. His death at an animal hospital on Friday was initially announced by veterinarian Dr. Karen Becker. Bobi was a purebred Rafeiro do Alentejo a breed of livestock guardian dog. Bobi lived more than twice as long as that life expectancy. He surpassed an almost century-old record to become the oldest living dog. The title had previously been held by Australian cattle-dog Bluey. Bobi is special because looking at him is like remembering the people who were part of our family and unfortunately are no longer here, Costa said. “Bobi represents those generations.”\n"
     ]
    }
   ],
   "source": [
    "\n",
    "# Load summarizer (you can specify your model, e.g., 'facebook/bart-large-cnn')\n",
    "# summarizer = pipeline(\"summarization\", model=\"facebook/bart-large-cnn\")\n",
    "\n",
    "def summarize_long_text(text, max_chunk=1024):\n",
    "    \"\"\"\n",
    "    Splits long text into manageable chunks for the summarization pipeline.\n",
    "    \"\"\"\n",
    "    import textwrap\n",
    "\n",
    "    chunks = textwrap.wrap(text, max_chunk)\n",
    "    summaries = [summarizer(chunk, max_length=130, min_length=30, do_sample=False)[0]['summary_text']\n",
    "                 for chunk in chunks]\n",
    "    return \" \".join(summaries)\n",
    "\n",
    "# Usage\n",
    "summary = summarize_long_text(news)\n",
    "print(summary)\n"
   ]
  },
  {
   "cell_type": "code",
   "execution_count": 79,
   "metadata": {},
   "outputs": [],
   "source": [
    "checkpoint = 'facebook/bart-large-xsum' # Model\n",
    "tokenizer = BartTokenizer.from_pretrained(checkpoint) # Loading Tokenizer\n",
    "\n",
    "model = BartForConditionalGeneration.from_pretrained(checkpoint) # Loading Model\n"
   ]
  },
  {
   "cell_type": "code",
   "execution_count": 80,
   "metadata": {},
   "outputs": [],
   "source": [
    "def preprocess_function(examples):\n",
    "    inputs = [doc for doc in examples[\"dialogue\"]]\n",
    "    model_inputs = tokenizer(inputs, max_length=1024, truncation=True)\n",
    "\n",
    "    # Setup the tokenizer for targets\n",
    "    with tokenizer.as_target_tokenizer():\n",
    "        labels = tokenizer(examples[\"summary\"], max_length=128, truncation=True)\n",
    "\n",
    "    model_inputs[\"labels\"] = labels[\"input_ids\"]\n",
    "    return model_inputs"
   ]
  },
  {
   "cell_type": "code",
   "execution_count": 81,
   "metadata": {},
   "outputs": [
    {
     "name": "stderr",
     "output_type": "stream",
     "text": [
      "Map:   0%|          | 0/14731 [00:00<?, ? examples/s]/Users/williamharrigan/anaconda3/envs/clean_base/lib/python3.13/site-packages/transformers/tokenization_utils_base.py:3959: UserWarning:\n",
      "\n",
      "`as_target_tokenizer` is deprecated and will be removed in v5 of Transformers. You can tokenize your labels by using the argument `text_target` of the regular `__call__` method (either in the same call as your input texts if you use the same keyword arguments, or in a separate call.\n",
      "\n",
      "Map: 100%|██████████| 14731/14731 [00:08<00:00, 1753.85 examples/s]\n",
      "Map: 100%|██████████| 819/819 [00:00<00:00, 1534.67 examples/s]\n",
      "Map: 100%|██████████| 818/818 [00:00<00:00, 1522.29 examples/s]"
     ]
    },
    {
     "name": "stdout",
     "output_type": "stream",
     "text": [
      "\n",
      "\n",
      "\n",
      "\n",
      "Preprocessed Training Dataset:\n",
      "\n",
      "Dataset({\n",
      "    features: ['input_ids', 'attention_mask', 'labels'],\n",
      "    num_rows: 14731\n",
      "})\n",
      "\n",
      "\n",
      "\n",
      "Preprocessed Test Dataset:\n",
      "\n",
      "Dataset({\n",
      "    features: ['input_ids', 'attention_mask', 'labels'],\n",
      "    num_rows: 819\n",
      "})\n",
      "\n",
      "\n",
      "\n",
      "Preprocessed Validation Dataset:\n",
      "\n",
      "Dataset({\n",
      "    features: ['input_ids', 'attention_mask', 'labels'],\n",
      "    num_rows: 818\n",
      "})\n"
     ]
    },
    {
     "name": "stderr",
     "output_type": "stream",
     "text": [
      "\n"
     ]
    }
   ],
   "source": [
    "# Applying preprocess_function to the datasets\n",
    "tokenized_train = train_ds.map(preprocess_function, batched=True,\n",
    "                               remove_columns=['id', 'dialogue', 'summary', '__index_level_0__']) # Removing features\n",
    "\n",
    "tokenized_test = test_ds.map(preprocess_function, batched=True,\n",
    "                               remove_columns=['id', 'dialogue', 'summary']) # Removing features\n",
    "\n",
    "tokenized_val = val_ds.map(preprocess_function, batched=True,\n",
    "                               remove_columns=['id', 'dialogue', 'summary']) # Removing features\n",
    "\n",
    "# Printing results\n",
    "print('\\n' * 3)\n",
    "print('Preprocessed Training Dataset:\\n')\n",
    "print(tokenized_train)\n",
    "print('\\n' * 2)\n",
    "print('Preprocessed Test Dataset:\\n')\n",
    "print(tokenized_test)\n",
    "print('\\n' * 2)\n",
    "print('Preprocessed Validation Dataset:\\n')\n",
    "print(tokenized_val)"
   ]
  },
  {
   "cell_type": "code",
   "execution_count": 82,
   "metadata": {},
   "outputs": [
    {
     "name": "stdout",
     "output_type": "stream",
     "text": [
      "input_ids:\n",
      "[0, 10127, 5219, 35, 38, 17241, 1437, 15269, 4, 1832, 47, 236, 103, 116, 50121, 50118, 39237, 35, 9136, 328, 50121, 50118, 10127, 5219, 35, 38, 581, 836, 47, 3859, 48433, 2]\n",
      "\n",
      "\n",
      "attention_mask:\n",
      "[1, 1, 1, 1, 1, 1, 1, 1, 1, 1, 1, 1, 1, 1, 1, 1, 1, 1, 1, 1, 1, 1, 1, 1, 1, 1, 1, 1, 1, 1, 1, 1]\n",
      "\n",
      "\n",
      "sample:\n",
      "[0, 10127, 5219, 17241, 15269, 8, 40, 836, 6509, 103, 3859, 4, 2]\n",
      "\n",
      "\n"
     ]
    }
   ],
   "source": [
    "# Selecting a sample from the dataset\n",
    "sample = tokenized_train[0]\n",
    "\n",
    "# Printing its features\n",
    "print(\"input_ids:\")\n",
    "print(sample['input_ids'])\n",
    "print(\"\\n\")\n",
    "print(\"attention_mask:\")\n",
    "print(sample['attention_mask'])\n",
    "print(\"\\n\")\n",
    "print(\"sample:\")\n",
    "print(sample['labels'])\n",
    "print(\"\\n\")"
   ]
  },
  {
   "cell_type": "code",
   "execution_count": 83,
   "metadata": {},
   "outputs": [],
   "source": [
    "# Instantiating Data Collator\n",
    "data_collator = DataCollatorForSeq2Seq(tokenizer=tokenizer, model=model)\n"
   ]
  },
  {
   "cell_type": "code",
   "execution_count": 92,
   "metadata": {},
   "outputs": [],
   "source": [
    "metric = evaluate.load(\"rouge\")"
   ]
  },
  {
   "cell_type": "code",
   "execution_count": 93,
   "metadata": {},
   "outputs": [],
   "source": [
    "def compute_metrics(eval_pred):\n",
    "    predictions, labels = eval_pred# Obtaining predictions and true labels\n",
    "    \n",
    "    # Decoding predictions\n",
    "    decoded_preds = tokenizer.batch_decode(predictions, skip_special_tokens=True)\n",
    "    \n",
    "    # Obtaining the true labels tokens, while eliminating any possible masked token (i.e., label = -100)\n",
    "    labels = np.where(labels != -100, labels, tokenizer.pad_token_id)\n",
    "    decoded_labels = tokenizer.batch_decode(labels, skip_special_tokens=True)\n",
    "\n",
    "    # Rouge expects a newline after each sentence\n",
    "    decoded_preds = [\"\\n\".join(nltk.sent_tokenize(pred.strip())) for pred in decoded_preds]\n",
    "    decoded_labels = [\"\\n\".join(nltk.sent_tokenize(label.strip())) for label in decoded_labels]\n",
    "    \n",
    "    \n",
    "    # Computing rouge score\n",
    "    result = metric.compute(predictions=decoded_preds, references=decoded_labels, use_stemmer=True)\n",
    "    result = {key: value.mid.fmeasure * 100 for key, value in result.items()} # Extracting some results\n",
    "\n",
    "    # Add mean-generated length\n",
    "    prediction_lens = [np.count_nonzero(pred != tokenizer.pad_token_id) for pred in predictions]\n",
    "    result[\"gen_len\"] = np.mean(prediction_lens)\n",
    "\n",
    "    return {k: round(v, 4) for k, v in result.items()}"
   ]
  },
  {
   "cell_type": "code",
   "execution_count": null,
   "metadata": {},
   "outputs": [],
   "source": []
  }
 ],
 "metadata": {
  "kernelspec": {
   "display_name": "clean_base",
   "language": "python",
   "name": "python3"
  },
  "language_info": {
   "codemirror_mode": {
    "name": "ipython",
    "version": 3
   },
   "file_extension": ".py",
   "mimetype": "text/x-python",
   "name": "python",
   "nbconvert_exporter": "python",
   "pygments_lexer": "ipython3",
   "version": "3.13.3"
  }
 },
 "nbformat": 4,
 "nbformat_minor": 2
}
